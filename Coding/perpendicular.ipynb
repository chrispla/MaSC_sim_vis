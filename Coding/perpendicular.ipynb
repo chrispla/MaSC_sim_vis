{
 "cells": [
  {
   "cell_type": "code",
   "execution_count": 1,
   "metadata": {},
   "outputs": [
    {
     "name": "stdout",
     "output_type": "stream",
     "text": [
      "33\n",
      "1/33\n",
      "2/33\n",
      "3/33\n",
      "4/33\n",
      "5/33\n",
      "6/33\n",
      "7/33\n",
      "8/33\n",
      "9/33\n",
      "10/33\n",
      "11/33\n",
      "12/33\n",
      "13/33\n",
      "14/33\n",
      "15/33\n",
      "16/33\n",
      "17/33\n",
      "18/33\n",
      "19/33\n",
      "20/33\n",
      "21/33\n",
      "22/33\n",
      "23/33\n",
      "24/33\n",
      "25/33\n",
      "26/33\n",
      "27/33\n",
      "28/33\n",
      "29/33\n",
      "30/33\n",
      "31/33\n",
      "32/33\n",
      "33/33\n",
      "[-0.5695638122634891, 2.8452550950522184, -0.3092376000406753, 0.5984239980559777, 1.3677179273269153, 1.578509488681425, -0.3679622675831216, 0.42631425549740704, 0.6437848127728948, 0.34077240083659793, -0.24054634548217585, 0.871655975839104, 1.037310682752197, 1.2653039171989477, 0.2817542485693615, 0.6458376012574922, -0.21947713980084035, -0.9722324194124214, -0.14486347019430398, -2.365579783405997, -1.1819254237984311, -1.0245507253846877, -0.35976557038182544, 0.01644650892775481, -0.6108726823198438, 0.6633698305783486, -0.8950534053480999, -0.4406020970133607, -1.802334122580542, 0.2093833637720317, -0.6208319074834902, -0.21029062899083248, -0.4561507056345362]\n",
      "           x         y color\n",
      "0  -0.574137  0.128208  mfcc\n",
      "1   0.680309  0.972539  mfcc\n",
      "2   1.003222  0.161683  mfcc\n",
      "3   0.171198 -0.080287  mfcc\n",
      "4   0.331516 -0.042038  mfcc\n",
      "5   0.284575  0.171226  mfcc\n",
      "6   0.940659 -0.079003  mfcc\n",
      "7   0.136747 -0.011420  mfcc\n",
      "8   1.277491 -0.079128  mfcc\n",
      "9   1.641735  0.049692  mfcc\n",
      "10  1.880535 -0.053817  mfcc\n",
      "11  0.668669 -0.183155  mfcc\n",
      "12  2.150430 -0.202916  mfcc\n",
      "13  1.929340  0.050794  mfcc\n",
      "14  0.687458 -0.300131  mfcc\n",
      "15  0.487813 -0.109142  mfcc\n",
      "16 -0.527147  0.024767  mfcc\n",
      "17 -0.891925 -0.044435  mfcc\n",
      "18 -1.366107  0.039318  mfcc\n",
      "19 -0.992408  0.037938  mfcc\n",
      "20 -1.357382  0.046576  mfcc\n",
      "21 -0.721952 -0.130975  mfcc\n",
      "22 -0.808546 -0.071512  mfcc\n",
      "23 -0.604919 -0.111992  mfcc\n",
      "24 -0.478161 -0.106188  mfcc\n",
      "25 -1.054466  0.059560  mfcc\n",
      "26 -0.861096  0.017303  mfcc\n",
      "27 -0.728598 -0.115529  mfcc\n",
      "28 -1.173354 -0.043952  mfcc\n",
      "29 -0.310885  0.044328  mfcc\n",
      "30 -0.977424  0.096837  mfcc\n",
      "31 -0.375484 -0.108436  mfcc\n",
      "32 -0.467702 -0.026712  mfcc\n",
      "           x         y   color\n",
      "0  -0.182020 -0.569564  chroma\n",
      "1  -0.002813  2.845255  chroma\n",
      "2   0.043318 -0.309238  chroma\n",
      "3  -0.075543  0.598424  chroma\n",
      "4  -0.052640  1.367718  chroma\n",
      "5  -0.059347  1.578509  chroma\n",
      "6   0.034380 -0.367962  chroma\n",
      "7  -0.080465  0.426314  chroma\n",
      "8   0.082499  0.643785  chroma\n",
      "9   0.134534  0.340772  chroma\n",
      "10  0.168647 -0.240546  chroma\n",
      "11 -0.004476  0.871656  chroma\n",
      "12  0.207204  1.037311  chroma\n",
      "13  0.175620  1.265304  chroma\n",
      "14 -0.001792  0.281754  chroma\n",
      "15 -0.030312  0.645838  chroma\n",
      "16 -0.175307 -0.219477  chroma\n",
      "17 -0.227418 -0.972232  chroma\n",
      "18 -0.295158 -0.144863  chroma\n",
      "19 -0.241773 -2.365580  chroma\n",
      "20 -0.293912 -1.181925  chroma\n",
      "21 -0.203136 -1.024551  chroma\n",
      "22 -0.215507 -0.359766  chroma\n",
      "23 -0.186417  0.016447  chroma\n",
      "24 -0.168309 -0.610873  chroma\n",
      "25 -0.250638  0.663370  chroma\n",
      "26 -0.223014 -0.895053  chroma\n",
      "27 -0.204086 -0.440602  chroma\n",
      "28 -0.267622 -1.802334  chroma\n",
      "29 -0.144412  0.209383  chroma\n",
      "30 -0.239632 -0.620832  chroma\n",
      "31 -0.153641 -0.210291  chroma\n",
      "32 -0.166815 -0.456151  chroma\n"
     ]
    },
    {
     "data": {
      "application/vnd.vegalite.v3+json": {
       "$schema": "https://vega.github.io/schema/vega-lite/v3.2.1.json",
       "config": {
        "mark": {
         "tooltip": null
        },
        "view": {
         "height": 300,
         "width": 400
        }
       },
       "datasets": {
        "data-8c83e6adbca14ba7f45b57faf96a35a1": [
         {
          "color": "chroma",
          "x": -0.1820196299439653,
          "y": -0.5695638122634891
         },
         {
          "color": "chroma",
          "x": -0.0028130701991451734,
          "y": 2.8452550950522184
         },
         {
          "color": "chroma",
          "x": 0.043317732567000694,
          "y": -0.3092376000406753
         },
         {
          "color": "chroma",
          "x": -0.07554300110527841,
          "y": 0.5984239980559777
         },
         {
          "color": "chroma",
          "x": -0.05264033953207767,
          "y": 1.3677179273269153
         },
         {
          "color": "chroma",
          "x": -0.05934660790003556,
          "y": 1.578509488681425
         },
         {
          "color": "chroma",
          "x": 0.034379716774214863,
          "y": -0.3679622675831216
         },
         {
          "color": "chroma",
          "x": -0.08046464584993993,
          "y": 0.42631425549740704
         },
         {
          "color": "chroma",
          "x": 0.08249881246190935,
          "y": 0.6437848127728948
         },
         {
          "color": "chroma",
          "x": 0.13453386282688976,
          "y": 0.34077240083659793
         },
         {
          "color": "chroma",
          "x": 0.16864749449322056,
          "y": -0.24054634548217585
         },
         {
          "color": "chroma",
          "x": -0.004475660588687536,
          "y": 0.871655975839104
         },
         {
          "color": "chroma",
          "x": 0.20720411666901015,
          "y": 1.037310682752197
         },
         {
          "color": "chroma",
          "x": 0.1756198546419869,
          "y": 1.2653039171989477
         },
         {
          "color": "chroma",
          "x": -0.0017916021847881464,
          "y": 0.2817542485693615
         },
         {
          "color": "chroma",
          "x": -0.030312483619916508,
          "y": 0.6458376012574922
         },
         {
          "color": "chroma",
          "x": -0.17530672752915283,
          "y": -0.21947713980084035
         },
         {
          "color": "chroma",
          "x": -0.22741780063542372,
          "y": -0.9722324194124214
         },
         {
          "color": "chroma",
          "x": -0.2951580058505316,
          "y": -0.14486347019430398
         },
         {
          "color": "chroma",
          "x": -0.24177286919902005,
          "y": -2.365579783405997
         },
         {
          "color": "chroma",
          "x": -0.29391168582024263,
          "y": -1.1819254237984311
         },
         {
          "color": "chroma",
          "x": -0.20313647314031597,
          "y": -1.0245507253846877
         },
         {
          "color": "chroma",
          "x": -0.2155065264414252,
          "y": -0.35976557038182544
         },
         {
          "color": "chroma",
          "x": -0.1864170103466221,
          "y": 0.01644650892775481
         },
         {
          "color": "chroma",
          "x": -0.16830856047372827,
          "y": -0.6108726823198438
         },
         {
          "color": "chroma",
          "x": -0.2506379257443714,
          "y": 0.6633698305783486
         },
         {
          "color": "chroma",
          "x": -0.2230135368980834,
          "y": -0.8950534053480999
         },
         {
          "color": "chroma",
          "x": -0.20408568132410046,
          "y": -0.4406020970133607
         },
         {
          "color": "chroma",
          "x": -0.26762203085882075,
          "y": -1.802334122580542
         },
         {
          "color": "chroma",
          "x": -0.14441221834168447,
          "y": 0.2093833637720317
         },
         {
          "color": "chroma",
          "x": -0.23963192053491134,
          "y": -0.6208319074834902
         },
         {
          "color": "chroma",
          "x": -0.1536408575379328,
          "y": -0.21029062899083248
         },
         {
          "color": "chroma",
          "x": -0.16681471883403137,
          "y": -0.4561507056345362
         }
        ],
        "data-c80a7d8a25338b9476d3fb76e64d57e1": [
         {
          "color": "mfcc",
          "x": -0.5741369119082026,
          "y": 0.12820814055894855
         },
         {
          "color": "mfcc",
          "x": 0.6803091061101915,
          "y": 0.9725385208509101
         },
         {
          "color": "mfcc",
          "x": 1.003222176131106,
          "y": 0.16168302409398516
         },
         {
          "color": "mfcc",
          "x": 0.17119837973335625,
          "y": -0.08028721216422749
         },
         {
          "color": "mfcc",
          "x": 0.33151608074572453,
          "y": -0.04203807593392357
         },
         {
          "color": "mfcc",
          "x": 0.2845745074071975,
          "y": 0.17122628497821332
         },
         {
          "color": "mfcc",
          "x": 0.9406593302326296,
          "y": -0.07900263384627071
         },
         {
          "color": "mfcc",
          "x": 0.13674650019511703,
          "y": -0.011419792725805003
         },
         {
          "color": "mfcc",
          "x": 1.2774908997189556,
          "y": -0.07912761251081632
         },
         {
          "color": "mfcc",
          "x": 1.6417346591441444,
          "y": 0.049691883498067545
         },
         {
          "color": "mfcc",
          "x": 1.8805346993038605,
          "y": -0.05381655255574184
         },
         {
          "color": "mfcc",
          "x": 0.6686685597813932,
          "y": -0.1831551011051473
         },
         {
          "color": "mfcc",
          "x": 2.150429954172079,
          "y": -0.2029155966014698
         },
         {
          "color": "mfcc",
          "x": 1.9293398392051595,
          "y": 0.050793550783613584
         },
         {
          "color": "mfcc",
          "x": 0.6874579575377062,
          "y": -0.300131472742409
         },
         {
          "color": "mfcc",
          "x": 0.487812775214652,
          "y": -0.10914192642908553
         },
         {
          "color": "mfcc",
          "x": -0.5271472777238199,
          "y": 0.024767452440133196
         },
         {
          "color": "mfcc",
          "x": -0.8919247955033408,
          "y": -0.04443515495508071
         },
         {
          "color": "mfcc",
          "x": -1.3661069838642168,
          "y": 0.039317999477766916
         },
         {
          "color": "mfcc",
          "x": -0.9924084454388893,
          "y": 0.03793804552968284
         },
         {
          "color": "mfcc",
          "x": -1.357382122604862,
          "y": 0.046575523355150195
         },
         {
          "color": "mfcc",
          "x": -0.7219524217677482,
          "y": -0.1309746854383676
         },
         {
          "color": "mfcc",
          "x": -0.8085462055720272,
          "y": -0.07151172129937271
         },
         {
          "color": "mfcc",
          "x": -0.604918740398325,
          "y": -0.11199157947639124
         },
         {
          "color": "mfcc",
          "x": -0.4781613383508193,
          "y": -0.10618826718087211
         },
         {
          "color": "mfcc",
          "x": -1.054466174668084,
          "y": 0.05955981308414375
         },
         {
          "color": "mfcc",
          "x": -0.8610963967862713,
          "y": 0.017302753293075117
         },
         {
          "color": "mfcc",
          "x": -0.7285983663022401,
          "y": -0.11552927072804302
         },
         {
          "color": "mfcc",
          "x": -1.1733544175645692,
          "y": -0.043952306540808596
         },
         {
          "color": "mfcc",
          "x": -0.31088512993044576,
          "y": 0.04432770109922686
         },
         {
          "color": "mfcc",
          "x": -0.9774237881879885,
          "y": 0.0968366963421241
         },
         {
          "color": "mfcc",
          "x": -0.3754842361550032,
          "y": -0.10843601423470321
         },
         {
          "color": "mfcc",
          "x": -0.4677016719064213,
          "y": -0.026712412916505047
         }
        ]
       },
       "layer": [
        {
         "data": {
          "name": "data-c80a7d8a25338b9476d3fb76e64d57e1"
         },
         "encoding": {
          "color": {
           "field": "color",
           "type": "nominal"
          },
          "x": {
           "field": "x",
           "type": "quantitative"
          },
          "y": {
           "field": "y",
           "type": "quantitative"
          }
         },
         "mark": {
          "opacity": 0.6,
          "size": 60,
          "type": "circle"
         },
         "selection": {
          "selector001": {
           "bind": "scales",
           "encodings": [
            "x",
            "y"
           ],
           "type": "interval"
          }
         }
        },
        {
         "data": {
          "name": "data-8c83e6adbca14ba7f45b57faf96a35a1"
         },
         "encoding": {
          "color": {
           "field": "color",
           "type": "nominal"
          },
          "x": {
           "field": "x",
           "type": "quantitative"
          },
          "y": {
           "field": "y",
           "type": "quantitative"
          }
         },
         "mark": {
          "opacity": 0.6,
          "size": 60,
          "type": "circle"
         },
         "selection": {
          "selector002": {
           "bind": "scales",
           "encodings": [
            "x",
            "y"
           ],
           "type": "interval"
          }
         }
        }
       ]
      },
      "image/png": "[encoded data removed]",
      "text/plain": [
       "<VegaLite 3 object>\n",
       "\n",
       "If you see this message, it means the renderer has not been properly enabled\n",
       "for the frontend that you are using. For more information, see\n",
       "https://altair-viz.github.io/user_guide/troubleshooting.html\n"
      ]
     },
     "execution_count": 1,
     "metadata": {},
     "output_type": "execute_result"
    }
   ],
   "source": [
    "%matplotlib inline\n",
    "import glob\n",
    "import numpy as np\n",
    "import librosa\n",
    "import os\n",
    "from sklearn.preprocessing import StandardScaler\n",
    "from sklearn.manifold import TSNE\n",
    "from sklearn.cluster import KMeans\n",
    "from sklearn.decomposition import PCA\n",
    "import pandas as pd\n",
    "import vega\n",
    "import altair as alt\n",
    "import pandas as pd\n",
    "import scipy.signal\n",
    "import scipy.fftpack as fft\n",
    "import matplotlib.pyplot as plt\n",
    "from mpl_toolkits.mplot3d import Axes3D\n",
    "\n",
    "\n",
    "#File reading\n",
    "all_dirs = []\n",
    "for root, dirs, files in os.walk('./Test'):\n",
    "        for name in files:\n",
    "            if '.wav' in name:\n",
    "                filedir = os.path.join(root, name)\n",
    "                all_dirs.append(filedir)\n",
    "\n",
    "all_chroma = []\n",
    "all_mfcc = []\n",
    "file_no = len(all_dirs)\n",
    "print(file_no)\n",
    "for i in range(file_no):\n",
    "    print(str(i+1) + '/' + str(file_no))\n",
    "    #Load file\n",
    "    y, sr = librosa.core.load(all_dirs[i])\n",
    "    #Features\n",
    "    mfcc = librosa.feature.mfcc(y=y, sr=sr)\n",
    "    chroma = librosa.feature.chroma_cqt(y=y, sr=sr, n_chroma=48, n_octaves=7)\n",
    "    all_mfcc.append(mfcc.flatten())\n",
    "    all_chroma.append(chroma.flatten())\n",
    "\n",
    "#Shift mffcs to positive values\n",
    "#min = np.amin(all_mfcc)\n",
    "#all_mfcc = all_mfcc + min\n",
    "\n",
    "#Standardization\n",
    "scl1 = StandardScaler()\n",
    "all_mfcc_scaled = scl1.fit_transform(all_mfcc)\n",
    "scl2 = StandardScaler()\n",
    "all_chroma_scaled = scl2.fit_transform(all_chroma)\n",
    "\n",
    "#Principal Component Analysis\n",
    "\n",
    "#MFCC2\n",
    "pca_mfcc2 = PCA(n_components=2).fit_transform(all_mfcc_scaled)\n",
    "scl3 = StandardScaler()\n",
    "pca_mfcc2 = scl3.fit_transform(pca_mfcc2)\n",
    "pca_mfcc2x = []\n",
    "pca_mfcc2y = []\n",
    "for i in range(pca_mfcc2.shape[0]):\n",
    "    pca_mfcc2x.append(pca_mfcc2[i][0])\n",
    "for i in range(all_mfcc_scaled.shape[0]):\n",
    "    pca_mfcc2y.append(pca_mfcc2[i][1])\n",
    "\n",
    "#MFCC1\n",
    "pca_mfcc = PCA(n_components=1).fit_transform(all_mfcc_scaled)\n",
    "scl4 = StandardScaler()\n",
    "pca_mfcc = scl4.fit_transform(pca_mfcc)\n",
    "pca_mfcc1 = []\n",
    "for i in range(pca_mfcc.shape[0]):\n",
    "    pca_mfcc1.append(pca_mfcc[i][0])\n",
    "\n",
    "#CHROMA1\n",
    "pca_chroma = PCA(n_components=1).fit_transform(all_chroma_scaled)\n",
    "scl5 = StandardScaler()\n",
    "pca_chroma = scl5.fit_transform(pca_chroma)\n",
    "pca_chroma1 = []\n",
    "for i in range(pca_chroma.shape[0]):\n",
    "    pca_chroma1.append(pca_chroma[i][0])\n",
    "\n",
    "#Dimensionality reduction\n",
    "#all_mfcc_scaled_red = TSNE(n_components=1, perplexity = 10.0).fit_transform(all_mfcc_scaled)\n",
    "#all_chroma_scaled_red = TSNE(n_components=1, perplexity = 10.0).fit_transform(all_chroma_scaled)\n",
    "#print('Computation complete.')\n",
    "\n",
    "\n",
    "#Creating dataframe\n",
    "#x = []\n",
    "#y = []\n",
    "#z = []\n",
    "# for i in range(len(all_mfcc_scaled_red2)):\n",
    "#     x.append(all_mfcc_scaled_red2[i][0])\n",
    "# for i in range(len(all_mfcc_scaled_red2)):\n",
    "#     y.append(all_mfcc_scaled_red2[i][1])\n",
    "# for i in range(len(all_chroma_scaled_red1)):\n",
    "#     z.append(all_mfcc_scaled_red2[i][0])\n",
    "print(pca_chroma1)\n",
    "\n",
    "feature1 = []\n",
    "feature2 = []\n",
    "for i in range(len(pca_mfcc2x)):\n",
    "    feature1.append('mfcc')\n",
    "for i in range(len(pca_mfcc1)):\n",
    "    feature2.append('chroma')\n",
    "    \n",
    "df1 = pd.DataFrame({'x': np.asarray(pca_mfcc2x), 'y': np.asarray(pca_mfcc2y)/5, 'color': np.asarray(feature1)})\n",
    "df2 = pd.DataFrame({'x': ((np.asarray(pca_mfcc1)/7)-0.1), 'y': np.asarray(pca_chroma1), 'color': np.asarray(feature2)})\n",
    "df3 = pd.DataFrame({'x': np.asarray(pca_mfcc2x), 'y': np.asarray(pca_mfcc2y)/2, 'color': np.asarray(feature1)})\n",
    "print(df1)\n",
    "print(df2)\n",
    "\n",
    "viz1 = alt.Chart(df1).mark_circle(opacity=0.6, size=60).encode(x='x', y='y', color='color:N').interactive()\n",
    "#.configure_mark(opacity=0.5, color='cyan').interactive()\n",
    "viz2 = alt.Chart(df2).mark_circle(opacity=0.6, size=60).encode(x='x', y='y', color='color:N').interactive()\n",
    "#.configure_mark(opacity=0.5, color='magenta').interactive()\n",
    "viz1+viz2\n",
    "#viz3 = alt.Chart(df3).mark_circle(opacity=0.0, size=60).encode(x='x', y='y', color='color:N').interactive()\n",
    "#viz2+viz3\n",
    "#x=alt.X('x:Q', title='MFCC1'),\n",
    "#y=alt.Y('y:Q', title='MFCC2'),\n",
    "#z=alt.Z('z:Q', title='CHROMA')).add_selection(brush)\n",
    "#alt.condition(brush, 'location:N', alt.value('grey')),\n",
    "#     tooltip=['filename', 'location', 'ethnic_group', 'original_format', 'recorded_from_date', 'recording_context', ],\n",
    "#     href='local_path'\n",
    "\n",
    "#plt.scatter(np.asarray(pca_mfcc2x), np.asarray(pca_mfcc2y)/3, c='c', alpha=0.5)\n",
    "#plt.scatter(np.asarray(pca_mfcc1)/8, np.asarray(pca_chroma1), c='m', alpha=0.5)\n",
    "#plt.show()\n"
   ]
  },
  {
   "cell_type": "code",
   "execution_count": null,
   "metadata": {},
   "outputs": [],
   "source": []
  }
 ],
 "metadata": {
  "kernelspec": {
   "display_name": "Python 3",
   "language": "python",
   "name": "python3"
  },
  "language_info": {
   "codemirror_mode": {
    "name": "ipython",
    "version": 3
   },
   "file_extension": ".py",
   "mimetype": "text/x-python",
   "name": "python",
   "nbconvert_exporter": "python",
   "pygments_lexer": "ipython3",
   "version": "3.7.1"
  }
 },
 "nbformat": 4,
 "nbformat_minor": 4
}
