{
 "cells": [
  {
   "cell_type": "code",
   "execution_count": 1,
   "metadata": {},
   "outputs": [
    {
     "name": "stderr",
     "output_type": "stream",
     "text": [
      "Using TensorFlow backend.\n"
     ]
    }
   ],
   "source": [
    "import glob\n",
    "import numpy as np\n",
    "import librosa\n",
    "import os\n",
    "from sklearn.preprocessing import StandardScaler\n",
    "from sklearn.manifold import TSNE\n",
    "from sklearn.cluster import KMeans\n",
    "from sklearn.model_selection import train_test_split\n",
    "import pandas as pd\n",
    "import vega\n",
    "import altair as alt\n",
    "import pandas as pd\n",
    "import scipy.signal\n",
    "import scipy.fftpack as fft\n",
    "from keras.layers import Input, Dense\n",
    "from keras.models import Model"
   ]
  },
  {
   "cell_type": "code",
   "execution_count": 7,
   "metadata": {},
   "outputs": [
    {
     "data": {
      "application/vnd.vegalite.v3+json": {
       "$schema": "https://vega.github.io/schema/vega-lite/v3.2.1.json",
       "config": {
        "mark": {
         "tooltip": null
        },
        "view": {
         "height": 300,
         "width": 400
        }
       },
       "data": {
        "name": "data-2a5d7cdf6ccd4a6304ffd8e8785fa74b"
       },
       "datasets": {
        "data-2a5d7cdf6ccd4a6304ffd8e8785fa74b": [
         {
          "color": 4,
          "filename": "./Test2/Abu Bakr Salem/3ini Tashouf/08 Liali Yamila.wav",
          "path": "./Test2/Abu Bakr Salem/3ini Tashouf/08 Liali Yamila.wav",
          "x": 16.043790817260742,
          "y": 8.458609580993652
         },
         {
          "color": 2,
          "filename": "./Test2/Dariush Talai/The Radif of Mirza Abdollah - Volume 2/35 Dastgah-e Homayun - Noruz-e Khara.wav",
          "path": "./Test2/Dariush Talai/The Radif of Mirza Abdollah - Volume 2/35 Dastgah-e Homayun - Noruz-e Khara.wav",
          "x": -12.869355201721191,
          "y": -8.395533561706543
         },
         {
          "color": 3,
          "filename": "./Test2/Dariush Talai/The Radif of Mirza Abdollah - Volume 2/36 Dastgah-e Homayun - Nafir.wav",
          "path": "./Test2/Dariush Talai/The Radif of Mirza Abdollah - Volume 2/36 Dastgah-e Homayun - Nafir.wav",
          "x": -9.1885986328125,
          "y": -14.378689765930176
         },
         {
          "color": 0,
          "filename": "./Test2/Simon Shaheen/The Masterworks of the Middle Easr_ Turath/10 Taqasim On Nay.wav",
          "path": "./Test2/Simon Shaheen/The Masterworks of the Middle Easr_ Turath/10 Taqasim On Nay.wav",
          "x": -3.5962483882904053,
          "y": 4.821998119354248
         },
         {
          "color": 3,
          "filename": "./Test2/Dariush Talai/The Radif of Mirza Abdollah - Volume 3/32 Dastgah-e Segah - Haji Hasani.wav",
          "path": "./Test2/Dariush Talai/The Radif of Mirza Abdollah - Volume 3/32 Dastgah-e Segah - Haji Hasani.wav",
          "x": -3.686099052429199,
          "y": -20.372819900512695
         },
         {
          "color": 2,
          "filename": "./Test2/Dariush Talai/The Radif of Mirza Abdollah - Volume 5/54 Dastgah-e Rast-Panjgah - Noruz-e Saba.wav",
          "path": "./Test2/Dariush Talai/The Radif of Mirza Abdollah - Volume 5/54 Dastgah-e Rast-Panjgah - Noruz-e Saba.wav",
          "x": -24.29024314880371,
          "y": -7.6054792404174805
         },
         {
          "color": 2,
          "filename": "./Test2/Dariush Talai/The Radif of Mirza Abdollah - Volume 2/32 Dastgah-e Homayun - Ravandi.wav",
          "path": "./Test2/Dariush Talai/The Radif of Mirza Abdollah - Volume 2/32 Dastgah-e Homayun - Ravandi.wav",
          "x": -15.610498428344727,
          "y": -10.868908882141113
         },
         {
          "color": 0,
          "filename": "./Test2/Ali Jihad Racy/Mystical Legacies/03 Moorish Impressions.wav",
          "path": "./Test2/Ali Jihad Racy/Mystical Legacies/03 Moorish Impressions.wav",
          "x": 2.5074191093444824,
          "y": 2.673748731613159
         },
         {
          "color": 2,
          "filename": "./Test2/Dariush Talai/The Radif of Mirza Abdollah - Volume 3/04 Dastgah-e Nava - Kereshmeh.wav",
          "path": "./Test2/Dariush Talai/The Radif of Mirza Abdollah - Volume 3/04 Dastgah-e Nava - Kereshmeh.wav",
          "x": -24.623689651489258,
          "y": -17.17680549621582
         },
         {
          "color": 4,
          "filename": "./Test2/Roubaiyat El Khayam/09 Waslah in Rahat al Arwah_ Quatrains 6 and 177.wav",
          "path": "./Test2/Roubaiyat El Khayam/09 Waslah in Rahat al Arwah_ Quatrains 6 and 177.wav",
          "x": 10.553500175476074,
          "y": 13.009485244750977
         },
         {
          "color": 0,
          "filename": "./Test2/Dariush Talai/The Radif of Mirza Abdollah - Volume 5/50 Dastgah-e Rast-Panjgah - Abolchap.wav",
          "path": "./Test2/Dariush Talai/The Radif of Mirza Abdollah - Volume 5/50 Dastgah-e Rast-Panjgah - Abolchap.wav",
          "x": -5.238976955413818,
          "y": -1.312635898590088
         },
         {
          "color": 1,
          "filename": "./Test2/Simon Shaheen/The Music of Mohamed Abdel Wahab/04 Ibnil Balad.wav",
          "path": "./Test2/Simon Shaheen/The Music of Mohamed Abdel Wahab/04 Ibnil Balad.wav",
          "x": 25.34242057800293,
          "y": 9.651522636413574
         },
         {
          "color": 2,
          "filename": "./Test2/Dariush Talai/The Radif of Mirza Abdollah - Volume 4/17 Dastgah-e Mahur - Azarbayjani.wav",
          "path": "./Test2/Dariush Talai/The Radif of Mirza Abdollah - Volume 4/17 Dastgah-e Mahur - Azarbayjani.wav",
          "x": -21.554174423217773,
          "y": -12.293906211853027
         },
         {
          "color": 4,
          "filename": "./Test2/Simon Shaheen/The Masterworks of the Middle Easr_ Turath/04 Longa Farahfaza.wav",
          "path": "./Test2/Simon Shaheen/The Masterworks of the Middle Easr_ Turath/04 Longa Farahfaza.wav",
          "x": 17.574386596679688,
          "y": 8.025933265686035
         },
         {
          "color": 2,
          "filename": "./Test2/Dariush Talai/The Radif of Mirza Abdollah - Volume 3/03 Dastgah-e Nava - Daramad-e dovvom.wav",
          "path": "./Test2/Dariush Talai/The Radif of Mirza Abdollah - Volume 3/03 Dastgah-e Nava - Daramad-e dovvom.wav",
          "x": -26.109453201293945,
          "y": -10.479308128356934
         },
         {
          "color": 1,
          "filename": "./Test2/George Dimitri Sawa/The Art of the Early Egyptian Qanun, Vol. 2/05 Lamma Bada Yatathanna.wav",
          "path": "./Test2/George Dimitri Sawa/The Art of the Early Egyptian Qanun, Vol. 2/05 Lamma Bada Yatathanna.wav",
          "x": 18.333114624023438,
          "y": 14.678031921386719
         },
         {
          "color": 1,
          "filename": "./Test2/George Dimitri Sawa/The Art of the Early Egyptian Qanun, Vol. 2/06 Peshrev Nihavent Dervish Mustafa.wav",
          "path": "./Test2/George Dimitri Sawa/The Art of the Early Egyptian Qanun, Vol. 2/06 Peshrev Nihavent Dervish Mustafa.wav",
          "x": 18.913753509521484,
          "y": 21.88428497314453
         },
         {
          "color": 1,
          "filename": "./Test2/ميريام فارسMyriam Fares /Aman/07 غروك.wav",
          "path": "./Test2/ميريام فارسMyriam Fares /Aman/07 غروك.wav",
          "x": 28.4240779876709,
          "y": 17.897903442382812
         },
         {
          "color": 1,
          "filename": "./Test2/George Dimitri Sawa/The Art of the Early Egyptian Qanun/03 A Tribute to Mohammad Ali Street Composers.wav",
          "path": "./Test2/George Dimitri Sawa/The Art of the Early Egyptian Qanun/03 A Tribute to Mohammad Ali Street Composers.wav",
          "x": 20.543912887573242,
          "y": 18.582643508911133
         },
         {
          "color": 2,
          "filename": "./Test2/Dariush Talai/The Radif of Mirza Abdollah - Volume 1/31 Dastgah-e Shur - Gereyli-ye shasti.wav",
          "path": "./Test2/Dariush Talai/The Radif of Mirza Abdollah - Volume 1/31 Dastgah-e Shur - Gereyli-ye shasti.wav",
          "x": -19.654869079589844,
          "y": -13.467498779296875
         },
         {
          "color": 0,
          "filename": "./Test2/Dariush Talai/The Radif of Mirza Abdollah - Volume 1/40 Avaz-e Bayat-e Kord - Daramad-e crom.wav",
          "path": "./Test2/Dariush Talai/The Radif of Mirza Abdollah - Volume 1/40 Avaz-e Bayat-e Kord - Daramad-e crom.wav",
          "x": -4.910799026489258,
          "y": -3.305619716644287
         },
         {
          "color": 2,
          "filename": "./Test2/Dariush Talai/The Radif of Mirza Abdollah - Volume 3/09 Dastgah-e Nava - Oshshaq.wav",
          "path": "./Test2/Dariush Talai/The Radif of Mirza Abdollah - Volume 3/09 Dastgah-e Nava - Oshshaq.wav",
          "x": -26.846240997314453,
          "y": -11.345759391784668
         },
         {
          "color": 1,
          "filename": "./Test2/George Dimitri Sawa/Egyptian Music Appreciation and Practice for Bellydancers/1-19 Dulab Huzam, in Maqsum Rhythm (Featuring Michel Merhej Baklouk & Suzanne Meyers Sawa).wav",
          "path": "./Test2/George Dimitri Sawa/Egyptian Music Appreciation and Practice for Bellydancers/1-19 Dulab Huzam, in Maqsum Rhythm (Featuring Michel Merhej Baklouk & Suzanne Meyers Sawa).wav",
          "x": 13.881940841674805,
          "y": 18.41867446899414
         },
         {
          "color": 1,
          "filename": "./Test2/George Dimitri Sawa/The Art of the Early Egyptian Qanun/07 Dakhlet el-'Awalem.wav",
          "path": "./Test2/George Dimitri Sawa/The Art of the Early Egyptian Qanun/07 Dakhlet el-'Awalem.wav",
          "x": 19.35004997253418,
          "y": 10.045247077941895
         },
         {
          "color": 0,
          "filename": "./Test2/Dariush Talai/The Radif of Mirza Abdollah - Volume 2/37 Dastgah-e Homayun - Farang ba Shushtari-gardan.wav",
          "path": "./Test2/Dariush Talai/The Radif of Mirza Abdollah - Volume 2/37 Dastgah-e Homayun - Farang ba Shushtari-gardan.wav",
          "x": 4.818571090698242,
          "y": 2.0491838455200195
         },
         {
          "color": 4,
          "filename": "./Test2/Dariush Talai/The Radif of Mirza Abdollah - Volume 4/30 Dastgah-e Mahur - Rak-e Hendi.wav",
          "path": "./Test2/Dariush Talai/The Radif of Mirza Abdollah - Volume 4/30 Dastgah-e Mahur - Rak-e Hendi.wav",
          "x": 4.009402275085449,
          "y": 11.182416915893555
         },
         {
          "color": 1,
          "filename": "./Test2/George Dimitri Sawa/The Art of the Early Egyptian Qanun/06 Peshrev Rast Qadim.wav",
          "path": "./Test2/George Dimitri Sawa/The Art of the Early Egyptian Qanun/06 Peshrev Rast Qadim.wav",
          "x": 25.318744659423828,
          "y": 19.836172103881836
         },
         {
          "color": 2,
          "filename": "./Test2/Dariush Talai/The Radif of Mirza Abdollah - Volume 5/33 Dastgah-e Crgah - Matn va Hashiyeh.wav",
          "path": "./Test2/Dariush Talai/The Radif of Mirza Abdollah - Volume 5/33 Dastgah-e Crgah - Matn va Hashiyeh.wav",
          "x": -23.285411834716797,
          "y": -17.417877197265625
         },
         {
          "color": 0,
          "filename": "./Test2/Oum Kalthoum/El Atlaal/15-01 Untitled.wav",
          "path": "./Test2/Oum Kalthoum/El Atlaal/15-01 Untitled.wav",
          "x": 3.9048244953155518,
          "y": 2.9381558895111084
         },
         {
          "color": 4,
          "filename": "./Test2/Simon Shaheen/The Masterworks of the Middle Easr_ Turath/02 Sama'I Farahfaza.wav",
          "path": "./Test2/Simon Shaheen/The Masterworks of the Middle Easr_ Turath/02 Sama'I Farahfaza.wav",
          "x": 17.417734146118164,
          "y": 8.505516052246094
         },
         {
          "color": 2,
          "filename": "./Test2/Dariush Talai/The Radif of Mirza Abdollah - Volume 4/31 Dastgah-e Mahur - Rak-e Keshmir.wav",
          "path": "./Test2/Dariush Talai/The Radif of Mirza Abdollah - Volume 4/31 Dastgah-e Mahur - Rak-e Keshmir.wav",
          "x": -18.210174560546875,
          "y": -11.100497245788574
         },
         {
          "color": 1,
          "filename": "./Test2/ميريام فارسMyriam Fares /Aman/03 بذمّتك.wav",
          "path": "./Test2/ميريام فارسMyriam Fares /Aman/03 بذمّتك.wav",
          "x": 21.571937561035156,
          "y": 21.896608352661133
         },
         {
          "color": 1,
          "filename": "./Test2/Simon Shaheen/The Music of Mohamed Abdel Wahab/01 Al Hinna.wav",
          "path": "./Test2/Simon Shaheen/The Music of Mohamed Abdel Wahab/01 Al Hinna.wav",
          "x": 18.885812759399414,
          "y": 11.330056190490723
         },
         {
          "color": 0,
          "filename": "./Test2/Dariush Talai/The Radif of Mirza Abdollah - Volume 4/26 Dastgah-e Mahur - Esfehanak.wav",
          "path": "./Test2/Dariush Talai/The Radif of Mirza Abdollah - Volume 4/26 Dastgah-e Mahur - Esfehanak.wav",
          "x": 0.8127959370613098,
          "y": -4.412210464477539
         },
         {
          "color": 1,
          "filename": "./Test2/George Dimitri Sawa/Egyptian Music Appreciation and Practice for Bellydancers/1-26 Mali Bih, in Sai'di Rhythm and Saba Mode (Featuring Michel Merhej Baklouk & Suzanne Meyers Sawa).wav",
          "path": "./Test2/George Dimitri Sawa/Egyptian Music Appreciation and Practice for Bellydancers/1-26 Mali Bih, in Sai'di Rhythm and Saba Mode (Featuring Michel Merhej Baklouk & Suzanne Meyers Sawa).wav",
          "x": 19.507984161376953,
          "y": 15.252328872680664
         },
         {
          "color": 3,
          "filename": "./Test2/Dariush Talai/The Radif of Mirza Abdollah - Volume 2/12 Avaz-e Abu'ata - Crpareh.wav",
          "path": "./Test2/Dariush Talai/The Radif of Mirza Abdollah - Volume 2/12 Avaz-e Abu'ata - Crpareh.wav",
          "x": -1.9980602264404297,
          "y": -20.289432525634766
         },
         {
          "color": 4,
          "filename": "./Test2/Abu Bakr Salem/Jalsat Thakrayat 2/05 Wa Wiah Nafsei.wav",
          "path": "./Test2/Abu Bakr Salem/Jalsat Thakrayat 2/05 Wa Wiah Nafsei.wav",
          "x": 12.625143051147461,
          "y": 8.898731231689453
         },
         {
          "color": 2,
          "filename": "./Test2/Dariush Talai/The Radif of Mirza Abdollah - Volume 5/51 Dastgah-e Rast-Panjgah - Leyli-o Majnum.wav",
          "path": "./Test2/Dariush Talai/The Radif of Mirza Abdollah - Volume 5/51 Dastgah-e Rast-Panjgah - Leyli-o Majnum.wav",
          "x": -17.613935470581055,
          "y": -7.643270969390869
         },
         {
          "color": 2,
          "filename": "./Test2/Dariush Talai/The Radif of Mirza Abdollah - Volume 5/42 Dastgah-e Rast-Panjgah - Sepehr.wav",
          "path": "./Test2/Dariush Talai/The Radif of Mirza Abdollah - Volume 5/42 Dastgah-e Rast-Panjgah - Sepehr.wav",
          "x": -14.360491752624512,
          "y": -9.131115913391113
         },
         {
          "color": 4,
          "filename": "./Test2/Abu Bakr Salem/Haflat Dubai /02 Track 02.wav",
          "path": "./Test2/Abu Bakr Salem/Haflat Dubai /02 Track 02.wav",
          "x": 13.950214385986328,
          "y": 5.799294471740723
         },
         {
          "color": 2,
          "filename": "./Test2/Dariush Talai/The Radif of Mirza Abdollah - Volume 1/01 Dastgah-e Shur - Daramad.wav",
          "path": "./Test2/Dariush Talai/The Radif of Mirza Abdollah - Volume 1/01 Dastgah-e Shur - Daramad.wav",
          "x": -22.194438934326172,
          "y": -13.131299018859863
         },
         {
          "color": 2,
          "filename": "./Test2/Dariush Talai/The Radif of Mirza Abdollah - Volume 4/13 Dastgah-e Mahur - Nasirkhani (Tusi).wav",
          "path": "./Test2/Dariush Talai/The Radif of Mirza Abdollah - Volume 4/13 Dastgah-e Mahur - Nasirkhani (Tusi).wav",
          "x": -24.56916618347168,
          "y": -9.202603340148926
         },
         {
          "color": 1,
          "filename": "./Test2/George Dimitri Sawa/Egyptian Music Appreciation and Practice for Bellydancers/1-07 Malfuf (2_4) [feat. Michel Merhej Baklouk].wav",
          "path": "./Test2/George Dimitri Sawa/Egyptian Music Appreciation and Practice for Bellydancers/1-07 Malfuf (2_4) [feat. Michel Merhej Baklouk].wav",
          "x": 14.23196029663086,
          "y": 20.23979377746582
         },
         {
          "color": 4,
          "filename": "./Test2/Ali Jihad Racy/When The Rivers Met.._/05 Fountain Of Youth.wav",
          "path": "./Test2/Ali Jihad Racy/When The Rivers Met.._/05 Fountain Of Youth.wav",
          "x": 15.24478530883789,
          "y": 4.928697109222412
         },
         {
          "color": 2,
          "filename": "./Test2/Dariush Talai/The Radif of Mirza Abdollah - Volume 5/34 Dastgah-e Crgah - Reng-e Shahr-ashub.wav",
          "path": "./Test2/Dariush Talai/The Radif of Mirza Abdollah - Volume 5/34 Dastgah-e Crgah - Reng-e Shahr-ashub.wav",
          "x": -11.395357131958008,
          "y": -8.053717613220215
         },
         {
          "color": 3,
          "filename": "./Test2/Dariush Talai/The Radif of Mirza Abdollah - Volume 4/18 Dastgah-e Mahur - Hesar-e mahur (Abol).wav",
          "path": "./Test2/Dariush Talai/The Radif of Mirza Abdollah - Volume 4/18 Dastgah-e Mahur - Hesar-e mahur (Abol).wav",
          "x": -4.170673370361328,
          "y": -22.853219985961914
         },
         {
          "color": 0,
          "filename": "./Test2/Dariush Talai/The Radif of Mirza Abdollah - Volume 4/35 Dastgah-e Mahur - Reng-e Harbi.wav",
          "path": "./Test2/Dariush Talai/The Radif of Mirza Abdollah - Volume 4/35 Dastgah-e Mahur - Reng-e Harbi.wav",
          "x": -2.9090003967285156,
          "y": -10.49221420288086
         },
         {
          "color": 1,
          "filename": "./Test2/Mesaed Al-Belushi/Masaed/16 Ya Kreem.wav",
          "path": "./Test2/Mesaed Al-Belushi/Masaed/16 Ya Kreem.wav",
          "x": 31.43832015991211,
          "y": 19.8846492767334
         },
         {
          "color": 0,
          "filename": "./Test2/Dariush Talai/The Radif of Mirza Abdollah - Volume 2/43 Dastgah-e Homayun - Bakhtiari ba mo'alef.wav",
          "path": "./Test2/Dariush Talai/The Radif of Mirza Abdollah - Volume 2/43 Dastgah-e Homayun - Bakhtiari ba mo'alef.wav",
          "x": 2.0077316761016846,
          "y": -2.1899681091308594
         },
         {
          "color": 4,
          "filename": "./Test2/Abu Bakr Salem/Haflat Al-Dowha/01 Tasafina.wav",
          "path": "./Test2/Abu Bakr Salem/Haflat Al-Dowha/01 Tasafina.wav",
          "x": 11.985051155090332,
          "y": 5.780684471130371
         },
         {
          "color": 1,
          "filename": "./Test2/Ali Jihad Racy/When The Rivers Met.._/09 Good Earth.wav",
          "path": "./Test2/Ali Jihad Racy/When The Rivers Met.._/09 Good Earth.wav",
          "x": 20.610822677612305,
          "y": 12.45978832244873
         },
         {
          "color": 2,
          "filename": "./Test2/Dariush Talai/The Radif of Mirza Abdollah - Volume 5/46 Dastgah-e Rast-Panjgah - Bahr-e Nur.wav",
          "path": "./Test2/Dariush Talai/The Radif of Mirza Abdollah - Volume 5/46 Dastgah-e Rast-Panjgah - Bahr-e Nur.wav",
          "x": -12.465597152709961,
          "y": -6.204249382019043
         },
         {
          "color": 4,
          "filename": "./Test2/Ali Jihad Racy/Ancient Egypt/06 Funeral Procession.wav",
          "path": "./Test2/Ali Jihad Racy/Ancient Egypt/06 Funeral Procession.wav",
          "x": 4.299394130706787,
          "y": 3.4231550693511963
         },
         {
          "color": 2,
          "filename": "./Test2/Dariush Talai/The Radif of Mirza Abdollah - Volume 4/11 Dastgah-e Mahur - Tarabangiz.wav",
          "path": "./Test2/Dariush Talai/The Radif of Mirza Abdollah - Volume 4/11 Dastgah-e Mahur - Tarabangiz.wav",
          "x": -24.776126861572266,
          "y": -18.108213424682617
         },
         {
          "color": 0,
          "filename": "./Test2/Tom Chant/Cloister/01 Us Three.wav",
          "path": "./Test2/Tom Chant/Cloister/01 Us Three.wav",
          "x": 2.029531478881836,
          "y": 3.57038950920105
         },
         {
          "color": 0,
          "filename": "./Test2/Dariush Talai/The Radif of Mirza Abdollah - Volume 1/20 Dastgah-e Shur - Hazin.wav",
          "path": "./Test2/Dariush Talai/The Radif of Mirza Abdollah - Volume 1/20 Dastgah-e Shur - Hazin.wav",
          "x": -10.995658874511719,
          "y": -3.5296714305877686
         },
         {
          "color": 2,
          "filename": "./Test2/Dariush Talai/The Radif of Mirza Abdollah - Volume 4/47 Avaz-e Bayat-e Tork - Naghmeh.wav",
          "path": "./Test2/Dariush Talai/The Radif of Mirza Abdollah - Volume 4/47 Avaz-e Bayat-e Tork - Naghmeh.wav",
          "x": -20.77940559387207,
          "y": -2.866250514984131
         },
         {
          "color": 2,
          "filename": "./Test2/Dariush Talai/The Radif of Mirza Abdollah - Volume 5/56 Dastgah-e Rast-Panjgah - Mavara on-nahr.wav",
          "path": "./Test2/Dariush Talai/The Radif of Mirza Abdollah - Volume 5/56 Dastgah-e Rast-Panjgah - Mavara on-nahr.wav",
          "x": -17.428762435913086,
          "y": -8.419126510620117
         },
         {
          "color": 0,
          "filename": "./Test2/Dariush Talai/The Radif of Mirza Abdollah - Volume 4/16 Dastgah-e Mahur - Mahur-e saghir.wav",
          "path": "./Test2/Dariush Talai/The Radif of Mirza Abdollah - Volume 4/16 Dastgah-e Mahur - Mahur-e saghir.wav",
          "x": -6.525678634643555,
          "y": -6.588945388793945
         },
         {
          "color": 3,
          "filename": "./Test2/Dariush Talai/The Radif of Mirza Abdollah - Volume 3/46 Avaz-e Afshari - Qarai.wav",
          "path": "./Test2/Dariush Talai/The Radif of Mirza Abdollah - Volume 3/46 Avaz-e Afshari - Qarai.wav",
          "x": -3.2024381160736084,
          "y": -20.22779083251953
         },
         {
          "color": 3,
          "filename": "./Test2/Dariush Talai/The Radif of Mirza Abdollah - Volume 5/28 Dastgah-e Crgah - Rajas.wav",
          "path": "./Test2/Dariush Talai/The Radif of Mirza Abdollah - Volume 5/28 Dastgah-e Crgah - Rajas.wav",
          "x": -7.142150402069092,
          "y": -10.70930290222168
         },
         {
          "color": 2,
          "filename": "./Test2/Dariush Talai/The Radif of Mirza Abdollah - Volume 5/01 Dastgah-e Crgah - Daramad-e avval.wav",
          "path": "./Test2/Dariush Talai/The Radif of Mirza Abdollah - Volume 5/01 Dastgah-e Crgah - Daramad-e avval.wav",
          "x": -16.993919372558594,
          "y": -9.13240909576416
         },
         {
          "color": 4,
          "filename": "./Test2/Abady Al Johar/Ana We Oudi (via 6lal.com)/02 Lan O'atib.wav",
          "path": "./Test2/Abady Al Johar/Ana We Oudi (via 6lal.com)/02 Lan O'atib.wav",
          "x": 9.843911170959473,
          "y": 6.850529193878174
         },
         {
          "color": 0,
          "filename": "./Test2/Dariush Talai/The Radif of Mirza Abdollah - Volume 2/42 Dastgah-e Homayun - Mo'alef.wav",
          "path": "./Test2/Dariush Talai/The Radif of Mirza Abdollah - Volume 2/42 Dastgah-e Homayun - Mo'alef.wav",
          "x": -3.526639461517334,
          "y": -8.668490409851074
         },
         {
          "color": 4,
          "filename": "./Test2/Abu Bakr Salem/Haflat Dubai /01 Track 01.wav",
          "path": "./Test2/Abu Bakr Salem/Haflat Dubai /01 Track 01.wav",
          "x": 14.26783561706543,
          "y": 7.098118782043457
         },
         {
          "color": 2,
          "filename": "./Test2/Dariush Talai/The Radif of Mirza Abdollah - Volume 4/10 Dastgah-e Mahur - Kavaran.wav",
          "path": "./Test2/Dariush Talai/The Radif of Mirza Abdollah - Volume 4/10 Dastgah-e Mahur - Kavaran.wav",
          "x": -22.094552993774414,
          "y": -16.7395076751709
         },
         {
          "color": 4,
          "filename": "./Test2/George Dimitri Sawa/Egyptian Music Appreciation and Practice for Bellydancers/1-29 Etmakhtari Ya Helwa, in Zaffa Rhythm and Bayati Mode (Featuring Michel Merhej Baklouk & Suzanne Meyers Sawa).wav",
          "path": "./Test2/George Dimitri Sawa/Egyptian Music Appreciation and Practice for Bellydancers/1-29 Etmakhtari Ya Helwa, in Zaffa Rhythm and Bayati Mode (Featuring Michel Merhej Baklouk & Suzanne Meyers Sawa).wav",
          "x": 17.251129150390625,
          "y": 11.298720359802246
         },
         {
          "color": 4,
          "filename": "./Test2/Abu Bakr Salem/Haflat Al-Dowha/04 Yaqul Innani.wav",
          "path": "./Test2/Abu Bakr Salem/Haflat Al-Dowha/04 Yaqul Innani.wav",
          "x": 12.910867691040039,
          "y": 6.738338470458984
         },
         {
          "color": 0,
          "filename": "./Test2/Roubaiyat El Khayam/19 Wasla in al-Mustaqim_ Quatrain 19.wav",
          "path": "./Test2/Roubaiyat El Khayam/19 Wasla in al-Mustaqim_ Quatrain 19.wav",
          "x": 6.429449081420898,
          "y": -4.337700366973877
         },
         {
          "color": 2,
          "filename": "./Test2/Dariush Talai/The Radif of Mirza Abdollah - Volume 3/16 Dastgah-e Nava - Malek Hoseyn.wav",
          "path": "./Test2/Dariush Talai/The Radif of Mirza Abdollah - Volume 3/16 Dastgah-e Nava - Malek Hoseyn.wav",
          "x": -19.22844886779785,
          "y": -11.526005744934082
         },
         {
          "color": 0,
          "filename": "./Test2/Dariush Talai/The Radif of Mirza Abdollah - Volume 4/53 Avaz-e Bayat-e Tork - Ruh ol-arvah.wav",
          "path": "./Test2/Dariush Talai/The Radif of Mirza Abdollah - Volume 4/53 Avaz-e Bayat-e Tork - Ruh ol-arvah.wav",
          "x": -1.0244548320770264,
          "y": -7.794934272766113
         },
         {
          "color": 2,
          "filename": "./Test2/Dariush Talai/The Radif of Mirza Abdollah - Volume 5/40 Dastgah-e Rast-Panjgah - Ruh-afza.wav",
          "path": "./Test2/Dariush Talai/The Radif of Mirza Abdollah - Volume 5/40 Dastgah-e Rast-Panjgah - Ruh-afza.wav",
          "x": -19.794105529785156,
          "y": -13.930499076843262
         },
         {
          "color": 3,
          "filename": "./Test2/Dariush Talai/The Radif of Mirza Abdollah - Volume 5/47 Dastgah-e Rast-Panjgah - Qaracheh.wav",
          "path": "./Test2/Dariush Talai/The Radif of Mirza Abdollah - Volume 5/47 Dastgah-e Rast-Panjgah - Qaracheh.wav",
          "x": -11.68384838104248,
          "y": -21.671133041381836
         },
         {
          "color": 1,
          "filename": "./Test2/George Dimitri Sawa/Egyptian Music Appreciation and Practice for Bellydancers/1-16 Masmudi Saghir (4_4)[feat. Michel Merhej Baklouk & Suzanne Meyers Sawa].wav",
          "path": "./Test2/George Dimitri Sawa/Egyptian Music Appreciation and Practice for Bellydancers/1-16 Masmudi Saghir (4_4)[feat. Michel Merhej Baklouk & Suzanne Meyers Sawa].wav",
          "x": 14.241996765136719,
          "y": 20.117109298706055
         },
         {
          "color": 0,
          "filename": "./Test2/Dariush Talai/The Radif of Mirza Abdollah - Volume 4/33 Dastgah-e Mahur - Kereshmeh-ye Rak.wav",
          "path": "./Test2/Dariush Talai/The Radif of Mirza Abdollah - Volume 4/33 Dastgah-e Mahur - Kereshmeh-ye Rak.wav",
          "x": -0.6509005427360535,
          "y": -6.8170270919799805
         },
         {
          "color": 1,
          "filename": "./Test2/Mesaed Al-Belushi/Masaed/12 AAH.wav",
          "path": "./Test2/Mesaed Al-Belushi/Masaed/12 AAH.wav",
          "x": 33.300315856933594,
          "y": 21.327035903930664
         },
         {
          "color": 0,
          "filename": "./Test2/Dariush Talai/The Radif of Mirza Abdollah - Volume 2/03 Avaz-e Dashti - Bidegani.wav",
          "path": "./Test2/Dariush Talai/The Radif of Mirza Abdollah - Volume 2/03 Avaz-e Dashti - Bidegani.wav",
          "x": 1.0746558904647827,
          "y": -8.876642227172852
         },
         {
          "color": 4,
          "filename": "./Test2/Abu Bakr Salem/Haflat Dubai /06 Track 06.wav",
          "path": "./Test2/Abu Bakr Salem/Haflat Dubai /06 Track 06.wav",
          "x": 8.243362426757812,
          "y": 5.117044925689697
         },
         {
          "color": 4,
          "filename": "./Test2/Abu Bakr Salem/Jalsat Thakrayat 2/03 Aseel Walah Aseel.wav",
          "path": "./Test2/Abu Bakr Salem/Jalsat Thakrayat 2/03 Aseel Walah Aseel.wav",
          "x": 16.77124786376953,
          "y": 4.874683856964111
         },
         {
          "color": 3,
          "filename": "./Test2/Dariush Talai/The Radif of Mirza Abdollah - Volume 2/16 Avaz-e Bayat-e Eshfehan - Bayat-e rajeh ''va forud''.wav",
          "path": "./Test2/Dariush Talai/The Radif of Mirza Abdollah - Volume 2/16 Avaz-e Bayat-e Eshfehan - Bayat-e rajeh ''va forud''.wav",
          "x": -11.192874908447266,
          "y": -14.244010925292969
         },
         {
          "color": 4,
          "filename": "./Test2/George Dimitri Sawa/Egyptian Music Appreciation and Practice for Bellydancers/1-02 Takk sound.wav",
          "path": "./Test2/George Dimitri Sawa/Egyptian Music Appreciation and Practice for Bellydancers/1-02 Takk sound.wav",
          "x": 3.9346163272857666,
          "y": 4.8412251472473145
         },
         {
          "color": 2,
          "filename": "./Test2/Dariush Talai/The Radif of Mirza Abdollah - Volume 2/21 Dastgah-e Homayun - Daramad-e dovvom.wav",
          "path": "./Test2/Dariush Talai/The Radif of Mirza Abdollah - Volume 2/21 Dastgah-e Homayun - Daramad-e dovvom.wav",
          "x": -17.43242835998535,
          "y": -12.236104011535645
         },
         {
          "color": 2,
          "filename": "./Test2/Dariush Talai/The Radif of Mirza Abdollah - Volume 5/07 Dastgah-e Crgah - Kereshmeh ba Muyeh.wav",
          "path": "./Test2/Dariush Talai/The Radif of Mirza Abdollah - Volume 5/07 Dastgah-e Crgah - Kereshmeh ba Muyeh.wav",
          "x": -22.306304931640625,
          "y": -1.0811127424240112
         },
         {
          "color": 1,
          "filename": "./Test2/George Dimitri Sawa/The Art of the Early Egyptian Qanun, Vol. 2/09 Raqset El-Mandil.wav",
          "path": "./Test2/George Dimitri Sawa/The Art of the Early Egyptian Qanun, Vol. 2/09 Raqset El-Mandil.wav",
          "x": 18.823650360107422,
          "y": 16.412105560302734
         },
         {
          "color": 3,
          "filename": "./Test2/Simon Shaheen/Saltanah/01 Dawn - Rag Kirwani_Maqam Nahawand.wav",
          "path": "./Test2/Simon Shaheen/Saltanah/01 Dawn - Rag Kirwani_Maqam Nahawand.wav",
          "x": -8.32860279083252,
          "y": -19.629432678222656
         },
         {
          "color": 0,
          "filename": "./Test2/Ali Jihad Racy/Ancient Egypt/07 Hymn For The Sunrise.wav",
          "path": "./Test2/Ali Jihad Racy/Ancient Egypt/07 Hymn For The Sunrise.wav",
          "x": 0.2034645825624466,
          "y": 2.6724815368652344
         },
         {
          "color": 4,
          "filename": "./Test2/Abu Bakr Salem/Haflat Dubai /07 Track 07.wav",
          "path": "./Test2/Abu Bakr Salem/Haflat Dubai /07 Track 07.wav",
          "x": 9.465315818786621,
          "y": 6.535646915435791
         },
         {
          "color": 0,
          "filename": "./Test2/Dariush Talai/The Radif of Mirza Abdollah - Volume 3/20 Dastgah-e Nava - Reng-e Nastari.wav",
          "path": "./Test2/Dariush Talai/The Radif of Mirza Abdollah - Volume 3/20 Dastgah-e Nava - Reng-e Nastari.wav",
          "x": -2.292722702026367,
          "y": -5.159013748168945
         },
         {
          "color": 3,
          "filename": "./Test2/Dariush Talai/The Radif of Mirza Abdollah - Volume 1/09 Dastgah-e Shur - Zirkesh-e Salmak.wav",
          "path": "./Test2/Dariush Talai/The Radif of Mirza Abdollah - Volume 1/09 Dastgah-e Shur - Zirkesh-e Salmak.wav",
          "x": -8.143908500671387,
          "y": -11.589151382446289
         },
         {
          "color": 0,
          "filename": "./Test2/Dariush Talai/The Radif of Mirza Abdollah - Volume 3/27 Dastgah-e Segah - Zang-e shotor.wav",
          "path": "./Test2/Dariush Talai/The Radif of Mirza Abdollah - Volume 3/27 Dastgah-e Segah - Zang-e shotor.wav",
          "x": -4.195617198944092,
          "y": -1.5424518585205078
         },
         {
          "color": 1,
          "filename": "./Test2/U-Cef/Halalium/10 Maghreb (Ça passe ou ça kasse).wav",
          "path": "./Test2/U-Cef/Halalium/10 Maghreb (Ça passe ou ça kasse).wav",
          "x": 30.617637634277344,
          "y": 18.59636116027832
         },
         {
          "color": 1,
          "filename": "./Test2/Roubaiyat El Khayam/22 Wasla in al-Mustaqim_ Oud taqasim, quatrains 14, 64 and 86.wav",
          "path": "./Test2/Roubaiyat El Khayam/22 Wasla in al-Mustaqim_ Oud taqasim, quatrains 14, 64 and 86.wav",
          "x": 11.35916805267334,
          "y": 20.64415168762207
         },
         {
          "color": 1,
          "filename": "./Test2/George Dimitri Sawa/Egyptian Music Appreciation and Practice for Bellydancers/1-32 Chifte Telli (8_4)[feat. Michel Merhej Baklouk & Suzanne Meyers Sawa].wav",
          "path": "./Test2/George Dimitri Sawa/Egyptian Music Appreciation and Practice for Bellydancers/1-32 Chifte Telli (8_4)[feat. Michel Merhej Baklouk & Suzanne Meyers Sawa].wav",
          "x": 14.882233619689941,
          "y": 18.6518497467041
         },
         {
          "color": 4,
          "filename": "./Test2/Abu Bakr Salem/Jalsat Thakrayat 2/06 Ya Ayn.wav",
          "path": "./Test2/Abu Bakr Salem/Jalsat Thakrayat 2/06 Ya Ayn.wav",
          "x": 16.260515213012695,
          "y": 6.971364498138428
         },
         {
          "color": 3,
          "filename": "./Test2/Dariush Talai/The Radif of Mirza Abdollah - Volume 1/37 Avaz-e Bayat-e Kord - Basteh-negar.wav",
          "path": "./Test2/Dariush Talai/The Radif of Mirza Abdollah - Volume 1/37 Avaz-e Bayat-e Kord - Basteh-negar.wav",
          "x": -11.812369346618652,
          "y": -24.06624412536621
         },
         {
          "color": 2,
          "filename": "./Test2/Dariush Talai/The Radif of Mirza Abdollah - Volume 5/43 Dastgah-e Rast-Panjgah - 'Oshshaq.wav",
          "path": "./Test2/Dariush Talai/The Radif of Mirza Abdollah - Volume 5/43 Dastgah-e Rast-Panjgah - 'Oshshaq.wav",
          "x": -20.99000358581543,
          "y": -13.42058277130127
         },
         {
          "color": 1,
          "filename": "./Test2/U-Cef/Halalium/03 Tagazoot.wav",
          "path": "./Test2/U-Cef/Halalium/03 Tagazoot.wav",
          "x": 31.335844039916992,
          "y": 16.943004608154297
         },
         {
          "color": 0,
          "filename": "./Test2/Ali Jihad Racy/Mystical Legacies/04 Taqasim & Dama'I Nahawand Racy.wav",
          "path": "./Test2/Ali Jihad Racy/Mystical Legacies/04 Taqasim & Dama'I Nahawand Racy.wav",
          "x": -0.6890919804573059,
          "y": -4.788156986236572
         },
         {
          "color": 2,
          "filename": "./Test2/Dariush Talai/The Radif of Mirza Abdollah - Volume 4/06 Dastgah-e Mahur - Majles afruz.wav",
          "path": "./Test2/Dariush Talai/The Radif of Mirza Abdollah - Volume 4/06 Dastgah-e Mahur - Majles afruz.wav",
          "x": -22.35262107849121,
          "y": -18.0082950592041
         },
         {
          "color": 4,
          "filename": "./Test2/George Dimitri Sawa/Egyptian Music Appreciation and Practice for Bellydancers/1-03 Sakka sound.wav",
          "path": "./Test2/George Dimitri Sawa/Egyptian Music Appreciation and Practice for Bellydancers/1-03 Sakka sound.wav",
          "x": 2.7179713249206543,
          "y": 9.585732460021973
         },
         {
          "color": 4,
          "filename": "./Test2/Roubaiyat El Khayam/02 Waslah in Rahat al Arwah_ Madkhal in Maqam Rahat al-Arwah.wav",
          "path": "./Test2/Roubaiyat El Khayam/02 Waslah in Rahat al Arwah_ Madkhal in Maqam Rahat al-Arwah.wav",
          "x": 8.918798446655273,
          "y": 9.39197826385498
         },
         {
          "color": 4,
          "filename": "./Test2/Dariush Talai/The Radif of Mirza Abdollah - Volume 2/19 Dastgah-e Homayun - Crmezrab.wav",
          "path": "./Test2/Dariush Talai/The Radif of Mirza Abdollah - Volume 2/19 Dastgah-e Homayun - Crmezrab.wav",
          "x": 7.128654479980469,
          "y": 8.384068489074707
         },
         {
          "color": 2,
          "filename": "./Test2/Dariush Talai/The Radif of Mirza Abdollah - Volume 2/46 Dastgah-e Homayun - Reng-e Farah.wav",
          "path": "./Test2/Dariush Talai/The Radif of Mirza Abdollah - Volume 2/46 Dastgah-e Homayun - Reng-e Farah.wav",
          "x": -14.056744575500488,
          "y": -7.731597900390625
         },
         {
          "color": 4,
          "filename": "./Test2/Abu Bakr Salem/Haflat Al-Dowha/03 Ali Tayyibah.wav",
          "path": "./Test2/Abu Bakr Salem/Haflat Al-Dowha/03 Ali Tayyibah.wav",
          "x": 14.377801895141602,
          "y": 8.027129173278809
         },
         {
          "color": 3,
          "filename": "./Test2/Simon Shaheen/Saltanah/03 Saltanah - Rag Bagashri_Maqam 'Ajam Mu'addal.wav",
          "path": "./Test2/Simon Shaheen/Saltanah/03 Saltanah - Rag Bagashri_Maqam 'Ajam Mu'addal.wav",
          "x": -5.462869644165039,
          "y": -19.367088317871094
         },
         {
          "color": 1,
          "filename": "./Test2/Abady Al Johar/Ana We Oudi (via 6lal.com)/01 Al-Layali.wav",
          "path": "./Test2/Abady Al Johar/Ana We Oudi (via 6lal.com)/01 Al-Layali.wav",
          "x": 22.289077758789062,
          "y": 12.74918270111084
         },
         {
          "color": 4,
          "filename": "./Test2/Abu Bakr Salem/Haflat Al-Dowha/05 Al-Sidq wal-Kadhib.wav",
          "path": "./Test2/Abu Bakr Salem/Haflat Al-Dowha/05 Al-Sidq wal-Kadhib.wav",
          "x": 14.528229713439941,
          "y": 5.9585442543029785
         },
         {
          "color": 1,
          "filename": "./Test2/U-Cef/Halalium/02 Aalash Kwawna.wav",
          "path": "./Test2/U-Cef/Halalium/02 Aalash Kwawna.wav",
          "x": 27.053861618041992,
          "y": 18.818389892578125
         },
         {
          "color": 0,
          "filename": "./Test2/Dariush Talai/The Radif of Mirza Abdollah - Volume 2/15 Avaz-e Bayat-e Eshfehan - Jameh daran.wav",
          "path": "./Test2/Dariush Talai/The Radif of Mirza Abdollah - Volume 2/15 Avaz-e Bayat-e Eshfehan - Jameh daran.wav",
          "x": -5.259224891662598,
          "y": -2.330904006958008
         },
         {
          "color": 4,
          "filename": "./Test2/Roubaiyat El Khayam/11 Wasla in Dugah_ Quatrains 337 and 293.wav",
          "path": "./Test2/Roubaiyat El Khayam/11 Wasla in Dugah_ Quatrains 337 and 293.wav",
          "x": 12.471240997314453,
          "y": 3.5126895904541016
         },
         {
          "color": 1,
          "filename": "./Test2/Abu Bakr Salem/3ini Tashouf/06 Aqul ayha.wav",
          "path": "./Test2/Abu Bakr Salem/3ini Tashouf/06 Aqul ayha.wav",
          "x": 18.407026290893555,
          "y": 10.692313194274902
         },
         {
          "color": 1,
          "filename": "./Test2/Cairokee/مطلوب زعيم Matloob Zaeem/08 حلمى أنا Helmy Ana.wav",
          "path": "./Test2/Cairokee/مطلوب زعيم Matloob Zaeem/08 حلمى أنا Helmy Ana.wav",
          "x": 23.42085075378418,
          "y": 13.952255249023438
         },
         {
          "color": 2,
          "filename": "./Test2/Dariush Talai/The Radif of Mirza Abdollah - Volume 1/18 Dastgah-e Shur - Khara.wav",
          "path": "./Test2/Dariush Talai/The Radif of Mirza Abdollah - Volume 1/18 Dastgah-e Shur - Khara.wav",
          "x": -13.200441360473633,
          "y": -10.84938907623291
         },
         {
          "color": 1,
          "filename": "./Test2/Mesaed Al-Belushi/Masaed/03 Haqk Alay.wav",
          "path": "./Test2/Mesaed Al-Belushi/Masaed/03 Haqk Alay.wav",
          "x": 31.10797691345215,
          "y": 21.0523738861084
         },
         {
          "color": 4,
          "filename": "./Test2/Roubaiyat El Khayam/12 Wasla in Dugah_ Quatrain 3.wav",
          "path": "./Test2/Roubaiyat El Khayam/12 Wasla in Dugah_ Quatrain 3.wav",
          "x": 14.635706901550293,
          "y": 12.384982109069824
         },
         {
          "color": 4,
          "filename": "./Test2/Dariush Talai/The Radif of Mirza Abdollah - Volume 2/02 Avaz-e Dashti - Oj.wav",
          "path": "./Test2/Dariush Talai/The Radif of Mirza Abdollah - Volume 2/02 Avaz-e Dashti - Oj.wav",
          "x": 2.462604284286499,
          "y": 4.761416912078857
         },
         {
          "color": 0,
          "filename": "./Test2/Dariush Talai/The Radif of Mirza Abdollah - Volume 4/52 Avaz-e Bayat-e Tork - Mehdi Zarrabi.wav",
          "path": "./Test2/Dariush Talai/The Radif of Mirza Abdollah - Volume 4/52 Avaz-e Bayat-e Tork - Mehdi Zarrabi.wav",
          "x": 0.04085046052932739,
          "y": -2.986016273498535
         },
         {
          "color": 4,
          "filename": "./Test2/ميريام فارسMyriam Fares /Aman/12 أنا غير.wav",
          "path": "./Test2/ميريام فارسMyriam Fares /Aman/12 أنا غير.wav",
          "x": 13.732606887817383,
          "y": 13.802000999450684
         },
         {
          "color": 0,
          "filename": "./Test2/Dariush Talai/The Radif of Mirza Abdollah - Volume 5/04 Dastgah-e Crgah - Daramad-e chaharom.wav",
          "path": "./Test2/Dariush Talai/The Radif of Mirza Abdollah - Volume 5/04 Dastgah-e Crgah - Daramad-e chaharom.wav",
          "x": -0.9277398586273193,
          "y": -0.2720405161380768
         },
         {
          "color": 2,
          "filename": "./Test2/Dariush Talai/The Radif of Mirza Abdollah - Volume 5/44 Dastgah-e Rast-Panjgah - Neyriz.wav",
          "path": "./Test2/Dariush Talai/The Radif of Mirza Abdollah - Volume 5/44 Dastgah-e Rast-Panjgah - Neyriz.wav",
          "x": -12.008434295654297,
          "y": -7.024105072021484
         },
         {
          "color": 4,
          "filename": "./Test2/Simon Shaheen/The Masterworks of the Middle Easr_ Turath/03 Taqasim On Violin.wav",
          "path": "./Test2/Simon Shaheen/The Masterworks of the Middle Easr_ Turath/03 Taqasim On Violin.wav",
          "x": 2.920816421508789,
          "y": 5.886116027832031
         },
         {
          "color": 0,
          "filename": "./Test2/Dariush Talai/The Radif of Mirza Abdollah - Volume 3/23 Dastgah-e Segah - Daramad.wav",
          "path": "./Test2/Dariush Talai/The Radif of Mirza Abdollah - Volume 3/23 Dastgah-e Segah - Daramad.wav",
          "x": -3.505802631378174,
          "y": -0.5310453176498413
         },
         {
          "color": 0,
          "filename": "./Test2/Dariush Talai/The Radif of Mirza Abdollah - Volume 3/38 Dastgah-e Segah - Rohab.wav",
          "path": "./Test2/Dariush Talai/The Radif of Mirza Abdollah - Volume 3/38 Dastgah-e Segah - Rohab.wav",
          "x": -1.359157919883728,
          "y": -9.24160099029541
         },
         {
          "color": 2,
          "filename": "./Test2/Dariush Talai/The Radif of Mirza Abdollah - Volume 2/28 Dastgah-e Homayun - Bavi ba crmezrab.wav",
          "path": "./Test2/Dariush Talai/The Radif of Mirza Abdollah - Volume 2/28 Dastgah-e Homayun - Bavi ba crmezrab.wav",
          "x": -25.5042781829834,
          "y": -19.063440322875977
         },
         {
          "color": 1,
          "filename": "./Test2/ميريام فارسMyriam Fares /Aman/04 كيفك انت.wav",
          "path": "./Test2/ميريام فارسMyriam Fares /Aman/04 كيفك انت.wav",
          "x": 25.23683738708496,
          "y": 16.753950119018555
         },
         {
          "color": 3,
          "filename": "./Test2/Dariush Talai/The Radif of Mirza Abdollah - Volume 5/21 Dastgah-e Crgah - Haji Hasani.wav",
          "path": "./Test2/Dariush Talai/The Radif of Mirza Abdollah - Volume 5/21 Dastgah-e Crgah - Haji Hasani.wav",
          "x": -4.087455749511719,
          "y": -22.46257209777832
         },
         {
          "color": 1,
          "filename": "./Test2/George Dimitri Sawa/Egyptian Music Appreciation and Practice for Bellydancers/1-18 Maqsum (4_4) [feat. Michel Merhej Baklouk & Suzanne Meyers Sawa].wav",
          "path": "./Test2/George Dimitri Sawa/Egyptian Music Appreciation and Practice for Bellydancers/1-18 Maqsum (4_4) [feat. Michel Merhej Baklouk & Suzanne Meyers Sawa].wav",
          "x": 21.212182998657227,
          "y": 17.855091094970703
         },
         {
          "color": 3,
          "filename": "./Test2/Ali Jihad Racy/Mystical Legacies/09 Saba Medley.wav",
          "path": "./Test2/Ali Jihad Racy/Mystical Legacies/09 Saba Medley.wav",
          "x": -3.1095969676971436,
          "y": -21.06908416748047
         },
         {
          "color": 4,
          "filename": "./Test2/Yahya Al-Nunu, Muhammad Al-Khamisi, Muhammad 'ali Al Sudi_/Yemen. Yahya Al-Nunu. Le Chant Des Sanaa. Yemen. Yahya Al-Nunu. The Singing Of Sanaa_/02 Ayyu Shayyin Ara Wa-Asma'U Hamsa.wav",
          "path": "./Test2/Yahya Al-Nunu, Muhammad Al-Khamisi, Muhammad 'ali Al Sudi_/Yemen. Yahya Al-Nunu. Le Chant Des Sanaa. Yemen. Yahya Al-Nunu. The Singing Of Sanaa_/02 Ayyu Shayyin Ara Wa-Asma'U Hamsa.wav",
          "x": 6.309767723083496,
          "y": 7.510375022888184
         },
         {
          "color": 2,
          "filename": "./Test2/Dariush Talai/The Radif of Mirza Abdollah - Volume 5/14 Dastgah-e Crgah - Hesar, qesmat-e dovvom.wav",
          "path": "./Test2/Dariush Talai/The Radif of Mirza Abdollah - Volume 5/14 Dastgah-e Crgah - Hesar, qesmat-e dovvom.wav",
          "x": -21.00552749633789,
          "y": -3.4271399974823
         },
         {
          "color": 4,
          "filename": "./Test2/Ensemble Muhammad Bin Faris/The Sawt Of Bahrain/04 Nasi Wa La Yadri.wav",
          "path": "./Test2/Ensemble Muhammad Bin Faris/The Sawt Of Bahrain/04 Nasi Wa La Yadri.wav",
          "x": 8.146459579467773,
          "y": 6.206852436065674
         },
         {
          "color": 0,
          "filename": "./Test2/Dariush Talai/The Radif of Mirza Abdollah - Volume 4/36 Dastgah-e Mahur - Reng-e Yekchubeh.wav",
          "path": "./Test2/Dariush Talai/The Radif of Mirza Abdollah - Volume 4/36 Dastgah-e Mahur - Reng-e Yekchubeh.wav",
          "x": -1.6913992166519165,
          "y": 8.35143756866455
         },
         {
          "color": 0,
          "filename": "./Test2/Roubaiyat El Khayam/10 Wasla in Dugah_ Madkhal in maqam Bayati Taher.wav",
          "path": "./Test2/Roubaiyat El Khayam/10 Wasla in Dugah_ Madkhal in maqam Bayati Taher.wav",
          "x": 0.5401338934898376,
          "y": -2.4030895233154297
         },
         {
          "color": 0,
          "filename": "./Test2/Dariush Talai/The Radif of Mirza Abdollah - Volume 1/39 Avaz-e Bayat-e Kord - Daramad-e sevvom.wav",
          "path": "./Test2/Dariush Talai/The Radif of Mirza Abdollah - Volume 1/39 Avaz-e Bayat-e Kord - Daramad-e sevvom.wav",
          "x": -3.039238452911377,
          "y": -5.979071140289307
         },
         {
          "color": 1,
          "filename": "./Test2/ميريام فارسMyriam Fares /Aman/02 دقوا الطبول.wav",
          "path": "./Test2/ميريام فارسMyriam Fares /Aman/02 دقوا الطبول.wav",
          "x": 31.291088104248047,
          "y": 15.786886215209961
         },
         {
          "color": 4,
          "filename": "./Test2/Dariush Talai/The Radif of Mirza Abdollah - Volume 3/07 Dastgah-e Nava - Bayat-e rajeh.wav",
          "path": "./Test2/Dariush Talai/The Radif of Mirza Abdollah - Volume 3/07 Dastgah-e Nava - Bayat-e rajeh.wav",
          "x": 5.531578063964844,
          "y": 4.852625846862793
         },
         {
          "color": 1,
          "filename": "./Test2/Abady Al Johar/Ana We Oudi (via 6lal.com)/06 Adhat Al-Esba'a.wav",
          "path": "./Test2/Abady Al Johar/Ana We Oudi (via 6lal.com)/06 Adhat Al-Esba'a.wav",
          "x": 21.398725509643555,
          "y": 11.290428161621094
         },
         {
          "color": 3,
          "filename": "./Test2/Ali Jihad Racy/Mystical Legacies/05 Themes of Yearning.wav",
          "path": "./Test2/Ali Jihad Racy/Mystical Legacies/05 Themes of Yearning.wav",
          "x": -2.2938039302825928,
          "y": -23.18195343017578
         },
         {
          "color": 3,
          "filename": "./Test2/Dariush Talai/The Radif of Mirza Abdollah - Volume 5/39 Dastgah-e Rast-Panjgah - Khosravani.wav",
          "path": "./Test2/Dariush Talai/The Radif of Mirza Abdollah - Volume 5/39 Dastgah-e Rast-Panjgah - Khosravani.wav",
          "x": -13.319130897521973,
          "y": -18.553983688354492
         },
         {
          "color": 1,
          "filename": "./Test2/George Dimitri Sawa/The Art of the Early Egyptian Qanun/10 Khamsa Sa'idi.wav",
          "path": "./Test2/George Dimitri Sawa/The Art of the Early Egyptian Qanun/10 Khamsa Sa'idi.wav",
          "x": 19.23568344116211,
          "y": 17.722454071044922
         },
         {
          "color": 0,
          "filename": "./Test2/Ali Jihad Racy/Ancient Egypt/08 The Triumph Of The Deceased.wav",
          "path": "./Test2/Ali Jihad Racy/Ancient Egypt/08 The Triumph Of The Deceased.wav",
          "x": -5.439822196960449,
          "y": -9.78231143951416
         },
         {
          "color": 0,
          "filename": "./Test2/Yahya Al-Nunu, Muhammad Al-Khamisi, Muhammad 'ali Al Sudi_/Yemen. Yahya Al-Nunu. Le Chant Des Sanaa. Yemen. Yahya Al-Nunu. The Singing Of Sanaa_/01 Fertash.wav",
          "path": "./Test2/Yahya Al-Nunu, Muhammad Al-Khamisi, Muhammad 'ali Al Sudi_/Yemen. Yahya Al-Nunu. Le Chant Des Sanaa. Yemen. Yahya Al-Nunu. The Singing Of Sanaa_/01 Fertash.wav",
          "x": -6.6823554039001465,
          "y": -6.917827606201172
         },
         {
          "color": 0,
          "filename": "./Test2/Dariush Talai/The Radif of Mirza Abdollah - Volume 3/43 Avaz-e Afshari - Daramad.wav",
          "path": "./Test2/Dariush Talai/The Radif of Mirza Abdollah - Volume 3/43 Avaz-e Afshari - Daramad.wav",
          "x": 0.9647231101989746,
          "y": 4.390963077545166
         },
         {
          "color": 2,
          "filename": "./Test2/Dariush Talai/The Radif of Mirza Abdollah - Volume 5/25 Dastgah-e Crgah - Hazin.wav",
          "path": "./Test2/Dariush Talai/The Radif of Mirza Abdollah - Volume 5/25 Dastgah-e Crgah - Hazin.wav",
          "x": -20.77366065979004,
          "y": -8.78316593170166
         },
         {
          "color": 1,
          "filename": "./Test2/George Dimitri Sawa/Egyptian Music Appreciation and Practice for Bellydancers/1-33 Measured Improvisation over a Chifte Telli rhythm (Featuring Michel Merhej Baklouk & Suzanne Meyers Sawa).wav",
          "path": "./Test2/George Dimitri Sawa/Egyptian Music Appreciation and Practice for Bellydancers/1-33 Measured Improvisation over a Chifte Telli rhythm (Featuring Michel Merhej Baklouk & Suzanne Meyers Sawa).wav",
          "x": 18.229366302490234,
          "y": 18.64678382873535
         },
         {
          "color": 0,
          "filename": "./Test2/Dariush Talai/The Radif of Mirza Abdollah - Volume 4/49 Avaz-e Bayat-e Tork - Shekasteh.wav",
          "path": "./Test2/Dariush Talai/The Radif of Mirza Abdollah - Volume 4/49 Avaz-e Bayat-e Tork - Shekasteh.wav",
          "x": -6.431399822235107,
          "y": -0.3619518280029297
         },
         {
          "color": 4,
          "filename": "./Test2/Oum Kalthoum/Dart Alayam/01 Daret El Ayam.wav",
          "path": "./Test2/Oum Kalthoum/Dart Alayam/01 Daret El Ayam.wav",
          "x": 8.497041702270508,
          "y": 3.750518798828125
         },
         {
          "color": 4,
          "filename": "./Test2/Ensemble Muhammad Bin Faris/The Sawt Of Bahrain/02 Dam'i Jara Bi-L-Khudud.wav",
          "path": "./Test2/Ensemble Muhammad Bin Faris/The Sawt Of Bahrain/02 Dam'i Jara Bi-L-Khudud.wav",
          "x": 6.735136032104492,
          "y": 4.976332187652588
         },
         {
          "color": 1,
          "filename": "./Test2/Mesaed Al-Belushi/Masaed/06 Taabt Ahbk.wav",
          "path": "./Test2/Mesaed Al-Belushi/Masaed/06 Taabt Ahbk.wav",
          "x": 32.17802429199219,
          "y": 20.832725524902344
         },
         {
          "color": 3,
          "filename": "./Test2/Dariush Talai/The Radif of Mirza Abdollah - Volume 2/17 Avaz-e Bayat-e Eshfehan - Naghmeh.wav",
          "path": "./Test2/Dariush Talai/The Radif of Mirza Abdollah - Volume 2/17 Avaz-e Bayat-e Eshfehan - Naghmeh.wav",
          "x": -2.7811925411224365,
          "y": -19.896833419799805
         },
         {
          "color": 2,
          "filename": "./Test2/Dariush Talai/The Radif of Mirza Abdollah - Volume 4/03 Dastgah-e Mahur - Avaz.wav",
          "path": "./Test2/Dariush Talai/The Radif of Mirza Abdollah - Volume 4/03 Dastgah-e Mahur - Avaz.wav",
          "x": -27.824554443359375,
          "y": -5.5600996017456055
         },
         {
          "color": 2,
          "filename": "./Test2/Dariush Talai/The Radif of Mirza Abdollah - Volume 5/26 Dastgah-e Crgah - Hodi.wav",
          "path": "./Test2/Dariush Talai/The Radif of Mirza Abdollah - Volume 5/26 Dastgah-e Crgah - Hodi.wav",
          "x": -20.283056259155273,
          "y": -9.145705223083496
         },
         {
          "color": 2,
          "filename": "./Test2/Dariush Talai/The Radif of Mirza Abdollah - Volume 5/10 Dastgah-e Crgah - Basteh-negar.wav",
          "path": "./Test2/Dariush Talai/The Radif of Mirza Abdollah - Volume 5/10 Dastgah-e Crgah - Basteh-negar.wav",
          "x": -21.288249969482422,
          "y": -16.53057861328125
         },
         {
          "color": 3,
          "filename": "./Test2/Ali Jihad Racy/When The Rivers Met.._/10 Hasbani.wav",
          "path": "./Test2/Ali Jihad Racy/When The Rivers Met.._/10 Hasbani.wav",
          "x": -1.9948810338974,
          "y": -24.66725730895996
         },
         {
          "color": 2,
          "filename": "./Test2/Dariush Talai/The Radif of Mirza Abdollah - Volume 4/37 Dastgah-e Mahur - Reng-e Shalakhu.wav",
          "path": "./Test2/Dariush Talai/The Radif of Mirza Abdollah - Volume 4/37 Dastgah-e Mahur - Reng-e Shalakhu.wav",
          "x": -15.582244873046875,
          "y": -12.90173053741455
         },
         {
          "color": 0,
          "filename": "./Test2/Dariush Talai/The Radif of Mirza Abdollah - Volume 2/23 Dastgah-e Homayun - Chakavak.wav",
          "path": "./Test2/Dariush Talai/The Radif of Mirza Abdollah - Volume 2/23 Dastgah-e Homayun - Chakavak.wav",
          "x": 2.854717969894409,
          "y": -0.2752832770347595
         },
         {
          "color": 2,
          "filename": "./Test2/Dariush Talai/The Radif of Mirza Abdollah - Volume 5/36 Dastgah-e Rast-Panjgah - Daramad-e dovvom, Zang-e shotor.wav",
          "path": "./Test2/Dariush Talai/The Radif of Mirza Abdollah - Volume 5/36 Dastgah-e Rast-Panjgah - Daramad-e dovvom, Zang-e shotor.wav",
          "x": -15.54801082611084,
          "y": -8.504724502563477
         },
         {
          "color": 2,
          "filename": "./Test2/Dariush Talai/The Radif of Mirza Abdollah - Volume 3/10 Dastgah-e Nava - Nahoft.wav",
          "path": "./Test2/Dariush Talai/The Radif of Mirza Abdollah - Volume 3/10 Dastgah-e Nava - Nahoft.wav",
          "x": -14.217138290405273,
          "y": -10.041930198669434
         },
         {
          "color": 1,
          "filename": "./Test2/Abu Bakr Salem/3ini Tashouf/05 illi Kana Amsi.wav",
          "path": "./Test2/Abu Bakr Salem/3ini Tashouf/05 illi Kana Amsi.wav",
          "x": 21.324077606201172,
          "y": 12.92517375946045
         },
         {
          "color": 4,
          "filename": "./Test2/Oum Kalthoum/Raq El Habeeb/01 Raq El Habeeb.wav",
          "path": "./Test2/Oum Kalthoum/Raq El Habeeb/01 Raq El Habeeb.wav",
          "x": 15.487872123718262,
          "y": 9.19691276550293
         },
         {
          "color": 1,
          "filename": "./Test2/ميريام فارسMyriam Fares /Aman/10 ما ياني النوم.wav",
          "path": "./Test2/ميريام فارسMyriam Fares /Aman/10 ما ياني النوم.wav",
          "x": 29.567283630371094,
          "y": 16.208782196044922
         },
         {
          "color": 2,
          "filename": "./Test2/Dariush Talai/The Radif of Mirza Abdollah - Volume 5/06 Dastgah-e Crgah - Kereshmeh.wav",
          "path": "./Test2/Dariush Talai/The Radif of Mirza Abdollah - Volume 5/06 Dastgah-e Crgah - Kereshmeh.wav",
          "x": -21.432729721069336,
          "y": -9.079997062683105
         },
         {
          "color": 3,
          "filename": "./Test2/Ali Jihad Racy/Ancient Egypt/01 The Lamentations of Isis.wav",
          "path": "./Test2/Ali Jihad Racy/Ancient Egypt/01 The Lamentations of Isis.wav",
          "x": -2.6801726818084717,
          "y": -23.344621658325195
         },
         {
          "color": 3,
          "filename": "./Test2/Dariush Talai/The Radif of Mirza Abdollah - Volume 1/24 Dastgah-e Shur - Moqaddameh-ye Gereyli.wav",
          "path": "./Test2/Dariush Talai/The Radif of Mirza Abdollah - Volume 1/24 Dastgah-e Shur - Moqaddameh-ye Gereyli.wav",
          "x": -11.377936363220215,
          "y": -13.182480812072754
         },
         {
          "color": 2,
          "filename": "./Test2/Dariush Talai/The Radif of Mirza Abdollah - Volume 3/18 Dastgah-e Nava - Busalik.wav",
          "path": "./Test2/Dariush Talai/The Radif of Mirza Abdollah - Volume 3/18 Dastgah-e Nava - Busalik.wav",
          "x": -16.245285034179688,
          "y": -11.141593933105469
         },
         {
          "color": 1,
          "filename": "./Test2/George Dimitri Sawa/Egyptian Music Appreciation and Practice for Bellydancers/1-10 Section of Sayyed Mohammad's Dance, in A'raj Rhythm.wav",
          "path": "./Test2/George Dimitri Sawa/Egyptian Music Appreciation and Practice for Bellydancers/1-10 Section of Sayyed Mohammad's Dance, in A'raj Rhythm.wav",
          "x": 18.458824157714844,
          "y": 17.353361129760742
         },
         {
          "color": 4,
          "filename": "./Test2/Roubaiyat El Khayam/15 Wasla in Dugah_ Quatrains 309, 247, 297, 290 and 80.wav",
          "path": "./Test2/Roubaiyat El Khayam/15 Wasla in Dugah_ Quatrains 309, 247, 297, 290 and 80.wav",
          "x": 9.989124298095703,
          "y": 4.301525115966797
         },
         {
          "color": 0,
          "filename": "./Test2/Dariush Talai/The Radif of Mirza Abdollah - Volume 4/24 Dastgah-e Mahur - Mohayyer.wav",
          "path": "./Test2/Dariush Talai/The Radif of Mirza Abdollah - Volume 4/24 Dastgah-e Mahur - Mohayyer.wav",
          "x": -0.12585091590881348,
          "y": -7.812318801879883
         },
         {
          "color": 2,
          "filename": "./Test2/Dariush Talai/The Radif of Mirza Abdollah - Volume 3/35 Dastgah-e Segah - Naghmeh [2].wav",
          "path": "./Test2/Dariush Talai/The Radif of Mirza Abdollah - Volume 3/35 Dastgah-e Segah - Naghmeh [2].wav",
          "x": -22.53038787841797,
          "y": -8.157639503479004
         },
         {
          "color": 1,
          "filename": "./Test2/U-Cef/Halalium/11 Sonic Moor.wav",
          "path": "./Test2/U-Cef/Halalium/11 Sonic Moor.wav",
          "x": 33.327754974365234,
          "y": 19.57331085205078
         },
         {
          "color": 2,
          "filename": "./Test2/Dariush Talai/The Radif of Mirza Abdollah - Volume 5/23 Dastgah-e Crgah - Maghlub.wav",
          "path": "./Test2/Dariush Talai/The Radif of Mirza Abdollah - Volume 5/23 Dastgah-e Crgah - Maghlub.wav",
          "x": -23.11949348449707,
          "y": -13.049488067626953
         },
         {
          "color": 0,
          "filename": "./Test2/Dariush Talai/The Radif of Mirza Abdollah - Volume 4/21 Dastgah-e Mahur - Shekasteh.wav",
          "path": "./Test2/Dariush Talai/The Radif of Mirza Abdollah - Volume 4/21 Dastgah-e Mahur - Shekasteh.wav",
          "x": -2.403386354446411,
          "y": -6.874904632568359
         },
         {
          "color": 1,
          "filename": "./Test2/Cairokee/مطلوب زعيم Matloob Zaeem/01 يعدى الصيف Yeady El Seef.wav",
          "path": "./Test2/Cairokee/مطلوب زعيم Matloob Zaeem/01 يعدى الصيف Yeady El Seef.wav",
          "x": 22.448755264282227,
          "y": 15.030261993408203
         },
         {
          "color": 4,
          "filename": "./Test2/Abady Al Johar/Ana We Oudi (via 6lal.com)/07 Music.wav",
          "path": "./Test2/Abady Al Johar/Ana We Oudi (via 6lal.com)/07 Music.wav",
          "x": 7.0593037605285645,
          "y": 3.883157730102539
         },
         {
          "color": 4,
          "filename": "./Test2/Simon Shaheen/The Masterworks of the Middle Easr_ Turath/05 Taqasim On The Beat.wav",
          "path": "./Test2/Simon Shaheen/The Masterworks of the Middle Easr_ Turath/05 Taqasim On The Beat.wav",
          "x": 11.534039497375488,
          "y": 6.994350433349609
         },
         {
          "color": 0,
          "filename": "./Test2/Dariush Talai/The Radif of Mirza Abdollah - Volume 5/12 Dastgah-e Crgah - Forud.wav",
          "path": "./Test2/Dariush Talai/The Radif of Mirza Abdollah - Volume 5/12 Dastgah-e Crgah - Forud.wav",
          "x": -5.502456188201904,
          "y": -9.998636245727539
         },
         {
          "color": 4,
          "filename": "./Test2/Simon Shaheen/The Masterworks of the Middle Easr_ Turath/11 Sama'I Kurd.wav",
          "path": "./Test2/Simon Shaheen/The Masterworks of the Middle Easr_ Turath/11 Sama'I Kurd.wav",
          "x": 15.23388957977295,
          "y": 7.3159003257751465
         },
         {
          "color": 3,
          "filename": "./Test2/Dariush Talai/The Radif of Mirza Abdollah - Volume 3/31 Dastgah-e Segah - Mokhalef.wav",
          "path": "./Test2/Dariush Talai/The Radif of Mirza Abdollah - Volume 3/31 Dastgah-e Segah - Mokhalef.wav",
          "x": -3.943317413330078,
          "y": -21.953269958496094
         },
         {
          "color": 1,
          "filename": "./Test2/U-Cef/Halalium/05 Gazel Fatma.wav",
          "path": "./Test2/U-Cef/Halalium/05 Gazel Fatma.wav",
          "x": 32.362300872802734,
          "y": 19.223731994628906
         },
         {
          "color": 3,
          "filename": "./Test2/Dariush Talai/The Radif of Mirza Abdollah - Volume 5/02 Dastgah-e Crgah - Daramad-e dovvom.wav",
          "path": "./Test2/Dariush Talai/The Radif of Mirza Abdollah - Volume 5/02 Dastgah-e Crgah - Daramad-e dovvom.wav",
          "x": -12.894368171691895,
          "y": -19.65524673461914
         },
         {
          "color": 4,
          "filename": "./Test2/Roubaiyat El Khayam/17 Wasla in al-Mustaqim_ Sama'i rast.wav",
          "path": "./Test2/Roubaiyat El Khayam/17 Wasla in al-Mustaqim_ Sama'i rast.wav",
          "x": 4.696317672729492,
          "y": 3.2811923027038574
         },
         {
          "color": 4,
          "filename": "./Test2/George Dimitri Sawa/The Art of the Early Egyptian Qanun/04 Peshrev Rast Sherif.wav",
          "path": "./Test2/George Dimitri Sawa/The Art of the Early Egyptian Qanun/04 Peshrev Rast Sherif.wav",
          "x": 12.01594352722168,
          "y": 9.232366561889648
         },
         {
          "color": 4,
          "filename": "./Test2/Abu Bakr Salem/3ini Tashouf/02 3ini Tashouf.wav",
          "path": "./Test2/Abu Bakr Salem/3ini Tashouf/02 3ini Tashouf.wav",
          "x": 17.493003845214844,
          "y": 10.193037033081055
         },
         {
          "color": 0,
          "filename": "./Test2/Dariush Talai/The Radif of Mirza Abdollah - Volume 4/29 Dastgah-e Mahur - Zanguleh.wav",
          "path": "./Test2/Dariush Talai/The Radif of Mirza Abdollah - Volume 4/29 Dastgah-e Mahur - Zanguleh.wav",
          "x": 1.9206088781356812,
          "y": -6.25424861907959
         },
         {
          "color": 2,
          "filename": "./Test2/Yahya Al-Nunu, Muhammad Al-Khamisi, Muhammad 'ali Al Sudi_/Yemen. Yahya Al-Nunu. Le Chant Des Sanaa. Yemen. Yahya Al-Nunu. The Singing Of Sanaa_/04 Akhdar Limeh.wav",
          "path": "./Test2/Yahya Al-Nunu, Muhammad Al-Khamisi, Muhammad 'ali Al Sudi_/Yemen. Yahya Al-Nunu. Le Chant Des Sanaa. Yemen. Yahya Al-Nunu. The Singing Of Sanaa_/04 Akhdar Limeh.wav",
          "x": -14.801033020019531,
          "y": -11.502476692199707
         },
         {
          "color": 0,
          "filename": "./Test2/Dariush Talai/The Radif of Mirza Abdollah - Volume 1/36 Avaz-e Bayat-e Kord - Daramad-e dovvom.wav",
          "path": "./Test2/Dariush Talai/The Radif of Mirza Abdollah - Volume 1/36 Avaz-e Bayat-e Kord - Daramad-e dovvom.wav",
          "x": 0.333864688873291,
          "y": -7.29543399810791
         },
         {
          "color": 0,
          "filename": "./Test2/Dariush Talai/The Radif of Mirza Abdollah - Volume 4/48 Avaz-e Bayat-e Tork - Feyli.wav",
          "path": "./Test2/Dariush Talai/The Radif of Mirza Abdollah - Volume 4/48 Avaz-e Bayat-e Tork - Feyli.wav",
          "x": 4.09310245513916,
          "y": -5.869959831237793
         },
         {
          "color": 0,
          "filename": "./Test2/Dariush Talai/The Radif of Mirza Abdollah - Volume 3/12 Dastgah-e Nava - Ashiran.wav",
          "path": "./Test2/Dariush Talai/The Radif of Mirza Abdollah - Volume 3/12 Dastgah-e Nava - Ashiran.wav",
          "x": 1.8824312686920166,
          "y": -0.20027902722358704
         },
         {
          "color": 4,
          "filename": "./Test2/Oum Kalthoum/Hagartak/01 Ajartak.wav",
          "path": "./Test2/Oum Kalthoum/Hagartak/01 Ajartak.wav",
          "x": 5.389736652374268,
          "y": 7.136100769042969
         },
         {
          "color": 4,
          "filename": "./Test2/Dariush Talai/The Radif of Mirza Abdollah - Volume 2/33 Dastgah-e Homayun - Noruz-e 'Arab.wav",
          "path": "./Test2/Dariush Talai/The Radif of Mirza Abdollah - Volume 2/33 Dastgah-e Homayun - Noruz-e 'Arab.wav",
          "x": 5.570213794708252,
          "y": 4.434896945953369
         },
         {
          "color": 0,
          "filename": "./Test2/Dariush Talai/The Radif of Mirza Abdollah - Volume 2/11 Avaz-e Abu'ata - Basteh-negar.wav",
          "path": "./Test2/Dariush Talai/The Radif of Mirza Abdollah - Volume 2/11 Avaz-e Abu'ata - Basteh-negar.wav",
          "x": -1.8554863929748535,
          "y": -8.959750175476074
         },
         {
          "color": 2,
          "filename": "./Test2/Dariush Talai/The Radif of Mirza Abdollah - Volume 2/44 Dastgah-e Homayun - 'Ozzal.wav",
          "path": "./Test2/Dariush Talai/The Radif of Mirza Abdollah - Volume 2/44 Dastgah-e Homayun - 'Ozzal.wav",
          "x": -24.283737182617188,
          "y": -15.181761741638184
         },
         {
          "color": 0,
          "filename": "./Test2/Oum Kalthoum/Enta omry/1-01 Untitled.wav",
          "path": "./Test2/Oum Kalthoum/Enta omry/1-01 Untitled.wav",
          "x": 2.4755699634552,
          "y": 1.690811276435852
         },
         {
          "color": 1,
          "filename": "./Test2/George Dimitri Sawa/The Art of the Early Egyptian Qanun, Vol. 2/04 Al-Sama'i Al-Thaqil.wav",
          "path": "./Test2/George Dimitri Sawa/The Art of the Early Egyptian Qanun, Vol. 2/04 Al-Sama'i Al-Thaqil.wav",
          "x": 20.493316650390625,
          "y": 9.59554672241211
         },
         {
          "color": 1,
          "filename": "./Test2/Abady Al Johar/Ana A7bik/1-02 Untitled.wav",
          "path": "./Test2/Abady Al Johar/Ana A7bik/1-02 Untitled.wav",
          "x": 19.691286087036133,
          "y": 12.423523902893066
         },
         {
          "color": 1,
          "filename": "./Test2/Cairokee/مطلوب زعيم Matloob Zaeem/06 غريب فى بلاد غريبة Ghareeb.wav",
          "path": "./Test2/Cairokee/مطلوب زعيم Matloob Zaeem/06 غريب فى بلاد غريبة Ghareeb.wav",
          "x": 22.02811050415039,
          "y": 10.325641632080078
         },
         {
          "color": 2,
          "filename": "./Test2/Dariush Talai/The Radif of Mirza Abdollah - Volume 5/52 Dastgah-e Rast-Panjgah - Ravandi.wav",
          "path": "./Test2/Dariush Talai/The Radif of Mirza Abdollah - Volume 5/52 Dastgah-e Rast-Panjgah - Ravandi.wav",
          "x": -18.48921775817871,
          "y": -14.481666564941406
         },
         {
          "color": 1,
          "filename": "./Test2/Abady Al Johar/Ana A7bik/1-03 Untitled.wav",
          "path": "./Test2/Abady Al Johar/Ana A7bik/1-03 Untitled.wav",
          "x": 19.864917755126953,
          "y": 11.788569450378418
         },
         {
          "color": 1,
          "filename": "./Test2/U-Cef/Halalium/09 DJ Faisal On The 1 'n' 2.wav",
          "path": "./Test2/U-Cef/Halalium/09 DJ Faisal On The 1 'n' 2.wav",
          "x": 23.139787673950195,
          "y": 14.560232162475586
         },
         {
          "color": 1,
          "filename": "./Test2/George Dimitri Sawa/The Art of the Early Egyptian Qanun, Vol. 2/01 Raqset Sayyed Mohammad.wav",
          "path": "./Test2/George Dimitri Sawa/The Art of the Early Egyptian Qanun, Vol. 2/01 Raqset Sayyed Mohammad.wav",
          "x": 17.39803123474121,
          "y": 16.328941345214844
         },
         {
          "color": 2,
          "filename": "./Test2/Dariush Talai/The Radif of Mirza Abdollah - Volume 2/20 Dastgah-e Homayun - Daramad-e avval.wav",
          "path": "./Test2/Dariush Talai/The Radif of Mirza Abdollah - Volume 2/20 Dastgah-e Homayun - Daramad-e avval.wav",
          "x": -18.678253173828125,
          "y": -12.442173957824707
         },
         {
          "color": 1,
          "filename": "./Test2/George Dimitri Sawa/Egyptian Music Appreciation and Practice for Bellydancers/1-13 Sudani (3_4).wav",
          "path": "./Test2/George Dimitri Sawa/Egyptian Music Appreciation and Practice for Bellydancers/1-13 Sudani (3_4).wav",
          "x": 25.090463638305664,
          "y": 16.867589950561523
         },
         {
          "color": 2,
          "filename": "./Test2/Dariush Talai/The Radif of Mirza Abdollah - Volume 3/29 Dastgah-e Segah - Basteh-negar.wav",
          "path": "./Test2/Dariush Talai/The Radif of Mirza Abdollah - Volume 3/29 Dastgah-e Segah - Basteh-negar.wav",
          "x": -19.482181549072266,
          "y": -14.70909309387207
         },
         {
          "color": 1,
          "filename": "./Test2/Mesaed Al-Belushi/Masaed/04 Arooh Lwain.wav",
          "path": "./Test2/Mesaed Al-Belushi/Masaed/04 Arooh Lwain.wav",
          "x": 30.569177627563477,
          "y": 19.74981117248535
         },
         {
          "color": 0,
          "filename": "./Test2/Dariush Talai/The Radif of Mirza Abdollah - Volume 5/27 Dastgah-e Crgah - Pahlavi.wav",
          "path": "./Test2/Dariush Talai/The Radif of Mirza Abdollah - Volume 5/27 Dastgah-e Crgah - Pahlavi.wav",
          "x": -2.8164122104644775,
          "y": -7.703281879425049
         },
         {
          "color": 4,
          "filename": "./Test2/Roubaiyat El Khayam/06 Waslah in Rahat al Arwah_ Improvisation, quatrain 111.wav",
          "path": "./Test2/Roubaiyat El Khayam/06 Waslah in Rahat al Arwah_ Improvisation, quatrain 111.wav",
          "x": 3.393415689468384,
          "y": 3.99128794670105
         },
         {
          "color": 1,
          "filename": "./Test2/ميريام فارسMyriam Fares /Aman/11 غافي.wav",
          "path": "./Test2/ميريام فارسMyriam Fares /Aman/11 غافي.wav",
          "x": 24.21144676208496,
          "y": 13.38512134552002
         },
         {
          "color": 2,
          "filename": "./Test2/Dariush Talai/The Radif of Mirza Abdollah - Volume 3/39 Dastgah-e Segah - Masihi.wav",
          "path": "./Test2/Dariush Talai/The Radif of Mirza Abdollah - Volume 3/39 Dastgah-e Segah - Masihi.wav",
          "x": -17.27762222290039,
          "y": -8.715855598449707
         },
         {
          "color": 0,
          "filename": "./Test2/Dariush Talai/The Radif of Mirza Abdollah - Volume 2/01 Avaz-e Dashti - Daramad.wav",
          "path": "./Test2/Dariush Talai/The Radif of Mirza Abdollah - Volume 2/01 Avaz-e Dashti - Daramad.wav",
          "x": -1.0841844081878662,
          "y": -8.503901481628418
         },
         {
          "color": 4,
          "filename": "./Test2/Roubaiyat El Khayam/20 Wasla in al-Mustaqim_ Nay taqasim, quatrain number 232.wav",
          "path": "./Test2/Roubaiyat El Khayam/20 Wasla in al-Mustaqim_ Nay taqasim, quatrain number 232.wav",
          "x": 9.943214416503906,
          "y": 11.530130386352539
         },
         {
          "color": 0,
          "filename": "./Test2/Dariush Talai/The Radif of Mirza Abdollah - Volume 2/39 Dastgah-e Homayun - Jameh-daran.wav",
          "path": "./Test2/Dariush Talai/The Radif of Mirza Abdollah - Volume 2/39 Dastgah-e Homayun - Jameh-daran.wav",
          "x": -1.621324062347412,
          "y": -10.306227684020996
         },
         {
          "color": 1,
          "filename": "./Test2/Mesaed Al-Belushi/Masaed/07 Alhob.wav",
          "path": "./Test2/Mesaed Al-Belushi/Masaed/07 Alhob.wav",
          "x": 29.756610870361328,
          "y": 20.157712936401367
         },
         {
          "color": 4,
          "filename": "./Test2/Simon Shaheen/The Masterworks of the Middle Easr_ Turath/09 Bashraf Kurd.wav",
          "path": "./Test2/Simon Shaheen/The Masterworks of the Middle Easr_ Turath/09 Bashraf Kurd.wav",
          "x": 16.815229415893555,
          "y": 7.439407825469971
         },
         {
          "color": 3,
          "filename": "./Test2/Ali Jihad Racy/Mystical Legacies/07 Enchanting Magic.wav",
          "path": "./Test2/Ali Jihad Racy/Mystical Legacies/07 Enchanting Magic.wav",
          "x": -11.812990188598633,
          "y": -23.972986221313477
         },
         {
          "color": 3,
          "filename": "./Test2/Dariush Talai/The Radif of Mirza Abdollah - Volume 3/01 Dastgah-e Nava - Crmezrab.wav",
          "path": "./Test2/Dariush Talai/The Radif of Mirza Abdollah - Volume 3/01 Dastgah-e Nava - Crmezrab.wav",
          "x": -11.983240127563477,
          "y": -22.56554412841797
         },
         {
          "color": 2,
          "filename": "./Test2/Dariush Talai/The Radif of Mirza Abdollah - Volume 4/05 Dastgah-e Mahur - Dad.wav",
          "path": "./Test2/Dariush Talai/The Radif of Mirza Abdollah - Volume 4/05 Dastgah-e Mahur - Dad.wav",
          "x": -25.204055786132812,
          "y": -16.193683624267578
         },
         {
          "color": 2,
          "filename": "./Test2/Dariush Talai/The Radif of Mirza Abdollah - Volume 4/34 Dastgah-e Mahur - Safir-e Rak.wav",
          "path": "./Test2/Dariush Talai/The Radif of Mirza Abdollah - Volume 4/34 Dastgah-e Mahur - Safir-e Rak.wav",
          "x": -12.918893814086914,
          "y": -9.316455841064453
         },
         {
          "color": 2,
          "filename": "./Test2/Dariush Talai/The Radif of Mirza Abdollah - Volume 5/55 Dastgah-e Rast-Panjgah - Noruz-e Khara.wav",
          "path": "./Test2/Dariush Talai/The Radif of Mirza Abdollah - Volume 5/55 Dastgah-e Rast-Panjgah - Noruz-e Khara.wav",
          "x": -27.00995635986328,
          "y": -6.291152477264404
         },
         {
          "color": 0,
          "filename": "./Test2/Dariush Talai/The Radif of Mirza Abdollah - Volume 4/28 Dastgah-e Mahur - Kereshmeh [2].wav",
          "path": "./Test2/Dariush Talai/The Radif of Mirza Abdollah - Volume 4/28 Dastgah-e Mahur - Kereshmeh [2].wav",
          "x": 0.17085477709770203,
          "y": -4.162723541259766
         },
         {
          "color": 2,
          "filename": "./Test2/Dariush Talai/The Radif of Mirza Abdollah - Volume 5/35 Dastgah-e Rast-Panjgah - Daramad.wav",
          "path": "./Test2/Dariush Talai/The Radif of Mirza Abdollah - Volume 5/35 Dastgah-e Rast-Panjgah - Daramad.wav",
          "x": -23.227041244506836,
          "y": -6.188078880310059
         },
         {
          "color": 0,
          "filename": "./Test2/Dariush Talai/The Radif of Mirza Abdollah - Volume 3/11 Dastgah-e Nava - Gavesht.wav",
          "path": "./Test2/Dariush Talai/The Radif of Mirza Abdollah - Volume 3/11 Dastgah-e Nava - Gavesht.wav",
          "x": -4.287971496582031,
          "y": -1.979612946510315
         },
         {
          "color": 1,
          "filename": "./Test2/Mesaed Al-Belushi/Masaed/13 Ghebt.wav",
          "path": "./Test2/Mesaed Al-Belushi/Masaed/13 Ghebt.wav",
          "x": 31.579450607299805,
          "y": 18.87380599975586
         },
         {
          "color": 4,
          "filename": "./Test2/Dariush Talai/The Radif of Mirza Abdollah - Volume 1/23 Dastgah-e Shur - Cr gusheh.wav",
          "path": "./Test2/Dariush Talai/The Radif of Mirza Abdollah - Volume 1/23 Dastgah-e Shur - Cr gusheh.wav",
          "x": 3.819951295852661,
          "y": 10.786833763122559
         },
         {
          "color": 3,
          "filename": "./Test2/Ali Jihad Racy/Taqasim_ The Art of Improvisation in Arabic Music/01 Maqam Kurd.wav",
          "path": "./Test2/Ali Jihad Racy/Taqasim_ The Art of Improvisation in Arabic Music/01 Maqam Kurd.wav",
          "x": -13.272074699401855,
          "y": -18.607040405273438
         },
         {
          "color": 0,
          "filename": "./Test2/Dariush Talai/The Radif of Mirza Abdollah - Volume 2/13 Avaz-e Abu'ata - Gabri.wav",
          "path": "./Test2/Dariush Talai/The Radif of Mirza Abdollah - Volume 2/13 Avaz-e Abu'ata - Gabri.wav",
          "x": -10.693153381347656,
          "y": -5.363710403442383
         },
         {
          "color": 4,
          "filename": "./Test2/Ali Jihad Racy/When The Rivers Met.._/03 Silver Drops.wav",
          "path": "./Test2/Ali Jihad Racy/When The Rivers Met.._/03 Silver Drops.wav",
          "x": 12.56247329711914,
          "y": 4.987097263336182
         },
         {
          "color": 1,
          "filename": "./Test2/Mesaed Al-Belushi/Masaed/08 Mjareeh.wav",
          "path": "./Test2/Mesaed Al-Belushi/Masaed/08 Mjareeh.wav",
          "x": 31.3757266998291,
          "y": 18.381275177001953
         },
         {
          "color": 0,
          "filename": "./Test2/Dariush Talai/The Radif of Mirza Abdollah - Volume 2/24 Dastgah-e Homayun - Tarz.wav",
          "path": "./Test2/Dariush Talai/The Radif of Mirza Abdollah - Volume 2/24 Dastgah-e Homayun - Tarz.wav",
          "x": -6.6296467781066895,
          "y": -6.763871669769287
         },
         {
          "color": 3,
          "filename": "./Test2/Dariush Talai/The Radif of Mirza Abdollah - Volume 3/08 Dastgah-e Nava - Hazin.wav",
          "path": "./Test2/Dariush Talai/The Radif of Mirza Abdollah - Volume 3/08 Dastgah-e Nava - Hazin.wav",
          "x": -12.363006591796875,
          "y": -20.894023895263672
         },
         {
          "color": 2,
          "filename": "./Test2/Dariush Talai/The Radif of Mirza Abdollah - Volume 1/16 Dastgah-e Shur - Kuchak.wav",
          "path": "./Test2/Dariush Talai/The Radif of Mirza Abdollah - Volume 1/16 Dastgah-e Shur - Kuchak.wav",
          "x": -25.32333755493164,
          "y": -5.784368515014648
         },
         {
          "color": 2,
          "filename": "./Test2/Dariush Talai/The Radif of Mirza Abdollah - Volume 5/48 Dastgah-e Rast-Panjgah - Mobarqa'.wav",
          "path": "./Test2/Dariush Talai/The Radif of Mirza Abdollah - Volume 5/48 Dastgah-e Rast-Panjgah - Mobarqa'.wav",
          "x": -14.377811431884766,
          "y": -9.677667617797852
         },
         {
          "color": 3,
          "filename": "./Test2/Dariush Talai/The Radif of Mirza Abdollah - Volume 4/14 Dastgah-e Mahur - Crpareh (Moradkhani).wav",
          "path": "./Test2/Dariush Talai/The Radif of Mirza Abdollah - Volume 4/14 Dastgah-e Mahur - Crpareh (Moradkhani).wav",
          "x": -2.7645199298858643,
          "y": -23.763525009155273
         },
         {
          "color": 0,
          "filename": "./Test2/Dariush Talai/The Radif of Mirza Abdollah - Volume 5/30 Dastgah-e Crgah - Mansuri, qesmat-e dovvom.wav",
          "path": "./Test2/Dariush Talai/The Radif of Mirza Abdollah - Volume 5/30 Dastgah-e Crgah - Mansuri, qesmat-e dovvom.wav",
          "x": 2.912327289581299,
          "y": 2.244412660598755
         },
         {
          "color": 2,
          "filename": "./Test2/Dariush Talai/The Radif of Mirza Abdollah - Volume 2/31 Dastgah-e Homayun - Leyli-o Majnum.wav",
          "path": "./Test2/Dariush Talai/The Radif of Mirza Abdollah - Volume 2/31 Dastgah-e Homayun - Leyli-o Majnum.wav",
          "x": -14.823990821838379,
          "y": -13.785572052001953
         },
         {
          "color": 2,
          "filename": "./Test2/Dariush Talai/The Radif of Mirza Abdollah - Volume 5/58 Dastgah-e Rast-Panjgah - Farang.wav",
          "path": "./Test2/Dariush Talai/The Radif of Mirza Abdollah - Volume 5/58 Dastgah-e Rast-Panjgah - Farang.wav",
          "x": -21.078052520751953,
          "y": -15.469741821289062
         },
         {
          "color": 2,
          "filename": "./Test2/Dariush Talai/The Radif of Mirza Abdollah - Volume 1/08 Dastgah-e Shur - Naghmeh-ye dovvom.wav",
          "path": "./Test2/Dariush Talai/The Radif of Mirza Abdollah - Volume 1/08 Dastgah-e Shur - Naghmeh-ye dovvom.wav",
          "x": -14.691534042358398,
          "y": -10.7865629196167
         },
         {
          "color": 4,
          "filename": "./Test2/Roubaiyat El Khayam/21 Wasla in al-Mustaqim_ Layali and quatrain 107.wav",
          "path": "./Test2/Roubaiyat El Khayam/21 Wasla in al-Mustaqim_ Layali and quatrain 107.wav",
          "x": 13.940125465393066,
          "y": 13.288983345031738
         },
         {
          "color": 4,
          "filename": "./Test2/Simon Shaheen/The Masterworks of the Middle Easr_ Turath/01 Bashraf Farahfaza.wav",
          "path": "./Test2/Simon Shaheen/The Masterworks of the Middle Easr_ Turath/01 Bashraf Farahfaza.wav",
          "x": 14.920010566711426,
          "y": 6.564431667327881
         },
         {
          "color": 2,
          "filename": "./Test2/Dariush Talai/The Radif of Mirza Abdollah - Volume 4/07 Dastgah-e Mahur - Khosravani.wav",
          "path": "./Test2/Dariush Talai/The Radif of Mirza Abdollah - Volume 4/07 Dastgah-e Mahur - Khosravani.wav",
          "x": -17.760879516601562,
          "y": -13.8431396484375
         },
         {
          "color": 0,
          "filename": "./Test2/Dariush Talai/The Radif of Mirza Abdollah - Volume 4/41 Avaz-e Bayat-e Tork - Daramad-e dovvom.wav",
          "path": "./Test2/Dariush Talai/The Radif of Mirza Abdollah - Volume 4/41 Avaz-e Bayat-e Tork - Daramad-e dovvom.wav",
          "x": -0.14320170879364014,
          "y": -5.284889221191406
         },
         {
          "color": 0,
          "filename": "./Test2/Dariush Talai/The Radif of Mirza Abdollah - Volume 4/45 Avaz-e Bayat-e Tork - Zanguleh.wav",
          "path": "./Test2/Dariush Talai/The Radif of Mirza Abdollah - Volume 4/45 Avaz-e Bayat-e Tork - Zanguleh.wav",
          "x": 2.687741756439209,
          "y": -3.405702829360962
         },
         {
          "color": 2,
          "filename": "./Test2/Dariush Talai/The Radif of Mirza Abdollah - Volume 1/25 Dastgah-e Shur - Razavi.wav",
          "path": "./Test2/Dariush Talai/The Radif of Mirza Abdollah - Volume 1/25 Dastgah-e Shur - Razavi.wav",
          "x": -22.253469467163086,
          "y": -1.0816717147827148
         },
         {
          "color": 0,
          "filename": "./Test2/Dariush Talai/The Radif of Mirza Abdollah - Volume 1/29 Dastgah-e Shur - Shahnaz-e kot ('Asheqkosh).wav",
          "path": "./Test2/Dariush Talai/The Radif of Mirza Abdollah - Volume 1/29 Dastgah-e Shur - Shahnaz-e kot ('Asheqkosh).wav",
          "x": -1.932408332824707,
          "y": 1.144492506980896
         },
         {
          "color": 4,
          "filename": "./Test2/Ensemble Muhammad Bin Faris/The Sawt Of Bahrain/03 Qala Ibn al-Ashraf.wav",
          "path": "./Test2/Ensemble Muhammad Bin Faris/The Sawt Of Bahrain/03 Qala Ibn al-Ashraf.wav",
          "x": 7.611680507659912,
          "y": 4.785189151763916
         },
         {
          "color": 0,
          "filename": "./Test2/Dariush Talai/The Radif of Mirza Abdollah - Volume 4/40 Avaz-e Bayat-e Tork - Dogah.wav",
          "path": "./Test2/Dariush Talai/The Radif of Mirza Abdollah - Volume 4/40 Avaz-e Bayat-e Tork - Dogah.wav",
          "x": 0.5834315419197083,
          "y": -3.3440194129943848
         },
         {
          "color": 1,
          "filename": "./Test2/Cairokee/مطلوب زعيم Matloob Zaeem/02 صوت الحرية Sout El Horeya.wav",
          "path": "./Test2/Cairokee/مطلوب زعيم Matloob Zaeem/02 صوت الحرية Sout El Horeya.wav",
          "x": 26.188098907470703,
          "y": 16.66278648376465
         },
         {
          "color": 1,
          "filename": "./Test2/ميريام فارسMyriam Fares /Aman/05 الزير.wav",
          "path": "./Test2/ميريام فارسMyriam Fares /Aman/05 الزير.wav",
          "x": 27.932106018066406,
          "y": 17.053495407104492
         },
         {
          "color": 0,
          "filename": "./Test2/Oum Kalthoum/Al Atlal/01 Al Atlal.wav",
          "path": "./Test2/Oum Kalthoum/Al Atlal/01 Al Atlal.wav",
          "x": -3.209407329559326,
          "y": -1.7242788076400757
         },
         {
          "color": 2,
          "filename": "./Test2/Dariush Talai/The Radif of Mirza Abdollah - Volume 3/41 Dastgah-e Segah - Takht-e Taqdis.wav",
          "path": "./Test2/Dariush Talai/The Radif of Mirza Abdollah - Volume 3/41 Dastgah-e Segah - Takht-e Taqdis.wav",
          "x": -11.458605766296387,
          "y": -7.99240779876709
         },
         {
          "color": 4,
          "filename": "./Test2/Ali Jihad Racy/Ancient Egypt/04 The Boat of Millions of Years.wav",
          "path": "./Test2/Ali Jihad Racy/Ancient Egypt/04 The Boat of Millions of Years.wav",
          "x": 6.7942938804626465,
          "y": 15.043994903564453
         },
         {
          "color": 3,
          "filename": "./Test2/Roubaiyat El Khayam/04 Waslah in Rahat al Arwah_ Vocal improvisation, quatrain 198.wav",
          "path": "./Test2/Roubaiyat El Khayam/04 Waslah in Rahat al Arwah_ Vocal improvisation, quatrain 198.wav",
          "x": -10.754858016967773,
          "y": -21.090696334838867
         },
         {
          "color": 1,
          "filename": "./Test2/Mesaed Al-Belushi/Masaed/05 Sobart O Janait.wav",
          "path": "./Test2/Mesaed Al-Belushi/Masaed/05 Sobart O Janait.wav",
          "x": 31.573339462280273,
          "y": 22.444454193115234
         },
         {
          "color": 3,
          "filename": "./Test2/Dariush Talai/The Radif of Mirza Abdollah - Volume 4/08 Dastgah-e Mahur - Delkesh.wav",
          "path": "./Test2/Dariush Talai/The Radif of Mirza Abdollah - Volume 4/08 Dastgah-e Mahur - Delkesh.wav",
          "x": -10.760358810424805,
          "y": -10.873916625976562
         },
         {
          "color": 3,
          "filename": "./Test2/Ali Jihad Racy/Taqasim_ The Art of Improvisation in Arabic Music/02 Maqam Nahawand.wav",
          "path": "./Test2/Ali Jihad Racy/Taqasim_ The Art of Improvisation in Arabic Music/02 Maqam Nahawand.wav",
          "x": -3.7490346431732178,
          "y": -19.60356330871582
         },
         {
          "color": 2,
          "filename": "./Test2/Dariush Talai/The Radif of Mirza Abdollah - Volume 5/11 Dastgah-e Crgah - Muyeh.wav",
          "path": "./Test2/Dariush Talai/The Radif of Mirza Abdollah - Volume 5/11 Dastgah-e Crgah - Muyeh.wav",
          "x": -22.406770706176758,
          "y": -6.269408226013184
         },
         {
          "color": 2,
          "filename": "./Test2/Dariush Talai/The Radif of Mirza Abdollah - Volume 5/16 Dastgah-e Crgah - Hesar, qesmat-e chaharom.wav",
          "path": "./Test2/Dariush Talai/The Radif of Mirza Abdollah - Volume 5/16 Dastgah-e Crgah - Hesar, qesmat-e chaharom.wav",
          "x": -24.0070743560791,
          "y": -13.875736236572266
         },
         {
          "color": 1,
          "filename": "./Test2/Mesaed Al-Belushi/Masaed/11 Qom Moreni.wav",
          "path": "./Test2/Mesaed Al-Belushi/Masaed/11 Qom Moreni.wav",
          "x": 31.061124801635742,
          "y": 22.546398162841797
         },
         {
          "color": 2,
          "filename": "./Test2/Dariush Talai/The Radif of Mirza Abdollah - Volume 4/12 Dastgah-e Mahur - Neyshaburak.wav",
          "path": "./Test2/Dariush Talai/The Radif of Mirza Abdollah - Volume 4/12 Dastgah-e Mahur - Neyshaburak.wav",
          "x": -18.81911277770996,
          "y": -10.880276679992676
         },
         {
          "color": 0,
          "filename": "./Test2/Dariush Talai/The Radif of Mirza Abdollah - Volume 2/05 Avaz-e Dashti - Gham-angiz.wav",
          "path": "./Test2/Dariush Talai/The Radif of Mirza Abdollah - Volume 2/05 Avaz-e Dashti - Gham-angiz.wav",
          "x": -2.0849289894104004,
          "y": -0.5733276605606079
         },
         {
          "color": 4,
          "filename": "./Test2/Roubaiyat El Khayam/18 Wasla in al-Mustaqim_ Quatrains 21 and 298.wav",
          "path": "./Test2/Roubaiyat El Khayam/18 Wasla in al-Mustaqim_ Quatrains 21 and 298.wav",
          "x": 13.354187965393066,
          "y": 8.614983558654785
         },
         {
          "color": 0,
          "filename": "./Test2/Dariush Talai/The Radif of Mirza Abdollah - Volume 2/07 Avaz-e Abu'ata - Ramkeli.wav",
          "path": "./Test2/Dariush Talai/The Radif of Mirza Abdollah - Volume 2/07 Avaz-e Abu'ata - Ramkeli.wav",
          "x": -1.3780512809753418,
          "y": -0.8740252256393433
         },
         {
          "color": 0,
          "filename": "./Test2/Dariush Talai/The Radif of Mirza Abdollah - Volume 4/32 Dastgah-e Mahur - Rak-e 'Abdollah.wav",
          "path": "./Test2/Dariush Talai/The Radif of Mirza Abdollah - Volume 4/32 Dastgah-e Mahur - Rak-e 'Abdollah.wav",
          "x": -1.02084219455719,
          "y": -5.608004570007324
         },
         {
          "color": 1,
          "filename": "./Test2/Mesaed Al-Belushi/Masaed/14 Barad Qalbi.wav",
          "path": "./Test2/Mesaed Al-Belushi/Masaed/14 Barad Qalbi.wav",
          "x": 29.267837524414062,
          "y": 20.1309757232666
         },
         {
          "color": 2,
          "filename": "./Test2/Dariush Talai/The Radif of Mirza Abdollah - Volume 5/05 Dastgah-e Crgah - Naghmeh.wav",
          "path": "./Test2/Dariush Talai/The Radif of Mirza Abdollah - Volume 5/05 Dastgah-e Crgah - Naghmeh.wav",
          "x": -21.2315616607666,
          "y": -8.39128303527832
         },
         {
          "color": 1,
          "filename": "./Test2/George Dimitri Sawa/Egyptian Music Appreciation and Practice for Bellydancers/1-25 Sai'di (4_4)[feat. Michel Merhej Baklouk & Suzanne Meyers Sawa].wav",
          "path": "./Test2/George Dimitri Sawa/Egyptian Music Appreciation and Practice for Bellydancers/1-25 Sai'di (4_4)[feat. Michel Merhej Baklouk & Suzanne Meyers Sawa].wav",
          "x": 24.09402847290039,
          "y": 18.501304626464844
         },
         {
          "color": 2,
          "filename": "./Test2/Dariush Talai/The Radif of Mirza Abdollah - Volume 1/32 Dastgah-e Shur - Reng-e Hashtari.wav",
          "path": "./Test2/Dariush Talai/The Radif of Mirza Abdollah - Volume 1/32 Dastgah-e Shur - Reng-e Hashtari.wav",
          "x": -19.21556854248047,
          "y": -16.288068771362305
         },
         {
          "color": 1,
          "filename": "./Test2/George Dimitri Sawa/Egyptian Music Appreciation and Practice for Bellydancers/1-28 Zaffa and Shivaree (4_4) [feat. Michel Merhej Baklouk & Suzanne Meyers Sawa].wav",
          "path": "./Test2/George Dimitri Sawa/Egyptian Music Appreciation and Practice for Bellydancers/1-28 Zaffa and Shivaree (4_4) [feat. Michel Merhej Baklouk & Suzanne Meyers Sawa].wav",
          "x": 18.043537139892578,
          "y": 16.44139289855957
         },
         {
          "color": 2,
          "filename": "./Test2/Dariush Talai/The Radif of Mirza Abdollah - Volume 3/25 Dastgah-e Segah - Kereshmeh.wav",
          "path": "./Test2/Dariush Talai/The Radif of Mirza Abdollah - Volume 3/25 Dastgah-e Segah - Kereshmeh.wav",
          "x": -11.266243934631348,
          "y": -5.534097671508789
         },
         {
          "color": 1,
          "filename": "./Test2/George Dimitri Sawa/The Art of the Early Egyptian Qanun/02 Raqset el-Hawanem.wav",
          "path": "./Test2/George Dimitri Sawa/The Art of the Early Egyptian Qanun/02 Raqset el-Hawanem.wav",
          "x": 19.92378807067871,
          "y": 20.83820343017578
         },
         {
          "color": 2,
          "filename": "./Test2/Dariush Talai/The Radif of Mirza Abdollah - Volume 3/30 Dastgah-e Segah - Muyeh.wav",
          "path": "./Test2/Dariush Talai/The Radif of Mirza Abdollah - Volume 3/30 Dastgah-e Segah - Muyeh.wav",
          "x": -21.850133895874023,
          "y": -14.674102783203125
         },
         {
          "color": 4,
          "filename": "./Test2/Simon Shaheen/The Masterworks of the Middle Easr_ Turath/06 Sama'i Nahawand.wav",
          "path": "./Test2/Simon Shaheen/The Masterworks of the Middle Easr_ Turath/06 Sama'i Nahawand.wav",
          "x": 10.226554870605469,
          "y": 5.040772914886475
         },
         {
          "color": 1,
          "filename": "./Test2/Cairokee/مطلوب زعيم Matloob Zaeem/04 يالميدان Yalmidan.wav",
          "path": "./Test2/Cairokee/مطلوب زعيم Matloob Zaeem/04 يالميدان Yalmidan.wav",
          "x": 28.801631927490234,
          "y": 17.474878311157227
         },
         {
          "color": 4,
          "filename": "./Test2/Abu Bakr Salem/Jalsat Thakrayat 2/01 La Tithakrny Bu Shai.wav",
          "path": "./Test2/Abu Bakr Salem/Jalsat Thakrayat 2/01 La Tithakrny Bu Shai.wav",
          "x": 18.322956085205078,
          "y": 6.908843040466309
         },
         {
          "color": 4,
          "filename": "./Test2/Abu Bakr Salem/3ini Tashouf/03 Ya Nasim asahar.wav",
          "path": "./Test2/Abu Bakr Salem/3ini Tashouf/03 Ya Nasim asahar.wav",
          "x": 18.568096160888672,
          "y": 9.022234916687012
         },
         {
          "color": 4,
          "filename": "./Test2/Abu Bakr Salem/Haflat Al-Dowha/02 Dha Ali Hasl.wav",
          "path": "./Test2/Abu Bakr Salem/Haflat Al-Dowha/02 Dha Ali Hasl.wav",
          "x": 12.919262886047363,
          "y": 6.144203186035156
         },
         {
          "color": 4,
          "filename": "./Test2/Yahya Al-Nunu, Muhammad Al-Khamisi, Muhammad 'ali Al Sudi_/Yemen. Yahya Al-Nunu. Le Chant Des Sanaa. Yemen. Yahya Al-Nunu. The Singing Of Sanaa_/06 Al-Burr Wa-S-Samn Khirat Ma Tishilleh Banani.wav",
          "path": "./Test2/Yahya Al-Nunu, Muhammad Al-Khamisi, Muhammad 'ali Al Sudi_/Yemen. Yahya Al-Nunu. Le Chant Des Sanaa. Yemen. Yahya Al-Nunu. The Singing Of Sanaa_/06 Al-Burr Wa-S-Samn Khirat Ma Tishilleh Banani.wav",
          "x": 5.664962291717529,
          "y": 8.733244895935059
         },
         {
          "color": 1,
          "filename": "./Test2/ميريام فارسMyriam Fares /Aman/09 سمباتيكا.wav",
          "path": "./Test2/ميريام فارسMyriam Fares /Aman/09 سمباتيكا.wav",
          "x": 27.886598587036133,
          "y": 19.325773239135742
         },
         {
          "color": 2,
          "filename": "./Test2/Dariush Talai/The Radif of Mirza Abdollah - Volume 5/08 Dastgah-e Crgah - Zang-e shotor.wav",
          "path": "./Test2/Dariush Talai/The Radif of Mirza Abdollah - Volume 5/08 Dastgah-e Crgah - Zang-e shotor.wav",
          "x": -16.17952537536621,
          "y": -13.340758323669434
         },
         {
          "color": 0,
          "filename": "./Test2/Dariush Talai/The Radif of Mirza Abdollah - Volume 4/44 Avaz-e Bayat-e Tork - Basteh-negar.wav",
          "path": "./Test2/Dariush Talai/The Radif of Mirza Abdollah - Volume 4/44 Avaz-e Bayat-e Tork - Basteh-negar.wav",
          "x": 1.5425587892532349,
          "y": -3.8610787391662598
         },
         {
          "color": 2,
          "filename": "./Test2/Ali Jihad Racy/When The Rivers Met.._/04 Festival Of Lights.wav",
          "path": "./Test2/Ali Jihad Racy/When The Rivers Met.._/04 Festival Of Lights.wav",
          "x": -24.41706085205078,
          "y": -16.132246017456055
         },
         {
          "color": 1,
          "filename": "./Test2/George Dimitri Sawa/The Art of the Early Egyptian Qanun, Vol. 2/10 A Medley Of Melodies In Hijazkar And Hijaz Modes.wav",
          "path": "./Test2/George Dimitri Sawa/The Art of the Early Egyptian Qanun, Vol. 2/10 A Medley Of Melodies In Hijazkar And Hijaz Modes.wav",
          "x": 21.241451263427734,
          "y": 21.518871307373047
         },
         {
          "color": 1,
          "filename": "./Test2/George Dimitri Sawa/Egyptian Music Appreciation and Practice for Bellydancers/1-17 El-Bulbul, in Masmudi Saghir Rhythm and Hijaz Mode (Featuring Michel Merhej Baklouk & Suzanne Meyers Sawa).wav",
          "path": "./Test2/George Dimitri Sawa/Egyptian Music Appreciation and Practice for Bellydancers/1-17 El-Bulbul, in Masmudi Saghir Rhythm and Hijaz Mode (Featuring Michel Merhej Baklouk & Suzanne Meyers Sawa).wav",
          "x": 19.195484161376953,
          "y": 15.848556518554688
         },
         {
          "color": 3,
          "filename": "./Test2/Dariush Talai/The Radif of Mirza Abdollah - Volume 3/21 Dastgah-e Nava - Reng-e Nava.wav",
          "path": "./Test2/Dariush Talai/The Radif of Mirza Abdollah - Volume 3/21 Dastgah-e Nava - Reng-e Nava.wav",
          "x": -7.156960964202881,
          "y": -9.644366264343262
         },
         {
          "color": 0,
          "filename": "./Test2/Dariush Talai/The Radif of Mirza Abdollah - Volume 5/38 Dastgah-e Rast-Panjgah - Parvaneh.wav",
          "path": "./Test2/Dariush Talai/The Radif of Mirza Abdollah - Volume 5/38 Dastgah-e Rast-Panjgah - Parvaneh.wav",
          "x": -6.414577960968018,
          "y": -1.2125762701034546
         },
         {
          "color": 3,
          "filename": "./Test2/Dariush Talai/The Radif of Mirza Abdollah - Volume 5/31 Dastgah-e Crgah - Mansuri, qesmat-e sevvom.wav",
          "path": "./Test2/Dariush Talai/The Radif of Mirza Abdollah - Volume 5/31 Dastgah-e Crgah - Mansuri, qesmat-e sevvom.wav",
          "x": -3.73433256149292,
          "y": -19.521297454833984
         },
         {
          "color": 4,
          "filename": "./Test2/Simon Shaheen/The Masterworks of the Middle Easr_ Turath/07 Tahmilah Suznak.wav",
          "path": "./Test2/Simon Shaheen/The Masterworks of the Middle Easr_ Turath/07 Tahmilah Suznak.wav",
          "x": 20.10080909729004,
          "y": 7.495854377746582
         },
         {
          "color": 0,
          "filename": "./Test2/Tom Chant/Cloister/02 Four Sputnik.wav",
          "path": "./Test2/Tom Chant/Cloister/02 Four Sputnik.wav",
          "x": 2.7694833278656006,
          "y": 3.1513311862945557
         },
         {
          "color": 2,
          "filename": "./Test2/Dariush Talai/The Radif of Mirza Abdollah - Volume 5/22 Dastgah-e Crgah - Basteh negar [2].wav",
          "path": "./Test2/Dariush Talai/The Radif of Mirza Abdollah - Volume 5/22 Dastgah-e Crgah - Basteh negar [2].wav",
          "x": -11.349241256713867,
          "y": -9.127518653869629
         },
         {
          "color": 2,
          "filename": "./Test2/Ali Jihad Racy/Mystical Legacies/10 Breeze of Nostalgia.wav",
          "path": "./Test2/Ali Jihad Racy/Mystical Legacies/10 Breeze of Nostalgia.wav",
          "x": -15.193580627441406,
          "y": -9.967971801757812
         },
         {
          "color": 0,
          "filename": "./Test2/Dariush Talai/The Radif of Mirza Abdollah - Volume 3/33 Dastgah-e Segah - Basteh negar [2].wav",
          "path": "./Test2/Dariush Talai/The Radif of Mirza Abdollah - Volume 3/33 Dastgah-e Segah - Basteh negar [2].wav",
          "x": 4.187745571136475,
          "y": -9.128946304321289
         },
         {
          "color": 4,
          "filename": "./Test2/Dariush Talai/The Radif of Mirza Abdollah - Volume 3/45 Avaz-e Afshari - 'Araq.wav",
          "path": "./Test2/Dariush Talai/The Radif of Mirza Abdollah - Volume 3/45 Avaz-e Afshari - 'Araq.wav",
          "x": 1.772087574005127,
          "y": 6.810357570648193
         },
         {
          "color": 0,
          "filename": "./Test2/Dariush Talai/The Radif of Mirza Abdollah - Volume 2/09 Avaz-e Abu'ata - Sayakhi.wav",
          "path": "./Test2/Dariush Talai/The Radif of Mirza Abdollah - Volume 2/09 Avaz-e Abu'ata - Sayakhi.wav",
          "x": -0.42083999514579773,
          "y": -3.8407161235809326
         },
         {
          "color": 1,
          "filename": "./Test2/U-Cef/Halalium/04 Hijra.wav",
          "path": "./Test2/U-Cef/Halalium/04 Hijra.wav",
          "x": 31.48128318786621,
          "y": 19.10396385192871
         },
         {
          "color": 2,
          "filename": "./Test2/Dariush Talai/The Radif of Mirza Abdollah - Volume 3/13 Dastgah-e Nava - Neyshaburak.wav",
          "path": "./Test2/Dariush Talai/The Radif of Mirza Abdollah - Volume 3/13 Dastgah-e Nava - Neyshaburak.wav",
          "x": -18.02011489868164,
          "y": -12.971720695495605
         },
         {
          "color": 4,
          "filename": "./Test2/Dariush Talai/The Radif of Mirza Abdollah - Volume 2/06 Avaz-e Dashti - Gilaki.wav",
          "path": "./Test2/Dariush Talai/The Radif of Mirza Abdollah - Volume 2/06 Avaz-e Dashti - Gilaki.wav",
          "x": 1.9214287996292114,
          "y": 6.7850823402404785
         },
         {
          "color": 4,
          "filename": "./Test2/Roubaiyat El Khayam/01 Waslah in Rahat al Arwah_ Quatrain 200.wav",
          "path": "./Test2/Roubaiyat El Khayam/01 Waslah in Rahat al Arwah_ Quatrain 200.wav",
          "x": 12.368573188781738,
          "y": 16.53265380859375
         },
         {
          "color": 4,
          "filename": "./Test2/Ali Jihad Racy/Ancient Egypt/03 Hymn to Osiris.wav",
          "path": "./Test2/Ali Jihad Racy/Ancient Egypt/03 Hymn to Osiris.wav",
          "x": 12.705573081970215,
          "y": 17.30314064025879
         },
         {
          "color": 0,
          "filename": "./Test2/Dariush Talai/The Radif of Mirza Abdollah - Volume 2/45 Dastgah-e Homayun - Denasori.wav",
          "path": "./Test2/Dariush Talai/The Radif of Mirza Abdollah - Volume 2/45 Dastgah-e Homayun - Denasori.wav",
          "x": -4.957248687744141,
          "y": -1.0868579149246216
         },
         {
          "color": 3,
          "filename": "./Test2/Ali Jihad Racy/When The Rivers Met.._/07 Valley Of Hope.wav",
          "path": "./Test2/Ali Jihad Racy/When The Rivers Met.._/07 Valley Of Hope.wav",
          "x": -11.399922370910645,
          "y": -22.589941024780273
         },
         {
          "color": 4,
          "filename": "./Test2/Simon Shaheen/Saltanah/02 Ghazal - Rag Vasant Mukhari_Maqam Hijaz.wav",
          "path": "./Test2/Simon Shaheen/Saltanah/02 Ghazal - Rag Vasant Mukhari_Maqam Hijaz.wav",
          "x": 3.5933279991149902,
          "y": 7.311735153198242
         },
         {
          "color": 0,
          "filename": "./Test2/Roubaiyat El Khayam/07 Waslah in Rahat al Arwah_ Improvisation, quatrains 209, 295.wav",
          "path": "./Test2/Roubaiyat El Khayam/07 Waslah in Rahat al Arwah_ Improvisation, quatrains 209, 295.wav",
          "x": 1.1143722534179688,
          "y": -1.4121264219284058
         },
         {
          "color": 3,
          "filename": "./Test2/Dariush Talai/The Radif of Mirza Abdollah - Volume 4/22 Dastgah-e Mahur - 'Araq.wav",
          "path": "./Test2/Dariush Talai/The Radif of Mirza Abdollah - Volume 4/22 Dastgah-e Mahur - 'Araq.wav",
          "x": -9.035215377807617,
          "y": -15.09614372253418
         },
         {
          "color": 0,
          "filename": "./Test2/Ali Jihad Racy/When The Rivers Met.._/06 Meadows Of Gold.wav",
          "path": "./Test2/Ali Jihad Racy/When The Rivers Met.._/06 Meadows Of Gold.wav",
          "x": -5.077897071838379,
          "y": 0.5350112318992615
         },
         {
          "color": 1,
          "filename": "./Test2/George Dimitri Sawa/Egyptian Music Appreciation and Practice for Bellydancers/1-05 El-Sabr Tayyeb, in Ayyub Rhythm (Featuring Michel Merhej Baklouk & Suzanne Meyers Sawa).wav",
          "path": "./Test2/George Dimitri Sawa/Egyptian Music Appreciation and Practice for Bellydancers/1-05 El-Sabr Tayyeb, in Ayyub Rhythm (Featuring Michel Merhej Baklouk & Suzanne Meyers Sawa).wav",
          "x": 24.05827522277832,
          "y": 17.517208099365234
         },
         {
          "color": 1,
          "filename": "./Test2/George Dimitri Sawa/Egyptian Music Appreciation and Practice for Bellydancers/1-12 Layali el-Andalus, in Valse Rhythm and Kurd Mode (Featuring Michel Merhej Baklouk & Suzanne Meyers Sawa).wav",
          "path": "./Test2/George Dimitri Sawa/Egyptian Music Appreciation and Practice for Bellydancers/1-12 Layali el-Andalus, in Valse Rhythm and Kurd Mode (Featuring Michel Merhej Baklouk & Suzanne Meyers Sawa).wav",
          "x": 19.008628845214844,
          "y": 14.719658851623535
         },
         {
          "color": 1,
          "filename": "./Test2/Abu Bakr Salem/3ini Tashouf/04 T3allana.wav",
          "path": "./Test2/Abu Bakr Salem/3ini Tashouf/04 T3allana.wav",
          "x": 21.155107498168945,
          "y": 11.749774932861328
         },
         {
          "color": 2,
          "filename": "./Test2/Dariush Talai/The Radif of Mirza Abdollah - Volume 3/24 Dastgah-e Segah - Naghmeh.wav",
          "path": "./Test2/Dariush Talai/The Radif of Mirza Abdollah - Volume 3/24 Dastgah-e Segah - Naghmeh.wav",
          "x": -15.11532974243164,
          "y": -7.948868751525879
         },
         {
          "color": 2,
          "filename": "./Test2/Dariush Talai/The Radif of Mirza Abdollah - Volume 4/02 Dastgah-e Mahur - Kereshmeh.wav",
          "path": "./Test2/Dariush Talai/The Radif of Mirza Abdollah - Volume 4/02 Dastgah-e Mahur - Kereshmeh.wav",
          "x": -25.748401641845703,
          "y": -10.344747543334961
         },
         {
          "color": 4,
          "filename": "./Test2/Ali Jihad Racy/Mystical Legacies/01 Sufi Medley.wav",
          "path": "./Test2/Ali Jihad Racy/Mystical Legacies/01 Sufi Medley.wav",
          "x": 2.9873921871185303,
          "y": 9.622503280639648
         },
         {
          "color": 2,
          "filename": "./Test2/Dariush Talai/The Radif of Mirza Abdollah - Volume 2/27 Dastgah-e Homayun - Neydavud.wav",
          "path": "./Test2/Dariush Talai/The Radif of Mirza Abdollah - Volume 2/27 Dastgah-e Homayun - Neydavud.wav",
          "x": -22.073989868164062,
          "y": -17.440168380737305
         },
         {
          "color": 4,
          "filename": "./Test2/Abu Bakr Salem/Haflat Al-Dowha/06 Ramsh Aynah.wav",
          "path": "./Test2/Abu Bakr Salem/Haflat Al-Dowha/06 Ramsh Aynah.wav",
          "x": 9.132641792297363,
          "y": 7.815956115722656
         },
         {
          "color": 2,
          "filename": "./Test2/Dariush Talai/The Radif of Mirza Abdollah - Volume 5/09 Dastgah-e Crgah - Zabol.wav",
          "path": "./Test2/Dariush Talai/The Radif of Mirza Abdollah - Volume 5/09 Dastgah-e Crgah - Zabol.wav",
          "x": -22.593416213989258,
          "y": -1.1228671073913574
         },
         {
          "color": 3,
          "filename": "./Test2/Ali Jihad Racy/Ancient Egypt/05 The Holy Lotus.wav",
          "path": "./Test2/Ali Jihad Racy/Ancient Egypt/05 The Holy Lotus.wav",
          "x": -8.476747512817383,
          "y": -19.676576614379883
         },
         {
          "color": 3,
          "filename": "./Test2/Dariush Talai/The Radif of Mirza Abdollah - Volume 3/06 Dastgah-e Nava - Naghmeh.wav",
          "path": "./Test2/Dariush Talai/The Radif of Mirza Abdollah - Volume 3/06 Dastgah-e Nava - Naghmeh.wav",
          "x": -12.752975463867188,
          "y": -20.544097900390625
         },
         {
          "color": 0,
          "filename": "./Test2/Dariush Talai/The Radif of Mirza Abdollah - Volume 4/09 Dastgah-e Mahur - Crmezrab va forud.wav",
          "path": "./Test2/Dariush Talai/The Radif of Mirza Abdollah - Volume 4/09 Dastgah-e Mahur - Crmezrab va forud.wav",
          "x": -0.791363537311554,
          "y": -7.372532844543457
         },
         {
          "color": 1,
          "filename": "./Test2/Cairokee/مطلوب زعيم Matloob Zaeem/05 أفرد جناحك Efred Genahak.wav",
          "path": "./Test2/Cairokee/مطلوب زعيم Matloob Zaeem/05 أفرد جناحك Efred Genahak.wav",
          "x": 24.58095359802246,
          "y": 13.842544555664062
         },
         {
          "color": 4,
          "filename": "./Test2/Dariush Talai/The Radif of Mirza Abdollah - Volume 2/40 Dastgah-e Homayun - Raz-o niyaz.wav",
          "path": "./Test2/Dariush Talai/The Radif of Mirza Abdollah - Volume 2/40 Dastgah-e Homayun - Raz-o niyaz.wav",
          "x": 5.556737422943115,
          "y": 6.0496392250061035
         },
         {
          "color": 1,
          "filename": "./Test2/ميريام فارسMyriam Fares /Aman/13 امان.wav",
          "path": "./Test2/ميريام فارسMyriam Fares /Aman/13 امان.wav",
          "x": 32.89400100708008,
          "y": 18.758167266845703
         },
         {
          "color": 1,
          "filename": "./Test2/George Dimitri Sawa/Egyptian Music Appreciation and Practice for Bellydancers/1-23 Fallahi (4_4) [feat. Michel Merhej Baklouk & Suzanne Meyers Sawa].wav",
          "path": "./Test2/George Dimitri Sawa/Egyptian Music Appreciation and Practice for Bellydancers/1-23 Fallahi (4_4) [feat. Michel Merhej Baklouk & Suzanne Meyers Sawa].wav",
          "x": 27.060056686401367,
          "y": 18.334640502929688
         },
         {
          "color": 1,
          "filename": "./Test2/ميريام فارسMyriam Fares /Aman/08 هالله هالله يا صبايا.wav",
          "path": "./Test2/ميريام فارسMyriam Fares /Aman/08 هالله هالله يا صبايا.wav",
          "x": 26.40052032470703,
          "y": 17.584625244140625
         },
         {
          "color": 1,
          "filename": "./Test2/Mesaed Al-Belushi/Masaed/02 Marrait.wav",
          "path": "./Test2/Mesaed Al-Belushi/Masaed/02 Marrait.wav",
          "x": 27.210756301879883,
          "y": 22.562726974487305
         },
         {
          "color": 4,
          "filename": "./Test2/Dariush Talai/The Radif of Mirza Abdollah - Volume 1/38 Avaz-e Bayat-e Kord - Haji Hasani.wav",
          "path": "./Test2/Dariush Talai/The Radif of Mirza Abdollah - Volume 1/38 Avaz-e Bayat-e Kord - Haji Hasani.wav",
          "x": 0.6065026521682739,
          "y": 9.064353942871094
         },
         {
          "color": 1,
          "filename": "./Test2/U-Cef/Halalium/07 Marrakech Raggamuffins.wav",
          "path": "./Test2/U-Cef/Halalium/07 Marrakech Raggamuffins.wav",
          "x": 24.078998565673828,
          "y": 15.23166275024414
         },
         {
          "color": 0,
          "filename": "./Test2/Dariush Talai/The Radif of Mirza Abdollah - Volume 4/50 Avaz-e Bayat-e Tork - Mehrabani.wav",
          "path": "./Test2/Dariush Talai/The Radif of Mirza Abdollah - Volume 4/50 Avaz-e Bayat-e Tork - Mehrabani.wav",
          "x": -0.39280813932418823,
          "y": -8.910085678100586
         },
         {
          "color": 0,
          "filename": "./Test2/Dariush Talai/The Radif of Mirza Abdollah - Volume 1/13 Dastgah-e Shur - 'Ozzal.wav",
          "path": "./Test2/Dariush Talai/The Radif of Mirza Abdollah - Volume 1/13 Dastgah-e Shur - 'Ozzal.wav",
          "x": -6.367233753204346,
          "y": -9.066903114318848
         },
         {
          "color": 1,
          "filename": "./Test2/George Dimitri Sawa/Egyptian Music Appreciation and Practice for Bellydancers/1-20 Measured Improvisation over Maqsum Rhythm (Featuring Michel Merhej Baklouk & Suzanne Meyers Sawa).wav",
          "path": "./Test2/George Dimitri Sawa/Egyptian Music Appreciation and Practice for Bellydancers/1-20 Measured Improvisation over Maqsum Rhythm (Featuring Michel Merhej Baklouk & Suzanne Meyers Sawa).wav",
          "x": 18.153085708618164,
          "y": 12.102124214172363
         },
         {
          "color": 2,
          "filename": "./Test2/Dariush Talai/The Radif of Mirza Abdollah - Volume 4/01 Dastgah-e Mahur - Daramad.wav",
          "path": "./Test2/Dariush Talai/The Radif of Mirza Abdollah - Volume 4/01 Dastgah-e Mahur - Daramad.wav",
          "x": -20.4864501953125,
          "y": -15.053834915161133
         },
         {
          "color": 4,
          "filename": "./Test2/Abu Bakr Salem/Jalsat Thakrayat 2/04 Kamarisha.wav",
          "path": "./Test2/Abu Bakr Salem/Jalsat Thakrayat 2/04 Kamarisha.wav",
          "x": 18.66969871520996,
          "y": 6.013975620269775
         },
         {
          "color": 1,
          "filename": "./Test2/Abady Al Johar/Ana We Oudi (via 6lal.com)/05 Al-Taqaseem.wav",
          "path": "./Test2/Abady Al Johar/Ana We Oudi (via 6lal.com)/05 Al-Taqaseem.wav",
          "x": 22.90035057067871,
          "y": 11.695918083190918
         },
         {
          "color": 0,
          "filename": "./Test2/Tom Chant/Cloister/03 What About Seven.wav",
          "path": "./Test2/Tom Chant/Cloister/03 What About Seven.wav",
          "x": 2.054370403289795,
          "y": 2.9893710613250732
         },
         {
          "color": 2,
          "filename": "./Test2/Dariush Talai/The Radif of Mirza Abdollah - Volume 1/30 Dastgah-e Shur - Gereyli.wav",
          "path": "./Test2/Dariush Talai/The Radif of Mirza Abdollah - Volume 1/30 Dastgah-e Shur - Gereyli.wav",
          "x": -24.462337493896484,
          "y": -5.25049352645874
         },
         {
          "color": 2,
          "filename": "./Test2/Dariush Talai/The Radif of Mirza Abdollah - Volume 5/37 Dastgah-e Rast-Panjgah - Zanguleh.wav",
          "path": "./Test2/Dariush Talai/The Radif of Mirza Abdollah - Volume 5/37 Dastgah-e Rast-Panjgah - Zanguleh.wav",
          "x": -25.1370906829834,
          "y": -9.657126426696777
         },
         {
          "color": 3,
          "filename": "./Test2/Ali Jihad Racy/When The Rivers Met.._/11 Elixir Of Life.wav",
          "path": "./Test2/Ali Jihad Racy/When The Rivers Met.._/11 Elixir Of Life.wav",
          "x": -2.024244546890259,
          "y": -24.722864151000977
         },
         {
          "color": 2,
          "filename": "./Test2/Dariush Talai/The Radif of Mirza Abdollah - Volume 3/14 Dastgah-e Nava - Majosli.wav",
          "path": "./Test2/Dariush Talai/The Radif of Mirza Abdollah - Volume 3/14 Dastgah-e Nava - Majosli.wav",
          "x": -20.05584144592285,
          "y": -14.609816551208496
         },
         {
          "color": 3,
          "filename": "./Test2/Dariush Talai/The Radif of Mirza Abdollah - Volume 2/14 Avaz-e Bayat-e Eshfehan - Daramad.wav",
          "path": "./Test2/Dariush Talai/The Radif of Mirza Abdollah - Volume 2/14 Avaz-e Bayat-e Eshfehan - Daramad.wav",
          "x": -8.096527099609375,
          "y": -15.270340919494629
         },
         {
          "color": 2,
          "filename": "./Test2/Dariush Talai/The Radif of Mirza Abdollah - Volume 2/30 Dastgah-e Homayun - Abolchap.wav",
          "path": "./Test2/Dariush Talai/The Radif of Mirza Abdollah - Volume 2/30 Dastgah-e Homayun - Abolchap.wav",
          "x": -16.223508834838867,
          "y": -13.867077827453613
         },
         {
          "color": 0,
          "filename": "./Test2/Dariush Talai/The Radif of Mirza Abdollah - Volume 4/27 Dastgah-e Mahur - Hazin.wav",
          "path": "./Test2/Dariush Talai/The Radif of Mirza Abdollah - Volume 4/27 Dastgah-e Mahur - Hazin.wav",
          "x": 2.974998950958252,
          "y": -5.560945987701416
         },
         {
          "color": 0,
          "filename": "./Test2/Ensemble Muhammad Bin Faris/The Sawt Of Bahrain/06 Ma Li-Ghusn Al-Dhahab.wav",
          "path": "./Test2/Ensemble Muhammad Bin Faris/The Sawt Of Bahrain/06 Ma Li-Ghusn Al-Dhahab.wav",
          "x": 5.682961940765381,
          "y": -4.8411149978637695
         },
         {
          "color": 4,
          "filename": "./Test2/Ali Jihad Racy/Mystical Legacies/08 Taqasim Hijaz.wav",
          "path": "./Test2/Ali Jihad Racy/Mystical Legacies/08 Taqasim Hijaz.wav",
          "x": 8.810942649841309,
          "y": 9.837874412536621
         },
         {
          "color": 4,
          "filename": "./Test2/Ali Jihad Racy/When The Rivers Met.._/01 Rivers.wav",
          "path": "./Test2/Ali Jihad Racy/When The Rivers Met.._/01 Rivers.wav",
          "x": 9.228714942932129,
          "y": 4.464134693145752
         },
         {
          "color": 2,
          "filename": "./Test2/Dariush Talai/The Radif of Mirza Abdollah - Volume 4/20 Dastgah-e Mahur - Neyriz.wav",
          "path": "./Test2/Dariush Talai/The Radif of Mirza Abdollah - Volume 4/20 Dastgah-e Mahur - Neyriz.wav",
          "x": -18.671524047851562,
          "y": -15.042654037475586
         },
         {
          "color": 0,
          "filename": "./Test2/Dariush Talai/The Radif of Mirza Abdollah - Volume 2/18 Avaz-e Bayat-e Eshfehan - Suz-o godaz.wav",
          "path": "./Test2/Dariush Talai/The Radif of Mirza Abdollah - Volume 2/18 Avaz-e Bayat-e Eshfehan - Suz-o godaz.wav",
          "x": 5.434600830078125,
          "y": 1.1725380420684814
         },
         {
          "color": 2,
          "filename": "./Test2/Dariush Talai/The Radif of Mirza Abdollah - Volume 3/19 Dastgah-e Nava - Neyriz.wav",
          "path": "./Test2/Dariush Talai/The Radif of Mirza Abdollah - Volume 3/19 Dastgah-e Nava - Neyriz.wav",
          "x": -13.189840316772461,
          "y": -6.587579250335693
         },
         {
          "color": 3,
          "filename": "./Test2/Dariush Talai/The Radif of Mirza Abdollah - Volume 1/10 Dastgah-e Shur - Salmak.wav",
          "path": "./Test2/Dariush Talai/The Radif of Mirza Abdollah - Volume 1/10 Dastgah-e Shur - Salmak.wav",
          "x": -12.402223587036133,
          "y": -20.107723236083984
         },
         {
          "color": 0,
          "filename": "./Test2/Dariush Talai/The Radif of Mirza Abdollah - Volume 2/10 Avaz-e Abu'ata - Hejaz.wav",
          "path": "./Test2/Dariush Talai/The Radif of Mirza Abdollah - Volume 2/10 Avaz-e Abu'ata - Hejaz.wav",
          "x": -2.5629642009735107,
          "y": 2.241011142730713
         },
         {
          "color": 0,
          "filename": "./Test2/Dariush Talai/The Radif of Mirza Abdollah - Volume 4/42 Avaz-e Bayat-e Tork - Daramad-e sevvom.wav",
          "path": "./Test2/Dariush Talai/The Radif of Mirza Abdollah - Volume 4/42 Avaz-e Bayat-e Tork - Daramad-e sevvom.wav",
          "x": 0.5870044231414795,
          "y": -5.0388078689575195
         },
         {
          "color": 3,
          "filename": "./Test2/Dariush Talai/The Radif of Mirza Abdollah - Volume 5/20 Dastgah-e Crgah - Mokhalef.wav",
          "path": "./Test2/Dariush Talai/The Radif of Mirza Abdollah - Volume 5/20 Dastgah-e Crgah - Mokhalef.wav",
          "x": -13.41369915008545,
          "y": -17.459627151489258
         },
         {
          "color": 0,
          "filename": "./Test2/Dariush Talai/The Radif of Mirza Abdollah - Volume 3/37 Dastgah-e Segah - Muyeh.wav",
          "path": "./Test2/Dariush Talai/The Radif of Mirza Abdollah - Volume 3/37 Dastgah-e Segah - Muyeh.wav",
          "x": -4.12791633605957,
          "y": -0.6209548115730286
         },
         {
          "color": 4,
          "filename": "./Test2/Ali Jihad Racy/Mystical Legacies/02 Taqasim & Sama'i Bayyati Al-Arayan.wav",
          "path": "./Test2/Ali Jihad Racy/Mystical Legacies/02 Taqasim & Sama'i Bayyati Al-Arayan.wav",
          "x": 8.69762897491455,
          "y": 7.100768089294434
         },
         {
          "color": 1,
          "filename": "./Test2/Cairokee/مطلوب زعيم Matloob Zaeem/03 مطلوب زعيم Matloob Zaeem.wav",
          "path": "./Test2/Cairokee/مطلوب زعيم Matloob Zaeem/03 مطلوب زعيم Matloob Zaeem.wav",
          "x": 22.980731964111328,
          "y": 13.477978706359863
         },
         {
          "color": 1,
          "filename": "./Test2/George Dimitri Sawa/Egyptian Music Appreciation and Practice for Bellydancers/1-08 Ah Ya Zein, in Malfuf Rhythm and Hijaz Mode (Featuring Michel Merhej Baklouk & Suzanne Meyers Sawa).wav",
          "path": "./Test2/George Dimitri Sawa/Egyptian Music Appreciation and Practice for Bellydancers/1-08 Ah Ya Zein, in Malfuf Rhythm and Hijaz Mode (Featuring Michel Merhej Baklouk & Suzanne Meyers Sawa).wav",
          "x": 18.157045364379883,
          "y": 13.86928653717041
         },
         {
          "color": 4,
          "filename": "./Test2/Ali Jihad Racy/When The Rivers Met.._/12 Embrace Of The Sea.wav",
          "path": "./Test2/Ali Jihad Racy/When The Rivers Met.._/12 Embrace Of The Sea.wav",
          "x": 15.379262924194336,
          "y": 6.709517478942871
         },
         {
          "color": 3,
          "filename": "./Test2/Dariush Talai/The Radif of Mirza Abdollah - Volume 2/41 Dastgah-e Homayun - Meygoli.wav",
          "path": "./Test2/Dariush Talai/The Radif of Mirza Abdollah - Volume 2/41 Dastgah-e Homayun - Meygoli.wav",
          "x": -4.855503559112549,
          "y": -11.97900390625
         },
         {
          "color": 4,
          "filename": "./Test2/Simon Shaheen/The Music of Mohamed Abdel Wahab/06 Bortuqal.wav",
          "path": "./Test2/Simon Shaheen/The Music of Mohamed Abdel Wahab/06 Bortuqal.wav",
          "x": 15.438817024230957,
          "y": 8.436405181884766
         },
         {
          "color": 2,
          "filename": "./Test2/Dariush Talai/The Radif of Mirza Abdollah - Volume 4/39 Avaz-e Bayat-e Tork - Daramad-e avval.wav",
          "path": "./Test2/Dariush Talai/The Radif of Mirza Abdollah - Volume 4/39 Avaz-e Bayat-e Tork - Daramad-e avval.wav",
          "x": -17.9000244140625,
          "y": -15.174381256103516
         },
         {
          "color": 2,
          "filename": "./Test2/Dariush Talai/The Radif of Mirza Abdollah - Volume 3/28 Dastgah-e Segah - Zabol.wav",
          "path": "./Test2/Dariush Talai/The Radif of Mirza Abdollah - Volume 3/28 Dastgah-e Segah - Zabol.wav",
          "x": -14.864376068115234,
          "y": -6.825528144836426
         },
         {
          "color": 0,
          "filename": "./Test2/Roubaiyat El Khayam/14 Wasla in Dugah_ Quatrains 58 and 182.wav",
          "path": "./Test2/Roubaiyat El Khayam/14 Wasla in Dugah_ Quatrains 58 and 182.wav",
          "x": -0.3947460353374481,
          "y": 3.090836524963379
         },
         {
          "color": 1,
          "filename": "./Test2/George Dimitri Sawa/Egyptian Music Appreciation and Practice for Bellydancers/1-30 Masmudi Kabir (8_4) [feat. Michel Merhej Baklouk & Suzanne Meyers Sawa].wav",
          "path": "./Test2/George Dimitri Sawa/Egyptian Music Appreciation and Practice for Bellydancers/1-30 Masmudi Kabir (8_4) [feat. Michel Merhej Baklouk & Suzanne Meyers Sawa].wav",
          "x": 13.366226196289062,
          "y": 20.575450897216797
         },
         {
          "color": 2,
          "filename": "./Test2/Dariush Talai/The Radif of Mirza Abdollah - Volume 5/45 Dastgah-e Rast-Panjgah - Bayat-e 'Ajam.wav",
          "path": "./Test2/Dariush Talai/The Radif of Mirza Abdollah - Volume 5/45 Dastgah-e Rast-Panjgah - Bayat-e 'Ajam.wav",
          "x": -20.90169906616211,
          "y": -7.731252193450928
         },
         {
          "color": 1,
          "filename": "./Test2/U-Cef/Halalium/12 Gnasaid.wav",
          "path": "./Test2/U-Cef/Halalium/12 Gnasaid.wav",
          "x": 26.818490982055664,
          "y": 20.985740661621094
         },
         {
          "color": 3,
          "filename": "./Test2/Dariush Talai/The Radif of Mirza Abdollah - Volume 2/04 Avaz-e Dashti - Hajiani.wav",
          "path": "./Test2/Dariush Talai/The Radif of Mirza Abdollah - Volume 2/04 Avaz-e Dashti - Hajiani.wav",
          "x": -10.457143783569336,
          "y": -13.397371292114258
         },
         {
          "color": 0,
          "filename": "./Test2/Dariush Talai/The Radif of Mirza Abdollah - Volume 1/28 Dastgah-e Shur - Qaracheh.wav",
          "path": "./Test2/Dariush Talai/The Radif of Mirza Abdollah - Volume 1/28 Dastgah-e Shur - Qaracheh.wav",
          "x": 7.801485538482666,
          "y": -3.6638455390930176
         },
         {
          "color": 1,
          "filename": "./Test2/George Dimitri Sawa/Egyptian Music Appreciation and Practice for Bellydancers/1-31 Hasan Ya Kholi eg-Genena, in Masmudi Kabir Rhythm and Nahawand Mode (Featuring Michel Merhej Baklouk & Suzanne Meyers Sawa).wav",
          "path": "./Test2/George Dimitri Sawa/Egyptian Music Appreciation and Practice for Bellydancers/1-31 Hasan Ya Kholi eg-Genena, in Masmudi Kabir Rhythm and Nahawand Mode (Featuring Michel Merhej Baklouk & Suzanne Meyers Sawa).wav",
          "x": 17.09880256652832,
          "y": 16.77581787109375
         },
         {
          "color": 1,
          "filename": "./Test2/George Dimitri Sawa/The Art of the Early Egyptian Qanun/09 Raqsa Suznak.wav",
          "path": "./Test2/George Dimitri Sawa/The Art of the Early Egyptian Qanun/09 Raqsa Suznak.wav",
          "x": 24.382841110229492,
          "y": 16.505016326904297
         },
         {
          "color": 0,
          "filename": "./Test2/Ali Jihad Racy/Mystical Legacies/06 Strumming Magic.wav",
          "path": "./Test2/Ali Jihad Racy/Mystical Legacies/06 Strumming Magic.wav",
          "x": -9.0028715133667,
          "y": 1.7853498458862305
         },
         {
          "color": 4,
          "filename": "./Test2/Abu Bakr Salem/3ini Tashouf/07 Salam.wav",
          "path": "./Test2/Abu Bakr Salem/3ini Tashouf/07 Salam.wav",
          "x": 18.152881622314453,
          "y": 9.847563743591309
         },
         {
          "color": 3,
          "filename": "./Test2/Dariush Talai/The Radif of Mirza Abdollah - Volume 3/36 Dastgah-e Segah - Hazin.wav",
          "path": "./Test2/Dariush Talai/The Radif of Mirza Abdollah - Volume 3/36 Dastgah-e Segah - Hazin.wav",
          "x": -3.7712464332580566,
          "y": -24.053937911987305
         },
         {
          "color": 2,
          "filename": "./Test2/Dariush Talai/The Radif of Mirza Abdollah - Volume 5/53 Dastgah-e Rast-Panjgah - Noruz-e 'Arab.wav",
          "path": "./Test2/Dariush Talai/The Radif of Mirza Abdollah - Volume 5/53 Dastgah-e Rast-Panjgah - Noruz-e 'Arab.wav",
          "x": -24.644031524658203,
          "y": -9.272576332092285
         },
         {
          "color": 1,
          "filename": "./Test2/George Dimitri Sawa/The Art of the Early Egyptian Qanun, Vol. 2/03 Sama'i Bayati Ebrahim El-'Eryan.wav",
          "path": "./Test2/George Dimitri Sawa/The Art of the Early Egyptian Qanun, Vol. 2/03 Sama'i Bayati Ebrahim El-'Eryan.wav",
          "x": 20.310211181640625,
          "y": 15.864752769470215
         },
         {
          "color": 2,
          "filename": "./Test2/Dariush Talai/The Radif of Mirza Abdollah - Volume 5/24 Dastgah-e Crgah - Naghmeh [2].wav",
          "path": "./Test2/Dariush Talai/The Radif of Mirza Abdollah - Volume 5/24 Dastgah-e Crgah - Naghmeh [2].wav",
          "x": -11.332714080810547,
          "y": -6.690243244171143
         },
         {
          "color": 3,
          "filename": "./Test2/Dariush Talai/The Radif of Mirza Abdollah - Volume 1/15 Dastgah-e Shur - Bozorg.wav",
          "path": "./Test2/Dariush Talai/The Radif of Mirza Abdollah - Volume 1/15 Dastgah-e Shur - Bozorg.wav",
          "x": -6.940848350524902,
          "y": -10.762869834899902
         },
         {
          "color": 1,
          "filename": "./Test2/George Dimitri Sawa/Egyptian Music Appreciation and Practice for Bellydancers/1-11 Valse (3_4) [feat. Michel Merhej Baklouk & Suzanne Meyers Sawa].wav",
          "path": "./Test2/George Dimitri Sawa/Egyptian Music Appreciation and Practice for Bellydancers/1-11 Valse (3_4) [feat. Michel Merhej Baklouk & Suzanne Meyers Sawa].wav",
          "x": 20.545578002929688,
          "y": 17.809362411499023
         },
         {
          "color": 0,
          "filename": "./Test2/Dariush Talai/The Radif of Mirza Abdollah - Volume 5/57 Dastgah-e Rast-Panjgah - Nafir.wav",
          "path": "./Test2/Dariush Talai/The Radif of Mirza Abdollah - Volume 5/57 Dastgah-e Rast-Panjgah - Nafir.wav",
          "x": -0.9913506507873535,
          "y": -3.304922103881836
         },
         {
          "color": 2,
          "filename": "./Test2/Dariush Talai/The Radif of Mirza Abdollah - Volume 3/02 Dastgah-e Nava - Daramad-e avval.wav",
          "path": "./Test2/Dariush Talai/The Radif of Mirza Abdollah - Volume 3/02 Dastgah-e Nava - Daramad-e avval.wav",
          "x": -23.62679672241211,
          "y": -9.221549987792969
         },
         {
          "color": 2,
          "filename": "./Test2/Dariush Talai/The Radif of Mirza Abdollah - Volume 3/17 Dastgah-e Nava - Hoseyn.wav",
          "path": "./Test2/Dariush Talai/The Radif of Mirza Abdollah - Volume 3/17 Dastgah-e Nava - Hoseyn.wav",
          "x": -21.941905975341797,
          "y": -8.799860954284668
         },
         {
          "color": 1,
          "filename": "./Test2/Abu Bakr Salem/Jalsat Thakrayat 2/07 Yaward.wav",
          "path": "./Test2/Abu Bakr Salem/Jalsat Thakrayat 2/07 Yaward.wav",
          "x": 20.426355361938477,
          "y": 14.122964859008789
         },
         {
          "color": 2,
          "filename": "./Test2/Dariush Talai/The Radif of Mirza Abdollah - Volume 4/25 Dastgah-e Mahur - Ashur-avand.wav",
          "path": "./Test2/Dariush Talai/The Radif of Mirza Abdollah - Volume 4/25 Dastgah-e Mahur - Ashur-avand.wav",
          "x": -21.20633316040039,
          "y": -13.134997367858887
         },
         {
          "color": 1,
          "filename": "./Test2/George Dimitri Sawa/The Art of the Early Egyptian Qanun, Vol. 2/08 Two Zeybeqli Syrian Dances.wav",
          "path": "./Test2/George Dimitri Sawa/The Art of the Early Egyptian Qanun, Vol. 2/08 Two Zeybeqli Syrian Dances.wav",
          "x": 22.18873405456543,
          "y": 18.52311134338379
         },
         {
          "color": 3,
          "filename": "./Test2/Dariush Talai/The Radif of Mirza Abdollah - Volume 5/41 Dastgah-e Rast-Panjgah - Panjgah.wav",
          "path": "./Test2/Dariush Talai/The Radif of Mirza Abdollah - Volume 5/41 Dastgah-e Rast-Panjgah - Panjgah.wav",
          "x": -12.835698127746582,
          "y": -21.186424255371094
         },
         {
          "color": 2,
          "filename": "./Test2/Dariush Talai/The Radif of Mirza Abdollah - Volume 3/42 Dastgah-e Segah - Reng-e Delgosha.wav",
          "path": "./Test2/Dariush Talai/The Radif of Mirza Abdollah - Volume 3/42 Dastgah-e Segah - Reng-e Delgosha.wav",
          "x": -22.790048599243164,
          "y": -16.643796920776367
         },
         {
          "color": 0,
          "filename": "./Test2/Yahya Al-Nunu, Muhammad Al-Khamisi, Muhammad 'ali Al Sudi_/Yemen. Yahya Al-Nunu. Le Chant Des Sanaa. Yemen. Yahya Al-Nunu. The Singing Of Sanaa_/05 Salli Ya Rabbi.wav",
          "path": "./Test2/Yahya Al-Nunu, Muhammad Al-Khamisi, Muhammad 'ali Al Sudi_/Yemen. Yahya Al-Nunu. Le Chant Des Sanaa. Yemen. Yahya Al-Nunu. The Singing Of Sanaa_/05 Salli Ya Rabbi.wav",
          "x": 8.140602111816406,
          "y": -4.041412830352783
         },
         {
          "color": 3,
          "filename": "./Test2/Dariush Talai/The Radif of Mirza Abdollah - Volume 4/46 Avaz-e Bayat-e Tork - Khosravani.wav",
          "path": "./Test2/Dariush Talai/The Radif of Mirza Abdollah - Volume 4/46 Avaz-e Bayat-e Tork - Khosravani.wav",
          "x": -7.285781383514404,
          "y": -12.443622589111328
         },
         {
          "color": 0,
          "filename": "./Test2/Dariush Talai/The Radif of Mirza Abdollah - Volume 1/35 Avaz-e Bayat-e Kord - Daramad-e avval.wav",
          "path": "./Test2/Dariush Talai/The Radif of Mirza Abdollah - Volume 1/35 Avaz-e Bayat-e Kord - Daramad-e avval.wav",
          "x": 7.749828338623047,
          "y": -3.4972217082977295
         },
         {
          "color": 1,
          "filename": "./Test2/ميريام فارسMyriam Fares /Aman/06 شو بحب.wav",
          "path": "./Test2/ميريام فارسMyriam Fares /Aman/06 شو بحب.wav",
          "x": 29.267274856567383,
          "y": 18.631433486938477
         },
         {
          "color": 3,
          "filename": "./Test2/Dariush Talai/The Radif of Mirza Abdollah - Volume 4/15 Dastgah-e Mahur - Feyli.wav",
          "path": "./Test2/Dariush Talai/The Radif of Mirza Abdollah - Volume 4/15 Dastgah-e Mahur - Feyli.wav",
          "x": -8.342622756958008,
          "y": -12.151274681091309
         },
         {
          "color": 2,
          "filename": "./Test2/Dariush Talai/The Radif of Mirza Abdollah - Volume 1/19 Dastgah-e Shur - Qajar.wav",
          "path": "./Test2/Dariush Talai/The Radif of Mirza Abdollah - Volume 1/19 Dastgah-e Shur - Qajar.wav",
          "x": -18.430517196655273,
          "y": -10.623871803283691
         },
         {
          "color": 2,
          "filename": "./Test2/Dariush Talai/The Radif of Mirza Abdollah - Volume 4/51 Avaz-e Bayat-e Tork - Jameh-daran.wav",
          "path": "./Test2/Dariush Talai/The Radif of Mirza Abdollah - Volume 4/51 Avaz-e Bayat-e Tork - Jameh-daran.wav",
          "x": -20.620845794677734,
          "y": -11.667962074279785
         },
         {
          "color": 2,
          "filename": "./Test2/Dariush Talai/The Radif of Mirza Abdollah - Volume 3/22 Dastgah-e Segah - Crmezrab.wav",
          "path": "./Test2/Dariush Talai/The Radif of Mirza Abdollah - Volume 3/22 Dastgah-e Segah - Crmezrab.wav",
          "x": -23.511796951293945,
          "y": -18.435009002685547
         },
         {
          "color": 1,
          "filename": "./Test2/George Dimitri Sawa/Egyptian Music Appreciation and Practice for Bellydancers/1-27 Zar Rhythm (4_4)[feat. Michel Merhej Baklouk & Suzanne Meyers Sawa].wav",
          "path": "./Test2/George Dimitri Sawa/Egyptian Music Appreciation and Practice for Bellydancers/1-27 Zar Rhythm (4_4)[feat. Michel Merhej Baklouk & Suzanne Meyers Sawa].wav",
          "x": 25.83563995361328,
          "y": 19.501667022705078
         },
         {
          "color": 3,
          "filename": "./Test2/Dariush Talai/The Radif of Mirza Abdollah - Volume 5/17 Dastgah-e Crgah - Chaharmezrab-e Hesar.wav",
          "path": "./Test2/Dariush Talai/The Radif of Mirza Abdollah - Volume 5/17 Dastgah-e Crgah - Chaharmezrab-e Hesar.wav",
          "x": -11.380264282226562,
          "y": -11.82313346862793
         },
         {
          "color": 1,
          "filename": "./Test2/George Dimitri Sawa/Egyptian Music Appreciation and Practice for Bellydancers/1-01 Dumm sound.wav",
          "path": "./Test2/George Dimitri Sawa/Egyptian Music Appreciation and Practice for Bellydancers/1-01 Dumm sound.wav",
          "x": 20.95848274230957,
          "y": 7.561032772064209
         },
         {
          "color": 4,
          "filename": "./Test2/Simon Shaheen/Saltanah/04 Mists - Rag Pahari_Maqam 'Ajam.wav",
          "path": "./Test2/Simon Shaheen/Saltanah/04 Mists - Rag Pahari_Maqam 'Ajam.wav",
          "x": 3.6548521518707275,
          "y": 5.244804382324219
         },
         {
          "color": 4,
          "filename": "./Test2/Simon Shaheen/The Music of Mohamed Abdel Wahab/07 Mudnaka.wav",
          "path": "./Test2/Simon Shaheen/The Music of Mohamed Abdel Wahab/07 Mudnaka.wav",
          "x": 7.116133213043213,
          "y": 6.066493511199951
         },
         {
          "color": 2,
          "filename": "./Test2/Dariush Talai/The Radif of Mirza Abdollah - Volume 1/14 Dastgah-e Shur - Safa.wav",
          "path": "./Test2/Dariush Talai/The Radif of Mirza Abdollah - Volume 1/14 Dastgah-e Shur - Safa.wav",
          "x": -27.706151962280273,
          "y": -5.619892597198486
         },
         {
          "color": 1,
          "filename": "./Test2/Simon Shaheen/The Music of Mohamed Abdel Wahab/05 Theme & Variations.wav",
          "path": "./Test2/Simon Shaheen/The Music of Mohamed Abdel Wahab/05 Theme & Variations.wav",
          "x": 20.392641067504883,
          "y": 11.61202621459961
         },
         {
          "color": 4,
          "filename": "./Test2/Yahya Al-Nunu, Muhammad Al-Khamisi, Muhammad 'ali Al Sudi_/Yemen. Yahya Al-Nunu. Le Chant Des Sanaa. Yemen. Yahya Al-Nunu. The Singing Of Sanaa_/03 Li Fi Ruba Hajer Ghuzayyel Alta.wav",
          "path": "./Test2/Yahya Al-Nunu, Muhammad Al-Khamisi, Muhammad 'ali Al Sudi_/Yemen. Yahya Al-Nunu. Le Chant Des Sanaa. Yemen. Yahya Al-Nunu. The Singing Of Sanaa_/03 Li Fi Ruba Hajer Ghuzayyel Alta.wav",
          "x": 7.191203594207764,
          "y": 2.2579190731048584
         },
         {
          "color": 1,
          "filename": "./Test2/George Dimitri Sawa/Egyptian Music Appreciation and Practice for Bellydancers/1-04 Ayyub el-Masri (2_4)[feat. Suzanne Meyers Sawa & Michel Merhej Baklouk].wav",
          "path": "./Test2/George Dimitri Sawa/Egyptian Music Appreciation and Practice for Bellydancers/1-04 Ayyub el-Masri (2_4)[feat. Suzanne Meyers Sawa & Michel Merhej Baklouk].wav",
          "x": 30.142637252807617,
          "y": 18.60628318786621
         },
         {
          "color": 1,
          "filename": "./Test2/George Dimitri Sawa/Egyptian Music Appreciation and Practice for Bellydancers/1-22 Free Rhythm Improvisation over Wahda Kabira Rhythm (Featuring Michel Merhej Baklouk & Suzanne Meyers Sawa).wav",
          "path": "./Test2/George Dimitri Sawa/Egyptian Music Appreciation and Practice for Bellydancers/1-22 Free Rhythm Improvisation over Wahda Kabira Rhythm (Featuring Michel Merhej Baklouk & Suzanne Meyers Sawa).wav",
          "x": 19.13687515258789,
          "y": 21.100988388061523
         },
         {
          "color": 3,
          "filename": "./Test2/Dariush Talai/The Radif of Mirza Abdollah - Volume 5/18 Dastgah-e Crgah - Pas Hesar.wav",
          "path": "./Test2/Dariush Talai/The Radif of Mirza Abdollah - Volume 5/18 Dastgah-e Crgah - Pas Hesar.wav",
          "x": -6.421825885772705,
          "y": -11.113971710205078
         },
         {
          "color": 0,
          "filename": "./Test2/Ensemble Muhammad Bin Faris/The Sawt Of Bahrain/05 Wabiruhi Min Al-Ghid.wav",
          "path": "./Test2/Ensemble Muhammad Bin Faris/The Sawt Of Bahrain/05 Wabiruhi Min Al-Ghid.wav",
          "x": 2.73801851272583,
          "y": 0.758168637752533
         },
         {
          "color": 2,
          "filename": "./Test2/Dariush Talai/The Radif of Mirza Abdollah - Volume 3/26 Dastgah-e Segah - Kereshmeh ba Muyeh.wav",
          "path": "./Test2/Dariush Talai/The Radif of Mirza Abdollah - Volume 3/26 Dastgah-e Segah - Kereshmeh ba Muyeh.wav",
          "x": -25.489757537841797,
          "y": -5.277453422546387
         },
         {
          "color": 4,
          "filename": "./Test2/Abu Bakr Salem/Haflat Dubai /03 Track 03.wav",
          "path": "./Test2/Abu Bakr Salem/Haflat Dubai /03 Track 03.wav",
          "x": 13.965286254882812,
          "y": 6.605027675628662
         },
         {
          "color": 4,
          "filename": "./Test2/Dariush Talai/The Radif of Mirza Abdollah - Volume 4/23 Dastgah-e Mahur - Nahib.wav",
          "path": "./Test2/Dariush Talai/The Radif of Mirza Abdollah - Volume 4/23 Dastgah-e Mahur - Nahib.wav",
          "x": 0.15480539202690125,
          "y": 8.55860710144043
         },
         {
          "color": 1,
          "filename": "./Test2/Cairokee/مطلوب زعيم Matloob Zaeem/07 أثبت مكانك Ethbat Makanak.wav",
          "path": "./Test2/Cairokee/مطلوب زعيم Matloob Zaeem/07 أثبت مكانك Ethbat Makanak.wav",
          "x": 27.686420440673828,
          "y": 17.928457260131836
         },
         {
          "color": 3,
          "filename": "./Test2/Dariush Talai/The Radif of Mirza Abdollah - Volume 3/40 Dastgah-e Segah - Shah khata'i.wav",
          "path": "./Test2/Dariush Talai/The Radif of Mirza Abdollah - Volume 3/40 Dastgah-e Segah - Shah khata'i.wav",
          "x": -10.73126220703125,
          "y": -12.309332847595215
         },
         {
          "color": 0,
          "filename": "./Test2/Dariush Talai/The Radif of Mirza Abdollah - Volume 1/27 Dastgah-e Shur - Moqaddameh-ye Qaracheh.wav",
          "path": "./Test2/Dariush Talai/The Radif of Mirza Abdollah - Volume 1/27 Dastgah-e Shur - Moqaddameh-ye Qaracheh.wav",
          "x": -4.864650249481201,
          "y": -4.090586185455322
         },
         {
          "color": 4,
          "filename": "./Test2/Simon Shaheen/The Music of Mohamed Abdel Wahab/03 Hanil Widd.wav",
          "path": "./Test2/Simon Shaheen/The Music of Mohamed Abdel Wahab/03 Hanil Widd.wav",
          "x": 13.305761337280273,
          "y": 7.637570381164551
         },
         {
          "color": 2,
          "filename": "./Test2/Dariush Talai/The Radif of Mirza Abdollah - Volume 5/19 Dastgah-e Crgah - Muyeh [2].wav",
          "path": "./Test2/Dariush Talai/The Radif of Mirza Abdollah - Volume 5/19 Dastgah-e Crgah - Muyeh [2].wav",
          "x": -21.110593795776367,
          "y": -6.061768531799316
         },
         {
          "color": 3,
          "filename": "./Test2/Dariush Talai/The Radif of Mirza Abdollah - Volume 4/19 Dastgah-e Mahur - Zir-afkand.wav",
          "path": "./Test2/Dariush Talai/The Radif of Mirza Abdollah - Volume 4/19 Dastgah-e Mahur - Zir-afkand.wav",
          "x": -5.090942859649658,
          "y": -24.312480926513672
         },
         {
          "color": 3,
          "filename": "./Test2/Dariush Talai/The Radif of Mirza Abdollah - Volume 2/29 Dastgah-e Homayun - Suz-o gozad.wav",
          "path": "./Test2/Dariush Talai/The Radif of Mirza Abdollah - Volume 2/29 Dastgah-e Homayun - Suz-o gozad.wav",
          "x": -10.217039108276367,
          "y": -22.75568962097168
         },
         {
          "color": 2,
          "filename": "./Test2/Dariush Talai/The Radif of Mirza Abdollah - Volume 5/49 Dastgah-e Rast-Panjgah - Tarz.wav",
          "path": "./Test2/Dariush Talai/The Radif of Mirza Abdollah - Volume 5/49 Dastgah-e Rast-Panjgah - Tarz.wav",
          "x": -23.97822380065918,
          "y": -5.886529445648193
         },
         {
          "color": 2,
          "filename": "./Test2/Dariush Talai/The Radif of Mirza Abdollah - Volume 3/05 Dastgah-e Nava - Gardunieh.wav",
          "path": "./Test2/Dariush Talai/The Radif of Mirza Abdollah - Volume 3/05 Dastgah-e Nava - Gardunieh.wav",
          "x": -25.965333938598633,
          "y": -6.6427812576293945
         },
         {
          "color": 2,
          "filename": "./Test2/Dariush Talai/The Radif of Mirza Abdollah - Volume 4/04 Dastgah-e Mahur - Moqaddameh-ye Dad.wav",
          "path": "./Test2/Dariush Talai/The Radif of Mirza Abdollah - Volume 4/04 Dastgah-e Mahur - Moqaddameh-ye Dad.wav",
          "x": -27.149497985839844,
          "y": -6.308148384094238
         },
         {
          "color": 4,
          "filename": "./Test2/Abady Al Johar/Ana A7bik/1-01 Untitled.wav",
          "path": "./Test2/Abady Al Johar/Ana A7bik/1-01 Untitled.wav",
          "x": 15.583178520202637,
          "y": 11.97470474243164
         },
         {
          "color": 1,
          "filename": "./Test2/Mesaed Al-Belushi/Masaed/09 Eshtaqt Ayouni.wav",
          "path": "./Test2/Mesaed Al-Belushi/Masaed/09 Eshtaqt Ayouni.wav",
          "x": 29.870798110961914,
          "y": 22.82601547241211
         },
         {
          "color": 1,
          "filename": "./Test2/Abady Al Johar/Ana We Oudi (via 6lal.com)/04 Hobbek Sema.wav",
          "path": "./Test2/Abady Al Johar/Ana We Oudi (via 6lal.com)/04 Hobbek Sema.wav",
          "x": 17.974197387695312,
          "y": 21.88458824157715
         },
         {
          "color": 3,
          "filename": "./Test2/Dariush Talai/The Radif of Mirza Abdollah - Volume 5/13 Dastgah-e Crgah - Hesar.wav",
          "path": "./Test2/Dariush Talai/The Radif of Mirza Abdollah - Volume 5/13 Dastgah-e Crgah - Hesar.wav",
          "x": -11.375102043151855,
          "y": -12.305020332336426
         },
         {
          "color": 0,
          "filename": "./Test2/Roubaiyat El Khayam/13 Wasla in Dugah_ Taqasim oud maqam Bayati Shuri.wav",
          "path": "./Test2/Roubaiyat El Khayam/13 Wasla in Dugah_ Taqasim oud maqam Bayati Shuri.wav",
          "x": 1.518511414527893,
          "y": 2.530759811401367
         },
         {
          "color": 0,
          "filename": "./Test2/Dariush Talai/The Radif of Mirza Abdollah - Volume 5/29 Dastgah-e Crgah - Mansuri.wav",
          "path": "./Test2/Dariush Talai/The Radif of Mirza Abdollah - Volume 5/29 Dastgah-e Crgah - Mansuri.wav",
          "x": 1.0559800863265991,
          "y": 0.8453032374382019
         },
         {
          "color": 1,
          "filename": "./Test2/George Dimitri Sawa/The Art of the Early Egyptian Qanun, Vol. 2/07 Peshrev Nihavent Kemani Mustafa.wav",
          "path": "./Test2/George Dimitri Sawa/The Art of the Early Egyptian Qanun, Vol. 2/07 Peshrev Nihavent Kemani Mustafa.wav",
          "x": 22.96547508239746,
          "y": 18.673912048339844
         },
         {
          "color": 3,
          "filename": "./Test2/Dariush Talai/The Radif of Mirza Abdollah - Volume 1/12 Dastgah-e Shur - Majles afruz.wav",
          "path": "./Test2/Dariush Talai/The Radif of Mirza Abdollah - Volume 1/12 Dastgah-e Shur - Majles afruz.wav",
          "x": -9.202805519104004,
          "y": -15.192361831665039
         },
         {
          "color": 0,
          "filename": "./Test2/Dariush Talai/The Radif of Mirza Abdollah - Volume 4/43 Avaz-e Bayat-e Tork - Haji Hasani.wav",
          "path": "./Test2/Dariush Talai/The Radif of Mirza Abdollah - Volume 4/43 Avaz-e Bayat-e Tork - Haji Hasani.wav",
          "x": 2.1882681846618652,
          "y": -6.56764030456543
         },
         {
          "color": 4,
          "filename": "./Test2/Ali Jihad Racy/When The Rivers Met.._/08 Revitalization.wav",
          "path": "./Test2/Ali Jihad Racy/When The Rivers Met.._/08 Revitalization.wav",
          "x": 7.410084247589111,
          "y": 3.1746397018432617
         },
         {
          "color": 2,
          "filename": "./Test2/Dariush Talai/The Radif of Mirza Abdollah - Volume 1/05 Dastgah-e Shur - Oj.wav",
          "path": "./Test2/Dariush Talai/The Radif of Mirza Abdollah - Volume 1/05 Dastgah-e Shur - Oj.wav",
          "x": -14.30001163482666,
          "y": -7.8030314445495605
         },
         {
          "color": 1,
          "filename": "./Test2/Mesaed Al-Belushi/Masaed/10 Waheshni.wav",
          "path": "./Test2/Mesaed Al-Belushi/Masaed/10 Waheshni.wav",
          "x": 30.148157119750977,
          "y": 21.02652359008789
         },
         {
          "color": 0,
          "filename": "./Test2/Dariush Talai/The Radif of Mirza Abdollah - Volume 1/33 Dastgah-e Shur - Reng-e Shahr-ashub.wav",
          "path": "./Test2/Dariush Talai/The Radif of Mirza Abdollah - Volume 1/33 Dastgah-e Shur - Reng-e Shahr-ashub.wav",
          "x": -0.89353346824646,
          "y": -10.456666946411133
         },
         {
          "color": 4,
          "filename": "./Test2/Abu Bakr Salem/Haflat Dubai /05 Track 05.wav",
          "path": "./Test2/Abu Bakr Salem/Haflat Dubai /05 Track 05.wav",
          "x": 9.129936218261719,
          "y": 4.909445762634277
         },
         {
          "color": 1,
          "filename": "./Test2/Simon Shaheen/The Music of Mohamed Abdel Wahab/02 Sittel Habayeb.wav",
          "path": "./Test2/Simon Shaheen/The Music of Mohamed Abdel Wahab/02 Sittel Habayeb.wav",
          "x": 18.809350967407227,
          "y": 21.99734115600586
         },
         {
          "color": 1,
          "filename": "./Test2/George Dimitri Sawa/Egyptian Music Appreciation and Practice for Bellydancers/1-21 Wahda Kabira (4_4)[feat. Michel Merhej Baklouk & Suzanne Meyers Sawa].wav",
          "path": "./Test2/George Dimitri Sawa/Egyptian Music Appreciation and Practice for Bellydancers/1-21 Wahda Kabira (4_4)[feat. Michel Merhej Baklouk & Suzanne Meyers Sawa].wav",
          "x": 14.596610069274902,
          "y": 18.449710845947266
         },
         {
          "color": 4,
          "filename": "./Test2/Roubaiyat El Khayam/16 Wasla in Dugah_ Quatrains 256 and 95.wav",
          "path": "./Test2/Roubaiyat El Khayam/16 Wasla in Dugah_ Quatrains 256 and 95.wav",
          "x": 11.90600299835205,
          "y": 4.875560760498047
         },
         {
          "color": 2,
          "filename": "./Test2/Dariush Talai/The Radif of Mirza Abdollah - Volume 3/44 Avaz-e Afshari - Basteh-negar.wav",
          "path": "./Test2/Dariush Talai/The Radif of Mirza Abdollah - Volume 3/44 Avaz-e Afshari - Basteh-negar.wav",
          "x": -10.899236679077148,
          "y": -7.688188076019287
         },
         {
          "color": 0,
          "filename": "./Test2/Dariush Talai/The Radif of Mirza Abdollah - Volume 5/32 Dastgah-e Crgah - Lezgi.wav",
          "path": "./Test2/Dariush Talai/The Radif of Mirza Abdollah - Volume 5/32 Dastgah-e Crgah - Lezgi.wav",
          "x": -3.458930730819702,
          "y": 0.8266535997390747
         },
         {
          "color": 2,
          "filename": "./Test2/Dariush Talai/The Radif of Mirza Abdollah - Volume 2/25 Dastgah-e Homayun - Bidad.wav",
          "path": "./Test2/Dariush Talai/The Radif of Mirza Abdollah - Volume 2/25 Dastgah-e Homayun - Bidad.wav",
          "x": -23.820268630981445,
          "y": -17.752965927124023
         },
         {
          "color": 0,
          "filename": "./Test2/Roubaiyat El Khayam/03 Waslah in Rahat al Arwah_ Quatrains 23, 46, 12 and 216.wav",
          "path": "./Test2/Roubaiyat El Khayam/03 Waslah in Rahat al Arwah_ Quatrains 23, 46, 12 and 216.wav",
          "x": -3.836895227432251,
          "y": -7.497404098510742
         }
        ]
       },
       "encoding": {
        "color": {
         "field": "color",
         "type": "nominal"
        },
        "href": {
         "field": "path",
         "type": "nominal"
        },
        "tooltip": [
         {
          "field": "filename",
          "type": "nominal"
         }
        ],
        "x": {
         "field": "x",
         "type": "quantitative"
        },
        "y": {
         "field": "y",
         "type": "quantitative"
        }
       },
       "mark": {
        "opacity": 0.6,
        "size": 60,
        "type": "circle"
       },
       "selection": {
        "selector003": {
         "bind": "scales",
         "encodings": [
          "x",
          "y"
         ],
         "type": "interval"
        }
       }
      },
      "image/png": "[encoded data removed]",
      "text/plain": [
       "<VegaLite 3 object>\n",
       "\n",
       "If you see this message, it means the renderer has not been properly enabled\n",
       "for the frontend that you are using. For more information, see\n",
       "https://altair-viz.github.io/user_guide/troubleshooting.html\n"
      ]
     },
     "execution_count": 7,
     "metadata": {},
     "output_type": "execute_result"
    }
   ],
   "source": [
    "# #File reading\n",
    "# all_dirs = []\n",
    "# for root, dirs, files in os.walk('./Test2'):\n",
    "#         for name in files:\n",
    "#             if '.wav' in name:\n",
    "#                 filedir = os.path.join(root, name)\n",
    "#                 all_dirs.append(filedir)\n",
    "\n",
    "# #Feature Computation\n",
    "# all_mel = []\n",
    "# file_names = []\n",
    "# file_no = len(all_dirs)\n",
    "# print(file_no)\n",
    "# for i in range(file_no):\n",
    "#     if (librosa.get_duration(filename=all_dirs[i]) > 13.):\n",
    "#         file_names.append(all_dirs[i])\n",
    "#         #Progress report\n",
    "#         if (i==file_no-1):\n",
    "#             print('100%')\n",
    "#         elif (i==int(file_no*0.75)):\n",
    "#             print('75%')\n",
    "#         elif (i==int(file_no*0.5)):\n",
    "#             print('50%')\n",
    "#         elif (i==int(file_no*0.25)):\n",
    "#             print('25%')\n",
    "#         #Load file\n",
    "#         y, sr = librosa.core.load(all_dirs[i], duration=13.)\n",
    "#         #Features\n",
    "#         mel = librosa.feature.melspectrogram(y=y, sr=sr)\n",
    "#         all_mel.append(mel.flatten()) #size (71680,)\n",
    "\n",
    "\n",
    "# X_train, X_test, y_train, y_test = train_test_split(np.asarray(all_mel), np.asarray(file_names), test_size=0.1, random_state=42)\n",
    "\n",
    "# #Autoencoder (71680, 2000, 100, 50, 100, 200, 71680)\n",
    "# input_mel = Input(shape=(71680,))\n",
    "# encoded = Dense(2000, activation='relu')(input_mel)\n",
    "# encoded = Dense(100, activation='relu')(encoded)\n",
    "# encoded = Dense(50, activation='relu')(encoded)\n",
    "# decoded = Dense(100, activation='relu')(encoded)\n",
    "# decoded = Dense(2000, activation='relu')(decoded)\n",
    "# decoded = Dense(71680, activation='relu')(decoded)\n",
    "\n",
    "# autoencoder = Model(input_mel, decoded)\n",
    "# encoder = Model(input_mel, encoded)\n",
    "# autoencoder.compile(optimizer='adadelta', loss='binary_crossentropy')\n",
    "# autoencoder.fit(X_train, X_train,\n",
    "#                 epochs=75,\n",
    "#                 batch_size=256,\n",
    "#                 shuffle=True,\n",
    "#                 validation_data=(X_test, X_test))\n",
    "\n",
    "# encoded_mel = encoder.predict(X_train)\n",
    "\n",
    "\n",
    "# #Standardization\n",
    "# scl1 = StandardScaler()\n",
    "# all_mel_scaled = scl1.fit_transform(encoded_mel)\n",
    "\n",
    "# #TSNE\n",
    "# all_mel_scaled_red2 = TSNE(n_components=2).fit_transform(all_mel_scaled)\n",
    "\n",
    "#KMeans\n",
    "kmeans = KMeans(n_clusters=5, random_state=0).fit(all_mel_scaled_red2)\n",
    "clusters = kmeans.predict(all_mel_scaled_red2)\n",
    "\n",
    "#x and y\n",
    "mel1 = []\n",
    "mel2 = []\n",
    "for i in range(len(all_mel_scaled_red2)):\n",
    "    mel1.append(all_mel_scaled_red2[i][0])\n",
    "    mel2.append(all_mel_scaled_red2[i][1])\n",
    "\n",
    "#Visualization\n",
    "df = pd.DataFrame({'x': np.asarray(mel1), 'y': np.asarray(mel2), 'color': clusters, 'path': np.asarray(y_train), 'filename': np.asarray(y_train)})\n",
    "alt.Chart(df).mark_circle(opacity=0.6, size=60).encode(x='x', y='y', color='color:N', href='path', tooltip=['filename']).interactive()\n"
   ]
  },
  {
   "cell_type": "code",
   "execution_count": null,
   "metadata": {},
   "outputs": [],
   "source": []
  }
 ],
 "metadata": {
  "kernelspec": {
   "display_name": "Python 3",
   "language": "python",
   "name": "python3"
  },
  "language_info": {
   "codemirror_mode": {
    "name": "ipython",
    "version": 3
   },
   "file_extension": ".py",
   "mimetype": "text/x-python",
   "name": "python",
   "nbconvert_exporter": "python",
   "pygments_lexer": "ipython3",
   "version": "3.7.1"
  }
 },
 "nbformat": 4,
 "nbformat_minor": 4
}
