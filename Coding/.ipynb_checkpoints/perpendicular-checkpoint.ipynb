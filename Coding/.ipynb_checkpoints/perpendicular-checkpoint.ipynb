{
 "cells": [
  {
   "cell_type": "code",
   "execution_count": 25,
   "metadata": {},
   "outputs": [
    {
     "name": "stdout",
     "output_type": "stream",
     "text": [
      "33\n",
      "1/33\n",
      "2/33\n",
      "3/33\n",
      "4/33\n",
      "5/33\n",
      "6/33\n",
      "7/33\n",
      "8/33\n",
      "9/33\n",
      "10/33\n",
      "11/33\n",
      "12/33\n",
      "13/33\n",
      "14/33\n",
      "15/33\n",
      "16/33\n",
      "17/33\n",
      "18/33\n",
      "19/33\n",
      "20/33\n",
      "21/33\n",
      "22/33\n",
      "23/33\n",
      "24/33\n",
      "25/33\n",
      "26/33\n",
      "27/33\n",
      "28/33\n",
      "29/33\n",
      "30/33\n",
      "31/33\n",
      "32/33\n",
      "33/33\n",
      "[-0.5695609367171041, 2.845254651421882, -0.30923512625526367, 0.5984127363026378, 1.3677141964715176, 1.5785072909748048, -0.3679625395697292, 0.4263209768778231, 0.6437833861260595, 0.3407736603819718, -0.24054019043310984, 0.8716542439560144, 1.0373097632264119, 1.2653050600489217, 0.28175220202314083, 0.6458505030751354, -0.21947624506650085, -0.9722310618579916, -0.14487126132476705, -2.3655812284130797, -1.1819258777706545, -1.0245494201127605, -0.3597682680347402, 0.016440692552385647, -0.610863680638969, 0.6633789483240013, -0.8950582466104334, -0.4405963838926828, -1.8023370464658348, 0.2093782711770869, -0.6208313013434565, -0.21029465848112122, -0.45615310995159625]\n",
      "           x         y color\n",
      "0  -0.574138  0.128206  mfcc\n",
      "1   0.680310  0.972539  mfcc\n",
      "2   1.003222  0.161683  mfcc\n",
      "3   0.171198 -0.080288  mfcc\n",
      "4   0.331518 -0.042038  mfcc\n",
      "5   0.284574  0.171228  mfcc\n",
      "6   0.940659 -0.079004  mfcc\n",
      "7   0.136747 -0.011419  mfcc\n",
      "8   1.277490 -0.079127  mfcc\n",
      "9   1.641737  0.049694  mfcc\n",
      "10  1.880537 -0.053817  mfcc\n",
      "11  0.668670 -0.183153  mfcc\n",
      "12  2.150428 -0.202918  mfcc\n",
      "13  1.929337  0.050792  mfcc\n",
      "14  0.687459 -0.300128  mfcc\n",
      "15  0.487814 -0.109142  mfcc\n",
      "16 -0.527145  0.024770  mfcc\n",
      "17 -0.891924 -0.044436  mfcc\n",
      "18 -1.366107  0.039318  mfcc\n",
      "19 -0.992410  0.037934  mfcc\n",
      "20 -1.357382  0.046576  mfcc\n",
      "21 -0.721955 -0.130974  mfcc\n",
      "22 -0.808547 -0.071514  mfcc\n",
      "23 -0.604922 -0.111993  mfcc\n",
      "24 -0.478161 -0.106188  mfcc\n",
      "25 -1.054465  0.059561  mfcc\n",
      "26 -0.861097  0.017304  mfcc\n",
      "27 -0.728596 -0.115529  mfcc\n",
      "28 -1.173354 -0.043952  mfcc\n",
      "29 -0.310887  0.044327  mfcc\n",
      "30 -0.977425  0.096837  mfcc\n",
      "31 -0.375482 -0.108436  mfcc\n",
      "32 -0.467702 -0.026712  mfcc\n",
      "           x         y   color\n",
      "0  -0.182020 -0.569561  chroma\n",
      "1  -0.002813  2.845255  chroma\n",
      "2   0.043318 -0.309235  chroma\n",
      "3  -0.075543  0.598413  chroma\n",
      "4  -0.052640  1.367714  chroma\n",
      "5  -0.059346  1.578507  chroma\n",
      "6   0.034380 -0.367963  chroma\n",
      "7  -0.080465  0.426321  chroma\n",
      "8   0.082499  0.643783  chroma\n",
      "9   0.134534  0.340774  chroma\n",
      "10  0.168648 -0.240540  chroma\n",
      "11 -0.004476  0.871654  chroma\n",
      "12  0.207204  1.037310  chroma\n",
      "13  0.175620  1.265305  chroma\n",
      "14 -0.001791  0.281752  chroma\n",
      "15 -0.030312  0.645851  chroma\n",
      "16 -0.175307 -0.219476  chroma\n",
      "17 -0.227417 -0.972231  chroma\n",
      "18 -0.295158 -0.144871  chroma\n",
      "19 -0.241773 -2.365581  chroma\n",
      "20 -0.293912 -1.181926  chroma\n",
      "21 -0.203136 -1.024549  chroma\n",
      "22 -0.215507 -0.359768  chroma\n",
      "23 -0.186417  0.016441  chroma\n",
      "24 -0.168309 -0.610864  chroma\n",
      "25 -0.250638  0.663379  chroma\n",
      "26 -0.223014 -0.895058  chroma\n",
      "27 -0.204085 -0.440596  chroma\n",
      "28 -0.267622 -1.802337  chroma\n",
      "29 -0.144413  0.209378  chroma\n",
      "30 -0.239632 -0.620831  chroma\n",
      "31 -0.153641 -0.210295  chroma\n",
      "32 -0.166815 -0.456153  chroma\n"
     ]
    },
    {
     "data": {
      "application/vnd.vegalite.v3+json": {
       "$schema": "https://vega.github.io/schema/vega-lite/v3.2.1.json",
       "config": {
        "mark": {
         "tooltip": null
        },
        "view": {
         "height": 300,
         "width": 400
        }
       },
       "datasets": {
        "data-0138966a9668001c07e67bdc689d7501": [
         {
          "color": "mfcc",
          "x": -0.5741375776185639,
          "y": 0.1282058102087865
         },
         {
          "color": "mfcc",
          "x": 0.6803096068371126,
          "y": 0.972539032035114
         },
         {
          "color": "mfcc",
          "x": 1.0032224474782452,
          "y": 0.16168260221570757
         },
         {
          "color": "mfcc",
          "x": 0.17119848093037163,
          "y": -0.08028810076470058
         },
         {
          "color": "mfcc",
          "x": 0.33151762786374855,
          "y": -0.04203756551752581
         },
         {
          "color": "mfcc",
          "x": 0.2845738556309763,
          "y": 0.17122756304821898
         },
         {
          "color": "mfcc",
          "x": 0.9406593433833985,
          "y": -0.07900413585914533
         },
         {
          "color": "mfcc",
          "x": 0.136746719718,
          "y": -0.011419168066941626
         },
         {
          "color": "mfcc",
          "x": 1.2774898125039393,
          "y": -0.07912696839191538
         },
         {
          "color": "mfcc",
          "x": 1.6417368593438384,
          "y": 0.04969436032559483
         },
         {
          "color": "mfcc",
          "x": 1.8805366066252707,
          "y": -0.053816625265985144
         },
         {
          "color": "mfcc",
          "x": 0.6686696283356309,
          "y": -0.18315326607225796
         },
         {
          "color": "mfcc",
          "x": 2.1504278061406925,
          "y": -0.20291813317712806
         },
         {
          "color": "mfcc",
          "x": 1.9293366370212273,
          "y": 0.05079162313866624
         },
         {
          "color": "mfcc",
          "x": 0.6874586598107066,
          "y": -0.30012837906485235
         },
         {
          "color": "mfcc",
          "x": 0.48781375340280775,
          "y": -0.10914213276217433
         },
         {
          "color": "mfcc",
          "x": -0.5271454860095718,
          "y": 0.024769972099995045
         },
         {
          "color": "mfcc",
          "x": -0.8919237397748289,
          "y": -0.04443567250050994
         },
         {
          "color": "mfcc",
          "x": -1.3661071664635127,
          "y": 0.03931792523800813
         },
         {
          "color": "mfcc",
          "x": -0.9924100037498867,
          "y": 0.037934322060269254
         },
         {
          "color": "mfcc",
          "x": -1.3573822484366498,
          "y": 0.04657629277161847
         },
         {
          "color": "mfcc",
          "x": -0.7219546353175628,
          "y": -0.13097407120792734
         },
         {
          "color": "mfcc",
          "x": -0.8085467515251725,
          "y": -0.07151373867693149
         },
         {
          "color": "mfcc",
          "x": -0.6049215080862946,
          "y": -0.11199326982968787
         },
         {
          "color": "mfcc",
          "x": -0.47816080405487854,
          "y": -0.10618801367877703
         },
         {
          "color": "mfcc",
          "x": -1.054465189992681,
          "y": 0.05956082126671917
         },
         {
          "color": "mfcc",
          "x": -0.861097166997974,
          "y": 0.017303842506218386
         },
         {
          "color": "mfcc",
          "x": -0.7285962855457364,
          "y": -0.1155294606986413
         },
         {
          "color": "mfcc",
          "x": -1.173354140349279,
          "y": -0.043951723256476186
         },
         {
          "color": "mfcc",
          "x": -0.31088657059793323,
          "y": 0.0443266050562388
         },
         {
          "color": "mfcc",
          "x": -0.977424679759614,
          "y": 0.09683728297402543
         },
         {
          "color": "mfcc",
          "x": -0.37548171742370784,
          "y": -0.10843568882692382
         },
         {
          "color": "mfcc",
          "x": -0.4677021733221182,
          "y": -0.026711941326679246
         }
        ],
        "data-9275fecff6e5532fcfde948d7a3ed8b2": [
         {
          "color": "chroma",
          "x": -0.18201983065026323,
          "y": -0.5695609367171041
         },
         {
          "color": "chroma",
          "x": -0.0028127892956153894,
          "y": 2.845254651421882
         },
         {
          "color": "chroma",
          "x": 0.04331752909718972,
          "y": -0.30923512625526367
         },
         {
          "color": "chroma",
          "x": -0.07554313338503946,
          "y": 0.5984127363026378
         },
         {
          "color": "chroma",
          "x": -0.052640279914745465,
          "y": 1.3677141964715176
         },
         {
          "color": "chroma",
          "x": -0.05934639430691298,
          "y": 1.5785072909748048
         },
         {
          "color": "chroma",
          "x": 0.034379919106657164,
          "y": -0.3679625395697292
         },
         {
          "color": "chroma",
          "x": -0.08046463335338744,
          "y": 0.4263209768778231
         },
         {
          "color": "chroma",
          "x": 0.0824986361309844,
          "y": 0.6437833861260595
         },
         {
          "color": "chroma",
          "x": 0.13453362135105096,
          "y": 0.3407736603819718
         },
         {
          "color": "chroma",
          "x": 0.16864780629185036,
          "y": -0.24054019043310984
         },
         {
          "color": "chroma",
          "x": -0.004475771904454279,
          "y": 0.8716542439560144
         },
         {
          "color": "chroma",
          "x": 0.20720401605946284,
          "y": 1.0373097632264119
         },
         {
          "color": "chroma",
          "x": 0.17561975081524858,
          "y": 1.2653050600489217
         },
         {
          "color": "chroma",
          "x": -0.0017913542150282402,
          "y": 0.28175220202314083
         },
         {
          "color": "chroma",
          "x": -0.030312494605682208,
          "y": 0.6458505030751354
         },
         {
          "color": "chroma",
          "x": -0.17530707897326542,
          "y": -0.21947624506650085
         },
         {
          "color": "chroma",
          "x": -0.22741744983884568,
          "y": -0.9722310618579916
         },
         {
          "color": "chroma",
          "x": -0.2951581508101544,
          "y": -0.14487126132476705
         },
         {
          "color": "chroma",
          "x": -0.24177307044387106,
          "y": -2.3655812284130797
         },
         {
          "color": "chroma",
          "x": -0.2939116493326619,
          "y": -1.1819258777706545
         },
         {
          "color": "chroma",
          "x": -0.20313574136293777,
          "y": -1.0245494201127605
         },
         {
          "color": "chroma",
          "x": -0.21550675433693406,
          "y": -0.3597682680347402
         },
         {
          "color": "chroma",
          "x": -0.18641712165855018,
          "y": 0.016440692552385647
         },
         {
          "color": "chroma",
          "x": -0.16830855066206707,
          "y": -0.610863680638969
         },
         {
          "color": "chroma",
          "x": -0.2506379842127956,
          "y": 0.6633789483240013
         },
         {
          "color": "chroma",
          "x": -0.22301363404423374,
          "y": -0.8950582466104334
         },
         {
          "color": "chroma",
          "x": -0.20408532022840903,
          "y": -0.4405963838926828
         },
         {
          "color": "chroma",
          "x": -0.26762206446536696,
          "y": -1.8023370464658348
         },
         {
          "color": "chroma",
          "x": -0.14441258530550713,
          "y": 0.2093782711770869
         },
         {
          "color": "chroma",
          "x": -0.23963201124890793,
          "y": -0.6208313013434565
         },
         {
          "color": "chroma",
          "x": -0.15364070648522193,
          "y": -0.21029465848112122
         },
         {
          "color": "chroma",
          "x": -0.1668147238115858,
          "y": -0.45615310995159625
         }
        ]
       },
       "layer": [
        {
         "data": {
          "name": "data-0138966a9668001c07e67bdc689d7501"
         },
         "encoding": {
          "color": {
           "field": "color",
           "type": "nominal"
          },
          "x": {
           "field": "x",
           "type": "quantitative"
          },
          "y": {
           "field": "y",
           "type": "quantitative"
          }
         },
         "mark": {
          "opacity": 0.6,
          "size": 60,
          "type": "circle"
         },
         "selection": {
          "selector027": {
           "bind": "scales",
           "encodings": [
            "x",
            "y"
           ],
           "type": "interval"
          }
         }
        },
        {
         "data": {
          "name": "data-9275fecff6e5532fcfde948d7a3ed8b2"
         },
         "encoding": {
          "color": {
           "field": "color",
           "type": "nominal"
          },
          "x": {
           "field": "x",
           "type": "quantitative"
          },
          "y": {
           "field": "y",
           "type": "quantitative"
          }
         },
         "mark": {
          "opacity": 0.6,
          "size": 60,
          "type": "circle"
         },
         "selection": {
          "selector028": {
           "bind": "scales",
           "encodings": [
            "x",
            "y"
           ],
           "type": "interval"
          }
         }
        }
       ]
      },
      "image/png": "[encoded data removed]",
      "text/plain": [
       "<VegaLite 3 object>\n",
       "\n",
       "If you see this message, it means the renderer has not been properly enabled\n",
       "for the frontend that you are using. For more information, see\n",
       "https://altair-viz.github.io/user_guide/troubleshooting.html\n"
      ]
     },
     "execution_count": 25,
     "metadata": {},
     "output_type": "execute_result"
    }
   ],
   "source": [
    "%matplotlib inline\n",
    "import glob\n",
    "import numpy as np\n",
    "import librosa\n",
    "import os\n",
    "from sklearn.preprocessing import StandardScaler\n",
    "from sklearn.manifold import TSNE\n",
    "from sklearn.cluster import KMeans\n",
    "from sklearn.decomposition import PCA\n",
    "import pandas as pd\n",
    "import vega\n",
    "import altair as alt\n",
    "import pandas as pd\n",
    "import scipy.signal\n",
    "import scipy.fftpack as fft\n",
    "import matplotlib.pyplot as plt\n",
    "from mpl_toolkits.mplot3d import Axes3D\n",
    "\n",
    "\n",
    "#File reading\n",
    "all_dirs = []\n",
    "for root, dirs, files in os.walk('./Test'):\n",
    "        for name in files:\n",
    "            if '.wav' in name:\n",
    "                filedir = os.path.join(root, name)\n",
    "                all_dirs.append(filedir)\n",
    "\n",
    "all_chroma = []\n",
    "all_mfcc = []\n",
    "file_no = len(all_dirs)\n",
    "print(file_no)\n",
    "for i in range(file_no):\n",
    "    print(str(i+1) + '/' + str(file_no))\n",
    "    #Load file\n",
    "    y, sr = librosa.core.load(all_dirs[i])\n",
    "    #Features\n",
    "    mfcc = librosa.feature.mfcc(y=y, sr=sr)\n",
    "    chroma = librosa.feature.chroma_cqt(y=y, sr=sr, n_chroma=48, n_octaves=7)\n",
    "    all_mfcc.append(mfcc.flatten())\n",
    "    all_chroma.append(chroma.flatten())\n",
    "\n",
    "#Shift mffcs to positive values\n",
    "#min = np.amin(all_mfcc)\n",
    "#all_mfcc = all_mfcc + min\n",
    "\n",
    "#Standardization\n",
    "scl1 = StandardScaler()\n",
    "all_mfcc_scaled = scl1.fit_transform(all_mfcc)\n",
    "scl2 = StandardScaler()\n",
    "all_chroma_scaled = scl2.fit_transform(all_chroma)\n",
    "\n",
    "#Principal Component Analysis\n",
    "\n",
    "#MFCC2\n",
    "pca_mfcc2 = PCA(n_components=2).fit_transform(all_mfcc_scaled)\n",
    "scl3 = StandardScaler()\n",
    "pca_mfcc2 = scl3.fit_transform(pca_mfcc2)\n",
    "pca_mfcc2x = []\n",
    "pca_mfcc2y = []\n",
    "for i in range(pca_mfcc2.shape[0]):\n",
    "    pca_mfcc2x.append(pca_mfcc2[i][0])\n",
    "for i in range(all_mfcc_scaled.shape[0]):\n",
    "    pca_mfcc2y.append(pca_mfcc2[i][1])\n",
    "\n",
    "#MFCC1\n",
    "pca_mfcc = PCA(n_components=1).fit_transform(all_mfcc_scaled)\n",
    "scl4 = StandardScaler()\n",
    "pca_mfcc = scl4.fit_transform(pca_mfcc)\n",
    "pca_mfcc1 = []\n",
    "for i in range(pca_mfcc.shape[0]):\n",
    "    pca_mfcc1.append(pca_mfcc[i][0])\n",
    "\n",
    "#CHROMA1\n",
    "pca_chroma = PCA(n_components=1).fit_transform(all_chroma_scaled)\n",
    "scl5 = StandardScaler()\n",
    "pca_chroma = scl5.fit_transform(pca_chroma)\n",
    "pca_chroma1 = []\n",
    "for i in range(pca_chroma.shape[0]):\n",
    "    pca_chroma1.append(pca_chroma[i][0])\n",
    "\n",
    "#Dimensionality reduction\n",
    "#all_mfcc_scaled_red = TSNE(n_components=1, perplexity = 10.0).fit_transform(all_mfcc_scaled)\n",
    "#all_chroma_scaled_red = TSNE(n_components=1, perplexity = 10.0).fit_transform(all_chroma_scaled)\n",
    "#print('Computation complete.')\n",
    "\n",
    "\n",
    "#Creating dataframe\n",
    "#x = []\n",
    "#y = []\n",
    "#z = []\n",
    "# for i in range(len(all_mfcc_scaled_red2)):\n",
    "#     x.append(all_mfcc_scaled_red2[i][0])\n",
    "# for i in range(len(all_mfcc_scaled_red2)):\n",
    "#     y.append(all_mfcc_scaled_red2[i][1])\n",
    "# for i in range(len(all_chroma_scaled_red1)):\n",
    "#     z.append(all_mfcc_scaled_red2[i][0])\n",
    "print(pca_chroma1)\n",
    "\n",
    "feature1 = []\n",
    "feature2 = []\n",
    "for i in range(len(pca_mfcc2x)):\n",
    "    feature1.append('mfcc')\n",
    "for i in range(len(pca_mfcc1)):\n",
    "    feature2.append('chroma')\n",
    "    \n",
    "df1 = pd.DataFrame({'x': np.asarray(pca_mfcc2x), 'y': np.asarray(pca_mfcc2y)/5, 'color': np.asarray(feature1)})\n",
    "df2 = pd.DataFrame({'x': ((np.asarray(pca_mfcc1)/7)-0.1), 'y': np.asarray(pca_chroma1), 'color': np.asarray(feature2)})\n",
    "print(df1)\n",
    "print(df2)\n",
    "\n",
    "viz1 = alt.Chart(df1).mark_circle(opacity=0.6, size=60).encode(x='x', y='y', color='color:N').interactive()\n",
    "#.configure_mark(opacity=0.5, color='cyan').interactive()\n",
    "viz2 = alt.Chart(df2).mark_circle(opacity=0.6, size=60).encode(x='x', y='y', color='color:N').interactive()\n",
    "#.configure_mark(opacity=0.5, color='magenta').interactive()\n",
    "viz1+viz2\n",
    "#x=alt.X('x:Q', title='MFCC1'),\n",
    "#y=alt.Y('y:Q', title='MFCC2'),\n",
    "#z=alt.Z('z:Q', title='CHROMA')).add_selection(brush)\n",
    "#alt.condition(brush, 'location:N', alt.value('grey')),\n",
    "#     tooltip=['filename', 'location', 'ethnic_group', 'original_format', 'recorded_from_date', 'recording_context', ],\n",
    "#     href='local_path'\n",
    "\n",
    "#plt.scatter(np.asarray(pca_mfcc2x), np.asarray(pca_mfcc2y)/3, c='c', alpha=0.5)\n",
    "#plt.scatter(np.asarray(pca_mfcc1)/8, np.asarray(pca_chroma1), c='m', alpha=0.5)\n",
    "#plt.show()\n"
   ]
  },
  {
   "cell_type": "code",
   "execution_count": null,
   "metadata": {},
   "outputs": [],
   "source": []
  }
 ],
 "metadata": {
  "kernelspec": {
   "display_name": "Python 3",
   "language": "python",
   "name": "python3"
  },
  "language_info": {
   "codemirror_mode": {
    "name": "ipython",
    "version": 3
   },
   "file_extension": ".py",
   "mimetype": "text/x-python",
   "name": "python",
   "nbconvert_exporter": "python",
   "pygments_lexer": "ipython3",
   "version": "3.7.1"
  }
 },
 "nbformat": 4,
 "nbformat_minor": 4
}
