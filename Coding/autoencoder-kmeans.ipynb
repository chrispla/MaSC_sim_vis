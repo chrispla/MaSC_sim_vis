{
 "cells": [
  {
   "cell_type": "code",
   "execution_count": 2,
   "metadata": {},
   "outputs": [
    {
     "name": "stderr",
     "output_type": "stream",
     "text": [
      "Using TensorFlow backend.\n"
     ]
    }
   ],
   "source": [
    "import glob\n",
    "import numpy as np\n",
    "import librosa\n",
    "import os\n",
    "from sklearn.preprocessing import StandardScaler\n",
    "from sklearn.manifold import TSNE\n",
    "from sklearn.cluster import KMeans\n",
    "from sklearn.model_selection import train_test_split\n",
    "import pandas as pd\n",
    "import vega\n",
    "import altair as alt\n",
    "import pandas as pd\n",
    "import scipy.signal\n",
    "import scipy.fftpack as fft\n",
    "from keras.layers import Input, Dense\n",
    "from keras.models import Model"
   ]
  },
  {
   "cell_type": "code",
   "execution_count": 1,
   "metadata": {},
   "outputs": [
    {
     "ename": "NameError",
     "evalue": "name 'os' is not defined",
     "output_type": "error",
     "traceback": [
      "\u001b[0;31m---------------------------------------------------------------------------\u001b[0m",
      "\u001b[0;31mNameError\u001b[0m                                 Traceback (most recent call last)",
      "\u001b[0;32m<ipython-input-1-1d2ff1abedcb>\u001b[0m in \u001b[0;36m<module>\u001b[0;34m\u001b[0m\n\u001b[1;32m      1\u001b[0m \u001b[0;31m#File reading\u001b[0m\u001b[0;34m\u001b[0m\u001b[0;34m\u001b[0m\u001b[0;34m\u001b[0m\u001b[0m\n\u001b[1;32m      2\u001b[0m \u001b[0mall_dirs\u001b[0m \u001b[0;34m=\u001b[0m \u001b[0;34m[\u001b[0m\u001b[0;34m]\u001b[0m\u001b[0;34m\u001b[0m\u001b[0;34m\u001b[0m\u001b[0m\n\u001b[0;32m----> 3\u001b[0;31m \u001b[0;32mfor\u001b[0m \u001b[0mroot\u001b[0m\u001b[0;34m,\u001b[0m \u001b[0mdirs\u001b[0m\u001b[0;34m,\u001b[0m \u001b[0mfiles\u001b[0m \u001b[0;32min\u001b[0m \u001b[0mos\u001b[0m\u001b[0;34m.\u001b[0m\u001b[0mwalk\u001b[0m\u001b[0;34m(\u001b[0m\u001b[0;34m'./Test2'\u001b[0m\u001b[0;34m)\u001b[0m\u001b[0;34m:\u001b[0m\u001b[0;34m\u001b[0m\u001b[0;34m\u001b[0m\u001b[0m\n\u001b[0m\u001b[1;32m      4\u001b[0m         \u001b[0;32mfor\u001b[0m \u001b[0mname\u001b[0m \u001b[0;32min\u001b[0m \u001b[0mfiles\u001b[0m\u001b[0;34m:\u001b[0m\u001b[0;34m\u001b[0m\u001b[0;34m\u001b[0m\u001b[0m\n\u001b[1;32m      5\u001b[0m             \u001b[0;32mif\u001b[0m \u001b[0;34m'.wav'\u001b[0m \u001b[0;32min\u001b[0m \u001b[0mname\u001b[0m\u001b[0;34m:\u001b[0m\u001b[0;34m\u001b[0m\u001b[0;34m\u001b[0m\u001b[0m\n",
      "\u001b[0;31mNameError\u001b[0m: name 'os' is not defined"
     ]
    }
   ],
   "source": [
    "#File reading\n",
    "all_dirs = []\n",
    "for root, dirs, files in os.walk('./Test2'):\n",
    "        for name in files:\n",
    "            if '.wav' in name:\n",
    "                filedir = os.path.join(root, name)\n",
    "                all_dirs.append(filedir)\n",
    "\n",
    "#Feature Computation\n",
    "#all_mel = []\n",
    "file_names = []\n",
    "file_no = len(all_dirs)\n",
    "print(file_no)\n",
    "for i in range(file_no):\n",
    "    if (librosa.get_duration(filename=all_dirs[i]) > 13.):\n",
    "        file_names.append('file:///Users/apple/Google%20Drive/Work%20and%20Research/MaSC%20Research/Coding' + str(all_dirs[i])[1:])\n",
    "#         #Progress report\n",
    "#         if (i==file_no-1):\n",
    "#             print('100%')\n",
    "#         elif (i==int(file_no*0.75)):\n",
    "#             print('75%')\n",
    "#         elif (i==int(file_no*0.5)):\n",
    "#             print('50%')\n",
    "#         elif (i==int(file_no*0.25)):\n",
    "#             print('25%')\n",
    "#         #Load file\n",
    "#         y, sr = librosa.core.load(all_dirs[i], duration=13.)\n",
    "#         #Features\n",
    "#         mel = librosa.feature.melspectrogram(y=y, sr=sr)\n",
    "#         all_mel.append(mel.flatten()) #size (71680,)\n",
    "\n",
    "\n",
    "# X_train, X_test, y_train, y_test = train_test_split(np.asarray(all_mel), np.asarray(file_names), test_size=0.1, random_state=42)\n",
    "\n",
    "# #Autoencoder (71680, 2000, 100, 50, 100, 200, 71680)\n",
    "# input_mel = Input(shape=(71680,))\n",
    "# encoded = Dense(2000, activation='relu')(input_mel)\n",
    "# encoded = Dense(100, activation='relu')(encoded)\n",
    "# encoded = Dense(50, activation='relu')(encoded)\n",
    "# decoded = Dense(100, activation='relu')(encoded)\n",
    "# decoded = Dense(2000, activation='relu')(decoded)\n",
    "# decoded = Dense(71680, activation='relu')(decoded)\n",
    "\n",
    "# autoencoder = Model(input_mel, decoded)\n",
    "# encoder = Model(input_mel, encoded)\n",
    "# autoencoder.compile(optimizer='adadelta', loss='binary_crossentropy')\n",
    "# autoencoder.fit(X_train, X_train,\n",
    "#                 epochs=75,\n",
    "#                 batch_size=256,\n",
    "#                 shuffle=True,\n",
    "#                 validation_data=(X_test, X_test))\n",
    "\n",
    "# encoded_mel = encoder.predict(X_train)\n",
    "\n",
    "\n",
    "# #Standardization\n",
    "# scl1 = StandardScaler()\n",
    "# all_mel_scaled = scl1.fit_transform(encoded_mel)\n",
    "\n",
    "# #TSNE\n",
    "# all_mel_scaled_red2 = TSNE(n_components=2).fit_transform(all_mel_scaled)\n",
    "\n",
    "#KMeans\n",
    "kmeans = KMeans(n_clusters=5, random_state=0).fit(all_mel_scaled_red2)\n",
    "clusters = kmeans.predict(all_mel_scaled_red2)\n",
    "\n",
    "#x and y\n",
    "mel1 = []\n",
    "mel2 = []\n",
    "for i in range(len(all_mel_scaled_red2)):\n",
    "    mel1.append(all_mel_scaled_red2[i][0])\n",
    "    mel2.append(all_mel_scaled_red2[i][1])\n",
    "\n",
    "#Visualization\n",
    "df = pd.DataFrame({'x': np.asarray(mel1), 'y': np.asarray(mel2), 'color': clusters, 'path': np.asarray(y_train), 'filename': np.asarray(y_train)})\n",
    "alt.Chart(df).mark_circle(opacity=0.6, size=60).encode(x='x', y='y', color='color:N', href='path', tooltip=['filename']).interactive()\n"
   ]
  },
  {
   "cell_type": "code",
   "execution_count": null,
   "metadata": {},
   "outputs": [],
   "source": []
  }
 ],
 "metadata": {
  "kernelspec": {
   "display_name": "Python 3",
   "language": "python",
   "name": "python3"
  },
  "language_info": {
   "codemirror_mode": {
    "name": "ipython",
    "version": 3
   },
   "file_extension": ".py",
   "mimetype": "text/x-python",
   "name": "python",
   "nbconvert_exporter": "python",
   "pygments_lexer": "ipython3",
   "version": "3.7.1"
  }
 },
 "nbformat": 4,
 "nbformat_minor": 4
}
