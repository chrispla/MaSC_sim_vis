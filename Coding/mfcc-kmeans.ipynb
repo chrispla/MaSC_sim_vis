{
 "cells": [
  {
   "source": [
    "# 2D t-SNE for MFCC\n",
    "### from 15sec-from-the-middle audio dataset\n",
    "\n",
    "#### Visualization using vega and altair\n",
    "\n",
    "pip install vega\n",
    "\n",
    "pip install altair vega_datasets"
   ],
   "cell_type": "markdown",
   "metadata": {}
  },
  {
   "source": [
    "### Importing"
   ],
   "cell_type": "markdown",
   "metadata": {}
  },
  {
   "cell_type": "code",
   "execution_count": null,
   "metadata": {},
   "outputs": [],
   "source": [
    "%matplotlib inline\n",
    "import glob\n",
    "import numpy as np\n",
    "import librosa\n",
    "import os\n",
    "from sklearn.preprocessing import StandardScaler\n",
    "from sklearn.manifold import TSNE\n",
    "from sklearn.cluster import KMeans\n",
    "from sklearn.decomposition import PCA\n",
    "import pandas as pd\n",
    "import vega\n",
    "import altair as alt\n",
    "import pandas as pd\n",
    "import scipy.signal\n",
    "import scipy.fftpack as fft\n",
    "import matplotlib.pyplot as plt\n",
    "from mpl_toolkits.mplot3d import Axes3D"
   ]
  },
  {
   "source": [
    "### Read audio files"
   ],
   "cell_type": "markdown",
   "metadata": {}
  },
  {
   "cell_type": "code",
   "execution_count": null,
   "metadata": {},
   "outputs": [],
   "source": [
    "#File reading\n",
    "all_dirs = []\n",
    "for root, dirs, files in os.walk('./Dataset'): #change directory here\n",
    "        for name in files:\n",
    "            if '.wav' in name:\n",
    "                filedir = os.path.join(root, name)\n",
    "                all_dirs.append(filedir)\n",
    "file_no = len(all_dirs)"
   ]
  },
  {
   "source": [
    "### Compute MFCC"
   ],
   "cell_type": "markdown",
   "metadata": {}
  },
  {
   "cell_type": "code",
   "execution_count": null,
   "metadata": {},
   "outputs": [],
   "source": [
    "#Feature Computation\n",
    "all_mfcc = []\n",
    "file_names = []\n",
    "all_mean = []\n",
    "print(file_no)\n",
    "for i in range(file_no):\n",
    "    if (librosa.get_duration(filename=all_dirs[i]) == 15.):\n",
    "        file_names.append(all_dirs[i])\n",
    "        \n",
    "        #Load file\n",
    "        y, sr = librosa.core.load(all_dirs[i], duration=15.)\n",
    "        #Features\n",
    "        mfcc = librosa.feature.mfcc(y=y, sr=sr, n_mfcc=13)\n",
    "        all_mfcc.append(mfcc.flatten())\n",
    "        \n",
    "        S = librosa.core.stft(y=y)\n",
    "        S_db = librosa.core.power_to_db(np.abs(S)**2)\n",
    "        all_mean.append(np.mean(S_db))\n",
    "\n",
    "    sys.stdout.write(\"\\rLoading %i recordings.\" % (i))\n",
    "    sys.stdout.flush()\n",
    "\n",
    "#Standardization\n",
    "scl1 = StandardScaler()\n",
    "all_mfcc_scaled = scl1.fit_transform(all_mfcc)"
   ]
  },
  {
   "source": [
    "### t-SNE"
   ],
   "cell_type": "markdown",
   "metadata": {}
  },
  {
   "cell_type": "code",
   "execution_count": null,
   "metadata": {},
   "outputs": [],
   "source": [
    "#TSNE\n",
    "all_mfcc_scaled_red2 = TSNE(n_components=2).fit_transform(all_mfcc_scaled)"
   ]
  },
  {
   "source": [
    "### Kmeans"
   ],
   "cell_type": "markdown",
   "metadata": {}
  },
  {
   "cell_type": "code",
   "execution_count": null,
   "metadata": {},
   "outputs": [],
   "source": [
    "#KMeans\n",
    "kmeans = KMeans(n_clusters=7, random_state=None).fit(all_mfcc_scaled_red2) #change number of clusters here\n",
    "clusters = kmeans.predict(all_mfcc_scaled_red2)"
   ]
  },
  {
   "source": [
    "### Collection labels"
   ],
   "cell_type": "markdown",
   "metadata": {}
  },
  {
   "cell_type": "code",
   "execution_count": null,
   "metadata": {},
   "outputs": [],
   "source": [
    "#Collection-based\n",
    "collection = []\n",
    "for i in range(len(file_names)):\n",
    "    if 'ArabMashriq' in file_names[i]:\n",
    "        collection.append(0)\n",
    "    elif 'EisenbergCollection' in file_names[i]:\n",
    "        collection.append(1)\n",
    "        \n",
    "#x and y\n",
    "mfcc1 = []\n",
    "mfcc2 = []\n",
    "for i in range(len(all_mfcc_scaled_red2)):\n",
    "    mfcc1.append(all_mfcc_scaled_red2[i][0])\n",
    "    mfcc2.append(all_mfcc_scaled_red2[i][1])"
   ]
  },
  {
   "source": [
    "### Visualization"
   ],
   "cell_type": "markdown",
   "metadata": {}
  },
  {
   "cell_type": "code",
   "execution_count": null,
   "metadata": {},
   "outputs": [],
   "source": [
    "#Visualization\n",
    "df1 = pd.DataFrame({'x': mfcc1, 'y': mfcc2, 'color': clusters, 'path': np.asarray(file_names), 'filename': np.asarray(file_names)})\n",
    "chart1 = alt.Chart(df1).mark_circle(opacity=0.6, size=50).encode(x='x', y='y', color='color:N', href='path', tooltip=['filename']).interactive()\n",
    "\n",
    "df2 = pd.DataFrame({'x': mfcc1, 'y': mfcc2, 'color': np.asarray(all_mean), 'path': np.asarray(file_names), 'filename': np.asarray(file_names)})\n",
    "chart2 = alt.Chart(df2).mark_circle(opacity=0.6, size=50).encode(x='x', y='y', color='color:Q', href='path', tooltip=['filename']).interactive()\n",
    "\n",
    "df3 = pd.DataFrame({'x': mfcc1, 'y': mfcc2, 'color': clusters, 'path': np.asarray(file_names), 'filename': np.asarray(file_names)})\n",
    "chart3 = alt.Chart(df3).mark_circle(size=80).encode(x='x', y='y', color='color:N', href='path', tooltip=['filename']).interactive()\n",
    "df4 = pd.DataFrame({'x': mfcc1, 'y': mfcc2, 'color': np.asarray(all_mean), 'path': np.asarray(file_names), 'filename': np.asarray(file_names)})\n",
    "chart4 = alt.Chart(df4).mark_circle(size=30).encode(x='x', y='y', color='color:Q', href='path', tooltip=['filename']).interactive()\n",
    "\n",
    "#Collections\n",
    "df5 = pd.DataFrame({'x': mfcc1, 'y': mfcc2, 'color': collection, 'path': np.asarray(file_names), 'filename': np.asarray(file_names)})\n",
    "chart5 = alt.Chart(df5).mark_circle(opacity=0.6, size=50).encode(x='x', y='y', color='color:N', href='path', tooltip=['filename']).interactive()\n",
    "\n",
    "display(chart1)\n",
    "display(chart2)\n",
    "display(chart3 + chart4)\n",
    "display(chart5)"
   ]
  }
 ],
 "metadata": {
  "kernelspec": {
   "display_name": "Python 3",
   "language": "python",
   "name": "python3"
  },
  "language_info": {
   "codemirror_mode": {
    "name": "ipython",
    "version": 3
   },
   "file_extension": ".py",
   "mimetype": "text/x-python",
   "name": "python",
   "nbconvert_exporter": "python",
   "pygments_lexer": "ipython3",
   "version": "3.7.1"
  }
 },
 "nbformat": 4,
 "nbformat_minor": 4
}