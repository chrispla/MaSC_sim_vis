{
 "cells": [
  {
   "source": [
    "# Chroma and Tempogram Visualization\n",
    "Computing Chroma and Tempogram, reducing each to a single dimension using t-SNE, and plotting each at one axis while controlling their spread. Script for StartAD demo visualization, traversing similarity at two different, independent axes."
   ],
   "cell_type": "markdown",
   "metadata": {}
  },
  {
   "source": [
    "### Importing"
   ],
   "cell_type": "markdown",
   "metadata": {}
  },
  {
   "cell_type": "code",
   "execution_count": 2,
   "metadata": {},
   "outputs": [],
   "source": [
    "%matplotlib inline\n",
    "import glob\n",
    "import numpy as np\n",
    "import librosa\n",
    "import os\n",
    "from sklearn.preprocessing import StandardScaler\n",
    "from sklearn.manifold import TSNE\n",
    "from sklearn.cluster import KMeans\n",
    "from sklearn.decomposition import PCA\n",
    "import pandas as pd\n",
    "import vega\n",
    "import altair as alt\n",
    "import pandas as pd\n",
    "import scipy.signal\n",
    "import scipy.fftpack as fft\n",
    "import matplotlib.pyplot as plt\n",
    "from mpl_toolkits.mplot3d import Axes3D"
   ]
  },
  {
   "source": [
    "### Read audio paths"
   ],
   "cell_type": "markdown",
   "metadata": {}
  },
  {
   "cell_type": "code",
   "execution_count": 4,
   "metadata": {},
   "outputs": [
    {
     "data": {
      "application/vnd.vegalite.v3+json": {
       "$schema": "https://vega.github.io/schema/vega-lite/v3.2.1.json",
       "config": {
        "mark": {
         "tooltip": null
        },
        "view": {
         "height": 300,
         "width": 400
        }
       },
       "data": {
        "name": "data-cf0d3a5cbeb87752e611c02911124784"
       },
       "datasets": {
        "data-cf0d3a5cbeb87752e611c02911124784": [
         {
          "color": 0,
          "filename": "./Test2/U-Cef/Halalium/01 The Moorish Matador.wav",
          "path": "./Test2/U-Cef/Halalium/01 The Moorish Matador.wav",
          "x": -7.39827299118042,
          "y": -1.031295657157898
         },
         {
          "color": 1,
          "filename": "./Test2/U-Cef/Halalium/06 Halal Monk.wav",
          "path": "./Test2/U-Cef/Halalium/06 Halal Monk.wav",
          "x": 11.13853645324707,
          "y": -9.329294204711914
         },
         {
          "color": 0,
          "filename": "./Test2/U-Cef/Halalium/12 Gnasaid.wav",
          "path": "./Test2/U-Cef/Halalium/12 Gnasaid.wav",
          "x": -7.090093612670898,
          "y": 4.883525371551514
         },
         {
          "color": 4,
          "filename": "./Test2/U-Cef/Halalium/09 DJ Faisal On The 1 'n' 2.wav",
          "path": "./Test2/U-Cef/Halalium/09 DJ Faisal On The 1 'n' 2.wav",
          "x": 4.513006210327148,
          "y": 9.469267845153809
         },
         {
          "color": 4,
          "filename": "./Test2/U-Cef/Halalium/03 Tagazoot.wav",
          "path": "./Test2/U-Cef/Halalium/03 Tagazoot.wav",
          "x": 7.842647075653076,
          "y": 13.369817733764648
         },
         {
          "color": 3,
          "filename": "./Test2/U-Cef/Halalium/04 Hijra.wav",
          "path": "./Test2/U-Cef/Halalium/04 Hijra.wav",
          "x": -6.968663692474365,
          "y": 7.2724080085754395
         },
         {
          "color": 3,
          "filename": "./Test2/U-Cef/Halalium/10 Maghreb (Ça passe ou ça kasse).wav",
          "path": "./Test2/U-Cef/Halalium/10 Maghreb (Ça passe ou ça kasse).wav",
          "x": -5.410059452056885,
          "y": 10.3253173828125
         },
         {
          "color": 0,
          "filename": "./Test2/U-Cef/Halalium/11 Sonic Moor.wav",
          "path": "./Test2/U-Cef/Halalium/11 Sonic Moor.wav",
          "x": -4.777235984802246,
          "y": -1.157741665840149
         },
         {
          "color": 4,
          "filename": "./Test2/U-Cef/Halalium/02 Aalash Kwawna.wav",
          "path": "./Test2/U-Cef/Halalium/02 Aalash Kwawna.wav",
          "x": 4.976639270782471,
          "y": 5.53377103805542
         },
         {
          "color": 2,
          "filename": "./Test2/U-Cef/Halalium/07 Marrakech Raggamuffins.wav",
          "path": "./Test2/U-Cef/Halalium/07 Marrakech Raggamuffins.wav",
          "x": -10.471911430358887,
          "y": -11.819134712219238
         },
         {
          "color": 1,
          "filename": "./Test2/U-Cef/Halalium/08 Bouhala.wav",
          "path": "./Test2/U-Cef/Halalium/08 Bouhala.wav",
          "x": 5.062681198120117,
          "y": -5.36680269241333
         },
         {
          "color": 0,
          "filename": "./Test2/U-Cef/Halalium/05 Gazel Fatma.wav",
          "path": "./Test2/U-Cef/Halalium/05 Gazel Fatma.wav",
          "x": -7.6252217292785645,
          "y": -1.0926271677017212
         },
         {
          "color": 2,
          "filename": "./Test2/Abu Bakr Salem/Jalsat Thakrayat 2/02 Ant Waink.wav",
          "path": "./Test2/Abu Bakr Salem/Jalsat Thakrayat 2/02 Ant Waink.wav",
          "x": -5.234463691711426,
          "y": -6.728222370147705
         },
         {
          "color": 3,
          "filename": "./Test2/Abu Bakr Salem/Jalsat Thakrayat 2/01 La Tithakrny Bu Shai.wav",
          "path": "./Test2/Abu Bakr Salem/Jalsat Thakrayat 2/01 La Tithakrny Bu Shai.wav",
          "x": -5.787781238555908,
          "y": 15.503562927246094
         },
         {
          "color": 2,
          "filename": "./Test2/Abu Bakr Salem/Jalsat Thakrayat 2/07 Yaward.wav",
          "path": "./Test2/Abu Bakr Salem/Jalsat Thakrayat 2/07 Yaward.wav",
          "x": -8.571666717529297,
          "y": -11.122448921203613
         },
         {
          "color": 0,
          "filename": "./Test2/Abu Bakr Salem/Jalsat Thakrayat 2/04 Kamarisha.wav",
          "path": "./Test2/Abu Bakr Salem/Jalsat Thakrayat 2/04 Kamarisha.wav",
          "x": -0.974919319152832,
          "y": 1.214425802230835
         },
         {
          "color": 4,
          "filename": "./Test2/Abu Bakr Salem/Jalsat Thakrayat 2/05 Wa Wiah Nafsei.wav",
          "path": "./Test2/Abu Bakr Salem/Jalsat Thakrayat 2/05 Wa Wiah Nafsei.wav",
          "x": 7.343913555145264,
          "y": 7.990135192871094
         },
         {
          "color": 3,
          "filename": "./Test2/Abu Bakr Salem/Jalsat Thakrayat 2/06 Ya Ayn.wav",
          "path": "./Test2/Abu Bakr Salem/Jalsat Thakrayat 2/06 Ya Ayn.wav",
          "x": -4.913185119628906,
          "y": 14.287753105163574
         },
         {
          "color": 0,
          "filename": "./Test2/Abu Bakr Salem/Jalsat Thakrayat 2/03 Aseel Walah Aseel.wav",
          "path": "./Test2/Abu Bakr Salem/Jalsat Thakrayat 2/03 Aseel Walah Aseel.wav",
          "x": -5.8335185050964355,
          "y": 0.4956357777118683
         },
         {
          "color": 0,
          "filename": "./Test2/Abu Bakr Salem/Haflat Dubai /04 Track 04.wav",
          "path": "./Test2/Abu Bakr Salem/Haflat Dubai /04 Track 04.wav",
          "x": -7.186737537384033,
          "y": 0.39906805753707886
         },
         {
          "color": 2,
          "filename": "./Test2/Abu Bakr Salem/Haflat Dubai /02 Track 02.wav",
          "path": "./Test2/Abu Bakr Salem/Haflat Dubai /02 Track 02.wav",
          "x": -7.105902194976807,
          "y": -13.50890827178955
         },
         {
          "color": 2,
          "filename": "./Test2/Abu Bakr Salem/Haflat Dubai /05 Track 05.wav",
          "path": "./Test2/Abu Bakr Salem/Haflat Dubai /05 Track 05.wav",
          "x": -6.128846168518066,
          "y": -6.189268112182617
         },
         {
          "color": 2,
          "filename": "./Test2/Abu Bakr Salem/Haflat Dubai /03 Track 03.wav",
          "path": "./Test2/Abu Bakr Salem/Haflat Dubai /03 Track 03.wav",
          "x": -6.887726783752441,
          "y": -8.22634220123291
         },
         {
          "color": 2,
          "filename": "./Test2/Abu Bakr Salem/Haflat Dubai /01 Track 01.wav",
          "path": "./Test2/Abu Bakr Salem/Haflat Dubai /01 Track 01.wav",
          "x": -6.988420009613037,
          "y": -15.292033195495605
         },
         {
          "color": 0,
          "filename": "./Test2/Abu Bakr Salem/Haflat Dubai /07 Track 07.wav",
          "path": "./Test2/Abu Bakr Salem/Haflat Dubai /07 Track 07.wav",
          "x": -6.917132377624512,
          "y": 5.201303482055664
         },
         {
          "color": 2,
          "filename": "./Test2/Abu Bakr Salem/Haflat Dubai /06 Track 06.wav",
          "path": "./Test2/Abu Bakr Salem/Haflat Dubai /06 Track 06.wav",
          "x": -6.980576038360596,
          "y": -10.775798797607422
         },
         {
          "color": 2,
          "filename": "./Test2/Abu Bakr Salem/Haflat Al-Dowha/01 Tasafina.wav",
          "path": "./Test2/Abu Bakr Salem/Haflat Al-Dowha/01 Tasafina.wav",
          "x": -7.022172451019287,
          "y": -12.952997207641602
         },
         {
          "color": 2,
          "filename": "./Test2/Abu Bakr Salem/Haflat Al-Dowha/05 Al-Sidq wal-Kadhib.wav",
          "path": "./Test2/Abu Bakr Salem/Haflat Al-Dowha/05 Al-Sidq wal-Kadhib.wav",
          "x": -6.8648762702941895,
          "y": -14.05300235748291
         },
         {
          "color": 2,
          "filename": "./Test2/Abu Bakr Salem/Haflat Al-Dowha/06 Ramsh Aynah.wav",
          "path": "./Test2/Abu Bakr Salem/Haflat Al-Dowha/06 Ramsh Aynah.wav",
          "x": -2.5363099575042725,
          "y": -12.72378921508789
         },
         {
          "color": 2,
          "filename": "./Test2/Abu Bakr Salem/Haflat Al-Dowha/02 Dha Ali Hasl.wav",
          "path": "./Test2/Abu Bakr Salem/Haflat Al-Dowha/02 Dha Ali Hasl.wav",
          "x": -6.723756313323975,
          "y": -13.20431137084961
         },
         {
          "color": 2,
          "filename": "./Test2/Abu Bakr Salem/Haflat Al-Dowha/03 Ali Tayyibah.wav",
          "path": "./Test2/Abu Bakr Salem/Haflat Al-Dowha/03 Ali Tayyibah.wav",
          "x": -5.096096515655518,
          "y": -13.093156814575195
         },
         {
          "color": 2,
          "filename": "./Test2/Abu Bakr Salem/Haflat Al-Dowha/07 Kama al-Rayshah.wav",
          "path": "./Test2/Abu Bakr Salem/Haflat Al-Dowha/07 Kama al-Rayshah.wav",
          "x": -7.148854732513428,
          "y": -12.679078102111816
         },
         {
          "color": 1,
          "filename": "./Test2/Abu Bakr Salem/Haflat Al-Dowha/04 Yaqul Innani.wav",
          "path": "./Test2/Abu Bakr Salem/Haflat Al-Dowha/04 Yaqul Innani.wav",
          "x": 7.679827690124512,
          "y": -11.472298622131348
         },
         {
          "color": 0,
          "filename": "./Test2/Abu Bakr Salem/3ini Tashouf/04 T3allana.wav",
          "path": "./Test2/Abu Bakr Salem/3ini Tashouf/04 T3allana.wav",
          "x": -5.815442085266113,
          "y": 0.01970336027443409
         },
         {
          "color": 0,
          "filename": "./Test2/Abu Bakr Salem/3ini Tashouf/01 Qalbi Muwal3.wav",
          "path": "./Test2/Abu Bakr Salem/3ini Tashouf/01 Qalbi Muwal3.wav",
          "x": -8.182868003845215,
          "y": 0.5619325041770935
         },
         {
          "color": 0,
          "filename": "./Test2/Abu Bakr Salem/3ini Tashouf/07 Salam.wav",
          "path": "./Test2/Abu Bakr Salem/3ini Tashouf/07 Salam.wav",
          "x": -6.386747360229492,
          "y": 1.2641358375549316
         },
         {
          "color": 0,
          "filename": "./Test2/Abu Bakr Salem/3ini Tashouf/03 Ya Nasim asahar.wav",
          "path": "./Test2/Abu Bakr Salem/3ini Tashouf/03 Ya Nasim asahar.wav",
          "x": -3.0649912357330322,
          "y": -0.20213046669960022
         },
         {
          "color": 1,
          "filename": "./Test2/Abu Bakr Salem/3ini Tashouf/05 illi Kana Amsi.wav",
          "path": "./Test2/Abu Bakr Salem/3ini Tashouf/05 illi Kana Amsi.wav",
          "x": 7.496311187744141,
          "y": 0.060554247349500656
         },
         {
          "color": 0,
          "filename": "./Test2/Abu Bakr Salem/3ini Tashouf/06 Aqul ayha.wav",
          "path": "./Test2/Abu Bakr Salem/3ini Tashouf/06 Aqul ayha.wav",
          "x": 1.9478700160980225,
          "y": -0.5881831645965576
         },
         {
          "color": 2,
          "filename": "./Test2/Abu Bakr Salem/3ini Tashouf/02 3ini Tashouf.wav",
          "path": "./Test2/Abu Bakr Salem/3ini Tashouf/02 3ini Tashouf.wav",
          "x": 0.9430510401725769,
          "y": -15.615007400512695
         },
         {
          "color": 2,
          "filename": "./Test2/Abu Bakr Salem/3ini Tashouf/08 Liali Yamila.wav",
          "path": "./Test2/Abu Bakr Salem/3ini Tashouf/08 Liali Yamila.wav",
          "x": -6.714657783508301,
          "y": -15.115419387817383
         },
         {
          "color": 2,
          "filename": "./Test2/Tom Chant/Cloister/03 What About Seven.wav",
          "path": "./Test2/Tom Chant/Cloister/03 What About Seven.wav",
          "x": -7.167925834655762,
          "y": -14.334290504455566
         },
         {
          "color": 1,
          "filename": "./Test2/Tom Chant/Cloister/02 Four Sputnik.wav",
          "path": "./Test2/Tom Chant/Cloister/02 Four Sputnik.wav",
          "x": 4.769331455230713,
          "y": -15.192103385925293
         },
         {
          "color": 0,
          "filename": "./Test2/Tom Chant/Cloister/01 Us Three.wav",
          "path": "./Test2/Tom Chant/Cloister/01 Us Three.wav",
          "x": -7.402685642242432,
          "y": 2.706815242767334
         },
         {
          "color": 0,
          "filename": "./Test2/George Dimitri Sawa/Egyptian Music Appreciation and Practice for Bellydancers/1-08 Ah Ya Zein, in Malfuf Rhythm and Hijaz Mode (Featuring Michel Merhej Baklouk & Suzanne Meyers Sawa).wav",
          "path": "./Test2/George Dimitri Sawa/Egyptian Music Appreciation and Practice for Bellydancers/1-08 Ah Ya Zein, in Malfuf Rhythm and Hijaz Mode (Featuring Michel Merhej Baklouk & Suzanne Meyers Sawa).wav",
          "x": -2.259817123413086,
          "y": -4.766160011291504
         },
         {
          "color": 4,
          "filename": "./Test2/George Dimitri Sawa/Egyptian Music Appreciation and Practice for Bellydancers/1-25 Sai'di (4_4)[feat. Michel Merhej Baklouk & Suzanne Meyers Sawa].wav",
          "path": "./Test2/George Dimitri Sawa/Egyptian Music Appreciation and Practice for Bellydancers/1-25 Sai'di (4_4)[feat. Michel Merhej Baklouk & Suzanne Meyers Sawa].wav",
          "x": 4.472287654876709,
          "y": 13.232665061950684
         },
         {
          "color": 3,
          "filename": "./Test2/George Dimitri Sawa/Egyptian Music Appreciation and Practice for Bellydancers/1-32 Chifte Telli (8_4)[feat. Michel Merhej Baklouk & Suzanne Meyers Sawa].wav",
          "path": "./Test2/George Dimitri Sawa/Egyptian Music Appreciation and Practice for Bellydancers/1-32 Chifte Telli (8_4)[feat. Michel Merhej Baklouk & Suzanne Meyers Sawa].wav",
          "x": -2.4312901496887207,
          "y": 13.210729598999023
         },
         {
          "color": 3,
          "filename": "./Test2/George Dimitri Sawa/Egyptian Music Appreciation and Practice for Bellydancers/1-29 Etmakhtari Ya Helwa, in Zaffa Rhythm and Bayati Mode (Featuring Michel Merhej Baklouk & Suzanne Meyers Sawa).wav",
          "path": "./Test2/George Dimitri Sawa/Egyptian Music Appreciation and Practice for Bellydancers/1-29 Etmakhtari Ya Helwa, in Zaffa Rhythm and Bayati Mode (Featuring Michel Merhej Baklouk & Suzanne Meyers Sawa).wav",
          "x": -1.3976969718933105,
          "y": 8.175410270690918
         },
         {
          "color": 0,
          "filename": "./Test2/George Dimitri Sawa/Egyptian Music Appreciation and Practice for Bellydancers/1-12 Layali el-Andalus, in Valse Rhythm and Kurd Mode (Featuring Michel Merhej Baklouk & Suzanne Meyers Sawa).wav",
          "path": "./Test2/George Dimitri Sawa/Egyptian Music Appreciation and Practice for Bellydancers/1-12 Layali el-Andalus, in Valse Rhythm and Kurd Mode (Featuring Michel Merhej Baklouk & Suzanne Meyers Sawa).wav",
          "x": -2.3986411094665527,
          "y": -3.9116644859313965
         },
         {
          "color": 4,
          "filename": "./Test2/George Dimitri Sawa/Egyptian Music Appreciation and Practice for Bellydancers/1-22 Free Rhythm Improvisation over Wahda Kabira Rhythm (Featuring Michel Merhej Baklouk & Suzanne Meyers Sawa).wav",
          "path": "./Test2/George Dimitri Sawa/Egyptian Music Appreciation and Practice for Bellydancers/1-22 Free Rhythm Improvisation over Wahda Kabira Rhythm (Featuring Michel Merhej Baklouk & Suzanne Meyers Sawa).wav",
          "x": 4.529048442840576,
          "y": 6.002926349639893
         },
         {
          "color": 3,
          "filename": "./Test2/George Dimitri Sawa/Egyptian Music Appreciation and Practice for Bellydancers/1-31 Hasan Ya Kholi eg-Genena, in Masmudi Kabir Rhythm and Nahawand Mode (Featuring Michel Merhej Baklouk & Suzanne Meyers Sawa).wav",
          "path": "./Test2/George Dimitri Sawa/Egyptian Music Appreciation and Practice for Bellydancers/1-31 Hasan Ya Kholi eg-Genena, in Masmudi Kabir Rhythm and Nahawand Mode (Featuring Michel Merhej Baklouk & Suzanne Meyers Sawa).wav",
          "x": -2.335388422012329,
          "y": 11.79793930053711
         },
         {
          "color": 4,
          "filename": "./Test2/George Dimitri Sawa/Egyptian Music Appreciation and Practice for Bellydancers/1-01 Dumm sound.wav",
          "path": "./Test2/George Dimitri Sawa/Egyptian Music Appreciation and Practice for Bellydancers/1-01 Dumm sound.wav",
          "x": 7.985882759094238,
          "y": 13.67798137664795
         },
         {
          "color": 0,
          "filename": "./Test2/George Dimitri Sawa/Egyptian Music Appreciation and Practice for Bellydancers/1-17 El-Bulbul, in Masmudi Saghir Rhythm and Hijaz Mode (Featuring Michel Merhej Baklouk & Suzanne Meyers Sawa).wav",
          "path": "./Test2/George Dimitri Sawa/Egyptian Music Appreciation and Practice for Bellydancers/1-17 El-Bulbul, in Masmudi Saghir Rhythm and Hijaz Mode (Featuring Michel Merhej Baklouk & Suzanne Meyers Sawa).wav",
          "x": -2.3327739238739014,
          "y": -1.8112738132476807
         },
         {
          "color": 3,
          "filename": "./Test2/George Dimitri Sawa/Egyptian Music Appreciation and Practice for Bellydancers/1-11 Valse (3_4) [feat. Michel Merhej Baklouk & Suzanne Meyers Sawa].wav",
          "path": "./Test2/George Dimitri Sawa/Egyptian Music Appreciation and Practice for Bellydancers/1-11 Valse (3_4) [feat. Michel Merhej Baklouk & Suzanne Meyers Sawa].wav",
          "x": -2.3182003498077393,
          "y": 14.904787063598633
         },
         {
          "color": 3,
          "filename": "./Test2/George Dimitri Sawa/Egyptian Music Appreciation and Practice for Bellydancers/1-30 Masmudi Kabir (8_4) [feat. Michel Merhej Baklouk & Suzanne Meyers Sawa].wav",
          "path": "./Test2/George Dimitri Sawa/Egyptian Music Appreciation and Practice for Bellydancers/1-30 Masmudi Kabir (8_4) [feat. Michel Merhej Baklouk & Suzanne Meyers Sawa].wav",
          "x": -2.3233838081359863,
          "y": 14.257824897766113
         },
         {
          "color": 4,
          "filename": "./Test2/George Dimitri Sawa/Egyptian Music Appreciation and Practice for Bellydancers/1-27 Zar Rhythm (4_4)[feat. Michel Merhej Baklouk & Suzanne Meyers Sawa].wav",
          "path": "./Test2/George Dimitri Sawa/Egyptian Music Appreciation and Practice for Bellydancers/1-27 Zar Rhythm (4_4)[feat. Michel Merhej Baklouk & Suzanne Meyers Sawa].wav",
          "x": 10.435561180114746,
          "y": 14.193243026733398
         },
         {
          "color": 3,
          "filename": "./Test2/George Dimitri Sawa/Egyptian Music Appreciation and Practice for Bellydancers/1-24 Shami, in Fallahi Rhythm and Rast Mode (Featuring Michel Merhej Baklouk & Suzanne Meyers Sawa).wav",
          "path": "./Test2/George Dimitri Sawa/Egyptian Music Appreciation and Practice for Bellydancers/1-24 Shami, in Fallahi Rhythm and Rast Mode (Featuring Michel Merhej Baklouk & Suzanne Meyers Sawa).wav",
          "x": -2.3244030475616455,
          "y": 12.183879852294922
         },
         {
          "color": 3,
          "filename": "./Test2/George Dimitri Sawa/Egyptian Music Appreciation and Practice for Bellydancers/1-07 Malfuf (2_4) [feat. Michel Merhej Baklouk].wav",
          "path": "./Test2/George Dimitri Sawa/Egyptian Music Appreciation and Practice for Bellydancers/1-07 Malfuf (2_4) [feat. Michel Merhej Baklouk].wav",
          "x": -2.129936695098877,
          "y": 10.994815826416016
         },
         {
          "color": 0,
          "filename": "./Test2/George Dimitri Sawa/Egyptian Music Appreciation and Practice for Bellydancers/1-16 Masmudi Saghir (4_4)[feat. Michel Merhej Baklouk & Suzanne Meyers Sawa].wav",
          "path": "./Test2/George Dimitri Sawa/Egyptian Music Appreciation and Practice for Bellydancers/1-16 Masmudi Saghir (4_4)[feat. Michel Merhej Baklouk & Suzanne Meyers Sawa].wav",
          "x": -2.3112754821777344,
          "y": 4.168245315551758
         },
         {
          "color": 3,
          "filename": "./Test2/George Dimitri Sawa/Egyptian Music Appreciation and Practice for Bellydancers/1-04 Ayyub el-Masri (2_4)[feat. Suzanne Meyers Sawa & Michel Merhej Baklouk].wav",
          "path": "./Test2/George Dimitri Sawa/Egyptian Music Appreciation and Practice for Bellydancers/1-04 Ayyub el-Masri (2_4)[feat. Suzanne Meyers Sawa & Michel Merhej Baklouk].wav",
          "x": -3.89943265914917,
          "y": 13.306008338928223
         },
         {
          "color": 4,
          "filename": "./Test2/George Dimitri Sawa/Egyptian Music Appreciation and Practice for Bellydancers/1-10 Section of Sayyed Mohammad's Dance, in A'raj Rhythm.wav",
          "path": "./Test2/George Dimitri Sawa/Egyptian Music Appreciation and Practice for Bellydancers/1-10 Section of Sayyed Mohammad's Dance, in A'raj Rhythm.wav",
          "x": 7.2640252113342285,
          "y": 15.221575736999512
         },
         {
          "color": 3,
          "filename": "./Test2/George Dimitri Sawa/Egyptian Music Appreciation and Practice for Bellydancers/1-03 Sakka sound.wav",
          "path": "./Test2/George Dimitri Sawa/Egyptian Music Appreciation and Practice for Bellydancers/1-03 Sakka sound.wav",
          "x": -6.916543960571289,
          "y": 13.687826156616211
         },
         {
          "color": 1,
          "filename": "./Test2/George Dimitri Sawa/Egyptian Music Appreciation and Practice for Bellydancers/1-05 El-Sabr Tayyeb, in Ayyub Rhythm (Featuring Michel Merhej Baklouk & Suzanne Meyers Sawa).wav",
          "path": "./Test2/George Dimitri Sawa/Egyptian Music Appreciation and Practice for Bellydancers/1-05 El-Sabr Tayyeb, in Ayyub Rhythm (Featuring Michel Merhej Baklouk & Suzanne Meyers Sawa).wav",
          "x": 3.8371598720550537,
          "y": -2.841966390609741
         },
         {
          "color": 3,
          "filename": "./Test2/George Dimitri Sawa/Egyptian Music Appreciation and Practice for Bellydancers/1-23 Fallahi (4_4) [feat. Michel Merhej Baklouk & Suzanne Meyers Sawa].wav",
          "path": "./Test2/George Dimitri Sawa/Egyptian Music Appreciation and Practice for Bellydancers/1-23 Fallahi (4_4) [feat. Michel Merhej Baklouk & Suzanne Meyers Sawa].wav",
          "x": -3.869032382965088,
          "y": 13.31680965423584
         },
         {
          "color": 4,
          "filename": "./Test2/George Dimitri Sawa/Egyptian Music Appreciation and Practice for Bellydancers/1-06 Free Rhythm Improvisation over Ayyub Rhythm.wav",
          "path": "./Test2/George Dimitri Sawa/Egyptian Music Appreciation and Practice for Bellydancers/1-06 Free Rhythm Improvisation over Ayyub Rhythm.wav",
          "x": 3.674042224884033,
          "y": 5.137979984283447
         },
         {
          "color": 3,
          "filename": "./Test2/George Dimitri Sawa/Egyptian Music Appreciation and Practice for Bellydancers/1-20 Measured Improvisation over Maqsum Rhythm (Featuring Michel Merhej Baklouk & Suzanne Meyers Sawa).wav",
          "path": "./Test2/George Dimitri Sawa/Egyptian Music Appreciation and Practice for Bellydancers/1-20 Measured Improvisation over Maqsum Rhythm (Featuring Michel Merhej Baklouk & Suzanne Meyers Sawa).wav",
          "x": -2.317185401916504,
          "y": 12.240196228027344
         },
         {
          "color": 0,
          "filename": "./Test2/George Dimitri Sawa/Egyptian Music Appreciation and Practice for Bellydancers/1-28 Zaffa and Shivaree (4_4) [feat. Michel Merhej Baklouk & Suzanne Meyers Sawa].wav",
          "path": "./Test2/George Dimitri Sawa/Egyptian Music Appreciation and Practice for Bellydancers/1-28 Zaffa and Shivaree (4_4) [feat. Michel Merhej Baklouk & Suzanne Meyers Sawa].wav",
          "x": -7.512598514556885,
          "y": -2.3752713203430176
         },
         {
          "color": 3,
          "filename": "./Test2/George Dimitri Sawa/Egyptian Music Appreciation and Practice for Bellydancers/1-02 Takk sound.wav",
          "path": "./Test2/George Dimitri Sawa/Egyptian Music Appreciation and Practice for Bellydancers/1-02 Takk sound.wav",
          "x": 0.8247581720352173,
          "y": 13.67077350616455
         },
         {
          "color": 3,
          "filename": "./Test2/George Dimitri Sawa/Egyptian Music Appreciation and Practice for Bellydancers/1-18 Maqsum (4_4) [feat. Michel Merhej Baklouk & Suzanne Meyers Sawa].wav",
          "path": "./Test2/George Dimitri Sawa/Egyptian Music Appreciation and Practice for Bellydancers/1-18 Maqsum (4_4) [feat. Michel Merhej Baklouk & Suzanne Meyers Sawa].wav",
          "x": -2.300567150115967,
          "y": 12.234132766723633
         },
         {
          "color": 3,
          "filename": "./Test2/George Dimitri Sawa/Egyptian Music Appreciation and Practice for Bellydancers/1-09 A'rag or Aqsaq Turki (5_8) [feat_ Michel Merhej Baklouk & Suzanne Meyers Sawa).wav",
          "path": "./Test2/George Dimitri Sawa/Egyptian Music Appreciation and Practice for Bellydancers/1-09 A'rag or Aqsaq Turki (5_8) [feat_ Michel Merhej Baklouk & Suzanne Meyers Sawa).wav",
          "x": -2.4460151195526123,
          "y": 15.125821113586426
         },
         {
          "color": 4,
          "filename": "./Test2/George Dimitri Sawa/Egyptian Music Appreciation and Practice for Bellydancers/1-13 Sudani (3_4).wav",
          "path": "./Test2/George Dimitri Sawa/Egyptian Music Appreciation and Practice for Bellydancers/1-13 Sudani (3_4).wav",
          "x": 10.480079650878906,
          "y": 13.276664733886719
         },
         {
          "color": 0,
          "filename": "./Test2/George Dimitri Sawa/Egyptian Music Appreciation and Practice for Bellydancers/1-14 Iskandarani (6_8) [fet. [feat. Michel Merhej Baklouk & Suzanne Meyers Sawa]).wav",
          "path": "./Test2/George Dimitri Sawa/Egyptian Music Appreciation and Practice for Bellydancers/1-14 Iskandarani (6_8) [fet. [feat. Michel Merhej Baklouk & Suzanne Meyers Sawa]).wav",
          "x": -2.222548723220825,
          "y": 2.269697904586792
         },
         {
          "color": 0,
          "filename": "./Test2/George Dimitri Sawa/Egyptian Music Appreciation and Practice for Bellydancers/1-21 Wahda Kabira (4_4)[feat. Michel Merhej Baklouk & Suzanne Meyers Sawa].wav",
          "path": "./Test2/George Dimitri Sawa/Egyptian Music Appreciation and Practice for Bellydancers/1-21 Wahda Kabira (4_4)[feat. Michel Merhej Baklouk & Suzanne Meyers Sawa].wav",
          "x": -2.3504483699798584,
          "y": -2.652766466140747
         },
         {
          "color": 0,
          "filename": "./Test2/George Dimitri Sawa/Egyptian Music Appreciation and Practice for Bellydancers/1-19 Dulab Huzam, in Maqsum Rhythm (Featuring Michel Merhej Baklouk & Suzanne Meyers Sawa).wav",
          "path": "./Test2/George Dimitri Sawa/Egyptian Music Appreciation and Practice for Bellydancers/1-19 Dulab Huzam, in Maqsum Rhythm (Featuring Michel Merhej Baklouk & Suzanne Meyers Sawa).wav",
          "x": -2.3925082683563232,
          "y": -1.9405555725097656
         },
         {
          "color": 3,
          "filename": "./Test2/George Dimitri Sawa/Egyptian Music Appreciation and Practice for Bellydancers/1-15 Alexandrian Dance, in Iskandarani Rhythm and Ajam Mode (Featuring [feat. Michel Merhej Baklouk & Suzanne Meyers Sawa]).wav",
          "path": "./Test2/George Dimitri Sawa/Egyptian Music Appreciation and Practice for Bellydancers/1-15 Alexandrian Dance, in Iskandarani Rhythm and Ajam Mode (Featuring [feat. Michel Merhej Baklouk & Suzanne Meyers Sawa]).wav",
          "x": -1.9821884632110596,
          "y": 10.4193754196167
         },
         {
          "color": 3,
          "filename": "./Test2/George Dimitri Sawa/Egyptian Music Appreciation and Practice for Bellydancers/1-33 Measured Improvisation over a Chifte Telli rhythm (Featuring Michel Merhej Baklouk & Suzanne Meyers Sawa).wav",
          "path": "./Test2/George Dimitri Sawa/Egyptian Music Appreciation and Practice for Bellydancers/1-33 Measured Improvisation over a Chifte Telli rhythm (Featuring Michel Merhej Baklouk & Suzanne Meyers Sawa).wav",
          "x": -2.294677495956421,
          "y": 10.557713508605957
         },
         {
          "color": 3,
          "filename": "./Test2/George Dimitri Sawa/Egyptian Music Appreciation and Practice for Bellydancers/1-26 Mali Bih, in Sai'di Rhythm and Saba Mode (Featuring Michel Merhej Baklouk & Suzanne Meyers Sawa).wav",
          "path": "./Test2/George Dimitri Sawa/Egyptian Music Appreciation and Practice for Bellydancers/1-26 Mali Bih, in Sai'di Rhythm and Saba Mode (Featuring Michel Merhej Baklouk & Suzanne Meyers Sawa).wav",
          "x": -2.0223770141601562,
          "y": 14.327430725097656
         },
         {
          "color": 3,
          "filename": "./Test2/George Dimitri Sawa/The Art of the Early Egyptian Qanun/07 Dakhlet el-'Awalem.wav",
          "path": "./Test2/George Dimitri Sawa/The Art of the Early Egyptian Qanun/07 Dakhlet el-'Awalem.wav",
          "x": -2.5962448120117188,
          "y": 10.017520904541016
         },
         {
          "color": 3,
          "filename": "./Test2/George Dimitri Sawa/The Art of the Early Egyptian Qanun/08 Peshrev Rast.wav",
          "path": "./Test2/George Dimitri Sawa/The Art of the Early Egyptian Qanun/08 Peshrev Rast.wav",
          "x": -2.354763984680176,
          "y": 12.496743202209473
         },
         {
          "color": 4,
          "filename": "./Test2/George Dimitri Sawa/The Art of the Early Egyptian Qanun/05 Egyptian Sufi Sacred Dances.wav",
          "path": "./Test2/George Dimitri Sawa/The Art of the Early Egyptian Qanun/05 Egyptian Sufi Sacred Dances.wav",
          "x": 4.046607494354248,
          "y": 9.152918815612793
         },
         {
          "color": 4,
          "filename": "./Test2/George Dimitri Sawa/The Art of the Early Egyptian Qanun/06 Peshrev Rast Qadim.wav",
          "path": "./Test2/George Dimitri Sawa/The Art of the Early Egyptian Qanun/06 Peshrev Rast Qadim.wav",
          "x": 4.405333995819092,
          "y": 11.413270950317383
         },
         {
          "color": 1,
          "filename": "./Test2/George Dimitri Sawa/The Art of the Early Egyptian Qanun/09 Raqsa Suznak.wav",
          "path": "./Test2/George Dimitri Sawa/The Art of the Early Egyptian Qanun/09 Raqsa Suznak.wav",
          "x": 5.150961399078369,
          "y": -5.89569616317749
         },
         {
          "color": 1,
          "filename": "./Test2/George Dimitri Sawa/The Art of the Early Egyptian Qanun/04 Peshrev Rast Sherif.wav",
          "path": "./Test2/George Dimitri Sawa/The Art of the Early Egyptian Qanun/04 Peshrev Rast Sherif.wav",
          "x": 4.969280242919922,
          "y": -3.8378167152404785
         },
         {
          "color": 0,
          "filename": "./Test2/George Dimitri Sawa/The Art of the Early Egyptian Qanun/03 A Tribute to Mohammad Ali Street Composers.wav",
          "path": "./Test2/George Dimitri Sawa/The Art of the Early Egyptian Qanun/03 A Tribute to Mohammad Ali Street Composers.wav",
          "x": -2.3498196601867676,
          "y": 2.7196199893951416
         },
         {
          "color": 3,
          "filename": "./Test2/George Dimitri Sawa/The Art of the Early Egyptian Qanun/10 Khamsa Sa'idi.wav",
          "path": "./Test2/George Dimitri Sawa/The Art of the Early Egyptian Qanun/10 Khamsa Sa'idi.wav",
          "x": -2.0435125827789307,
          "y": 7.862020015716553
         },
         {
          "color": 3,
          "filename": "./Test2/George Dimitri Sawa/The Art of the Early Egyptian Qanun/01 Dulab Huzam.wav",
          "path": "./Test2/George Dimitri Sawa/The Art of the Early Egyptian Qanun/01 Dulab Huzam.wav",
          "x": -2.356194496154785,
          "y": 11.160172462463379
         },
         {
          "color": 3,
          "filename": "./Test2/George Dimitri Sawa/The Art of the Early Egyptian Qanun/02 Raqset el-Hawanem.wav",
          "path": "./Test2/George Dimitri Sawa/The Art of the Early Egyptian Qanun/02 Raqset el-Hawanem.wav",
          "x": -0.3680981397628784,
          "y": 8.057973861694336
         },
         {
          "color": 4,
          "filename": "./Test2/George Dimitri Sawa/The Art of the Early Egyptian Qanun, Vol. 2/05 Lamma Bada Yatathanna.wav",
          "path": "./Test2/George Dimitri Sawa/The Art of the Early Egyptian Qanun, Vol. 2/05 Lamma Bada Yatathanna.wav",
          "x": 7.0249223709106445,
          "y": 11.798334121704102
         },
         {
          "color": 0,
          "filename": "./Test2/George Dimitri Sawa/The Art of the Early Egyptian Qanun, Vol. 2/07 Peshrev Nihavent Kemani Mustafa.wav",
          "path": "./Test2/George Dimitri Sawa/The Art of the Early Egyptian Qanun, Vol. 2/07 Peshrev Nihavent Kemani Mustafa.wav",
          "x": -2.113185405731201,
          "y": -2.760117769241333
         },
         {
          "color": 3,
          "filename": "./Test2/George Dimitri Sawa/The Art of the Early Egyptian Qanun, Vol. 2/08 Two Zeybeqli Syrian Dances.wav",
          "path": "./Test2/George Dimitri Sawa/The Art of the Early Egyptian Qanun, Vol. 2/08 Two Zeybeqli Syrian Dances.wav",
          "x": -2.0111284255981445,
          "y": 15.528368949890137
         },
         {
          "color": 4,
          "filename": "./Test2/George Dimitri Sawa/The Art of the Early Egyptian Qanun, Vol. 2/04 Al-Sama'i Al-Thaqil.wav",
          "path": "./Test2/George Dimitri Sawa/The Art of the Early Egyptian Qanun, Vol. 2/04 Al-Sama'i Al-Thaqil.wav",
          "x": 7.05489444732666,
          "y": 4.462753772735596
         },
         {
          "color": 1,
          "filename": "./Test2/George Dimitri Sawa/The Art of the Early Egyptian Qanun, Vol. 2/02 Raqset El-Romman.wav",
          "path": "./Test2/George Dimitri Sawa/The Art of the Early Egyptian Qanun, Vol. 2/02 Raqset El-Romman.wav",
          "x": -0.5771970152854919,
          "y": -4.551155090332031
         },
         {
          "color": 0,
          "filename": "./Test2/George Dimitri Sawa/The Art of the Early Egyptian Qanun, Vol. 2/03 Sama'i Bayati Ebrahim El-'Eryan.wav",
          "path": "./Test2/George Dimitri Sawa/The Art of the Early Egyptian Qanun, Vol. 2/03 Sama'i Bayati Ebrahim El-'Eryan.wav",
          "x": -1.9689085483551025,
          "y": -1.693859577178955
         },
         {
          "color": 0,
          "filename": "./Test2/George Dimitri Sawa/The Art of the Early Egyptian Qanun, Vol. 2/01 Raqset Sayyed Mohammad.wav",
          "path": "./Test2/George Dimitri Sawa/The Art of the Early Egyptian Qanun, Vol. 2/01 Raqset Sayyed Mohammad.wav",
          "x": -1.261792778968811,
          "y": -3.973292112350464
         },
         {
          "color": 3,
          "filename": "./Test2/George Dimitri Sawa/The Art of the Early Egyptian Qanun, Vol. 2/06 Peshrev Nihavent Dervish Mustafa.wav",
          "path": "./Test2/George Dimitri Sawa/The Art of the Early Egyptian Qanun, Vol. 2/06 Peshrev Nihavent Dervish Mustafa.wav",
          "x": 1.0112112760543823,
          "y": 9.948742866516113
         },
         {
          "color": 3,
          "filename": "./Test2/George Dimitri Sawa/The Art of the Early Egyptian Qanun, Vol. 2/09 Raqset El-Mandil.wav",
          "path": "./Test2/George Dimitri Sawa/The Art of the Early Egyptian Qanun, Vol. 2/09 Raqset El-Mandil.wav",
          "x": -1.3661713600158691,
          "y": 12.182965278625488
         },
         {
          "color": 3,
          "filename": "./Test2/George Dimitri Sawa/The Art of the Early Egyptian Qanun, Vol. 2/10 A Medley Of Melodies In Hijazkar And Hijaz Modes.wav",
          "path": "./Test2/George Dimitri Sawa/The Art of the Early Egyptian Qanun, Vol. 2/10 A Medley Of Melodies In Hijazkar And Hijaz Modes.wav",
          "x": -8.830843925476074,
          "y": 10.459006309509277
         },
         {
          "color": 1,
          "filename": "./Test2/Roubaiyat El Khayam/06 Waslah in Rahat al Arwah_ Improvisation, quatrain 111.wav",
          "path": "./Test2/Roubaiyat El Khayam/06 Waslah in Rahat al Arwah_ Improvisation, quatrain 111.wav",
          "x": 8.388520240783691,
          "y": -12.268497467041016
         },
         {
          "color": 1,
          "filename": "./Test2/Roubaiyat El Khayam/20 Wasla in al-Mustaqim_ Nay taqasim, quatrain number 232.wav",
          "path": "./Test2/Roubaiyat El Khayam/20 Wasla in al-Mustaqim_ Nay taqasim, quatrain number 232.wav",
          "x": 5.134944915771484,
          "y": -12.740224838256836
         },
         {
          "color": 2,
          "filename": "./Test2/Roubaiyat El Khayam/07 Waslah in Rahat al Arwah_ Improvisation, quatrains 209, 295.wav",
          "path": "./Test2/Roubaiyat El Khayam/07 Waslah in Rahat al Arwah_ Improvisation, quatrains 209, 295.wav",
          "x": -0.8345996141433716,
          "y": -12.435633659362793
         },
         {
          "color": 3,
          "filename": "./Test2/Roubaiyat El Khayam/13 Wasla in Dugah_ Taqasim oud maqam Bayati Shuri.wav",
          "path": "./Test2/Roubaiyat El Khayam/13 Wasla in Dugah_ Taqasim oud maqam Bayati Shuri.wav",
          "x": -1.332236886024475,
          "y": 13.223444938659668
         },
         {
          "color": 4,
          "filename": "./Test2/Roubaiyat El Khayam/01 Waslah in Rahat al Arwah_ Quatrain 200.wav",
          "path": "./Test2/Roubaiyat El Khayam/01 Waslah in Rahat al Arwah_ Quatrain 200.wav",
          "x": 7.258803844451904,
          "y": 7.972072124481201
         },
         {
          "color": 2,
          "filename": "./Test2/Roubaiyat El Khayam/09 Waslah in Rahat al Arwah_ Quatrains 6 and 177.wav",
          "path": "./Test2/Roubaiyat El Khayam/09 Waslah in Rahat al Arwah_ Quatrains 6 and 177.wav",
          "x": 0.8443889021873474,
          "y": -14.984894752502441
         },
         {
          "color": 2,
          "filename": "./Test2/Roubaiyat El Khayam/03 Waslah in Rahat al Arwah_ Quatrains 23, 46, 12 and 216.wav",
          "path": "./Test2/Roubaiyat El Khayam/03 Waslah in Rahat al Arwah_ Quatrains 23, 46, 12 and 216.wav",
          "x": -9.771322250366211,
          "y": -11.213699340820312
         },
         {
          "color": 4,
          "filename": "./Test2/Roubaiyat El Khayam/17 Wasla in al-Mustaqim_ Sama'i rast.wav",
          "path": "./Test2/Roubaiyat El Khayam/17 Wasla in al-Mustaqim_ Sama'i rast.wav",
          "x": 3.8394906520843506,
          "y": 7.296891212463379
         },
         {
          "color": 1,
          "filename": "./Test2/Roubaiyat El Khayam/08 Waslah in Rahat al Arwah_ Quatrain 203.wav",
          "path": "./Test2/Roubaiyat El Khayam/08 Waslah in Rahat al Arwah_ Quatrain 203.wav",
          "x": 6.751937389373779,
          "y": -13.152993202209473
         },
         {
          "color": 1,
          "filename": "./Test2/Roubaiyat El Khayam/14 Wasla in Dugah_ Quatrains 58 and 182.wav",
          "path": "./Test2/Roubaiyat El Khayam/14 Wasla in Dugah_ Quatrains 58 and 182.wav",
          "x": 10.189371109008789,
          "y": -13.462849617004395
         },
         {
          "color": 2,
          "filename": "./Test2/Roubaiyat El Khayam/16 Wasla in Dugah_ Quatrains 256 and 95.wav",
          "path": "./Test2/Roubaiyat El Khayam/16 Wasla in Dugah_ Quatrains 256 and 95.wav",
          "x": -8.916373252868652,
          "y": -13.26282024383545
         },
         {
          "color": 3,
          "filename": "./Test2/Roubaiyat El Khayam/18 Wasla in al-Mustaqim_ Quatrains 21 and 298.wav",
          "path": "./Test2/Roubaiyat El Khayam/18 Wasla in al-Mustaqim_ Quatrains 21 and 298.wav",
          "x": -2.0174169540405273,
          "y": 10.073616981506348
         },
         {
          "color": 2,
          "filename": "./Test2/Roubaiyat El Khayam/11 Wasla in Dugah_ Quatrains 337 and 293.wav",
          "path": "./Test2/Roubaiyat El Khayam/11 Wasla in Dugah_ Quatrains 337 and 293.wav",
          "x": -3.344849109649658,
          "y": -10.724006652832031
         },
         {
          "color": 3,
          "filename": "./Test2/Roubaiyat El Khayam/10 Wasla in Dugah_ Madkhal in maqam Bayati Taher.wav",
          "path": "./Test2/Roubaiyat El Khayam/10 Wasla in Dugah_ Madkhal in maqam Bayati Taher.wav",
          "x": -1.0470259189605713,
          "y": 15.487007141113281
         },
         {
          "color": 0,
          "filename": "./Test2/Roubaiyat El Khayam/02 Waslah in Rahat al Arwah_ Madkhal in Maqam Rahat al-Arwah.wav",
          "path": "./Test2/Roubaiyat El Khayam/02 Waslah in Rahat al Arwah_ Madkhal in Maqam Rahat al-Arwah.wav",
          "x": -1.233208179473877,
          "y": 5.051700115203857
         },
         {
          "color": 2,
          "filename": "./Test2/Roubaiyat El Khayam/15 Wasla in Dugah_ Quatrains 309, 247, 297, 290 and 80.wav",
          "path": "./Test2/Roubaiyat El Khayam/15 Wasla in Dugah_ Quatrains 309, 247, 297, 290 and 80.wav",
          "x": -3.7517051696777344,
          "y": -11.986910820007324
         },
         {
          "color": 2,
          "filename": "./Test2/Roubaiyat El Khayam/21 Wasla in al-Mustaqim_ Layali and quatrain 107.wav",
          "path": "./Test2/Roubaiyat El Khayam/21 Wasla in al-Mustaqim_ Layali and quatrain 107.wav",
          "x": -0.06538760662078857,
          "y": -14.288159370422363
         },
         {
          "color": 2,
          "filename": "./Test2/Roubaiyat El Khayam/19 Wasla in al-Mustaqim_ Quatrain 19.wav",
          "path": "./Test2/Roubaiyat El Khayam/19 Wasla in al-Mustaqim_ Quatrain 19.wav",
          "x": 0.9343252182006836,
          "y": -11.699235916137695
         },
         {
          "color": 1,
          "filename": "./Test2/Roubaiyat El Khayam/12 Wasla in Dugah_ Quatrain 3.wav",
          "path": "./Test2/Roubaiyat El Khayam/12 Wasla in Dugah_ Quatrain 3.wav",
          "x": 8.70217514038086,
          "y": -13.966986656188965
         },
         {
          "color": 1,
          "filename": "./Test2/Roubaiyat El Khayam/04 Waslah in Rahat al Arwah_ Vocal improvisation, quatrain 198.wav",
          "path": "./Test2/Roubaiyat El Khayam/04 Waslah in Rahat al Arwah_ Vocal improvisation, quatrain 198.wav",
          "x": 3.2665529251098633,
          "y": -9.941555976867676
         },
         {
          "color": 1,
          "filename": "./Test2/Roubaiyat El Khayam/22 Wasla in al-Mustaqim_ Oud taqasim, quatrains 14, 64 and 86.wav",
          "path": "./Test2/Roubaiyat El Khayam/22 Wasla in al-Mustaqim_ Oud taqasim, quatrains 14, 64 and 86.wav",
          "x": 6.199857711791992,
          "y": -12.816493034362793
         },
         {
          "color": 4,
          "filename": "./Test2/Roubaiyat El Khayam/05 Waslah in Rahat al Arwah_ Quatrain 200.wav",
          "path": "./Test2/Roubaiyat El Khayam/05 Waslah in Rahat al Arwah_ Quatrain 200.wav",
          "x": 3.038794994354248,
          "y": 5.031466484069824
         },
         {
          "color": 0,
          "filename": "./Test2/Mesaed Al-Belushi/Masaed/03 Haqk Alay.wav",
          "path": "./Test2/Mesaed Al-Belushi/Masaed/03 Haqk Alay.wav",
          "x": -7.775952339172363,
          "y": -0.41208961606025696
         },
         {
          "color": 2,
          "filename": "./Test2/Mesaed Al-Belushi/Masaed/06 Taabt Ahbk.wav",
          "path": "./Test2/Mesaed Al-Belushi/Masaed/06 Taabt Ahbk.wav",
          "x": -5.665720462799072,
          "y": -10.280597686767578
         },
         {
          "color": 0,
          "filename": "./Test2/Mesaed Al-Belushi/Masaed/05 Sobart O Janait.wav",
          "path": "./Test2/Mesaed Al-Belushi/Masaed/05 Sobart O Janait.wav",
          "x": -6.796426296234131,
          "y": 0.5271337628364563
         },
         {
          "color": 0,
          "filename": "./Test2/Mesaed Al-Belushi/Masaed/10 Waheshni.wav",
          "path": "./Test2/Mesaed Al-Belushi/Masaed/10 Waheshni.wav",
          "x": 2.089810371398926,
          "y": -0.7871502637863159
         },
         {
          "color": 0,
          "filename": "./Test2/Mesaed Al-Belushi/Masaed/07 Alhob.wav",
          "path": "./Test2/Mesaed Al-Belushi/Masaed/07 Alhob.wav",
          "x": -6.2213215827941895,
          "y": 0.12658382952213287
         },
         {
          "color": 4,
          "filename": "./Test2/Mesaed Al-Belushi/Masaed/04 Arooh Lwain.wav",
          "path": "./Test2/Mesaed Al-Belushi/Masaed/04 Arooh Lwain.wav",
          "x": 9.042858123779297,
          "y": 3.805096387863159
         },
         {
          "color": 0,
          "filename": "./Test2/Mesaed Al-Belushi/Masaed/01 Lek Alay.wav",
          "path": "./Test2/Mesaed Al-Belushi/Masaed/01 Lek Alay.wav",
          "x": -7.4905290603637695,
          "y": -0.18192829191684723
         },
         {
          "color": 0,
          "filename": "./Test2/Mesaed Al-Belushi/Masaed/13 Ghebt.wav",
          "path": "./Test2/Mesaed Al-Belushi/Masaed/13 Ghebt.wav",
          "x": -7.287224769592285,
          "y": 3.6529109477996826
         },
         {
          "color": 0,
          "filename": "./Test2/Mesaed Al-Belushi/Masaed/16 Ya Kreem.wav",
          "path": "./Test2/Mesaed Al-Belushi/Masaed/16 Ya Kreem.wav",
          "x": -7.445771217346191,
          "y": -0.307228147983551
         },
         {
          "color": 2,
          "filename": "./Test2/Mesaed Al-Belushi/Masaed/11 Qom Moreni.wav",
          "path": "./Test2/Mesaed Al-Belushi/Masaed/11 Qom Moreni.wav",
          "x": -7.000003814697266,
          "y": -6.699028015136719
         },
         {
          "color": 2,
          "filename": "./Test2/Mesaed Al-Belushi/Masaed/02 Marrait.wav",
          "path": "./Test2/Mesaed Al-Belushi/Masaed/02 Marrait.wav",
          "x": -5.465193271636963,
          "y": -10.942170143127441
         },
         {
          "color": 2,
          "filename": "./Test2/Mesaed Al-Belushi/Masaed/08 Mjareeh.wav",
          "path": "./Test2/Mesaed Al-Belushi/Masaed/08 Mjareeh.wav",
          "x": -5.689303874969482,
          "y": -11.939447402954102
         },
         {
          "color": 0,
          "filename": "./Test2/Mesaed Al-Belushi/Masaed/09 Eshtaqt Ayouni.wav",
          "path": "./Test2/Mesaed Al-Belushi/Masaed/09 Eshtaqt Ayouni.wav",
          "x": -6.4291181564331055,
          "y": -5.034266948699951
         },
         {
          "color": 0,
          "filename": "./Test2/Mesaed Al-Belushi/Masaed/15 Alf Shay.wav",
          "path": "./Test2/Mesaed Al-Belushi/Masaed/15 Alf Shay.wav",
          "x": -7.451399803161621,
          "y": 0.15240076184272766
         },
         {
          "color": 2,
          "filename": "./Test2/Mesaed Al-Belushi/Masaed/12 AAH.wav",
          "path": "./Test2/Mesaed Al-Belushi/Masaed/12 AAH.wav",
          "x": -6.838668346405029,
          "y": -10.285321235656738
         },
         {
          "color": 1,
          "filename": "./Test2/Mesaed Al-Belushi/Masaed/14 Barad Qalbi.wav",
          "path": "./Test2/Mesaed Al-Belushi/Masaed/14 Barad Qalbi.wav",
          "x": 5.975456237792969,
          "y": -0.10581322014331818
         },
         {
          "color": 0,
          "filename": "./Test2/ميريام فارسMyriam Fares /Aman/06 شو بحب.wav",
          "path": "./Test2/ميريام فارسMyriam Fares /Aman/06 شو بحب.wav",
          "x": -6.98859977722168,
          "y": 3.6294729709625244
         },
         {
          "color": 0,
          "filename": "./Test2/ميريام فارسMyriam Fares /Aman/08 هالله هالله يا صبايا.wav",
          "path": "./Test2/ميريام فارسMyriam Fares /Aman/08 هالله هالله يا صبايا.wav",
          "x": -1.0008249282836914,
          "y": -1.0295907258987427
         },
         {
          "color": 2,
          "filename": "./Test2/ميريام فارسMyriam Fares /Aman/05 الزير.wav",
          "path": "./Test2/ميريام فارسMyriam Fares /Aman/05 الزير.wav",
          "x": -6.261110782623291,
          "y": -6.2139177322387695
         },
         {
          "color": 2,
          "filename": "./Test2/ميريام فارسMyriam Fares /Aman/07 غروك.wav",
          "path": "./Test2/ميريام فارسMyriam Fares /Aman/07 غروك.wav",
          "x": -7.084444046020508,
          "y": -6.9214887619018555
         },
         {
          "color": 4,
          "filename": "./Test2/ميريام فارسMyriam Fares /Aman/13 امان.wav",
          "path": "./Test2/ميريام فارسMyriam Fares /Aman/13 امان.wav",
          "x": 4.551667213439941,
          "y": 8.229228019714355
         },
         {
          "color": 2,
          "filename": "./Test2/ميريام فارسMyriam Fares /Aman/10 ما ياني النوم.wav",
          "path": "./Test2/ميريام فارسMyriam Fares /Aman/10 ما ياني النوم.wav",
          "x": -0.5983119010925293,
          "y": -15.379551887512207
         },
         {
          "color": 3,
          "filename": "./Test2/ميريام فارسMyriam Fares /Aman/03 بذمّتك.wav",
          "path": "./Test2/ميريام فارسMyriam Fares /Aman/03 بذمّتك.wav",
          "x": -2.9948625564575195,
          "y": 5.8654704093933105
         },
         {
          "color": 2,
          "filename": "./Test2/ميريام فارسMyriam Fares /Aman/04 كيفك انت.wav",
          "path": "./Test2/ميريام فارسMyriam Fares /Aman/04 كيفك انت.wav",
          "x": -5.962092399597168,
          "y": -5.738577842712402
         },
         {
          "color": 2,
          "filename": "./Test2/ميريام فارسMyriam Fares /Aman/09 سمباتيكا.wav",
          "path": "./Test2/ميريام فارسMyriam Fares /Aman/09 سمباتيكا.wav",
          "x": -6.451290607452393,
          "y": -6.381129264831543
         },
         {
          "color": 2,
          "filename": "./Test2/ميريام فارسMyriam Fares /Aman/11 غافي.wav",
          "path": "./Test2/ميريام فارسMyriam Fares /Aman/11 غافي.wav",
          "x": -5.880640506744385,
          "y": -6.561714172363281
         },
         {
          "color": 0,
          "filename": "./Test2/ميريام فارسMyriam Fares /Aman/12 أنا غير.wav",
          "path": "./Test2/ميريام فارسMyriam Fares /Aman/12 أنا غير.wav",
          "x": 1.4347434043884277,
          "y": 0.8258128762245178
         },
         {
          "color": 2,
          "filename": "./Test2/ميريام فارسMyriam Fares /Aman/02 دقوا الطبول.wav",
          "path": "./Test2/ميريام فارسMyriam Fares /Aman/02 دقوا الطبول.wav",
          "x": -7.051109313964844,
          "y": -12.144275665283203
         },
         {
          "color": 0,
          "filename": "./Test2/Abady Al Johar/Ana A7bik/1-02 Untitled.wav",
          "path": "./Test2/Abady Al Johar/Ana A7bik/1-02 Untitled.wav",
          "x": -2.2543280124664307,
          "y": 0.12726831436157227
         },
         {
          "color": 2,
          "filename": "./Test2/Abady Al Johar/Ana A7bik/1-03 Untitled.wav",
          "path": "./Test2/Abady Al Johar/Ana A7bik/1-03 Untitled.wav",
          "x": -6.512294769287109,
          "y": -11.628376007080078
         },
         {
          "color": 2,
          "filename": "./Test2/Abady Al Johar/Ana A7bik/1-04 Untitled.wav",
          "path": "./Test2/Abady Al Johar/Ana A7bik/1-04 Untitled.wav",
          "x": -1.2729345560073853,
          "y": -9.87602710723877
         },
         {
          "color": 2,
          "filename": "./Test2/Abady Al Johar/Ana A7bik/1-01 Untitled.wav",
          "path": "./Test2/Abady Al Johar/Ana A7bik/1-01 Untitled.wav",
          "x": -2.9843955039978027,
          "y": -8.148662567138672
         },
         {
          "color": 3,
          "filename": "./Test2/Abady Al Johar/Ana We Oudi (via 6lal.com)/07 Music.wav",
          "path": "./Test2/Abady Al Johar/Ana We Oudi (via 6lal.com)/07 Music.wav",
          "x": -2.2474091053009033,
          "y": 6.416143894195557
         },
         {
          "color": 0,
          "filename": "./Test2/Abady Al Johar/Ana We Oudi (via 6lal.com)/04 Hobbek Sema.wav",
          "path": "./Test2/Abady Al Johar/Ana We Oudi (via 6lal.com)/04 Hobbek Sema.wav",
          "x": -8.365985870361328,
          "y": -0.38927215337753296
         },
         {
          "color": 4,
          "filename": "./Test2/Abady Al Johar/Ana We Oudi (via 6lal.com)/06 Adhat Al-Esba'a.wav",
          "path": "./Test2/Abady Al Johar/Ana We Oudi (via 6lal.com)/06 Adhat Al-Esba'a.wav",
          "x": 1.1593303680419922,
          "y": 8.917957305908203
         },
         {
          "color": 1,
          "filename": "./Test2/Abady Al Johar/Ana We Oudi (via 6lal.com)/03 Allah Alaik.wav",
          "path": "./Test2/Abady Al Johar/Ana We Oudi (via 6lal.com)/03 Allah Alaik.wav",
          "x": 9.626453399658203,
          "y": -5.489148139953613
         },
         {
          "color": 1,
          "filename": "./Test2/Abady Al Johar/Ana We Oudi (via 6lal.com)/02 Lan O'atib.wav",
          "path": "./Test2/Abady Al Johar/Ana We Oudi (via 6lal.com)/02 Lan O'atib.wav",
          "x": 9.819764137268066,
          "y": -4.607948303222656
         },
         {
          "color": 2,
          "filename": "./Test2/Abady Al Johar/Ana We Oudi (via 6lal.com)/01 Al-Layali.wav",
          "path": "./Test2/Abady Al Johar/Ana We Oudi (via 6lal.com)/01 Al-Layali.wav",
          "x": 0.46279099583625793,
          "y": -10.635725975036621
         },
         {
          "color": 1,
          "filename": "./Test2/Abady Al Johar/Ana We Oudi (via 6lal.com)/05 Al-Taqaseem.wav",
          "path": "./Test2/Abady Al Johar/Ana We Oudi (via 6lal.com)/05 Al-Taqaseem.wav",
          "x": 9.170697212219238,
          "y": -11.197406768798828
         },
         {
          "color": 0,
          "filename": "./Test2/Cairokee/مطلوب زعيم Matloob Zaeem/08 حلمى أنا Helmy Ana.wav",
          "path": "./Test2/Cairokee/مطلوب زعيم Matloob Zaeem/08 حلمى أنا Helmy Ana.wav",
          "x": -1.388288974761963,
          "y": 1.2496521472930908
         },
         {
          "color": 0,
          "filename": "./Test2/Cairokee/مطلوب زعيم Matloob Zaeem/01 يعدى الصيف Yeady El Seef.wav",
          "path": "./Test2/Cairokee/مطلوب زعيم Matloob Zaeem/01 يعدى الصيف Yeady El Seef.wav",
          "x": -6.435150623321533,
          "y": 0.5645342469215393
         },
         {
          "color": 2,
          "filename": "./Test2/Cairokee/مطلوب زعيم Matloob Zaeem/04 يالميدان Yalmidan.wav",
          "path": "./Test2/Cairokee/مطلوب زعيم Matloob Zaeem/04 يالميدان Yalmidan.wav",
          "x": -5.570754528045654,
          "y": -12.426722526550293
         },
         {
          "color": 0,
          "filename": "./Test2/Cairokee/مطلوب زعيم Matloob Zaeem/07 أثبت مكانك Ethbat Makanak.wav",
          "path": "./Test2/Cairokee/مطلوب زعيم Matloob Zaeem/07 أثبت مكانك Ethbat Makanak.wav",
          "x": -6.909919738769531,
          "y": 0.4238472878932953
         },
         {
          "color": 0,
          "filename": "./Test2/Cairokee/مطلوب زعيم Matloob Zaeem/03 مطلوب زعيم Matloob Zaeem.wav",
          "path": "./Test2/Cairokee/مطلوب زعيم Matloob Zaeem/03 مطلوب زعيم Matloob Zaeem.wav",
          "x": 2.3128156661987305,
          "y": 1.1337732076644897
         },
         {
          "color": 2,
          "filename": "./Test2/Cairokee/مطلوب زعيم Matloob Zaeem/05 أفرد جناحك Efred Genahak.wav",
          "path": "./Test2/Cairokee/مطلوب زعيم Matloob Zaeem/05 أفرد جناحك Efred Genahak.wav",
          "x": 1.7531381845474243,
          "y": -13.381280899047852
         },
         {
          "color": 2,
          "filename": "./Test2/Cairokee/مطلوب زعيم Matloob Zaeem/06 غريب فى بلاد غريبة Ghareeb.wav",
          "path": "./Test2/Cairokee/مطلوب زعيم Matloob Zaeem/06 غريب فى بلاد غريبة Ghareeb.wav",
          "x": -5.926629543304443,
          "y": -12.223708152770996
         },
         {
          "color": 2,
          "filename": "./Test2/Cairokee/مطلوب زعيم Matloob Zaeem/02 صوت الحرية Sout El Horeya.wav",
          "path": "./Test2/Cairokee/مطلوب زعيم Matloob Zaeem/02 صوت الحرية Sout El Horeya.wav",
          "x": -6.455099105834961,
          "y": -10.057960510253906
         },
         {
          "color": 0,
          "filename": "./Test2/Yahya Al-Nunu, Muhammad Al-Khamisi, Muhammad 'ali Al Sudi_/Yemen. Yahya Al-Nunu. Le Chant Des Sanaa. Yemen. Yahya Al-Nunu. The Singing Of Sanaa_/01 Fertash.wav",
          "path": "./Test2/Yahya Al-Nunu, Muhammad Al-Khamisi, Muhammad 'ali Al Sudi_/Yemen. Yahya Al-Nunu. Le Chant Des Sanaa. Yemen. Yahya Al-Nunu. The Singing Of Sanaa_/01 Fertash.wav",
          "x": -5.598793029785156,
          "y": 3.076169013977051
         },
         {
          "color": 0,
          "filename": "./Test2/Yahya Al-Nunu, Muhammad Al-Khamisi, Muhammad 'ali Al Sudi_/Yemen. Yahya Al-Nunu. Le Chant Des Sanaa. Yemen. Yahya Al-Nunu. The Singing Of Sanaa_/05 Salli Ya Rabbi.wav",
          "path": "./Test2/Yahya Al-Nunu, Muhammad Al-Khamisi, Muhammad 'ali Al Sudi_/Yemen. Yahya Al-Nunu. Le Chant Des Sanaa. Yemen. Yahya Al-Nunu. The Singing Of Sanaa_/05 Salli Ya Rabbi.wav",
          "x": -7.883845329284668,
          "y": -1.7587182521820068
         },
         {
          "color": 3,
          "filename": "./Test2/Yahya Al-Nunu, Muhammad Al-Khamisi, Muhammad 'ali Al Sudi_/Yemen. Yahya Al-Nunu. Le Chant Des Sanaa. Yemen. Yahya Al-Nunu. The Singing Of Sanaa_/04 Akhdar Limeh.wav",
          "path": "./Test2/Yahya Al-Nunu, Muhammad Al-Khamisi, Muhammad 'ali Al Sudi_/Yemen. Yahya Al-Nunu. Le Chant Des Sanaa. Yemen. Yahya Al-Nunu. The Singing Of Sanaa_/04 Akhdar Limeh.wav",
          "x": -5.282708168029785,
          "y": 11.144770622253418
         },
         {
          "color": 3,
          "filename": "./Test2/Yahya Al-Nunu, Muhammad Al-Khamisi, Muhammad 'ali Al Sudi_/Yemen. Yahya Al-Nunu. Le Chant Des Sanaa. Yemen. Yahya Al-Nunu. The Singing Of Sanaa_/02 Ayyu Shayyin Ara Wa-Asma'U Hamsa.wav",
          "path": "./Test2/Yahya Al-Nunu, Muhammad Al-Khamisi, Muhammad 'ali Al Sudi_/Yemen. Yahya Al-Nunu. Le Chant Des Sanaa. Yemen. Yahya Al-Nunu. The Singing Of Sanaa_/02 Ayyu Shayyin Ara Wa-Asma'U Hamsa.wav",
          "x": -5.025779724121094,
          "y": 11.519254684448242
         },
         {
          "color": 4,
          "filename": "./Test2/Yahya Al-Nunu, Muhammad Al-Khamisi, Muhammad 'ali Al Sudi_/Yemen. Yahya Al-Nunu. Le Chant Des Sanaa. Yemen. Yahya Al-Nunu. The Singing Of Sanaa_/03 Li Fi Ruba Hajer Ghuzayyel Alta.wav",
          "path": "./Test2/Yahya Al-Nunu, Muhammad Al-Khamisi, Muhammad 'ali Al Sudi_/Yemen. Yahya Al-Nunu. Le Chant Des Sanaa. Yemen. Yahya Al-Nunu. The Singing Of Sanaa_/03 Li Fi Ruba Hajer Ghuzayyel Alta.wav",
          "x": 6.083475589752197,
          "y": 3.1315531730651855
         },
         {
          "color": 0,
          "filename": "./Test2/Yahya Al-Nunu, Muhammad Al-Khamisi, Muhammad 'ali Al Sudi_/Yemen. Yahya Al-Nunu. Le Chant Des Sanaa. Yemen. Yahya Al-Nunu. The Singing Of Sanaa_/06 Al-Burr Wa-S-Samn Khirat Ma Tishilleh Banani.wav",
          "path": "./Test2/Yahya Al-Nunu, Muhammad Al-Khamisi, Muhammad 'ali Al Sudi_/Yemen. Yahya Al-Nunu. Le Chant Des Sanaa. Yemen. Yahya Al-Nunu. The Singing Of Sanaa_/06 Al-Burr Wa-S-Samn Khirat Ma Tishilleh Banani.wav",
          "x": -4.970239162445068,
          "y": -4.929117679595947
         },
         {
          "color": 1,
          "filename": "./Test2/Simon Shaheen/Saltanah/02 Ghazal - Rag Vasant Mukhari_Maqam Hijaz.wav",
          "path": "./Test2/Simon Shaheen/Saltanah/02 Ghazal - Rag Vasant Mukhari_Maqam Hijaz.wav",
          "x": 0.8334705233573914,
          "y": -7.673803806304932
         },
         {
          "color": 2,
          "filename": "./Test2/Simon Shaheen/Saltanah/03 Saltanah - Rag Bagashri_Maqam 'Ajam Mu'addal.wav",
          "path": "./Test2/Simon Shaheen/Saltanah/03 Saltanah - Rag Bagashri_Maqam 'Ajam Mu'addal.wav",
          "x": 3.7448456287384033,
          "y": -15.438359260559082
         },
         {
          "color": 1,
          "filename": "./Test2/Simon Shaheen/Saltanah/01 Dawn - Rag Kirwani_Maqam Nahawand.wav",
          "path": "./Test2/Simon Shaheen/Saltanah/01 Dawn - Rag Kirwani_Maqam Nahawand.wav",
          "x": 8.218573570251465,
          "y": -11.439988136291504
         },
         {
          "color": 0,
          "filename": "./Test2/Simon Shaheen/Saltanah/04 Mists - Rag Pahari_Maqam 'Ajam.wav",
          "path": "./Test2/Simon Shaheen/Saltanah/04 Mists - Rag Pahari_Maqam 'Ajam.wav",
          "x": -9.08439826965332,
          "y": 0.9471107125282288
         },
         {
          "color": 2,
          "filename": "./Test2/Simon Shaheen/Saltanah/05 Dusk - Rag Bhairavi_Maqam Kurd.wav",
          "path": "./Test2/Simon Shaheen/Saltanah/05 Dusk - Rag Bhairavi_Maqam Kurd.wav",
          "x": -0.8888462781906128,
          "y": -13.87304401397705
         },
         {
          "color": 1,
          "filename": "./Test2/Simon Shaheen/The Masterworks of the Middle Easr_ Turath/02 Sama'I Farahfaza.wav",
          "path": "./Test2/Simon Shaheen/The Masterworks of the Middle Easr_ Turath/02 Sama'I Farahfaza.wav",
          "x": 2.698472023010254,
          "y": -7.210829734802246
         },
         {
          "color": 3,
          "filename": "./Test2/Simon Shaheen/The Masterworks of the Middle Easr_ Turath/05 Taqasim On The Beat.wav",
          "path": "./Test2/Simon Shaheen/The Masterworks of the Middle Easr_ Turath/05 Taqasim On The Beat.wav",
          "x": -5.755860328674316,
          "y": 10.192282676696777
         },
         {
          "color": 3,
          "filename": "./Test2/Simon Shaheen/The Masterworks of the Middle Easr_ Turath/07 Tahmilah Suznak.wav",
          "path": "./Test2/Simon Shaheen/The Masterworks of the Middle Easr_ Turath/07 Tahmilah Suznak.wav",
          "x": -3.8065736293792725,
          "y": 8.437955856323242
         },
         {
          "color": 3,
          "filename": "./Test2/Simon Shaheen/The Masterworks of the Middle Easr_ Turath/01 Bashraf Farahfaza.wav",
          "path": "./Test2/Simon Shaheen/The Masterworks of the Middle Easr_ Turath/01 Bashraf Farahfaza.wav",
          "x": 0.981784462928772,
          "y": 11.434240341186523
         },
         {
          "color": 4,
          "filename": "./Test2/Simon Shaheen/The Masterworks of the Middle Easr_ Turath/04 Longa Farahfaza.wav",
          "path": "./Test2/Simon Shaheen/The Masterworks of the Middle Easr_ Turath/04 Longa Farahfaza.wav",
          "x": 1.0971025228500366,
          "y": 5.042595386505127
         },
         {
          "color": 4,
          "filename": "./Test2/Simon Shaheen/The Masterworks of the Middle Easr_ Turath/08 Sama'i Nahawand.wav",
          "path": "./Test2/Simon Shaheen/The Masterworks of the Middle Easr_ Turath/08 Sama'i Nahawand.wav",
          "x": 6.869810581207275,
          "y": 11.361433982849121
         },
         {
          "color": 2,
          "filename": "./Test2/Simon Shaheen/The Masterworks of the Middle Easr_ Turath/03 Taqasim On Violin.wav",
          "path": "./Test2/Simon Shaheen/The Masterworks of the Middle Easr_ Turath/03 Taqasim On Violin.wav",
          "x": -10.68688678741455,
          "y": -13.677677154541016
         },
         {
          "color": 3,
          "filename": "./Test2/Simon Shaheen/The Masterworks of the Middle Easr_ Turath/09 Bashraf Kurd.wav",
          "path": "./Test2/Simon Shaheen/The Masterworks of the Middle Easr_ Turath/09 Bashraf Kurd.wav",
          "x": -3.717676877975464,
          "y": 14.264704704284668
         },
         {
          "color": 3,
          "filename": "./Test2/Simon Shaheen/The Masterworks of the Middle Easr_ Turath/11 Sama'I Kurd.wav",
          "path": "./Test2/Simon Shaheen/The Masterworks of the Middle Easr_ Turath/11 Sama'I Kurd.wav",
          "x": -0.0106623824685812,
          "y": 10.514629364013672
         },
         {
          "color": 2,
          "filename": "./Test2/Simon Shaheen/The Masterworks of the Middle Easr_ Turath/10 Taqasim On Nay.wav",
          "path": "./Test2/Simon Shaheen/The Masterworks of the Middle Easr_ Turath/10 Taqasim On Nay.wav",
          "x": -1.027063012123108,
          "y": -14.8479642868042
         },
         {
          "color": 4,
          "filename": "./Test2/Simon Shaheen/The Masterworks of the Middle Easr_ Turath/06 Sama'i Nahawand.wav",
          "path": "./Test2/Simon Shaheen/The Masterworks of the Middle Easr_ Turath/06 Sama'i Nahawand.wav",
          "x": 0.8765340447425842,
          "y": 4.408169746398926
         },
         {
          "color": 0,
          "filename": "./Test2/Simon Shaheen/The Music of Mohamed Abdel Wahab/05 Theme & Variations.wav",
          "path": "./Test2/Simon Shaheen/The Music of Mohamed Abdel Wahab/05 Theme & Variations.wav",
          "x": 0.5192235112190247,
          "y": 2.127880573272705
         },
         {
          "color": 2,
          "filename": "./Test2/Simon Shaheen/The Music of Mohamed Abdel Wahab/02 Sittel Habayeb.wav",
          "path": "./Test2/Simon Shaheen/The Music of Mohamed Abdel Wahab/02 Sittel Habayeb.wav",
          "x": -0.12071764469146729,
          "y": -10.960979461669922
         },
         {
          "color": 2,
          "filename": "./Test2/Simon Shaheen/The Music of Mohamed Abdel Wahab/07 Mudnaka.wav",
          "path": "./Test2/Simon Shaheen/The Music of Mohamed Abdel Wahab/07 Mudnaka.wav",
          "x": -2.073303461074829,
          "y": -8.310506820678711
         },
         {
          "color": 1,
          "filename": "./Test2/Simon Shaheen/The Music of Mohamed Abdel Wahab/06 Bortuqal.wav",
          "path": "./Test2/Simon Shaheen/The Music of Mohamed Abdel Wahab/06 Bortuqal.wav",
          "x": 8.082029342651367,
          "y": -12.534637451171875
         },
         {
          "color": 2,
          "filename": "./Test2/Simon Shaheen/The Music of Mohamed Abdel Wahab/03 Hanil Widd.wav",
          "path": "./Test2/Simon Shaheen/The Music of Mohamed Abdel Wahab/03 Hanil Widd.wav",
          "x": -1.846557378768921,
          "y": -8.560093879699707
         },
         {
          "color": 1,
          "filename": "./Test2/Simon Shaheen/The Music of Mohamed Abdel Wahab/01 Al Hinna.wav",
          "path": "./Test2/Simon Shaheen/The Music of Mohamed Abdel Wahab/01 Al Hinna.wav",
          "x": 1.9996616840362549,
          "y": -8.014774322509766
         },
         {
          "color": 2,
          "filename": "./Test2/Simon Shaheen/The Music of Mohamed Abdel Wahab/04 Ibnil Balad.wav",
          "path": "./Test2/Simon Shaheen/The Music of Mohamed Abdel Wahab/04 Ibnil Balad.wav",
          "x": -1.854575753211975,
          "y": -5.971922397613525
         },
         {
          "color": 1,
          "filename": "./Test2/Oum Kalthoum/Enta omry/1-01 Untitled.wav",
          "path": "./Test2/Oum Kalthoum/Enta omry/1-01 Untitled.wav",
          "x": 1.5685124397277832,
          "y": -10.628645896911621
         },
         {
          "color": 1,
          "filename": "./Test2/Oum Kalthoum/El Atlaal/15-01 Untitled.wav",
          "path": "./Test2/Oum Kalthoum/El Atlaal/15-01 Untitled.wav",
          "x": 7.098825931549072,
          "y": -12.029545783996582
         },
         {
          "color": 3,
          "filename": "./Test2/Oum Kalthoum/Raq El Habeeb/01 Raq El Habeeb.wav",
          "path": "./Test2/Oum Kalthoum/Raq El Habeeb/01 Raq El Habeeb.wav",
          "x": -7.375377178192139,
          "y": 18.509525299072266
         },
         {
          "color": 1,
          "filename": "./Test2/Oum Kalthoum/Al Atlal/01 Al Atlal.wav",
          "path": "./Test2/Oum Kalthoum/Al Atlal/01 Al Atlal.wav",
          "x": 2.6023895740509033,
          "y": -11.81113052368164
         },
         {
          "color": 2,
          "filename": "./Test2/Oum Kalthoum/Hagartak/01 Ajartak.wav",
          "path": "./Test2/Oum Kalthoum/Hagartak/01 Ajartak.wav",
          "x": 0.17262597382068634,
          "y": -12.567197799682617
         },
         {
          "color": 1,
          "filename": "./Test2/Oum Kalthoum/Dart Alayam/01 Daret El Ayam.wav",
          "path": "./Test2/Oum Kalthoum/Dart Alayam/01 Daret El Ayam.wav",
          "x": 3.0005974769592285,
          "y": -12.844745635986328
         },
         {
          "color": 2,
          "filename": "./Test2/Ali Jihad Racy/Mystical Legacies/01 Sufi Medley.wav",
          "path": "./Test2/Ali Jihad Racy/Mystical Legacies/01 Sufi Medley.wav",
          "x": -3.65920352935791,
          "y": -13.675509452819824
         },
         {
          "color": 3,
          "filename": "./Test2/Ali Jihad Racy/Mystical Legacies/02 Taqasim & Sama'i Bayyati Al-Arayan.wav",
          "path": "./Test2/Ali Jihad Racy/Mystical Legacies/02 Taqasim & Sama'i Bayyati Al-Arayan.wav",
          "x": -0.5194017887115479,
          "y": 14.01905632019043
         },
         {
          "color": 1,
          "filename": "./Test2/Ali Jihad Racy/Mystical Legacies/07 Enchanting Magic.wav",
          "path": "./Test2/Ali Jihad Racy/Mystical Legacies/07 Enchanting Magic.wav",
          "x": 8.41795539855957,
          "y": -14.05496597290039
         },
         {
          "color": 4,
          "filename": "./Test2/Ali Jihad Racy/Mystical Legacies/04 Taqasim & Dama'I Nahawand Racy.wav",
          "path": "./Test2/Ali Jihad Racy/Mystical Legacies/04 Taqasim & Dama'I Nahawand Racy.wav",
          "x": 7.287648677825928,
          "y": 6.599252700805664
         },
         {
          "color": 1,
          "filename": "./Test2/Ali Jihad Racy/Mystical Legacies/05 Themes of Yearning.wav",
          "path": "./Test2/Ali Jihad Racy/Mystical Legacies/05 Themes of Yearning.wav",
          "x": 8.707389831542969,
          "y": -13.89867115020752
         },
         {
          "color": 3,
          "filename": "./Test2/Ali Jihad Racy/Mystical Legacies/06 Strumming Magic.wav",
          "path": "./Test2/Ali Jihad Racy/Mystical Legacies/06 Strumming Magic.wav",
          "x": -1.796506643295288,
          "y": 7.987022399902344
         },
         {
          "color": 4,
          "filename": "./Test2/Ali Jihad Racy/Mystical Legacies/10 Breeze of Nostalgia.wav",
          "path": "./Test2/Ali Jihad Racy/Mystical Legacies/10 Breeze of Nostalgia.wav",
          "x": 7.232033729553223,
          "y": 9.391650199890137
         },
         {
          "color": 4,
          "filename": "./Test2/Ali Jihad Racy/Mystical Legacies/08 Taqasim Hijaz.wav",
          "path": "./Test2/Ali Jihad Racy/Mystical Legacies/08 Taqasim Hijaz.wav",
          "x": 7.104756832122803,
          "y": 10.985466003417969
         },
         {
          "color": 4,
          "filename": "./Test2/Ali Jihad Racy/Mystical Legacies/09 Saba Medley.wav",
          "path": "./Test2/Ali Jihad Racy/Mystical Legacies/09 Saba Medley.wav",
          "x": 6.466156482696533,
          "y": 11.070564270019531
         },
         {
          "color": 2,
          "filename": "./Test2/Ali Jihad Racy/Mystical Legacies/03 Moorish Impressions.wav",
          "path": "./Test2/Ali Jihad Racy/Mystical Legacies/03 Moorish Impressions.wav",
          "x": -8.075576782226562,
          "y": -13.919075965881348
         },
         {
          "color": 1,
          "filename": "./Test2/Ali Jihad Racy/When The Rivers Met.._/10 Hasbani.wav",
          "path": "./Test2/Ali Jihad Racy/When The Rivers Met.._/10 Hasbani.wav",
          "x": 6.245737075805664,
          "y": -3.4358041286468506
         },
         {
          "color": 2,
          "filename": "./Test2/Ali Jihad Racy/When The Rivers Met.._/02 Eternal Flow.wav",
          "path": "./Test2/Ali Jihad Racy/When The Rivers Met.._/02 Eternal Flow.wav",
          "x": 0.794105589389801,
          "y": -14.305648803710938
         },
         {
          "color": 2,
          "filename": "./Test2/Ali Jihad Racy/When The Rivers Met.._/01 Rivers.wav",
          "path": "./Test2/Ali Jihad Racy/When The Rivers Met.._/01 Rivers.wav",
          "x": 0.8791770339012146,
          "y": -14.397346496582031
         },
         {
          "color": 2,
          "filename": "./Test2/Ali Jihad Racy/When The Rivers Met.._/07 Valley Of Hope.wav",
          "path": "./Test2/Ali Jihad Racy/When The Rivers Met.._/07 Valley Of Hope.wav",
          "x": 1.101353406906128,
          "y": -15.237930297851562
         },
         {
          "color": 3,
          "filename": "./Test2/Ali Jihad Racy/When The Rivers Met.._/08 Revitalization.wav",
          "path": "./Test2/Ali Jihad Racy/When The Rivers Met.._/08 Revitalization.wav",
          "x": -9.994007110595703,
          "y": 12.088187217712402
         },
         {
          "color": 1,
          "filename": "./Test2/Ali Jihad Racy/When The Rivers Met.._/06 Meadows Of Gold.wav",
          "path": "./Test2/Ali Jihad Racy/When The Rivers Met.._/06 Meadows Of Gold.wav",
          "x": 7.656493186950684,
          "y": -14.535301208496094
         },
         {
          "color": 3,
          "filename": "./Test2/Ali Jihad Racy/When The Rivers Met.._/11 Elixir Of Life.wav",
          "path": "./Test2/Ali Jihad Racy/When The Rivers Met.._/11 Elixir Of Life.wav",
          "x": 2.334801197052002,
          "y": 12.41187572479248
         },
         {
          "color": 1,
          "filename": "./Test2/Ali Jihad Racy/When The Rivers Met.._/12 Embrace Of The Sea.wav",
          "path": "./Test2/Ali Jihad Racy/When The Rivers Met.._/12 Embrace Of The Sea.wav",
          "x": 7.0184831619262695,
          "y": -14.1805419921875
         },
         {
          "color": 4,
          "filename": "./Test2/Ali Jihad Racy/When The Rivers Met.._/05 Fountain Of Youth.wav",
          "path": "./Test2/Ali Jihad Racy/When The Rivers Met.._/05 Fountain Of Youth.wav",
          "x": 2.9166765213012695,
          "y": 1.8865716457366943
         },
         {
          "color": 2,
          "filename": "./Test2/Ali Jihad Racy/When The Rivers Met.._/03 Silver Drops.wav",
          "path": "./Test2/Ali Jihad Racy/When The Rivers Met.._/03 Silver Drops.wav",
          "x": 0.7297644019126892,
          "y": -13.795859336853027
         },
         {
          "color": 3,
          "filename": "./Test2/Ali Jihad Racy/When The Rivers Met.._/09 Good Earth.wav",
          "path": "./Test2/Ali Jihad Racy/When The Rivers Met.._/09 Good Earth.wav",
          "x": -1.31281316280365,
          "y": 8.959028244018555
         },
         {
          "color": 2,
          "filename": "./Test2/Ali Jihad Racy/When The Rivers Met.._/04 Festival Of Lights.wav",
          "path": "./Test2/Ali Jihad Racy/When The Rivers Met.._/04 Festival Of Lights.wav",
          "x": -0.740460991859436,
          "y": -14.50266170501709
         },
         {
          "color": 4,
          "filename": "./Test2/Ali Jihad Racy/Taqasim_ The Art of Improvisation in Arabic Music/03 Maqam Bayyati.wav",
          "path": "./Test2/Ali Jihad Racy/Taqasim_ The Art of Improvisation in Arabic Music/03 Maqam Bayyati.wav",
          "x": 9.151520729064941,
          "y": 7.861520290374756
         },
         {
          "color": 0,
          "filename": "./Test2/Ali Jihad Racy/Taqasim_ The Art of Improvisation in Arabic Music/01 Maqam Kurd.wav",
          "path": "./Test2/Ali Jihad Racy/Taqasim_ The Art of Improvisation in Arabic Music/01 Maqam Kurd.wav",
          "x": -3.9580650329589844,
          "y": 4.645235061645508
         },
         {
          "color": 4,
          "filename": "./Test2/Ali Jihad Racy/Taqasim_ The Art of Improvisation in Arabic Music/02 Maqam Nahawand.wav",
          "path": "./Test2/Ali Jihad Racy/Taqasim_ The Art of Improvisation in Arabic Music/02 Maqam Nahawand.wav",
          "x": 5.361339569091797,
          "y": 9.37703800201416
         },
         {
          "color": 2,
          "filename": "./Test2/Ali Jihad Racy/Ancient Egypt/07 Hymn For The Sunrise.wav",
          "path": "./Test2/Ali Jihad Racy/Ancient Egypt/07 Hymn For The Sunrise.wav",
          "x": -4.551878929138184,
          "y": -11.784862518310547
         },
         {
          "color": 2,
          "filename": "./Test2/Ali Jihad Racy/Ancient Egypt/03 Hymn to Osiris.wav",
          "path": "./Test2/Ali Jihad Racy/Ancient Egypt/03 Hymn to Osiris.wav",
          "x": 1.6946330070495605,
          "y": -13.659173965454102
         },
         {
          "color": 4,
          "filename": "./Test2/Ali Jihad Racy/Ancient Egypt/02 The Land Of The Blessed.wav",
          "path": "./Test2/Ali Jihad Racy/Ancient Egypt/02 The Land Of The Blessed.wav",
          "x": 5.803358554840088,
          "y": 10.230320930480957
         },
         {
          "color": 4,
          "filename": "./Test2/Ali Jihad Racy/Ancient Egypt/01 The Lamentations of Isis.wav",
          "path": "./Test2/Ali Jihad Racy/Ancient Egypt/01 The Lamentations of Isis.wav",
          "x": 0.3343430161476135,
          "y": 4.451970100402832
         },
         {
          "color": 2,
          "filename": "./Test2/Ali Jihad Racy/Ancient Egypt/08 The Triumph Of The Deceased.wav",
          "path": "./Test2/Ali Jihad Racy/Ancient Egypt/08 The Triumph Of The Deceased.wav",
          "x": -2.0542335510253906,
          "y": -13.3111572265625
         },
         {
          "color": 2,
          "filename": "./Test2/Ali Jihad Racy/Ancient Egypt/05 The Holy Lotus.wav",
          "path": "./Test2/Ali Jihad Racy/Ancient Egypt/05 The Holy Lotus.wav",
          "x": -3.905693531036377,
          "y": -13.523337364196777
         },
         {
          "color": 1,
          "filename": "./Test2/Ali Jihad Racy/Ancient Egypt/06 Funeral Procession.wav",
          "path": "./Test2/Ali Jihad Racy/Ancient Egypt/06 Funeral Procession.wav",
          "x": 4.41430139541626,
          "y": -14.093884468078613
         },
         {
          "color": 2,
          "filename": "./Test2/Ali Jihad Racy/Ancient Egypt/04 The Boat of Millions of Years.wav",
          "path": "./Test2/Ali Jihad Racy/Ancient Egypt/04 The Boat of Millions of Years.wav",
          "x": 1.1509160995483398,
          "y": -14.662769317626953
         },
         {
          "color": 1,
          "filename": "./Test2/Ensemble Muhammad Bin Faris/The Sawt Of Bahrain/03 Qala Ibn al-Ashraf.wav",
          "path": "./Test2/Ensemble Muhammad Bin Faris/The Sawt Of Bahrain/03 Qala Ibn al-Ashraf.wav",
          "x": 6.570627212524414,
          "y": -8.432014465332031
         },
         {
          "color": 0,
          "filename": "./Test2/Ensemble Muhammad Bin Faris/The Sawt Of Bahrain/02 Dam'i Jara Bi-L-Khudud.wav",
          "path": "./Test2/Ensemble Muhammad Bin Faris/The Sawt Of Bahrain/02 Dam'i Jara Bi-L-Khudud.wav",
          "x": -6.944477558135986,
          "y": -0.9240100383758545
         },
         {
          "color": 0,
          "filename": "./Test2/Ensemble Muhammad Bin Faris/The Sawt Of Bahrain/05 Wabiruhi Min Al-Ghid.wav",
          "path": "./Test2/Ensemble Muhammad Bin Faris/The Sawt Of Bahrain/05 Wabiruhi Min Al-Ghid.wav",
          "x": -9.379029273986816,
          "y": 0.9574278593063354
         },
         {
          "color": 2,
          "filename": "./Test2/Ensemble Muhammad Bin Faris/The Sawt Of Bahrain/06 Ma Li-Ghusn Al-Dhahab.wav",
          "path": "./Test2/Ensemble Muhammad Bin Faris/The Sawt Of Bahrain/06 Ma Li-Ghusn Al-Dhahab.wav",
          "x": 1.1715195178985596,
          "y": -12.53940486907959
         },
         {
          "color": 0,
          "filename": "./Test2/Ensemble Muhammad Bin Faris/The Sawt Of Bahrain/04 Nasi Wa La Yadri.wav",
          "path": "./Test2/Ensemble Muhammad Bin Faris/The Sawt Of Bahrain/04 Nasi Wa La Yadri.wav",
          "x": -2.134201765060425,
          "y": 3.683612823486328
         },
         {
          "color": 2,
          "filename": "./Test2/Ensemble Muhammad Bin Faris/The Sawt Of Bahrain/01 Yushawwiquni Barqun.wav",
          "path": "./Test2/Ensemble Muhammad Bin Faris/The Sawt Of Bahrain/01 Yushawwiquni Barqun.wav",
          "x": -0.6284506916999817,
          "y": -12.479888916015625
         },
         {
          "color": 1,
          "filename": "./Test2/Dariush Talai/The Radif of Mirza Abdollah - Volume 3/39 Dastgah-e Segah - Masihi.wav",
          "path": "./Test2/Dariush Talai/The Radif of Mirza Abdollah - Volume 3/39 Dastgah-e Segah - Masihi.wav",
          "x": 4.6440348625183105,
          "y": -7.932093143463135
         },
         {
          "color": 1,
          "filename": "./Test2/Dariush Talai/The Radif of Mirza Abdollah - Volume 3/21 Dastgah-e Nava - Reng-e Nava.wav",
          "path": "./Test2/Dariush Talai/The Radif of Mirza Abdollah - Volume 3/21 Dastgah-e Nava - Reng-e Nava.wav",
          "x": 1.8453738689422607,
          "y": -4.369358539581299
         },
         {
          "color": 4,
          "filename": "./Test2/Dariush Talai/The Radif of Mirza Abdollah - Volume 3/17 Dastgah-e Nava - Hoseyn.wav",
          "path": "./Test2/Dariush Talai/The Radif of Mirza Abdollah - Volume 3/17 Dastgah-e Nava - Hoseyn.wav",
          "x": 0.48245206475257874,
          "y": 5.349647045135498
         },
         {
          "color": 1,
          "filename": "./Test2/Dariush Talai/The Radif of Mirza Abdollah - Volume 3/30 Dastgah-e Segah - Muyeh.wav",
          "path": "./Test2/Dariush Talai/The Radif of Mirza Abdollah - Volume 3/30 Dastgah-e Segah - Muyeh.wav",
          "x": 4.909366607666016,
          "y": -6.081238269805908
         },
         {
          "color": 3,
          "filename": "./Test2/Dariush Talai/The Radif of Mirza Abdollah - Volume 3/22 Dastgah-e Segah - Crmezrab.wav",
          "path": "./Test2/Dariush Talai/The Radif of Mirza Abdollah - Volume 3/22 Dastgah-e Segah - Crmezrab.wav",
          "x": -1.2171415090560913,
          "y": 8.49276351928711
         },
         {
          "color": 4,
          "filename": "./Test2/Dariush Talai/The Radif of Mirza Abdollah - Volume 3/43 Avaz-e Afshari - Daramad.wav",
          "path": "./Test2/Dariush Talai/The Radif of Mirza Abdollah - Volume 3/43 Avaz-e Afshari - Daramad.wav",
          "x": 3.461972951889038,
          "y": 8.509125709533691
         },
         {
          "color": 4,
          "filename": "./Test2/Dariush Talai/The Radif of Mirza Abdollah - Volume 3/27 Dastgah-e Segah - Zang-e shotor.wav",
          "path": "./Test2/Dariush Talai/The Radif of Mirza Abdollah - Volume 3/27 Dastgah-e Segah - Zang-e shotor.wav",
          "x": 9.159466743469238,
          "y": 2.8221561908721924
         },
         {
          "color": 4,
          "filename": "./Test2/Dariush Talai/The Radif of Mirza Abdollah - Volume 3/01 Dastgah-e Nava - Crmezrab.wav",
          "path": "./Test2/Dariush Talai/The Radif of Mirza Abdollah - Volume 3/01 Dastgah-e Nava - Crmezrab.wav",
          "x": 1.820597529411316,
          "y": 3.531665563583374
         },
         {
          "color": 4,
          "filename": "./Test2/Dariush Talai/The Radif of Mirza Abdollah - Volume 3/34 Dastgah-e Segah - Maghlub.wav",
          "path": "./Test2/Dariush Talai/The Radif of Mirza Abdollah - Volume 3/34 Dastgah-e Segah - Maghlub.wav",
          "x": 3.41910457611084,
          "y": 2.0984976291656494
         },
         {
          "color": 1,
          "filename": "./Test2/Dariush Talai/The Radif of Mirza Abdollah - Volume 3/07 Dastgah-e Nava - Bayat-e rajeh.wav",
          "path": "./Test2/Dariush Talai/The Radif of Mirza Abdollah - Volume 3/07 Dastgah-e Nava - Bayat-e rajeh.wav",
          "x": 0.6750340461730957,
          "y": -7.758761882781982
         },
         {
          "color": 4,
          "filename": "./Test2/Dariush Talai/The Radif of Mirza Abdollah - Volume 3/20 Dastgah-e Nava - Reng-e Nastari.wav",
          "path": "./Test2/Dariush Talai/The Radif of Mirza Abdollah - Volume 3/20 Dastgah-e Nava - Reng-e Nastari.wav",
          "x": 4.322194576263428,
          "y": 12.526263236999512
         },
         {
          "color": 2,
          "filename": "./Test2/Dariush Talai/The Radif of Mirza Abdollah - Volume 3/32 Dastgah-e Segah - Haji Hasani.wav",
          "path": "./Test2/Dariush Talai/The Radif of Mirza Abdollah - Volume 3/32 Dastgah-e Segah - Haji Hasani.wav",
          "x": -4.196171283721924,
          "y": -7.672247409820557
         },
         {
          "color": 4,
          "filename": "./Test2/Dariush Talai/The Radif of Mirza Abdollah - Volume 3/19 Dastgah-e Nava - Neyriz.wav",
          "path": "./Test2/Dariush Talai/The Radif of Mirza Abdollah - Volume 3/19 Dastgah-e Nava - Neyriz.wav",
          "x": 1.4709265232086182,
          "y": 9.251620292663574
         },
         {
          "color": 1,
          "filename": "./Test2/Dariush Talai/The Radif of Mirza Abdollah - Volume 3/26 Dastgah-e Segah - Kereshmeh ba Muyeh.wav",
          "path": "./Test2/Dariush Talai/The Radif of Mirza Abdollah - Volume 3/26 Dastgah-e Segah - Kereshmeh ba Muyeh.wav",
          "x": 5.477602958679199,
          "y": -5.992340087890625
         },
         {
          "color": 2,
          "filename": "./Test2/Dariush Talai/The Radif of Mirza Abdollah - Volume 3/23 Dastgah-e Segah - Daramad.wav",
          "path": "./Test2/Dariush Talai/The Radif of Mirza Abdollah - Volume 3/23 Dastgah-e Segah - Daramad.wav",
          "x": -1.2529215812683105,
          "y": -6.3207526206970215
         },
         {
          "color": 2,
          "filename": "./Test2/Dariush Talai/The Radif of Mirza Abdollah - Volume 3/45 Avaz-e Afshari - 'Araq.wav",
          "path": "./Test2/Dariush Talai/The Radif of Mirza Abdollah - Volume 3/45 Avaz-e Afshari - 'Araq.wav",
          "x": -6.56018590927124,
          "y": -5.668493270874023
         },
         {
          "color": 3,
          "filename": "./Test2/Dariush Talai/The Radif of Mirza Abdollah - Volume 3/35 Dastgah-e Segah - Naghmeh [2].wav",
          "path": "./Test2/Dariush Talai/The Radif of Mirza Abdollah - Volume 3/35 Dastgah-e Segah - Naghmeh [2].wav",
          "x": -3.9211535453796387,
          "y": 7.96858549118042
         },
         {
          "color": 0,
          "filename": "./Test2/Dariush Talai/The Radif of Mirza Abdollah - Volume 3/13 Dastgah-e Nava - Neyshaburak.wav",
          "path": "./Test2/Dariush Talai/The Radif of Mirza Abdollah - Volume 3/13 Dastgah-e Nava - Neyshaburak.wav",
          "x": 1.1515413522720337,
          "y": 1.3204553127288818
         },
         {
          "color": 3,
          "filename": "./Test2/Dariush Talai/The Radif of Mirza Abdollah - Volume 3/05 Dastgah-e Nava - Gardunieh.wav",
          "path": "./Test2/Dariush Talai/The Radif of Mirza Abdollah - Volume 3/05 Dastgah-e Nava - Gardunieh.wav",
          "x": 0.08535017818212509,
          "y": 9.76157283782959
         },
         {
          "color": 4,
          "filename": "./Test2/Dariush Talai/The Radif of Mirza Abdollah - Volume 3/41 Dastgah-e Segah - Takht-e Taqdis.wav",
          "path": "./Test2/Dariush Talai/The Radif of Mirza Abdollah - Volume 3/41 Dastgah-e Segah - Takht-e Taqdis.wav",
          "x": 5.012145519256592,
          "y": 7.594917297363281
         },
         {
          "color": 0,
          "filename": "./Test2/Dariush Talai/The Radif of Mirza Abdollah - Volume 3/28 Dastgah-e Segah - Zabol.wav",
          "path": "./Test2/Dariush Talai/The Radif of Mirza Abdollah - Volume 3/28 Dastgah-e Segah - Zabol.wav",
          "x": -0.5986075401306152,
          "y": 1.7376044988632202
         },
         {
          "color": 4,
          "filename": "./Test2/Dariush Talai/The Radif of Mirza Abdollah - Volume 3/06 Dastgah-e Nava - Naghmeh.wav",
          "path": "./Test2/Dariush Talai/The Radif of Mirza Abdollah - Volume 3/06 Dastgah-e Nava - Naghmeh.wav",
          "x": 1.7729326486587524,
          "y": 9.03577995300293
         },
         {
          "color": 1,
          "filename": "./Test2/Dariush Talai/The Radif of Mirza Abdollah - Volume 3/04 Dastgah-e Nava - Kereshmeh.wav",
          "path": "./Test2/Dariush Talai/The Radif of Mirza Abdollah - Volume 3/04 Dastgah-e Nava - Kereshmeh.wav",
          "x": 1.4968596696853638,
          "y": -7.427143096923828
         },
         {
          "color": 1,
          "filename": "./Test2/Dariush Talai/The Radif of Mirza Abdollah - Volume 3/38 Dastgah-e Segah - Rohab.wav",
          "path": "./Test2/Dariush Talai/The Radif of Mirza Abdollah - Volume 3/38 Dastgah-e Segah - Rohab.wav",
          "x": 4.17791223526001,
          "y": -7.824763298034668
         },
         {
          "color": 0,
          "filename": "./Test2/Dariush Talai/The Radif of Mirza Abdollah - Volume 3/36 Dastgah-e Segah - Hazin.wav",
          "path": "./Test2/Dariush Talai/The Radif of Mirza Abdollah - Volume 3/36 Dastgah-e Segah - Hazin.wav",
          "x": -3.4082162380218506,
          "y": -4.535085201263428
         },
         {
          "color": 0,
          "filename": "./Test2/Dariush Talai/The Radif of Mirza Abdollah - Volume 3/02 Dastgah-e Nava - Daramad-e avval.wav",
          "path": "./Test2/Dariush Talai/The Radif of Mirza Abdollah - Volume 3/02 Dastgah-e Nava - Daramad-e avval.wav",
          "x": -0.029022641479969025,
          "y": 2.8584043979644775
         },
         {
          "color": 3,
          "filename": "./Test2/Dariush Talai/The Radif of Mirza Abdollah - Volume 3/10 Dastgah-e Nava - Nahoft.wav",
          "path": "./Test2/Dariush Talai/The Radif of Mirza Abdollah - Volume 3/10 Dastgah-e Nava - Nahoft.wav",
          "x": -9.17992115020752,
          "y": 10.985105514526367
         },
         {
          "color": 4,
          "filename": "./Test2/Dariush Talai/The Radif of Mirza Abdollah - Volume 3/09 Dastgah-e Nava - Oshshaq.wav",
          "path": "./Test2/Dariush Talai/The Radif of Mirza Abdollah - Volume 3/09 Dastgah-e Nava - Oshshaq.wav",
          "x": 0.18049128353595734,
          "y": 6.707289218902588
         },
         {
          "color": 1,
          "filename": "./Test2/Dariush Talai/The Radif of Mirza Abdollah - Volume 3/24 Dastgah-e Segah - Naghmeh.wav",
          "path": "./Test2/Dariush Talai/The Radif of Mirza Abdollah - Volume 3/24 Dastgah-e Segah - Naghmeh.wav",
          "x": 6.9622039794921875,
          "y": -5.8781418800354
         },
         {
          "color": 0,
          "filename": "./Test2/Dariush Talai/The Radif of Mirza Abdollah - Volume 3/03 Dastgah-e Nava - Daramad-e dovvom.wav",
          "path": "./Test2/Dariush Talai/The Radif of Mirza Abdollah - Volume 3/03 Dastgah-e Nava - Daramad-e dovvom.wav",
          "x": -3.6861281394958496,
          "y": 2.5047836303710938
         },
         {
          "color": 0,
          "filename": "./Test2/Dariush Talai/The Radif of Mirza Abdollah - Volume 3/37 Dastgah-e Segah - Muyeh.wav",
          "path": "./Test2/Dariush Talai/The Radif of Mirza Abdollah - Volume 3/37 Dastgah-e Segah - Muyeh.wav",
          "x": -1.2191931009292603,
          "y": 1.9253157377243042
         },
         {
          "color": 3,
          "filename": "./Test2/Dariush Talai/The Radif of Mirza Abdollah - Volume 3/44 Avaz-e Afshari - Basteh-negar.wav",
          "path": "./Test2/Dariush Talai/The Radif of Mirza Abdollah - Volume 3/44 Avaz-e Afshari - Basteh-negar.wav",
          "x": -0.3521493375301361,
          "y": 12.932762145996094
         },
         {
          "color": 4,
          "filename": "./Test2/Dariush Talai/The Radif of Mirza Abdollah - Volume 3/46 Avaz-e Afshari - Qarai.wav",
          "path": "./Test2/Dariush Talai/The Radif of Mirza Abdollah - Volume 3/46 Avaz-e Afshari - Qarai.wav",
          "x": 4.5947794914245605,
          "y": 9.657121658325195
         },
         {
          "color": 0,
          "filename": "./Test2/Dariush Talai/The Radif of Mirza Abdollah - Volume 3/16 Dastgah-e Nava - Malek Hoseyn.wav",
          "path": "./Test2/Dariush Talai/The Radif of Mirza Abdollah - Volume 3/16 Dastgah-e Nava - Malek Hoseyn.wav",
          "x": -8.531895637512207,
          "y": 5.070615768432617
         },
         {
          "color": 4,
          "filename": "./Test2/Dariush Talai/The Radif of Mirza Abdollah - Volume 3/42 Dastgah-e Segah - Reng-e Delgosha.wav",
          "path": "./Test2/Dariush Talai/The Radif of Mirza Abdollah - Volume 3/42 Dastgah-e Segah - Reng-e Delgosha.wav",
          "x": 3.409424066543579,
          "y": 7.710690498352051
         },
         {
          "color": 0,
          "filename": "./Test2/Dariush Talai/The Radif of Mirza Abdollah - Volume 3/31 Dastgah-e Segah - Mokhalef.wav",
          "path": "./Test2/Dariush Talai/The Radif of Mirza Abdollah - Volume 3/31 Dastgah-e Segah - Mokhalef.wav",
          "x": -3.4655637741088867,
          "y": 4.045099258422852
         },
         {
          "color": 1,
          "filename": "./Test2/Dariush Talai/The Radif of Mirza Abdollah - Volume 3/11 Dastgah-e Nava - Gavesht.wav",
          "path": "./Test2/Dariush Talai/The Radif of Mirza Abdollah - Volume 3/11 Dastgah-e Nava - Gavesht.wav",
          "x": 2.824974775314331,
          "y": -4.450173377990723
         },
         {
          "color": 4,
          "filename": "./Test2/Dariush Talai/The Radif of Mirza Abdollah - Volume 3/40 Dastgah-e Segah - Shah khata'i.wav",
          "path": "./Test2/Dariush Talai/The Radif of Mirza Abdollah - Volume 3/40 Dastgah-e Segah - Shah khata'i.wav",
          "x": 4.397489070892334,
          "y": 9.83620834350586
         },
         {
          "color": 1,
          "filename": "./Test2/Dariush Talai/The Radif of Mirza Abdollah - Volume 3/18 Dastgah-e Nava - Busalik.wav",
          "path": "./Test2/Dariush Talai/The Radif of Mirza Abdollah - Volume 3/18 Dastgah-e Nava - Busalik.wav",
          "x": 4.934750080108643,
          "y": -7.2251410484313965
         },
         {
          "color": 4,
          "filename": "./Test2/Dariush Talai/The Radif of Mirza Abdollah - Volume 3/29 Dastgah-e Segah - Basteh-negar.wav",
          "path": "./Test2/Dariush Talai/The Radif of Mirza Abdollah - Volume 3/29 Dastgah-e Segah - Basteh-negar.wav",
          "x": 5.940183162689209,
          "y": 6.247245788574219
         },
         {
          "color": 4,
          "filename": "./Test2/Dariush Talai/The Radif of Mirza Abdollah - Volume 3/14 Dastgah-e Nava - Majosli.wav",
          "path": "./Test2/Dariush Talai/The Radif of Mirza Abdollah - Volume 3/14 Dastgah-e Nava - Majosli.wav",
          "x": 1.511805772781372,
          "y": 6.531857013702393
         },
         {
          "color": 4,
          "filename": "./Test2/Dariush Talai/The Radif of Mirza Abdollah - Volume 3/08 Dastgah-e Nava - Hazin.wav",
          "path": "./Test2/Dariush Talai/The Radif of Mirza Abdollah - Volume 3/08 Dastgah-e Nava - Hazin.wav",
          "x": 2.4444353580474854,
          "y": 9.59675407409668
         },
         {
          "color": 0,
          "filename": "./Test2/Dariush Talai/The Radif of Mirza Abdollah - Volume 3/15 Dastgah-e Nava - Khojasteh.wav",
          "path": "./Test2/Dariush Talai/The Radif of Mirza Abdollah - Volume 3/15 Dastgah-e Nava - Khojasteh.wav",
          "x": 1.6780575513839722,
          "y": 1.2165054082870483
         },
         {
          "color": 2,
          "filename": "./Test2/Dariush Talai/The Radif of Mirza Abdollah - Volume 3/33 Dastgah-e Segah - Basteh negar [2].wav",
          "path": "./Test2/Dariush Talai/The Radif of Mirza Abdollah - Volume 3/33 Dastgah-e Segah - Basteh negar [2].wav",
          "x": -3.744367837905884,
          "y": -7.038605213165283
         },
         {
          "color": 4,
          "filename": "./Test2/Dariush Talai/The Radif of Mirza Abdollah - Volume 3/25 Dastgah-e Segah - Kereshmeh.wav",
          "path": "./Test2/Dariush Talai/The Radif of Mirza Abdollah - Volume 3/25 Dastgah-e Segah - Kereshmeh.wav",
          "x": 5.353800296783447,
          "y": 2.7661380767822266
         },
         {
          "color": 4,
          "filename": "./Test2/Dariush Talai/The Radif of Mirza Abdollah - Volume 3/12 Dastgah-e Nava - Ashiran.wav",
          "path": "./Test2/Dariush Talai/The Radif of Mirza Abdollah - Volume 3/12 Dastgah-e Nava - Ashiran.wav",
          "x": 1.5303287506103516,
          "y": 6.720559597015381
         },
         {
          "color": 0,
          "filename": "./Test2/Dariush Talai/The Radif of Mirza Abdollah - Volume 4/12 Dastgah-e Mahur - Neyshaburak.wav",
          "path": "./Test2/Dariush Talai/The Radif of Mirza Abdollah - Volume 4/12 Dastgah-e Mahur - Neyshaburak.wav",
          "x": -1.9833214282989502,
          "y": 1.006553292274475
         },
         {
          "color": 4,
          "filename": "./Test2/Dariush Talai/The Radif of Mirza Abdollah - Volume 4/33 Dastgah-e Mahur - Kereshmeh-ye Rak.wav",
          "path": "./Test2/Dariush Talai/The Radif of Mirza Abdollah - Volume 4/33 Dastgah-e Mahur - Kereshmeh-ye Rak.wav",
          "x": 6.080206394195557,
          "y": 2.9139020442962646
         },
         {
          "color": 4,
          "filename": "./Test2/Dariush Talai/The Radif of Mirza Abdollah - Volume 4/48 Avaz-e Bayat-e Tork - Feyli.wav",
          "path": "./Test2/Dariush Talai/The Radif of Mirza Abdollah - Volume 4/48 Avaz-e Bayat-e Tork - Feyli.wav",
          "x": 1.502923607826233,
          "y": 8.789006233215332
         },
         {
          "color": 4,
          "filename": "./Test2/Dariush Talai/The Radif of Mirza Abdollah - Volume 4/09 Dastgah-e Mahur - Crmezrab va forud.wav",
          "path": "./Test2/Dariush Talai/The Radif of Mirza Abdollah - Volume 4/09 Dastgah-e Mahur - Crmezrab va forud.wav",
          "x": 4.230752468109131,
          "y": 6.438473701477051
         },
         {
          "color": 1,
          "filename": "./Test2/Dariush Talai/The Radif of Mirza Abdollah - Volume 4/34 Dastgah-e Mahur - Safir-e Rak.wav",
          "path": "./Test2/Dariush Talai/The Radif of Mirza Abdollah - Volume 4/34 Dastgah-e Mahur - Safir-e Rak.wav",
          "x": 3.8464043140411377,
          "y": -5.05379056930542
         },
         {
          "color": 1,
          "filename": "./Test2/Dariush Talai/The Radif of Mirza Abdollah - Volume 4/03 Dastgah-e Mahur - Avaz.wav",
          "path": "./Test2/Dariush Talai/The Radif of Mirza Abdollah - Volume 4/03 Dastgah-e Mahur - Avaz.wav",
          "x": 1.36827552318573,
          "y": -5.464308738708496
         },
         {
          "color": 4,
          "filename": "./Test2/Dariush Talai/The Radif of Mirza Abdollah - Volume 4/28 Dastgah-e Mahur - Kereshmeh [2].wav",
          "path": "./Test2/Dariush Talai/The Radif of Mirza Abdollah - Volume 4/28 Dastgah-e Mahur - Kereshmeh [2].wav",
          "x": 5.952369213104248,
          "y": 10.826608657836914
         },
         {
          "color": 4,
          "filename": "./Test2/Dariush Talai/The Radif of Mirza Abdollah - Volume 4/22 Dastgah-e Mahur - 'Araq.wav",
          "path": "./Test2/Dariush Talai/The Radif of Mirza Abdollah - Volume 4/22 Dastgah-e Mahur - 'Araq.wav",
          "x": 5.844635963439941,
          "y": 2.6890604496002197
         },
         {
          "color": 4,
          "filename": "./Test2/Dariush Talai/The Radif of Mirza Abdollah - Volume 4/19 Dastgah-e Mahur - Zir-afkand.wav",
          "path": "./Test2/Dariush Talai/The Radif of Mirza Abdollah - Volume 4/19 Dastgah-e Mahur - Zir-afkand.wav",
          "x": 3.011512517929077,
          "y": 6.5785908699035645
         },
         {
          "color": 1,
          "filename": "./Test2/Dariush Talai/The Radif of Mirza Abdollah - Volume 4/47 Avaz-e Bayat-e Tork - Naghmeh.wav",
          "path": "./Test2/Dariush Talai/The Radif of Mirza Abdollah - Volume 4/47 Avaz-e Bayat-e Tork - Naghmeh.wav",
          "x": 2.984743356704712,
          "y": -6.867668151855469
         },
         {
          "color": 4,
          "filename": "./Test2/Dariush Talai/The Radif of Mirza Abdollah - Volume 4/20 Dastgah-e Mahur - Neyriz.wav",
          "path": "./Test2/Dariush Talai/The Radif of Mirza Abdollah - Volume 4/20 Dastgah-e Mahur - Neyriz.wav",
          "x": 1.3226914405822754,
          "y": 8.862014770507812
         },
         {
          "color": 3,
          "filename": "./Test2/Dariush Talai/The Radif of Mirza Abdollah - Volume 4/05 Dastgah-e Mahur - Dad.wav",
          "path": "./Test2/Dariush Talai/The Radif of Mirza Abdollah - Volume 4/05 Dastgah-e Mahur - Dad.wav",
          "x": 0.4405078589916229,
          "y": 9.520328521728516
         },
         {
          "color": 1,
          "filename": "./Test2/Dariush Talai/The Radif of Mirza Abdollah - Volume 4/54 Avaz-e Bayat-e Tork - Qatar.wav",
          "path": "./Test2/Dariush Talai/The Radif of Mirza Abdollah - Volume 4/54 Avaz-e Bayat-e Tork - Qatar.wav",
          "x": 4.639955997467041,
          "y": -4.709470748901367
         },
         {
          "color": 4,
          "filename": "./Test2/Dariush Talai/The Radif of Mirza Abdollah - Volume 4/07 Dastgah-e Mahur - Khosravani.wav",
          "path": "./Test2/Dariush Talai/The Radif of Mirza Abdollah - Volume 4/07 Dastgah-e Mahur - Khosravani.wav",
          "x": 2.95135760307312,
          "y": 1.6506139039993286
         },
         {
          "color": 3,
          "filename": "./Test2/Dariush Talai/The Radif of Mirza Abdollah - Volume 4/49 Avaz-e Bayat-e Tork - Shekasteh.wav",
          "path": "./Test2/Dariush Talai/The Radif of Mirza Abdollah - Volume 4/49 Avaz-e Bayat-e Tork - Shekasteh.wav",
          "x": -4.278696060180664,
          "y": 9.269651412963867
         },
         {
          "color": 4,
          "filename": "./Test2/Dariush Talai/The Radif of Mirza Abdollah - Volume 4/01 Dastgah-e Mahur - Daramad.wav",
          "path": "./Test2/Dariush Talai/The Radif of Mirza Abdollah - Volume 4/01 Dastgah-e Mahur - Daramad.wav",
          "x": 6.795103549957275,
          "y": 4.9403886795043945
         },
         {
          "color": 1,
          "filename": "./Test2/Dariush Talai/The Radif of Mirza Abdollah - Volume 4/14 Dastgah-e Mahur - Crpareh (Moradkhani).wav",
          "path": "./Test2/Dariush Talai/The Radif of Mirza Abdollah - Volume 4/14 Dastgah-e Mahur - Crpareh (Moradkhani).wav",
          "x": 2.438762664794922,
          "y": -3.3171873092651367
         },
         {
          "color": 1,
          "filename": "./Test2/Dariush Talai/The Radif of Mirza Abdollah - Volume 4/40 Avaz-e Bayat-e Tork - Dogah.wav",
          "path": "./Test2/Dariush Talai/The Radif of Mirza Abdollah - Volume 4/40 Avaz-e Bayat-e Tork - Dogah.wav",
          "x": 3.6098504066467285,
          "y": -7.439064979553223
         },
         {
          "color": 1,
          "filename": "./Test2/Dariush Talai/The Radif of Mirza Abdollah - Volume 4/42 Avaz-e Bayat-e Tork - Daramad-e sevvom.wav",
          "path": "./Test2/Dariush Talai/The Radif of Mirza Abdollah - Volume 4/42 Avaz-e Bayat-e Tork - Daramad-e sevvom.wav",
          "x": 4.735455513000488,
          "y": -7.839421272277832
         },
         {
          "color": 1,
          "filename": "./Test2/Dariush Talai/The Radif of Mirza Abdollah - Volume 4/36 Dastgah-e Mahur - Reng-e Yekchubeh.wav",
          "path": "./Test2/Dariush Talai/The Radif of Mirza Abdollah - Volume 4/36 Dastgah-e Mahur - Reng-e Yekchubeh.wav",
          "x": 5.892942905426025,
          "y": -4.025513648986816
         },
         {
          "color": 1,
          "filename": "./Test2/Dariush Talai/The Radif of Mirza Abdollah - Volume 4/29 Dastgah-e Mahur - Zanguleh.wav",
          "path": "./Test2/Dariush Talai/The Radif of Mirza Abdollah - Volume 4/29 Dastgah-e Mahur - Zanguleh.wav",
          "x": 4.1336669921875,
          "y": -1.9610813856124878
         },
         {
          "color": 4,
          "filename": "./Test2/Dariush Talai/The Radif of Mirza Abdollah - Volume 4/15 Dastgah-e Mahur - Feyli.wav",
          "path": "./Test2/Dariush Talai/The Radif of Mirza Abdollah - Volume 4/15 Dastgah-e Mahur - Feyli.wav",
          "x": 3.1157193183898926,
          "y": 4.194473743438721
         },
         {
          "color": 3,
          "filename": "./Test2/Dariush Talai/The Radif of Mirza Abdollah - Volume 4/17 Dastgah-e Mahur - Azarbayjani.wav",
          "path": "./Test2/Dariush Talai/The Radif of Mirza Abdollah - Volume 4/17 Dastgah-e Mahur - Azarbayjani.wav",
          "x": 0.2644512951374054,
          "y": 9.304131507873535
         },
         {
          "color": 1,
          "filename": "./Test2/Dariush Talai/The Radif of Mirza Abdollah - Volume 4/04 Dastgah-e Mahur - Moqaddameh-ye Dad.wav",
          "path": "./Test2/Dariush Talai/The Radif of Mirza Abdollah - Volume 4/04 Dastgah-e Mahur - Moqaddameh-ye Dad.wav",
          "x": 2.684429168701172,
          "y": -7.862948894500732
         },
         {
          "color": 4,
          "filename": "./Test2/Dariush Talai/The Radif of Mirza Abdollah - Volume 4/39 Avaz-e Bayat-e Tork - Daramad-e avval.wav",
          "path": "./Test2/Dariush Talai/The Radif of Mirza Abdollah - Volume 4/39 Avaz-e Bayat-e Tork - Daramad-e avval.wav",
          "x": 4.714644908905029,
          "y": 6.727077007293701
         },
         {
          "color": 1,
          "filename": "./Test2/Dariush Talai/The Radif of Mirza Abdollah - Volume 4/06 Dastgah-e Mahur - Majles afruz.wav",
          "path": "./Test2/Dariush Talai/The Radif of Mirza Abdollah - Volume 4/06 Dastgah-e Mahur - Majles afruz.wav",
          "x": 1.4382811784744263,
          "y": -6.5235676765441895
         },
         {
          "color": 4,
          "filename": "./Test2/Dariush Talai/The Radif of Mirza Abdollah - Volume 4/53 Avaz-e Bayat-e Tork - Ruh ol-arvah.wav",
          "path": "./Test2/Dariush Talai/The Radif of Mirza Abdollah - Volume 4/53 Avaz-e Bayat-e Tork - Ruh ol-arvah.wav",
          "x": 4.9251203536987305,
          "y": 1.8493752479553223
         },
         {
          "color": 1,
          "filename": "./Test2/Dariush Talai/The Radif of Mirza Abdollah - Volume 4/30 Dastgah-e Mahur - Rak-e Hendi.wav",
          "path": "./Test2/Dariush Talai/The Radif of Mirza Abdollah - Volume 4/30 Dastgah-e Mahur - Rak-e Hendi.wav",
          "x": 1.955820083618164,
          "y": -5.265902519226074
         },
         {
          "color": 1,
          "filename": "./Test2/Dariush Talai/The Radif of Mirza Abdollah - Volume 4/23 Dastgah-e Mahur - Nahib.wav",
          "path": "./Test2/Dariush Talai/The Radif of Mirza Abdollah - Volume 4/23 Dastgah-e Mahur - Nahib.wav",
          "x": 5.510895729064941,
          "y": -7.842883110046387
         },
         {
          "color": 4,
          "filename": "./Test2/Dariush Talai/The Radif of Mirza Abdollah - Volume 4/52 Avaz-e Bayat-e Tork - Mehdi Zarrabi.wav",
          "path": "./Test2/Dariush Talai/The Radif of Mirza Abdollah - Volume 4/52 Avaz-e Bayat-e Tork - Mehdi Zarrabi.wav",
          "x": 4.451351165771484,
          "y": 1.5346170663833618
         },
         {
          "color": 1,
          "filename": "./Test2/Dariush Talai/The Radif of Mirza Abdollah - Volume 4/25 Dastgah-e Mahur - Ashur-avand.wav",
          "path": "./Test2/Dariush Talai/The Radif of Mirza Abdollah - Volume 4/25 Dastgah-e Mahur - Ashur-avand.wav",
          "x": 0.1524762660264969,
          "y": -7.4894280433654785
         },
         {
          "color": 4,
          "filename": "./Test2/Dariush Talai/The Radif of Mirza Abdollah - Volume 4/32 Dastgah-e Mahur - Rak-e 'Abdollah.wav",
          "path": "./Test2/Dariush Talai/The Radif of Mirza Abdollah - Volume 4/32 Dastgah-e Mahur - Rak-e 'Abdollah.wav",
          "x": 2.2281653881073,
          "y": 1.6781350374221802
         },
         {
          "color": 4,
          "filename": "./Test2/Dariush Talai/The Radif of Mirza Abdollah - Volume 4/10 Dastgah-e Mahur - Kavaran.wav",
          "path": "./Test2/Dariush Talai/The Radif of Mirza Abdollah - Volume 4/10 Dastgah-e Mahur - Kavaran.wav",
          "x": 3.245363473892212,
          "y": 1.8216062784194946
         },
         {
          "color": 1,
          "filename": "./Test2/Dariush Talai/The Radif of Mirza Abdollah - Volume 4/24 Dastgah-e Mahur - Mohayyer.wav",
          "path": "./Test2/Dariush Talai/The Radif of Mirza Abdollah - Volume 4/24 Dastgah-e Mahur - Mohayyer.wav",
          "x": 6.0014424324035645,
          "y": -3.404425859451294
         },
         {
          "color": 1,
          "filename": "./Test2/Dariush Talai/The Radif of Mirza Abdollah - Volume 4/51 Avaz-e Bayat-e Tork - Jameh-daran.wav",
          "path": "./Test2/Dariush Talai/The Radif of Mirza Abdollah - Volume 4/51 Avaz-e Bayat-e Tork - Jameh-daran.wav",
          "x": 5.135152816772461,
          "y": -1.6425774097442627
         },
         {
          "color": 4,
          "filename": "./Test2/Dariush Talai/The Radif of Mirza Abdollah - Volume 4/45 Avaz-e Bayat-e Tork - Zanguleh.wav",
          "path": "./Test2/Dariush Talai/The Radif of Mirza Abdollah - Volume 4/45 Avaz-e Bayat-e Tork - Zanguleh.wav",
          "x": 4.547906875610352,
          "y": 4.878066539764404
         },
         {
          "color": 3,
          "filename": "./Test2/Dariush Talai/The Radif of Mirza Abdollah - Volume 4/18 Dastgah-e Mahur - Hesar-e mahur (Abol).wav",
          "path": "./Test2/Dariush Talai/The Radif of Mirza Abdollah - Volume 4/18 Dastgah-e Mahur - Hesar-e mahur (Abol).wav",
          "x": -3.7960898876190186,
          "y": 6.098886489868164
         },
         {
          "color": 3,
          "filename": "./Test2/Dariush Talai/The Radif of Mirza Abdollah - Volume 4/13 Dastgah-e Mahur - Nasirkhani (Tusi).wav",
          "path": "./Test2/Dariush Talai/The Radif of Mirza Abdollah - Volume 4/13 Dastgah-e Mahur - Nasirkhani (Tusi).wav",
          "x": 0.26213541626930237,
          "y": 9.295409202575684
         },
         {
          "color": 3,
          "filename": "./Test2/Dariush Talai/The Radif of Mirza Abdollah - Volume 4/38 Dastgah-e Mahur - Saqinameh, Sufinameh, va Koshteh.wav",
          "path": "./Test2/Dariush Talai/The Radif of Mirza Abdollah - Volume 4/38 Dastgah-e Mahur - Saqinameh, Sufinameh, va Koshteh.wav",
          "x": -0.20887917280197144,
          "y": 8.635920524597168
         },
         {
          "color": 4,
          "filename": "./Test2/Dariush Talai/The Radif of Mirza Abdollah - Volume 4/11 Dastgah-e Mahur - Tarabangiz.wav",
          "path": "./Test2/Dariush Talai/The Radif of Mirza Abdollah - Volume 4/11 Dastgah-e Mahur - Tarabangiz.wav",
          "x": -0.17122486233711243,
          "y": 6.9183807373046875
         },
         {
          "color": 3,
          "filename": "./Test2/Dariush Talai/The Radif of Mirza Abdollah - Volume 4/16 Dastgah-e Mahur - Mahur-e saghir.wav",
          "path": "./Test2/Dariush Talai/The Radif of Mirza Abdollah - Volume 4/16 Dastgah-e Mahur - Mahur-e saghir.wav",
          "x": 0.20134542882442474,
          "y": 9.43399429321289
         },
         {
          "color": 4,
          "filename": "./Test2/Dariush Talai/The Radif of Mirza Abdollah - Volume 4/50 Avaz-e Bayat-e Tork - Mehrabani.wav",
          "path": "./Test2/Dariush Talai/The Radif of Mirza Abdollah - Volume 4/50 Avaz-e Bayat-e Tork - Mehrabani.wav",
          "x": 5.106095790863037,
          "y": 7.922654628753662
         },
         {
          "color": 4,
          "filename": "./Test2/Dariush Talai/The Radif of Mirza Abdollah - Volume 4/02 Dastgah-e Mahur - Kereshmeh.wav",
          "path": "./Test2/Dariush Talai/The Radif of Mirza Abdollah - Volume 4/02 Dastgah-e Mahur - Kereshmeh.wav",
          "x": 2.916433572769165,
          "y": 2.6661641597747803
         },
         {
          "color": 4,
          "filename": "./Test2/Dariush Talai/The Radif of Mirza Abdollah - Volume 4/46 Avaz-e Bayat-e Tork - Khosravani.wav",
          "path": "./Test2/Dariush Talai/The Radif of Mirza Abdollah - Volume 4/46 Avaz-e Bayat-e Tork - Khosravani.wav",
          "x": 4.001181602478027,
          "y": 11.469779968261719
         },
         {
          "color": 4,
          "filename": "./Test2/Dariush Talai/The Radif of Mirza Abdollah - Volume 4/41 Avaz-e Bayat-e Tork - Daramad-e dovvom.wav",
          "path": "./Test2/Dariush Talai/The Radif of Mirza Abdollah - Volume 4/41 Avaz-e Bayat-e Tork - Daramad-e dovvom.wav",
          "x": 4.818259239196777,
          "y": 8.641596794128418
         },
         {
          "color": 1,
          "filename": "./Test2/Dariush Talai/The Radif of Mirza Abdollah - Volume 4/43 Avaz-e Bayat-e Tork - Haji Hasani.wav",
          "path": "./Test2/Dariush Talai/The Radif of Mirza Abdollah - Volume 4/43 Avaz-e Bayat-e Tork - Haji Hasani.wav",
          "x": 3.080760955810547,
          "y": -6.912040710449219
         },
         {
          "color": 0,
          "filename": "./Test2/Dariush Talai/The Radif of Mirza Abdollah - Volume 4/37 Dastgah-e Mahur - Reng-e Shalakhu.wav",
          "path": "./Test2/Dariush Talai/The Radif of Mirza Abdollah - Volume 4/37 Dastgah-e Mahur - Reng-e Shalakhu.wav",
          "x": -0.1989089697599411,
          "y": 2.665375232696533
         },
         {
          "color": 4,
          "filename": "./Test2/Dariush Talai/The Radif of Mirza Abdollah - Volume 4/44 Avaz-e Bayat-e Tork - Basteh-negar.wav",
          "path": "./Test2/Dariush Talai/The Radif of Mirza Abdollah - Volume 4/44 Avaz-e Bayat-e Tork - Basteh-negar.wav",
          "x": 2.7817232608795166,
          "y": 6.954044342041016
         },
         {
          "color": 1,
          "filename": "./Test2/Dariush Talai/The Radif of Mirza Abdollah - Volume 4/31 Dastgah-e Mahur - Rak-e Keshmir.wav",
          "path": "./Test2/Dariush Talai/The Radif of Mirza Abdollah - Volume 4/31 Dastgah-e Mahur - Rak-e Keshmir.wav",
          "x": 4.567103385925293,
          "y": -3.207765579223633
         },
         {
          "color": 4,
          "filename": "./Test2/Dariush Talai/The Radif of Mirza Abdollah - Volume 4/35 Dastgah-e Mahur - Reng-e Harbi.wav",
          "path": "./Test2/Dariush Talai/The Radif of Mirza Abdollah - Volume 4/35 Dastgah-e Mahur - Reng-e Harbi.wav",
          "x": 5.873765468597412,
          "y": 9.926705360412598
         },
         {
          "color": 1,
          "filename": "./Test2/Dariush Talai/The Radif of Mirza Abdollah - Volume 4/21 Dastgah-e Mahur - Shekasteh.wav",
          "path": "./Test2/Dariush Talai/The Radif of Mirza Abdollah - Volume 4/21 Dastgah-e Mahur - Shekasteh.wav",
          "x": 4.339728355407715,
          "y": -4.789400100708008
         },
         {
          "color": 1,
          "filename": "./Test2/Dariush Talai/The Radif of Mirza Abdollah - Volume 4/26 Dastgah-e Mahur - Esfehanak.wav",
          "path": "./Test2/Dariush Talai/The Radif of Mirza Abdollah - Volume 4/26 Dastgah-e Mahur - Esfehanak.wav",
          "x": 2.1901960372924805,
          "y": -3.618429660797119
         },
         {
          "color": 4,
          "filename": "./Test2/Dariush Talai/The Radif of Mirza Abdollah - Volume 4/27 Dastgah-e Mahur - Hazin.wav",
          "path": "./Test2/Dariush Talai/The Radif of Mirza Abdollah - Volume 4/27 Dastgah-e Mahur - Hazin.wav",
          "x": 5.686306476593018,
          "y": 11.904231071472168
         },
         {
          "color": 1,
          "filename": "./Test2/Dariush Talai/The Radif of Mirza Abdollah - Volume 4/08 Dastgah-e Mahur - Delkesh.wav",
          "path": "./Test2/Dariush Talai/The Radif of Mirza Abdollah - Volume 4/08 Dastgah-e Mahur - Delkesh.wav",
          "x": 4.455862998962402,
          "y": -1.3059046268463135
         },
         {
          "color": 4,
          "filename": "./Test2/Dariush Talai/The Radif of Mirza Abdollah - Volume 5/24 Dastgah-e Crgah - Naghmeh [2].wav",
          "path": "./Test2/Dariush Talai/The Radif of Mirza Abdollah - Volume 5/24 Dastgah-e Crgah - Naghmeh [2].wav",
          "x": 3.736719846725464,
          "y": 5.6386542320251465
         },
         {
          "color": 3,
          "filename": "./Test2/Dariush Talai/The Radif of Mirza Abdollah - Volume 5/55 Dastgah-e Rast-Panjgah - Noruz-e Khara.wav",
          "path": "./Test2/Dariush Talai/The Radif of Mirza Abdollah - Volume 5/55 Dastgah-e Rast-Panjgah - Noruz-e Khara.wav",
          "x": -3.8777379989624023,
          "y": 6.9615702629089355
         },
         {
          "color": 0,
          "filename": "./Test2/Dariush Talai/The Radif of Mirza Abdollah - Volume 5/50 Dastgah-e Rast-Panjgah - Abolchap.wav",
          "path": "./Test2/Dariush Talai/The Radif of Mirza Abdollah - Volume 5/50 Dastgah-e Rast-Panjgah - Abolchap.wav",
          "x": -4.296748161315918,
          "y": -2.4749372005462646
         },
         {
          "color": 4,
          "filename": "./Test2/Dariush Talai/The Radif of Mirza Abdollah - Volume 5/26 Dastgah-e Crgah - Hodi.wav",
          "path": "./Test2/Dariush Talai/The Radif of Mirza Abdollah - Volume 5/26 Dastgah-e Crgah - Hodi.wav",
          "x": -0.7397787570953369,
          "y": 5.550326824188232
         },
         {
          "color": 3,
          "filename": "./Test2/Dariush Talai/The Radif of Mirza Abdollah - Volume 5/49 Dastgah-e Rast-Panjgah - Tarz.wav",
          "path": "./Test2/Dariush Talai/The Radif of Mirza Abdollah - Volume 5/49 Dastgah-e Rast-Panjgah - Tarz.wav",
          "x": -4.145963191986084,
          "y": 6.682080268859863
         },
         {
          "color": 1,
          "filename": "./Test2/Dariush Talai/The Radif of Mirza Abdollah - Volume 5/18 Dastgah-e Crgah - Pas Hesar.wav",
          "path": "./Test2/Dariush Talai/The Radif of Mirza Abdollah - Volume 5/18 Dastgah-e Crgah - Pas Hesar.wav",
          "x": 3.4000473022460938,
          "y": -5.123055934906006
         },
         {
          "color": 3,
          "filename": "./Test2/Dariush Talai/The Radif of Mirza Abdollah - Volume 5/57 Dastgah-e Rast-Panjgah - Nafir.wav",
          "path": "./Test2/Dariush Talai/The Radif of Mirza Abdollah - Volume 5/57 Dastgah-e Rast-Panjgah - Nafir.wav",
          "x": -4.736119270324707,
          "y": 10.256869316101074
         },
         {
          "color": 2,
          "filename": "./Test2/Dariush Talai/The Radif of Mirza Abdollah - Volume 5/43 Dastgah-e Rast-Panjgah - 'Oshshaq.wav",
          "path": "./Test2/Dariush Talai/The Radif of Mirza Abdollah - Volume 5/43 Dastgah-e Rast-Panjgah - 'Oshshaq.wav",
          "x": -4.168885231018066,
          "y": -7.893221378326416
         },
         {
          "color": 3,
          "filename": "./Test2/Dariush Talai/The Radif of Mirza Abdollah - Volume 5/25 Dastgah-e Crgah - Hazin.wav",
          "path": "./Test2/Dariush Talai/The Radif of Mirza Abdollah - Volume 5/25 Dastgah-e Crgah - Hazin.wav",
          "x": -0.3235228359699249,
          "y": 9.33287525177002
         },
         {
          "color": 3,
          "filename": "./Test2/Dariush Talai/The Radif of Mirza Abdollah - Volume 5/32 Dastgah-e Crgah - Lezgi.wav",
          "path": "./Test2/Dariush Talai/The Radif of Mirza Abdollah - Volume 5/32 Dastgah-e Crgah - Lezgi.wav",
          "x": -0.6576986908912659,
          "y": 9.408944129943848
         },
         {
          "color": 4,
          "filename": "./Test2/Dariush Talai/The Radif of Mirza Abdollah - Volume 5/23 Dastgah-e Crgah - Maghlub.wav",
          "path": "./Test2/Dariush Talai/The Radif of Mirza Abdollah - Volume 5/23 Dastgah-e Crgah - Maghlub.wav",
          "x": 5.747608661651611,
          "y": 3.4620578289031982
         },
         {
          "color": 4,
          "filename": "./Test2/Dariush Talai/The Radif of Mirza Abdollah - Volume 5/20 Dastgah-e Crgah - Mokhalef.wav",
          "path": "./Test2/Dariush Talai/The Radif of Mirza Abdollah - Volume 5/20 Dastgah-e Crgah - Mokhalef.wav",
          "x": 3.7580270767211914,
          "y": 6.308937072753906
         },
         {
          "color": 0,
          "filename": "./Test2/Dariush Talai/The Radif of Mirza Abdollah - Volume 5/39 Dastgah-e Rast-Panjgah - Khosravani.wav",
          "path": "./Test2/Dariush Talai/The Radif of Mirza Abdollah - Volume 5/39 Dastgah-e Rast-Panjgah - Khosravani.wav",
          "x": -4.952803611755371,
          "y": 0.6358681321144104
         },
         {
          "color": 1,
          "filename": "./Test2/Dariush Talai/The Radif of Mirza Abdollah - Volume 5/05 Dastgah-e Crgah - Naghmeh.wav",
          "path": "./Test2/Dariush Talai/The Radif of Mirza Abdollah - Volume 5/05 Dastgah-e Crgah - Naghmeh.wav",
          "x": -0.3280503451824188,
          "y": -7.465544700622559
         },
         {
          "color": 0,
          "filename": "./Test2/Dariush Talai/The Radif of Mirza Abdollah - Volume 5/06 Dastgah-e Crgah - Kereshmeh.wav",
          "path": "./Test2/Dariush Talai/The Radif of Mirza Abdollah - Volume 5/06 Dastgah-e Crgah - Kereshmeh.wav",
          "x": -0.2904045283794403,
          "y": 2.8815724849700928
         },
         {
          "color": 1,
          "filename": "./Test2/Dariush Talai/The Radif of Mirza Abdollah - Volume 5/21 Dastgah-e Crgah - Haji Hasani.wav",
          "path": "./Test2/Dariush Talai/The Radif of Mirza Abdollah - Volume 5/21 Dastgah-e Crgah - Haji Hasani.wav",
          "x": 3.8964905738830566,
          "y": -5.7837700843811035
         },
         {
          "color": 0,
          "filename": "./Test2/Dariush Talai/The Radif of Mirza Abdollah - Volume 5/58 Dastgah-e Rast-Panjgah - Farang.wav",
          "path": "./Test2/Dariush Talai/The Radif of Mirza Abdollah - Volume 5/58 Dastgah-e Rast-Panjgah - Farang.wav",
          "x": -3.7881617546081543,
          "y": 0.7108977437019348
         },
         {
          "color": 4,
          "filename": "./Test2/Dariush Talai/The Radif of Mirza Abdollah - Volume 5/16 Dastgah-e Crgah - Hesar, qesmat-e chaharom.wav",
          "path": "./Test2/Dariush Talai/The Radif of Mirza Abdollah - Volume 5/16 Dastgah-e Crgah - Hesar, qesmat-e chaharom.wav",
          "x": 4.532089710235596,
          "y": 12.874232292175293
         },
         {
          "color": 4,
          "filename": "./Test2/Dariush Talai/The Radif of Mirza Abdollah - Volume 5/27 Dastgah-e Crgah - Pahlavi.wav",
          "path": "./Test2/Dariush Talai/The Radif of Mirza Abdollah - Volume 5/27 Dastgah-e Crgah - Pahlavi.wav",
          "x": 4.088871002197266,
          "y": 0.9916743040084839
         },
         {
          "color": 4,
          "filename": "./Test2/Dariush Talai/The Radif of Mirza Abdollah - Volume 5/04 Dastgah-e Crgah - Daramad-e chaharom.wav",
          "path": "./Test2/Dariush Talai/The Radif of Mirza Abdollah - Volume 5/04 Dastgah-e Crgah - Daramad-e chaharom.wav",
          "x": 4.082860946655273,
          "y": 6.0878167152404785
         },
         {
          "color": 1,
          "filename": "./Test2/Dariush Talai/The Radif of Mirza Abdollah - Volume 5/13 Dastgah-e Crgah - Hesar.wav",
          "path": "./Test2/Dariush Talai/The Radif of Mirza Abdollah - Volume 5/13 Dastgah-e Crgah - Hesar.wav",
          "x": 3.8426334857940674,
          "y": -7.990564823150635
         },
         {
          "color": 4,
          "filename": "./Test2/Dariush Talai/The Radif of Mirza Abdollah - Volume 5/15 Dastgah-e Crgah - Hesar, qesmat-e sevvom.wav",
          "path": "./Test2/Dariush Talai/The Radif of Mirza Abdollah - Volume 5/15 Dastgah-e Crgah - Hesar, qesmat-e sevvom.wav",
          "x": 4.084997653961182,
          "y": 7.126181602478027
         },
         {
          "color": 0,
          "filename": "./Test2/Dariush Talai/The Radif of Mirza Abdollah - Volume 5/38 Dastgah-e Rast-Panjgah - Parvaneh.wav",
          "path": "./Test2/Dariush Talai/The Radif of Mirza Abdollah - Volume 5/38 Dastgah-e Rast-Panjgah - Parvaneh.wav",
          "x": -4.878840446472168,
          "y": 5.351458549499512
         },
         {
          "color": 1,
          "filename": "./Test2/Dariush Talai/The Radif of Mirza Abdollah - Volume 5/33 Dastgah-e Crgah - Matn va Hashiyeh.wav",
          "path": "./Test2/Dariush Talai/The Radif of Mirza Abdollah - Volume 5/33 Dastgah-e Crgah - Matn va Hashiyeh.wav",
          "x": 2.859632968902588,
          "y": -3.955524206161499
         },
         {
          "color": 1,
          "filename": "./Test2/Dariush Talai/The Radif of Mirza Abdollah - Volume 5/17 Dastgah-e Crgah - Chaharmezrab-e Hesar.wav",
          "path": "./Test2/Dariush Talai/The Radif of Mirza Abdollah - Volume 5/17 Dastgah-e Crgah - Chaharmezrab-e Hesar.wav",
          "x": 3.933363437652588,
          "y": -5.321459770202637
         },
         {
          "color": 4,
          "filename": "./Test2/Dariush Talai/The Radif of Mirza Abdollah - Volume 5/14 Dastgah-e Crgah - Hesar, qesmat-e dovvom.wav",
          "path": "./Test2/Dariush Talai/The Radif of Mirza Abdollah - Volume 5/14 Dastgah-e Crgah - Hesar, qesmat-e dovvom.wav",
          "x": 3.954789876937866,
          "y": 4.388115882873535
         },
         {
          "color": 3,
          "filename": "./Test2/Dariush Talai/The Radif of Mirza Abdollah - Volume 5/48 Dastgah-e Rast-Panjgah - Mobarqa'.wav",
          "path": "./Test2/Dariush Talai/The Radif of Mirza Abdollah - Volume 5/48 Dastgah-e Rast-Panjgah - Mobarqa'.wav",
          "x": -4.877899169921875,
          "y": 6.140538215637207
         },
         {
          "color": 2,
          "filename": "./Test2/Dariush Talai/The Radif of Mirza Abdollah - Volume 5/53 Dastgah-e Rast-Panjgah - Noruz-e 'Arab.wav",
          "path": "./Test2/Dariush Talai/The Radif of Mirza Abdollah - Volume 5/53 Dastgah-e Rast-Panjgah - Noruz-e 'Arab.wav",
          "x": -3.8579983711242676,
          "y": -6.403494358062744
         },
         {
          "color": 4,
          "filename": "./Test2/Dariush Talai/The Radif of Mirza Abdollah - Volume 5/31 Dastgah-e Crgah - Mansuri, qesmat-e sevvom.wav",
          "path": "./Test2/Dariush Talai/The Radif of Mirza Abdollah - Volume 5/31 Dastgah-e Crgah - Mansuri, qesmat-e sevvom.wav",
          "x": 5.75678014755249,
          "y": 6.810603141784668
         },
         {
          "color": 4,
          "filename": "./Test2/Dariush Talai/The Radif of Mirza Abdollah - Volume 5/44 Dastgah-e Rast-Panjgah - Neyriz.wav",
          "path": "./Test2/Dariush Talai/The Radif of Mirza Abdollah - Volume 5/44 Dastgah-e Rast-Panjgah - Neyriz.wav",
          "x": 6.060799598693848,
          "y": 9.5008544921875
         },
         {
          "color": 4,
          "filename": "./Test2/Dariush Talai/The Radif of Mirza Abdollah - Volume 5/02 Dastgah-e Crgah - Daramad-e dovvom.wav",
          "path": "./Test2/Dariush Talai/The Radif of Mirza Abdollah - Volume 5/02 Dastgah-e Crgah - Daramad-e dovvom.wav",
          "x": 6.245927810668945,
          "y": 6.577906131744385
         },
         {
          "color": 0,
          "filename": "./Test2/Dariush Talai/The Radif of Mirza Abdollah - Volume 5/10 Dastgah-e Crgah - Basteh-negar.wav",
          "path": "./Test2/Dariush Talai/The Radif of Mirza Abdollah - Volume 5/10 Dastgah-e Crgah - Basteh-negar.wav",
          "x": -3.7040984630584717,
          "y": 0.7967016696929932
         },
         {
          "color": 3,
          "filename": "./Test2/Dariush Talai/The Radif of Mirza Abdollah - Volume 5/36 Dastgah-e Rast-Panjgah - Daramad-e dovvom, Zang-e shotor.wav",
          "path": "./Test2/Dariush Talai/The Radif of Mirza Abdollah - Volume 5/36 Dastgah-e Rast-Panjgah - Daramad-e dovvom, Zang-e shotor.wav",
          "x": -4.753428936004639,
          "y": 9.395492553710938
         },
         {
          "color": 4,
          "filename": "./Test2/Dariush Talai/The Radif of Mirza Abdollah - Volume 5/29 Dastgah-e Crgah - Mansuri.wav",
          "path": "./Test2/Dariush Talai/The Radif of Mirza Abdollah - Volume 5/29 Dastgah-e Crgah - Mansuri.wav",
          "x": 6.071768283843994,
          "y": 6.6920623779296875
         },
         {
          "color": 1,
          "filename": "./Test2/Dariush Talai/The Radif of Mirza Abdollah - Volume 5/30 Dastgah-e Crgah - Mansuri, qesmat-e dovvom.wav",
          "path": "./Test2/Dariush Talai/The Radif of Mirza Abdollah - Volume 5/30 Dastgah-e Crgah - Mansuri, qesmat-e dovvom.wav",
          "x": 5.994823455810547,
          "y": -5.046852111816406
         },
         {
          "color": 2,
          "filename": "./Test2/Dariush Talai/The Radif of Mirza Abdollah - Volume 5/42 Dastgah-e Rast-Panjgah - Sepehr.wav",
          "path": "./Test2/Dariush Talai/The Radif of Mirza Abdollah - Volume 5/42 Dastgah-e Rast-Panjgah - Sepehr.wav",
          "x": -5.00386381149292,
          "y": -5.93148136138916
         },
         {
          "color": 0,
          "filename": "./Test2/Dariush Talai/The Radif of Mirza Abdollah - Volume 5/56 Dastgah-e Rast-Panjgah - Mavara on-nahr.wav",
          "path": "./Test2/Dariush Talai/The Radif of Mirza Abdollah - Volume 5/56 Dastgah-e Rast-Panjgah - Mavara on-nahr.wav",
          "x": -4.433262348175049,
          "y": 4.460078716278076
         },
         {
          "color": 4,
          "filename": "./Test2/Dariush Talai/The Radif of Mirza Abdollah - Volume 5/22 Dastgah-e Crgah - Basteh negar [2].wav",
          "path": "./Test2/Dariush Talai/The Radif of Mirza Abdollah - Volume 5/22 Dastgah-e Crgah - Basteh negar [2].wav",
          "x": 3.8278610706329346,
          "y": 6.3747453689575195
         },
         {
          "color": 2,
          "filename": "./Test2/Dariush Talai/The Radif of Mirza Abdollah - Volume 5/51 Dastgah-e Rast-Panjgah - Leyli-o Majnum.wav",
          "path": "./Test2/Dariush Talai/The Radif of Mirza Abdollah - Volume 5/51 Dastgah-e Rast-Panjgah - Leyli-o Majnum.wav",
          "x": -4.277282238006592,
          "y": -7.253497123718262
         },
         {
          "color": 2,
          "filename": "./Test2/Dariush Talai/The Radif of Mirza Abdollah - Volume 5/09 Dastgah-e Crgah - Zabol.wav",
          "path": "./Test2/Dariush Talai/The Radif of Mirza Abdollah - Volume 5/09 Dastgah-e Crgah - Zabol.wav",
          "x": -3.647965431213379,
          "y": -6.010189056396484
         },
         {
          "color": 3,
          "filename": "./Test2/Dariush Talai/The Radif of Mirza Abdollah - Volume 5/03 Dastgah-e Crgah - Daramad-e sevvom.wav",
          "path": "./Test2/Dariush Talai/The Radif of Mirza Abdollah - Volume 5/03 Dastgah-e Crgah - Daramad-e sevvom.wav",
          "x": 0.16874298453330994,
          "y": 9.878643989562988
         },
         {
          "color": 2,
          "filename": "./Test2/Dariush Talai/The Radif of Mirza Abdollah - Volume 5/52 Dastgah-e Rast-Panjgah - Ravandi.wav",
          "path": "./Test2/Dariush Talai/The Radif of Mirza Abdollah - Volume 5/52 Dastgah-e Rast-Panjgah - Ravandi.wav",
          "x": -4.1310858726501465,
          "y": -8.600923538208008
         },
         {
          "color": 1,
          "filename": "./Test2/Dariush Talai/The Radif of Mirza Abdollah - Volume 5/12 Dastgah-e Crgah - Forud.wav",
          "path": "./Test2/Dariush Talai/The Radif of Mirza Abdollah - Volume 5/12 Dastgah-e Crgah - Forud.wav",
          "x": -0.31925731897354126,
          "y": -5.919114589691162
         },
         {
          "color": 3,
          "filename": "./Test2/Dariush Talai/The Radif of Mirza Abdollah - Volume 5/54 Dastgah-e Rast-Panjgah - Noruz-e Saba.wav",
          "path": "./Test2/Dariush Talai/The Radif of Mirza Abdollah - Volume 5/54 Dastgah-e Rast-Panjgah - Noruz-e Saba.wav",
          "x": -3.8298518657684326,
          "y": 5.8216166496276855
         },
         {
          "color": 0,
          "filename": "./Test2/Dariush Talai/The Radif of Mirza Abdollah - Volume 5/35 Dastgah-e Rast-Panjgah - Daramad.wav",
          "path": "./Test2/Dariush Talai/The Radif of Mirza Abdollah - Volume 5/35 Dastgah-e Rast-Panjgah - Daramad.wav",
          "x": -4.79941987991333,
          "y": 0.868847131729126
         },
         {
          "color": 0,
          "filename": "./Test2/Dariush Talai/The Radif of Mirza Abdollah - Volume 5/07 Dastgah-e Crgah - Kereshmeh ba Muyeh.wav",
          "path": "./Test2/Dariush Talai/The Radif of Mirza Abdollah - Volume 5/07 Dastgah-e Crgah - Kereshmeh ba Muyeh.wav",
          "x": -0.17420165240764618,
          "y": 1.5716341733932495
         },
         {
          "color": 3,
          "filename": "./Test2/Dariush Talai/The Radif of Mirza Abdollah - Volume 5/19 Dastgah-e Crgah - Muyeh [2].wav",
          "path": "./Test2/Dariush Talai/The Radif of Mirza Abdollah - Volume 5/19 Dastgah-e Crgah - Muyeh [2].wav",
          "x": -3.5211644172668457,
          "y": 8.661595344543457
         },
         {
          "color": 4,
          "filename": "./Test2/Dariush Talai/The Radif of Mirza Abdollah - Volume 5/08 Dastgah-e Crgah - Zang-e shotor.wav",
          "path": "./Test2/Dariush Talai/The Radif of Mirza Abdollah - Volume 5/08 Dastgah-e Crgah - Zang-e shotor.wav",
          "x": 6.153172969818115,
          "y": 8.79389476776123
         },
         {
          "color": 0,
          "filename": "./Test2/Dariush Talai/The Radif of Mirza Abdollah - Volume 5/41 Dastgah-e Rast-Panjgah - Panjgah.wav",
          "path": "./Test2/Dariush Talai/The Radif of Mirza Abdollah - Volume 5/41 Dastgah-e Rast-Panjgah - Panjgah.wav",
          "x": -5.066636085510254,
          "y": 1.016005277633667
         },
         {
          "color": 1,
          "filename": "./Test2/Dariush Talai/The Radif of Mirza Abdollah - Volume 5/28 Dastgah-e Crgah - Rajas.wav",
          "path": "./Test2/Dariush Talai/The Radif of Mirza Abdollah - Volume 5/28 Dastgah-e Crgah - Rajas.wav",
          "x": 3.3271584510803223,
          "y": -3.6242048740386963
         },
         {
          "color": 0,
          "filename": "./Test2/Dariush Talai/The Radif of Mirza Abdollah - Volume 5/45 Dastgah-e Rast-Panjgah - Bayat-e 'Ajam.wav",
          "path": "./Test2/Dariush Talai/The Radif of Mirza Abdollah - Volume 5/45 Dastgah-e Rast-Panjgah - Bayat-e 'Ajam.wav",
          "x": -4.858199596405029,
          "y": 3.735071897506714
         },
         {
          "color": 3,
          "filename": "./Test2/Dariush Talai/The Radif of Mirza Abdollah - Volume 5/11 Dastgah-e Crgah - Muyeh.wav",
          "path": "./Test2/Dariush Talai/The Radif of Mirza Abdollah - Volume 5/11 Dastgah-e Crgah - Muyeh.wav",
          "x": -3.8312838077545166,
          "y": 6.6136956214904785
         },
         {
          "color": 3,
          "filename": "./Test2/Dariush Talai/The Radif of Mirza Abdollah - Volume 5/37 Dastgah-e Rast-Panjgah - Zanguleh.wav",
          "path": "./Test2/Dariush Talai/The Radif of Mirza Abdollah - Volume 5/37 Dastgah-e Rast-Panjgah - Zanguleh.wav",
          "x": -3.953967332839966,
          "y": 11.39811897277832
         },
         {
          "color": 3,
          "filename": "./Test2/Dariush Talai/The Radif of Mirza Abdollah - Volume 5/34 Dastgah-e Crgah - Reng-e Shahr-ashub.wav",
          "path": "./Test2/Dariush Talai/The Radif of Mirza Abdollah - Volume 5/34 Dastgah-e Crgah - Reng-e Shahr-ashub.wav",
          "x": 0.45176318287849426,
          "y": 8.559484481811523
         },
         {
          "color": 4,
          "filename": "./Test2/Dariush Talai/The Radif of Mirza Abdollah - Volume 5/01 Dastgah-e Crgah - Daramad-e avval.wav",
          "path": "./Test2/Dariush Talai/The Radif of Mirza Abdollah - Volume 5/01 Dastgah-e Crgah - Daramad-e avval.wav",
          "x": 6.430340766906738,
          "y": 0.9026212096214294
         },
         {
          "color": 3,
          "filename": "./Test2/Dariush Talai/The Radif of Mirza Abdollah - Volume 5/40 Dastgah-e Rast-Panjgah - Ruh-afza.wav",
          "path": "./Test2/Dariush Talai/The Radif of Mirza Abdollah - Volume 5/40 Dastgah-e Rast-Panjgah - Ruh-afza.wav",
          "x": -4.7288079261779785,
          "y": 7.741426944732666
         },
         {
          "color": 0,
          "filename": "./Test2/Dariush Talai/The Radif of Mirza Abdollah - Volume 5/46 Dastgah-e Rast-Panjgah - Bahr-e Nur.wav",
          "path": "./Test2/Dariush Talai/The Radif of Mirza Abdollah - Volume 5/46 Dastgah-e Rast-Panjgah - Bahr-e Nur.wav",
          "x": -4.915596008300781,
          "y": 5.618521213531494
         },
         {
          "color": 0,
          "filename": "./Test2/Dariush Talai/The Radif of Mirza Abdollah - Volume 5/47 Dastgah-e Rast-Panjgah - Qaracheh.wav",
          "path": "./Test2/Dariush Talai/The Radif of Mirza Abdollah - Volume 5/47 Dastgah-e Rast-Panjgah - Qaracheh.wav",
          "x": -4.371760845184326,
          "y": -4.659715175628662
         },
         {
          "color": 4,
          "filename": "./Test2/Dariush Talai/The Radif of Mirza Abdollah - Volume 2/36 Dastgah-e Homayun - Nafir.wav",
          "path": "./Test2/Dariush Talai/The Radif of Mirza Abdollah - Volume 2/36 Dastgah-e Homayun - Nafir.wav",
          "x": 2.6507623195648193,
          "y": 3.851287603378296
         },
         {
          "color": 4,
          "filename": "./Test2/Dariush Talai/The Radif of Mirza Abdollah - Volume 2/37 Dastgah-e Homayun - Farang ba Shushtari-gardan.wav",
          "path": "./Test2/Dariush Talai/The Radif of Mirza Abdollah - Volume 2/37 Dastgah-e Homayun - Farang ba Shushtari-gardan.wav",
          "x": 1.754961371421814,
          "y": 5.3968119621276855
         },
         {
          "color": 1,
          "filename": "./Test2/Dariush Talai/The Radif of Mirza Abdollah - Volume 2/05 Avaz-e Dashti - Gham-angiz.wav",
          "path": "./Test2/Dariush Talai/The Radif of Mirza Abdollah - Volume 2/05 Avaz-e Dashti - Gham-angiz.wav",
          "x": 3.0571789741516113,
          "y": -2.4520537853240967
         },
         {
          "color": 4,
          "filename": "./Test2/Dariush Talai/The Radif of Mirza Abdollah - Volume 2/09 Avaz-e Abu'ata - Sayakhi.wav",
          "path": "./Test2/Dariush Talai/The Radif of Mirza Abdollah - Volume 2/09 Avaz-e Abu'ata - Sayakhi.wav",
          "x": 4.398894309997559,
          "y": 6.004980564117432
         },
         {
          "color": 4,
          "filename": "./Test2/Dariush Talai/The Radif of Mirza Abdollah - Volume 2/41 Dastgah-e Homayun - Meygoli.wav",
          "path": "./Test2/Dariush Talai/The Radif of Mirza Abdollah - Volume 2/41 Dastgah-e Homayun - Meygoli.wav",
          "x": 5.469034194946289,
          "y": 10.034765243530273
         },
         {
          "color": 4,
          "filename": "./Test2/Dariush Talai/The Radif of Mirza Abdollah - Volume 2/16 Avaz-e Bayat-e Eshfehan - Bayat-e rajeh ''va forud''.wav",
          "path": "./Test2/Dariush Talai/The Radif of Mirza Abdollah - Volume 2/16 Avaz-e Bayat-e Eshfehan - Bayat-e rajeh ''va forud''.wav",
          "x": 3.961613655090332,
          "y": 3.901475429534912
         },
         {
          "color": 0,
          "filename": "./Test2/Dariush Talai/The Radif of Mirza Abdollah - Volume 2/19 Dastgah-e Homayun - Crmezrab.wav",
          "path": "./Test2/Dariush Talai/The Radif of Mirza Abdollah - Volume 2/19 Dastgah-e Homayun - Crmezrab.wav",
          "x": -10.028929710388184,
          "y": -2.769305467605591
         },
         {
          "color": 3,
          "filename": "./Test2/Dariush Talai/The Radif of Mirza Abdollah - Volume 2/46 Dastgah-e Homayun - Reng-e Farah.wav",
          "path": "./Test2/Dariush Talai/The Radif of Mirza Abdollah - Volume 2/46 Dastgah-e Homayun - Reng-e Farah.wav",
          "x": 1.456189751625061,
          "y": 12.719738960266113
         },
         {
          "color": 3,
          "filename": "./Test2/Dariush Talai/The Radif of Mirza Abdollah - Volume 2/03 Avaz-e Dashti - Bidegani.wav",
          "path": "./Test2/Dariush Talai/The Radif of Mirza Abdollah - Volume 2/03 Avaz-e Dashti - Bidegani.wav",
          "x": -9.409782409667969,
          "y": 8.42768383026123
         },
         {
          "color": 4,
          "filename": "./Test2/Dariush Talai/The Radif of Mirza Abdollah - Volume 2/13 Avaz-e Abu'ata - Gabri.wav",
          "path": "./Test2/Dariush Talai/The Radif of Mirza Abdollah - Volume 2/13 Avaz-e Abu'ata - Gabri.wav",
          "x": 4.324510097503662,
          "y": 2.8613779544830322
         },
         {
          "color": 1,
          "filename": "./Test2/Dariush Talai/The Radif of Mirza Abdollah - Volume 2/22 Dastgah-e Homayun - Mavalian.wav",
          "path": "./Test2/Dariush Talai/The Radif of Mirza Abdollah - Volume 2/22 Dastgah-e Homayun - Mavalian.wav",
          "x": 1.5713566541671753,
          "y": -5.141521453857422
         },
         {
          "color": 4,
          "filename": "./Test2/Dariush Talai/The Radif of Mirza Abdollah - Volume 2/24 Dastgah-e Homayun - Tarz.wav",
          "path": "./Test2/Dariush Talai/The Radif of Mirza Abdollah - Volume 2/24 Dastgah-e Homayun - Tarz.wav",
          "x": 2.0016376972198486,
          "y": 3.433218479156494
         },
         {
          "color": 4,
          "filename": "./Test2/Dariush Talai/The Radif of Mirza Abdollah - Volume 2/20 Dastgah-e Homayun - Daramad-e avval.wav",
          "path": "./Test2/Dariush Talai/The Radif of Mirza Abdollah - Volume 2/20 Dastgah-e Homayun - Daramad-e avval.wav",
          "x": 3.1317598819732666,
          "y": 1.8686391115188599
         },
         {
          "color": 1,
          "filename": "./Test2/Dariush Talai/The Radif of Mirza Abdollah - Volume 2/07 Avaz-e Abu'ata - Ramkeli.wav",
          "path": "./Test2/Dariush Talai/The Radif of Mirza Abdollah - Volume 2/07 Avaz-e Abu'ata - Ramkeli.wav",
          "x": 4.298114776611328,
          "y": -3.475362539291382
         },
         {
          "color": 4,
          "filename": "./Test2/Dariush Talai/The Radif of Mirza Abdollah - Volume 2/43 Dastgah-e Homayun - Bakhtiari ba mo'alef.wav",
          "path": "./Test2/Dariush Talai/The Radif of Mirza Abdollah - Volume 2/43 Dastgah-e Homayun - Bakhtiari ba mo'alef.wav",
          "x": 4.437310218811035,
          "y": 7.367563724517822
         },
         {
          "color": 4,
          "filename": "./Test2/Dariush Talai/The Radif of Mirza Abdollah - Volume 2/40 Dastgah-e Homayun - Raz-o niyaz.wav",
          "path": "./Test2/Dariush Talai/The Radif of Mirza Abdollah - Volume 2/40 Dastgah-e Homayun - Raz-o niyaz.wav",
          "x": 1.16836678981781,
          "y": 6.402240753173828
         },
         {
          "color": 1,
          "filename": "./Test2/Dariush Talai/The Radif of Mirza Abdollah - Volume 2/29 Dastgah-e Homayun - Suz-o gozad.wav",
          "path": "./Test2/Dariush Talai/The Radif of Mirza Abdollah - Volume 2/29 Dastgah-e Homayun - Suz-o gozad.wav",
          "x": 8.267399787902832,
          "y": -5.668054103851318
         },
         {
          "color": 0,
          "filename": "./Test2/Dariush Talai/The Radif of Mirza Abdollah - Volume 2/45 Dastgah-e Homayun - Denasori.wav",
          "path": "./Test2/Dariush Talai/The Radif of Mirza Abdollah - Volume 2/45 Dastgah-e Homayun - Denasori.wav",
          "x": 1.1548887491226196,
          "y": 2.4446849822998047
         },
         {
          "color": 4,
          "filename": "./Test2/Dariush Talai/The Radif of Mirza Abdollah - Volume 2/11 Avaz-e Abu'ata - Basteh-negar.wav",
          "path": "./Test2/Dariush Talai/The Radif of Mirza Abdollah - Volume 2/11 Avaz-e Abu'ata - Basteh-negar.wav",
          "x": 2.7976255416870117,
          "y": 12.04871940612793
         },
         {
          "color": 4,
          "filename": "./Test2/Dariush Talai/The Radif of Mirza Abdollah - Volume 2/30 Dastgah-e Homayun - Abolchap.wav",
          "path": "./Test2/Dariush Talai/The Radif of Mirza Abdollah - Volume 2/30 Dastgah-e Homayun - Abolchap.wav",
          "x": 2.524449586868286,
          "y": 7.35063362121582
         },
         {
          "color": 4,
          "filename": "./Test2/Dariush Talai/The Radif of Mirza Abdollah - Volume 2/08 Avaz-e Abu'ata - Daramad.wav",
          "path": "./Test2/Dariush Talai/The Radif of Mirza Abdollah - Volume 2/08 Avaz-e Abu'ata - Daramad.wav",
          "x": 4.896729946136475,
          "y": 7.461258888244629
         },
         {
          "color": 4,
          "filename": "./Test2/Dariush Talai/The Radif of Mirza Abdollah - Volume 2/39 Dastgah-e Homayun - Jameh-daran.wav",
          "path": "./Test2/Dariush Talai/The Radif of Mirza Abdollah - Volume 2/39 Dastgah-e Homayun - Jameh-daran.wav",
          "x": 5.34351921081543,
          "y": 6.479594707489014
         },
         {
          "color": 4,
          "filename": "./Test2/Dariush Talai/The Radif of Mirza Abdollah - Volume 2/26 Dastgah-e Homayun - Bidad-e kot.wav",
          "path": "./Test2/Dariush Talai/The Radif of Mirza Abdollah - Volume 2/26 Dastgah-e Homayun - Bidad-e kot.wav",
          "x": 1.9247426986694336,
          "y": 5.986264228820801
         },
         {
          "color": 1,
          "filename": "./Test2/Dariush Talai/The Radif of Mirza Abdollah - Volume 2/14 Avaz-e Bayat-e Eshfehan - Daramad.wav",
          "path": "./Test2/Dariush Talai/The Radif of Mirza Abdollah - Volume 2/14 Avaz-e Bayat-e Eshfehan - Daramad.wav",
          "x": 2.1244890689849854,
          "y": -2.403911590576172
         },
         {
          "color": 4,
          "filename": "./Test2/Dariush Talai/The Radif of Mirza Abdollah - Volume 2/23 Dastgah-e Homayun - Chakavak.wav",
          "path": "./Test2/Dariush Talai/The Radif of Mirza Abdollah - Volume 2/23 Dastgah-e Homayun - Chakavak.wav",
          "x": 1.6595698595046997,
          "y": 10.713292121887207
         },
         {
          "color": 1,
          "filename": "./Test2/Dariush Talai/The Radif of Mirza Abdollah - Volume 2/01 Avaz-e Dashti - Daramad.wav",
          "path": "./Test2/Dariush Talai/The Radif of Mirza Abdollah - Volume 2/01 Avaz-e Dashti - Daramad.wav",
          "x": 1.6764944791793823,
          "y": -4.15529203414917
         },
         {
          "color": 4,
          "filename": "./Test2/Dariush Talai/The Radif of Mirza Abdollah - Volume 2/21 Dastgah-e Homayun - Daramad-e dovvom.wav",
          "path": "./Test2/Dariush Talai/The Radif of Mirza Abdollah - Volume 2/21 Dastgah-e Homayun - Daramad-e dovvom.wav",
          "x": 1.5444663763046265,
          "y": 7.545870780944824
         },
         {
          "color": 4,
          "filename": "./Test2/Dariush Talai/The Radif of Mirza Abdollah - Volume 2/12 Avaz-e Abu'ata - Crpareh.wav",
          "path": "./Test2/Dariush Talai/The Radif of Mirza Abdollah - Volume 2/12 Avaz-e Abu'ata - Crpareh.wav",
          "x": 5.682071685791016,
          "y": 9.292908668518066
         },
         {
          "color": 4,
          "filename": "./Test2/Dariush Talai/The Radif of Mirza Abdollah - Volume 2/42 Dastgah-e Homayun - Mo'alef.wav",
          "path": "./Test2/Dariush Talai/The Radif of Mirza Abdollah - Volume 2/42 Dastgah-e Homayun - Mo'alef.wav",
          "x": 4.098557472229004,
          "y": 9.120318412780762
         },
         {
          "color": 4,
          "filename": "./Test2/Dariush Talai/The Radif of Mirza Abdollah - Volume 2/38 Dastgah-e Homayun - Shushtari.wav",
          "path": "./Test2/Dariush Talai/The Radif of Mirza Abdollah - Volume 2/38 Dastgah-e Homayun - Shushtari.wav",
          "x": 5.4620747566223145,
          "y": 7.631725788116455
         },
         {
          "color": 4,
          "filename": "./Test2/Dariush Talai/The Radif of Mirza Abdollah - Volume 2/04 Avaz-e Dashti - Hajiani.wav",
          "path": "./Test2/Dariush Talai/The Radif of Mirza Abdollah - Volume 2/04 Avaz-e Dashti - Hajiani.wav",
          "x": 3.4769251346588135,
          "y": 6.641722202301025
         },
         {
          "color": 4,
          "filename": "./Test2/Dariush Talai/The Radif of Mirza Abdollah - Volume 2/17 Avaz-e Bayat-e Eshfehan - Naghmeh.wav",
          "path": "./Test2/Dariush Talai/The Radif of Mirza Abdollah - Volume 2/17 Avaz-e Bayat-e Eshfehan - Naghmeh.wav",
          "x": 4.683544158935547,
          "y": 9.004728317260742
         },
         {
          "color": 4,
          "filename": "./Test2/Dariush Talai/The Radif of Mirza Abdollah - Volume 2/35 Dastgah-e Homayun - Noruz-e Khara.wav",
          "path": "./Test2/Dariush Talai/The Radif of Mirza Abdollah - Volume 2/35 Dastgah-e Homayun - Noruz-e Khara.wav",
          "x": 6.472186088562012,
          "y": 7.499236106872559
         },
         {
          "color": 4,
          "filename": "./Test2/Dariush Talai/The Radif of Mirza Abdollah - Volume 2/32 Dastgah-e Homayun - Ravandi.wav",
          "path": "./Test2/Dariush Talai/The Radif of Mirza Abdollah - Volume 2/32 Dastgah-e Homayun - Ravandi.wav",
          "x": 2.2933261394500732,
          "y": 3.521655321121216
         },
         {
          "color": 0,
          "filename": "./Test2/Dariush Talai/The Radif of Mirza Abdollah - Volume 2/28 Dastgah-e Homayun - Bavi ba crmezrab.wav",
          "path": "./Test2/Dariush Talai/The Radif of Mirza Abdollah - Volume 2/28 Dastgah-e Homayun - Bavi ba crmezrab.wav",
          "x": 1.4610196352005005,
          "y": 0.29806819558143616
         },
         {
          "color": 0,
          "filename": "./Test2/Dariush Talai/The Radif of Mirza Abdollah - Volume 2/27 Dastgah-e Homayun - Neydavud.wav",
          "path": "./Test2/Dariush Talai/The Radif of Mirza Abdollah - Volume 2/27 Dastgah-e Homayun - Neydavud.wav",
          "x": 1.3226263523101807,
          "y": 0.5746690034866333
         },
         {
          "color": 1,
          "filename": "./Test2/Dariush Talai/The Radif of Mirza Abdollah - Volume 2/31 Dastgah-e Homayun - Leyli-o Majnum.wav",
          "path": "./Test2/Dariush Talai/The Radif of Mirza Abdollah - Volume 2/31 Dastgah-e Homayun - Leyli-o Majnum.wav",
          "x": 2.589390754699707,
          "y": -3.256786346435547
         },
         {
          "color": 4,
          "filename": "./Test2/Dariush Talai/The Radif of Mirza Abdollah - Volume 2/06 Avaz-e Dashti - Gilaki.wav",
          "path": "./Test2/Dariush Talai/The Radif of Mirza Abdollah - Volume 2/06 Avaz-e Dashti - Gilaki.wav",
          "x": 2.908245325088501,
          "y": 3.120574474334717
         },
         {
          "color": 4,
          "filename": "./Test2/Dariush Talai/The Radif of Mirza Abdollah - Volume 2/25 Dastgah-e Homayun - Bidad.wav",
          "path": "./Test2/Dariush Talai/The Radif of Mirza Abdollah - Volume 2/25 Dastgah-e Homayun - Bidad.wav",
          "x": 2.308101177215576,
          "y": 5.728143215179443
         },
         {
          "color": 3,
          "filename": "./Test2/Dariush Talai/The Radif of Mirza Abdollah - Volume 2/44 Dastgah-e Homayun - 'Ozzal.wav",
          "path": "./Test2/Dariush Talai/The Radif of Mirza Abdollah - Volume 2/44 Dastgah-e Homayun - 'Ozzal.wav",
          "x": -11.05749225616455,
          "y": 8.653115272521973
         },
         {
          "color": 4,
          "filename": "./Test2/Dariush Talai/The Radif of Mirza Abdollah - Volume 2/34 Dastgah-e Homayun - Noruz-e Saba.wav",
          "path": "./Test2/Dariush Talai/The Radif of Mirza Abdollah - Volume 2/34 Dastgah-e Homayun - Noruz-e Saba.wav",
          "x": 1.0497474670410156,
          "y": 7.07249641418457
         },
         {
          "color": 4,
          "filename": "./Test2/Dariush Talai/The Radif of Mirza Abdollah - Volume 2/33 Dastgah-e Homayun - Noruz-e 'Arab.wav",
          "path": "./Test2/Dariush Talai/The Radif of Mirza Abdollah - Volume 2/33 Dastgah-e Homayun - Noruz-e 'Arab.wav",
          "x": 2.127495050430298,
          "y": 6.103601932525635
         },
         {
          "color": 1,
          "filename": "./Test2/Dariush Talai/The Radif of Mirza Abdollah - Volume 2/15 Avaz-e Bayat-e Eshfehan - Jameh daran.wav",
          "path": "./Test2/Dariush Talai/The Radif of Mirza Abdollah - Volume 2/15 Avaz-e Bayat-e Eshfehan - Jameh daran.wav",
          "x": 4.366991996765137,
          "y": -7.622601509094238
         },
         {
          "color": 4,
          "filename": "./Test2/Dariush Talai/The Radif of Mirza Abdollah - Volume 2/02 Avaz-e Dashti - Oj.wav",
          "path": "./Test2/Dariush Talai/The Radif of Mirza Abdollah - Volume 2/02 Avaz-e Dashti - Oj.wav",
          "x": 2.996811628341675,
          "y": 8.636006355285645
         },
         {
          "color": 4,
          "filename": "./Test2/Dariush Talai/The Radif of Mirza Abdollah - Volume 2/18 Avaz-e Bayat-e Eshfehan - Suz-o godaz.wav",
          "path": "./Test2/Dariush Talai/The Radif of Mirza Abdollah - Volume 2/18 Avaz-e Bayat-e Eshfehan - Suz-o godaz.wav",
          "x": 4.583773612976074,
          "y": 4.163817405700684
         },
         {
          "color": 4,
          "filename": "./Test2/Dariush Talai/The Radif of Mirza Abdollah - Volume 2/10 Avaz-e Abu'ata - Hejaz.wav",
          "path": "./Test2/Dariush Talai/The Radif of Mirza Abdollah - Volume 2/10 Avaz-e Abu'ata - Hejaz.wav",
          "x": 5.037467956542969,
          "y": 8.361063003540039
         },
         {
          "color": 1,
          "filename": "./Test2/Dariush Talai/The Radif of Mirza Abdollah - Volume 1/27 Dastgah-e Shur - Moqaddameh-ye Qaracheh.wav",
          "path": "./Test2/Dariush Talai/The Radif of Mirza Abdollah - Volume 1/27 Dastgah-e Shur - Moqaddameh-ye Qaracheh.wav",
          "x": 8.306716918945312,
          "y": -2.513528347015381
         },
         {
          "color": 3,
          "filename": "./Test2/Dariush Talai/The Radif of Mirza Abdollah - Volume 1/32 Dastgah-e Shur - Reng-e Hashtari.wav",
          "path": "./Test2/Dariush Talai/The Radif of Mirza Abdollah - Volume 1/32 Dastgah-e Shur - Reng-e Hashtari.wav",
          "x": -5.132524490356445,
          "y": 6.013866424560547
         },
         {
          "color": 1,
          "filename": "./Test2/Dariush Talai/The Radif of Mirza Abdollah - Volume 1/34 Dastgah-e Shur - Reng-e Zarb-e Osul.wav",
          "path": "./Test2/Dariush Talai/The Radif of Mirza Abdollah - Volume 1/34 Dastgah-e Shur - Reng-e Zarb-e Osul.wav",
          "x": 4.534006118774414,
          "y": -3.1437602043151855
         },
         {
          "color": 1,
          "filename": "./Test2/Dariush Talai/The Radif of Mirza Abdollah - Volume 1/37 Avaz-e Bayat-e Kord - Basteh-negar.wav",
          "path": "./Test2/Dariush Talai/The Radif of Mirza Abdollah - Volume 1/37 Avaz-e Bayat-e Kord - Basteh-negar.wav",
          "x": 2.0697288513183594,
          "y": -2.908329725265503
         },
         {
          "color": 4,
          "filename": "./Test2/Dariush Talai/The Radif of Mirza Abdollah - Volume 1/13 Dastgah-e Shur - 'Ozzal.wav",
          "path": "./Test2/Dariush Talai/The Radif of Mirza Abdollah - Volume 1/13 Dastgah-e Shur - 'Ozzal.wav",
          "x": 4.502442836761475,
          "y": 8.570884704589844
         },
         {
          "color": 4,
          "filename": "./Test2/Dariush Talai/The Radif of Mirza Abdollah - Volume 1/39 Avaz-e Bayat-e Kord - Daramad-e sevvom.wav",
          "path": "./Test2/Dariush Talai/The Radif of Mirza Abdollah - Volume 1/39 Avaz-e Bayat-e Kord - Daramad-e sevvom.wav",
          "x": 2.1656572818756104,
          "y": 10.019257545471191
         },
         {
          "color": 4,
          "filename": "./Test2/Dariush Talai/The Radif of Mirza Abdollah - Volume 1/09 Dastgah-e Shur - Zirkesh-e Salmak.wav",
          "path": "./Test2/Dariush Talai/The Radif of Mirza Abdollah - Volume 1/09 Dastgah-e Shur - Zirkesh-e Salmak.wav",
          "x": 5.78453254699707,
          "y": 16.129507064819336
         },
         {
          "color": 0,
          "filename": "./Test2/Dariush Talai/The Radif of Mirza Abdollah - Volume 1/18 Dastgah-e Shur - Khara.wav",
          "path": "./Test2/Dariush Talai/The Radif of Mirza Abdollah - Volume 1/18 Dastgah-e Shur - Khara.wav",
          "x": -3.8063132762908936,
          "y": 2.0731122493743896
         },
         {
          "color": 1,
          "filename": "./Test2/Dariush Talai/The Radif of Mirza Abdollah - Volume 1/01 Dastgah-e Shur - Daramad.wav",
          "path": "./Test2/Dariush Talai/The Radif of Mirza Abdollah - Volume 1/01 Dastgah-e Shur - Daramad.wav",
          "x": 5.2721171379089355,
          "y": -6.256216526031494
         },
         {
          "color": 1,
          "filename": "./Test2/Dariush Talai/The Radif of Mirza Abdollah - Volume 1/36 Avaz-e Bayat-e Kord - Daramad-e dovvom.wav",
          "path": "./Test2/Dariush Talai/The Radif of Mirza Abdollah - Volume 1/36 Avaz-e Bayat-e Kord - Daramad-e dovvom.wav",
          "x": 2.019775390625,
          "y": -6.9460978507995605
         },
         {
          "color": 4,
          "filename": "./Test2/Dariush Talai/The Radif of Mirza Abdollah - Volume 1/24 Dastgah-e Shur - Moqaddameh-ye Gereyli.wav",
          "path": "./Test2/Dariush Talai/The Radif of Mirza Abdollah - Volume 1/24 Dastgah-e Shur - Moqaddameh-ye Gereyli.wav",
          "x": 5.529289245605469,
          "y": 10.490290641784668
         },
         {
          "color": 1,
          "filename": "./Test2/Dariush Talai/The Radif of Mirza Abdollah - Volume 1/30 Dastgah-e Shur - Gereyli.wav",
          "path": "./Test2/Dariush Talai/The Radif of Mirza Abdollah - Volume 1/30 Dastgah-e Shur - Gereyli.wav",
          "x": 4.091682434082031,
          "y": -2.4788594245910645
         },
         {
          "color": 1,
          "filename": "./Test2/Dariush Talai/The Radif of Mirza Abdollah - Volume 1/22 Dastgah-e Shur - Rohab [2].wav",
          "path": "./Test2/Dariush Talai/The Radif of Mirza Abdollah - Volume 1/22 Dastgah-e Shur - Rohab [2].wav",
          "x": 5.651998519897461,
          "y": -5.169839859008789
         },
         {
          "color": 1,
          "filename": "./Test2/Dariush Talai/The Radif of Mirza Abdollah - Volume 1/15 Dastgah-e Shur - Bozorg.wav",
          "path": "./Test2/Dariush Talai/The Radif of Mirza Abdollah - Volume 1/15 Dastgah-e Shur - Bozorg.wav",
          "x": 3.5460996627807617,
          "y": -3.719820499420166
         },
         {
          "color": 1,
          "filename": "./Test2/Dariush Talai/The Radif of Mirza Abdollah - Volume 1/23 Dastgah-e Shur - Cr gusheh.wav",
          "path": "./Test2/Dariush Talai/The Radif of Mirza Abdollah - Volume 1/23 Dastgah-e Shur - Cr gusheh.wav",
          "x": 2.2544331550598145,
          "y": -6.8439106941223145
         },
         {
          "color": 3,
          "filename": "./Test2/Dariush Talai/The Radif of Mirza Abdollah - Volume 1/12 Dastgah-e Shur - Majles afruz.wav",
          "path": "./Test2/Dariush Talai/The Radif of Mirza Abdollah - Volume 1/12 Dastgah-e Shur - Majles afruz.wav",
          "x": 2.833299160003662,
          "y": 17.01404571533203
         },
         {
          "color": 1,
          "filename": "./Test2/Dariush Talai/The Radif of Mirza Abdollah - Volume 1/38 Avaz-e Bayat-e Kord - Haji Hasani.wav",
          "path": "./Test2/Dariush Talai/The Radif of Mirza Abdollah - Volume 1/38 Avaz-e Bayat-e Kord - Haji Hasani.wav",
          "x": 1.8822811841964722,
          "y": -7.867638111114502
         },
         {
          "color": 0,
          "filename": "./Test2/Dariush Talai/The Radif of Mirza Abdollah - Volume 1/17 Dastgah-e Shur - Dobeyeti.wav",
          "path": "./Test2/Dariush Talai/The Radif of Mirza Abdollah - Volume 1/17 Dastgah-e Shur - Dobeyeti.wav",
          "x": 0.3958241045475006,
          "y": 2.0509209632873535
         },
         {
          "color": 1,
          "filename": "./Test2/Dariush Talai/The Radif of Mirza Abdollah - Volume 1/26 Dastgah-e Shur - Shahnaz.wav",
          "path": "./Test2/Dariush Talai/The Radif of Mirza Abdollah - Volume 1/26 Dastgah-e Shur - Shahnaz.wav",
          "x": 2.0978944301605225,
          "y": -4.0817131996154785
         },
         {
          "color": 1,
          "filename": "./Test2/Dariush Talai/The Radif of Mirza Abdollah - Volume 1/07 Dastgah-e Shur - Naghmeh-ye avval.wav",
          "path": "./Test2/Dariush Talai/The Radif of Mirza Abdollah - Volume 1/07 Dastgah-e Shur - Naghmeh-ye avval.wav",
          "x": 6.365732669830322,
          "y": -5.4757609367370605
         },
         {
          "color": 4,
          "filename": "./Test2/Dariush Talai/The Radif of Mirza Abdollah - Volume 1/19 Dastgah-e Shur - Qajar.wav",
          "path": "./Test2/Dariush Talai/The Radif of Mirza Abdollah - Volume 1/19 Dastgah-e Shur - Qajar.wav",
          "x": 6.754181385040283,
          "y": 16.83487319946289
         },
         {
          "color": 4,
          "filename": "./Test2/Dariush Talai/The Radif of Mirza Abdollah - Volume 1/25 Dastgah-e Shur - Razavi.wav",
          "path": "./Test2/Dariush Talai/The Radif of Mirza Abdollah - Volume 1/25 Dastgah-e Shur - Razavi.wav",
          "x": 2.1473684310913086,
          "y": 9.023404121398926
         },
         {
          "color": 4,
          "filename": "./Test2/Dariush Talai/The Radif of Mirza Abdollah - Volume 1/28 Dastgah-e Shur - Qaracheh.wav",
          "path": "./Test2/Dariush Talai/The Radif of Mirza Abdollah - Volume 1/28 Dastgah-e Shur - Qaracheh.wav",
          "x": 1.9396986961364746,
          "y": 6.92094612121582
         },
         {
          "color": 1,
          "filename": "./Test2/Dariush Talai/The Radif of Mirza Abdollah - Volume 1/05 Dastgah-e Shur - Oj.wav",
          "path": "./Test2/Dariush Talai/The Radif of Mirza Abdollah - Volume 1/05 Dastgah-e Shur - Oj.wav",
          "x": 6.473275184631348,
          "y": -8.81805419921875
         },
         {
          "color": 1,
          "filename": "./Test2/Dariush Talai/The Radif of Mirza Abdollah - Volume 1/40 Avaz-e Bayat-e Kord - Daramad-e crom.wav",
          "path": "./Test2/Dariush Talai/The Radif of Mirza Abdollah - Volume 1/40 Avaz-e Bayat-e Kord - Daramad-e crom.wav",
          "x": 4.864619255065918,
          "y": -4.325357437133789
         },
         {
          "color": 4,
          "filename": "./Test2/Dariush Talai/The Radif of Mirza Abdollah - Volume 1/06 Dastgah-e Shur - Molla Nazi.wav",
          "path": "./Test2/Dariush Talai/The Radif of Mirza Abdollah - Volume 1/06 Dastgah-e Shur - Molla Nazi.wav",
          "x": 6.386389255523682,
          "y": 8.587957382202148
         },
         {
          "color": 0,
          "filename": "./Test2/Dariush Talai/The Radif of Mirza Abdollah - Volume 1/20 Dastgah-e Shur - Hazin.wav",
          "path": "./Test2/Dariush Talai/The Radif of Mirza Abdollah - Volume 1/20 Dastgah-e Shur - Hazin.wav",
          "x": -1.4787858724594116,
          "y": 3.2561638355255127
         },
         {
          "color": 1,
          "filename": "./Test2/Dariush Talai/The Radif of Mirza Abdollah - Volume 1/08 Dastgah-e Shur - Naghmeh-ye dovvom.wav",
          "path": "./Test2/Dariush Talai/The Radif of Mirza Abdollah - Volume 1/08 Dastgah-e Shur - Naghmeh-ye dovvom.wav",
          "x": 6.056678295135498,
          "y": -4.675237655639648
         },
         {
          "color": 1,
          "filename": "./Test2/Dariush Talai/The Radif of Mirza Abdollah - Volume 1/10 Dastgah-e Shur - Salmak.wav",
          "path": "./Test2/Dariush Talai/The Radif of Mirza Abdollah - Volume 1/10 Dastgah-e Shur - Salmak.wav",
          "x": 7.488772392272949,
          "y": -3.4471781253814697
         },
         {
          "color": 0,
          "filename": "./Test2/Dariush Talai/The Radif of Mirza Abdollah - Volume 1/31 Dastgah-e Shur - Gereyli-ye shasti.wav",
          "path": "./Test2/Dariush Talai/The Radif of Mirza Abdollah - Volume 1/31 Dastgah-e Shur - Gereyli-ye shasti.wav",
          "x": -2.4821114540100098,
          "y": -2.1377193927764893
         },
         {
          "color": 1,
          "filename": "./Test2/Dariush Talai/The Radif of Mirza Abdollah - Volume 1/03 Dastgah-e Shur - Kereshmeh.wav",
          "path": "./Test2/Dariush Talai/The Radif of Mirza Abdollah - Volume 1/03 Dastgah-e Shur - Kereshmeh.wav",
          "x": 6.2232842445373535,
          "y": -3.4615039825439453
         },
         {
          "color": 1,
          "filename": "./Test2/Dariush Talai/The Radif of Mirza Abdollah - Volume 1/21 Dastgah-e Shur - Shur-e paein dasteh.wav",
          "path": "./Test2/Dariush Talai/The Radif of Mirza Abdollah - Volume 1/21 Dastgah-e Shur - Shur-e paein dasteh.wav",
          "x": 4.181455135345459,
          "y": -1.5371190309524536
         },
         {
          "color": 0,
          "filename": "./Test2/Dariush Talai/The Radif of Mirza Abdollah - Volume 1/35 Avaz-e Bayat-e Kord - Daramad-e avval.wav",
          "path": "./Test2/Dariush Talai/The Radif of Mirza Abdollah - Volume 1/35 Avaz-e Bayat-e Kord - Daramad-e avval.wav",
          "x": 1.741936206817627,
          "y": 1.1196315288543701
         },
         {
          "color": 4,
          "filename": "./Test2/Dariush Talai/The Radif of Mirza Abdollah - Volume 1/11 Dastgah-e Shur - Golriz.wav",
          "path": "./Test2/Dariush Talai/The Radif of Mirza Abdollah - Volume 1/11 Dastgah-e Shur - Golriz.wav",
          "x": 3.3718719482421875,
          "y": 7.592065334320068
         },
         {
          "color": 4,
          "filename": "./Test2/Dariush Talai/The Radif of Mirza Abdollah - Volume 1/04 Dastgah-e Shur - Rohab.wav",
          "path": "./Test2/Dariush Talai/The Radif of Mirza Abdollah - Volume 1/04 Dastgah-e Shur - Rohab.wav",
          "x": 5.463598251342773,
          "y": 6.784146785736084
         },
         {
          "color": 1,
          "filename": "./Test2/Dariush Talai/The Radif of Mirza Abdollah - Volume 1/02 Dastgah-e Shur - Panjeh she'ri.wav",
          "path": "./Test2/Dariush Talai/The Radif of Mirza Abdollah - Volume 1/02 Dastgah-e Shur - Panjeh she'ri.wav",
          "x": 5.444935321807861,
          "y": -6.651605606079102
         },
         {
          "color": 4,
          "filename": "./Test2/Dariush Talai/The Radif of Mirza Abdollah - Volume 1/14 Dastgah-e Shur - Safa.wav",
          "path": "./Test2/Dariush Talai/The Radif of Mirza Abdollah - Volume 1/14 Dastgah-e Shur - Safa.wav",
          "x": 2.468703031539917,
          "y": 8.064778327941895
         },
         {
          "color": 4,
          "filename": "./Test2/Dariush Talai/The Radif of Mirza Abdollah - Volume 1/29 Dastgah-e Shur - Shahnaz-e kot ('Asheqkosh).wav",
          "path": "./Test2/Dariush Talai/The Radif of Mirza Abdollah - Volume 1/29 Dastgah-e Shur - Shahnaz-e kot ('Asheqkosh).wav",
          "x": 2.7630012035369873,
          "y": 2.0772125720977783
         },
         {
          "color": 3,
          "filename": "./Test2/Dariush Talai/The Radif of Mirza Abdollah - Volume 1/16 Dastgah-e Shur - Kuchak.wav",
          "path": "./Test2/Dariush Talai/The Radif of Mirza Abdollah - Volume 1/16 Dastgah-e Shur - Kuchak.wav",
          "x": -3.599916458129883,
          "y": 6.702103614807129
         },
         {
          "color": 1,
          "filename": "./Test2/Dariush Talai/The Radif of Mirza Abdollah - Volume 1/33 Dastgah-e Shur - Reng-e Shahr-ashub.wav",
          "path": "./Test2/Dariush Talai/The Radif of Mirza Abdollah - Volume 1/33 Dastgah-e Shur - Reng-e Shahr-ashub.wav",
          "x": 2.328216314315796,
          "y": -2.5881104469299316
         }
        ]
       },
       "encoding": {
        "color": {
         "field": "color",
         "type": "nominal"
        },
        "href": {
         "field": "path",
         "type": "nominal"
        },
        "tooltip": [
         {
          "field": "filename",
          "type": "nominal"
         }
        ],
        "x": {
         "field": "x",
         "type": "quantitative"
        },
        "y": {
         "field": "y",
         "type": "quantitative"
        }
       },
       "mark": {
        "opacity": 0.6,
        "size": 60,
        "type": "circle"
       },
       "selection": {
        "selector002": {
         "bind": "scales",
         "encodings": [
          "x",
          "y"
         ],
         "type": "interval"
        }
       }
      },
      "image/png": "[encoded data removed]",
      "text/plain": [
       "<VegaLite 3 object>\n",
       "\n",
       "If you see this message, it means the renderer has not been properly enabled\n",
       "for the frontend that you are using. For more information, see\n",
       "https://altair-viz.github.io/user_guide/troubleshooting.html\n"
      ]
     },
     "execution_count": 4,
     "metadata": {},
     "output_type": "execute_result"
    }
   ],
   "source": [
    "#File reading\n",
    "all_dirs = []\n",
    "for root, dirs, files in os.walk('./Test2'): #change directory here\n",
    "        for name in files:\n",
    "            if '.wav' in name:\n",
    "                filedir = os.path.join(root, name)\n",
    "                all_dirs.append(filedir)"
   ]
  },
  {
   "source": [
    "### Feature computation"
   ],
   "cell_type": "markdown",
   "metadata": {}
  },
  {
   "cell_type": "code",
   "execution_count": null,
   "metadata": {},
   "outputs": [],
   "source": [
    "#Feature Computation\n",
    "all_chroma = []\n",
    "all_tempo = []\n",
    "file_names = []\n",
    "file_no = len(all_dirs)\n",
    "print(file_no)\n",
    "for i in range(file_no):\n",
    "    if (librosa.get_duration(filename=all_dirs[i]) > 13.):\n",
    "        file_names.append(all_dirs[i])\n",
    "        \n",
    "        #Load file\n",
    "        y, sr = librosa.core.load(all_dirs[i], duration=13.)\n",
    "        #Features\n",
    "        chroma = librosa.feature.chroma_cqt(y=y, sr=sr)\n",
    "        all_chroma.append(chroma.flatten())\n",
    "        tempo = librosa.feature.tempogram(y=y, sr=sr)\n",
    "        all_tempo.append(tempo.flatten())\n",
    "\n",
    "    sys.stdout.write(\"\\rLoading %i recordings.\" % (i))\n",
    "    sys.stdout.flush()"
   ]
  },
  {
   "source": [
    "### Visualization"
   ],
   "cell_type": "markdown",
   "metadata": {}
  },
  {
   "cell_type": "code",
   "execution_count": null,
   "metadata": {},
   "outputs": [],
   "source": [
    "#Standardization\n",
    "scl1 = StandardScaler()\n",
    "all_chroma_scaled = scl1.fit_transform(all_chroma)\n",
    "scl2 = StandardScaler()\n",
    "all_tempo_scaled = scl2.fit_transform(all_tempo)\n",
    "\n",
    "#TSNE\n",
    "all_chroma_scaled_red1 = TSNE(n_components=1).fit_transform(all_chroma_scaled)\n",
    "all_tempo_scaled_red1 = TSNE(n_components=1).fit_transform(all_tempo_scaled)\n",
    "\n",
    "combined = np.hstack((all_chroma_scaled_red1, all_tempo_scaled_red1))\n",
    "\n",
    "#KMeans\n",
    "kmeans = KMeans(n_clusters=5, random_state=0).fit(combined) #change number of clusters here\n",
    "clusters = kmeans.predict(combined)\n",
    "\n",
    "#Visualization\n",
    "df = pd.DataFrame({'x': all_chroma_scaled_red1.flatten(), 'y': all_tempo_scaled_red1.flatten(), 'color': clusters, 'path': np.asarray(file_names), 'filename': np.asarray(file_names)})\n",
    "alt.Chart(df).mark_circle(opacity=0.6, size=60).encode(x='x', y='y', color='color:N', href='path', tooltip=['filename']).interactive()"
   ]
  }
 ],
 "metadata": {
  "kernelspec": {
   "display_name": "Python 3",
   "language": "python",
   "name": "python3"
  },
  "language_info": {
   "codemirror_mode": {
    "name": "ipython",
    "version": 3
   },
   "file_extension": ".py",
   "mimetype": "text/x-python",
   "name": "python",
   "nbconvert_exporter": "python",
   "pygments_lexer": "ipython3",
   "version": "3.7.1"
  }
 },
 "nbformat": 4,
 "nbformat_minor": 4
}