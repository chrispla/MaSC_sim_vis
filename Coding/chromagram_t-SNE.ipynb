{
 "cells": [
  {
   "source": [
    "# 2D & 3D t-SNE of Constant-Q Chromagrams\n",
    "### from 15sec-from-the-middle audio dataset"
   ],
   "cell_type": "markdown",
   "metadata": {}
  },
  {
   "source": [
    "### Importing"
   ],
   "cell_type": "markdown",
   "metadata": {}
  },
  {
   "cell_type": "code",
   "execution_count": null,
   "metadata": {},
   "outputs": [],
   "source": [
    "import glob\n",
    "import numpy as np\n",
    "import librosa\n",
    "import os\n",
    "from sklearn.preprocessing import StandardScaler\n",
    "from sklearn.manifold import TSNE\n",
    "from sklearn.cluster import KMeans\n",
    "import matplotlib.pyplot as plt\n",
    "import librosa.feature\n",
    "from mpl_toolkits.mplot3d import axes3d, Axes3D"
   ]
  },
  {
   "source": [
    "### Read audio paths"
   ],
   "cell_type": "markdown",
   "metadata": {}
  },
  {
   "cell_type": "code",
   "execution_count": null,
   "metadata": {},
   "outputs": [],
   "source": [
    "#File reading\n",
    "all_dirs = []\n",
    "for root, dirs, files in os.walk('.'): #Change directory here\n",
    "        for name in files:\n",
    "            if '.wav' in name:\n",
    "                filedir = os.path.join(root, name)\n",
    "                all_dirs.append(filedir)\n",
    "print(len(all_dirs))"
   ]
  },
  {
   "source": [
    "### Compute chromagrams"
   ],
   "cell_type": "markdown",
   "metadata": {}
  },
  {
   "cell_type": "code",
   "execution_count": null,
   "metadata": {},
   "outputs": [],
   "source": [
    "#Feature extraction\n",
    "all_chroma = np.zeros(len(all_dirs))\n",
    "\n",
    "for i in range(len(all_dirs)):\n",
    "\n",
    "    #Load file \n",
    "    #assuming you're using 15sec dataset\n",
    "    #duration=15 parameter just to be safe\n",
    "    y, sr = librosa.core.load(all_dirs[i], sr=22050, mono=True, offset=offset, duration=15)\n",
    "\n",
    "    #Compute Constant-Q Chromagram\n",
    "    hop_length = 512\n",
    "    chroma = librosa.feature.chroma_stft(y=y, sr=sr)\n",
    "    all_chroma[i] = chroma\n",
    "\n",
    "#Standardization\n",
    "scaler = StandardScaler()\n",
    "all_chroma_scaled = scaler.fit_transform(all_chroma)"
   ]
  },
  {
   "source": [
    "### t-SNE"
   ],
   "cell_type": "markdown",
   "metadata": {}
  },
  {
   "cell_type": "code",
   "execution_count": null,
   "metadata": {},
   "outputs": [],
   "source": [
    "#Dimensionality Reduction\n",
    "all_chroma_scaled_red2 = TSNE(n_components=2, perplexity = 10.0).fit_transform(all_chroma_scaled)\n",
    "all_chroma_scaled_red3 = TSNE(n_components=3, perplexity = 10.0).fit_transform(all_chroma_scaled)"
   ]
  },
  {
   "source": [
    "### KMeans"
   ],
   "cell_type": "markdown",
   "metadata": {}
  },
  {
   "cell_type": "code",
   "execution_count": null,
   "metadata": {},
   "outputs": [],
   "source": [
    "#KMeans\n",
    "chroma2_clusters = KMeans(n_clusters=5).fit_transform(all_chroma_scaled_red2)\n",
    "chroma3_clusters = KMeans(n_clusters=5).fit_transform(all_chroma_scaled_red3)"
   ]
  },
  {
   "source": [
    "### Plotting"
   ],
   "cell_type": "markdown",
   "metadata": {}
  },
  {
   "cell_type": "code",
   "execution_count": null,
   "metadata": {},
   "outputs": [],
   "source": [
    "fig = pyplot.figure()\n",
    "plt.subplot(221)\n",
    "plt.scatter(all_chroma_scaled_red2[:, 0], all_chroma_scaled_red2[:, 1], c=chroma2_clusters)\n",
    "\n",
    "ax = Axes3D(fig)\n",
    "ax.scatter(all_chroma_scaled_red3[:, 0], all_chroma_scaled_red3[:, 1], all_chroma_scaled_red3[:, 2], c=chroma3_clusters)\n"
   ]
  }
 ],
 "metadata": {
  "kernelspec": {
   "display_name": "Python 3",
   "language": "python",
   "name": "python3"
  },
  "language_info": {
   "codemirror_mode": {
    "name": "ipython",
    "version": 3
   },
   "file_extension": ".py",
   "mimetype": "text/x-python",
   "name": "python",
   "nbconvert_exporter": "python",
   "pygments_lexer": "ipython3",
   "version": "3.7.1"
  }
 },
 "nbformat": 4,
 "nbformat_minor": 4
}